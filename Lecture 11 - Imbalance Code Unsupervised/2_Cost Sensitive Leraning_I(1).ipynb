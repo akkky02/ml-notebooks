{
 "cells": [
  {
   "cell_type": "code",
   "execution_count": 4,
   "metadata": {
    "ExecuteTime": {
     "end_time": "2020-04-28T03:32:12.042967Z",
     "start_time": "2020-04-28T03:32:09.560682Z"
    },
    "execution": {
     "iopub.execute_input": "2022-11-07T08:20:12.475274Z",
     "iopub.status.busy": "2022-11-07T08:20:12.474708Z",
     "iopub.status.idle": "2022-11-07T08:20:12.478113Z",
     "shell.execute_reply": "2022-11-07T08:20:12.477683Z",
     "shell.execute_reply.started": "2022-11-07T08:20:12.475259Z"
    },
    "executionInfo": {
     "elapsed": 1329,
     "status": "ok",
     "timestamp": 1638171577417,
     "user": {
      "displayName": "Shaannoor Mann",
      "photoUrl": "https://lh3.googleusercontent.com/a/default-user=s64",
      "userId": "02520257695567980696"
     },
     "user_tz": 360
    },
    "id": "y-h6WU3CqZns",
    "tags": []
   },
   "outputs": [],
   "source": [
    "from numpy import mean\n",
    "from sklearn.datasets import make_classification\n",
    "from sklearn.model_selection import GridSearchCV\n",
    "from sklearn.model_selection import RepeatedStratifiedKFold\n",
    "from sklearn.linear_model import LogisticRegression\n",
    "from sklearn.tree import DecisionTreeClassifier\n",
    "from sklearn.svm import SVC\n",
    "from sklearn.model_selection import cross_val_score\n",
    "from sklearn.ensemble import RandomForestClassifier"
   ]
  },
  {
   "cell_type": "code",
   "execution_count": 5,
   "metadata": {
    "ExecuteTime": {
     "end_time": "2020-04-28T03:32:12.097819Z",
     "start_time": "2020-04-28T03:32:12.059897Z"
    },
    "execution": {
     "iopub.execute_input": "2022-11-07T08:20:13.198864Z",
     "iopub.status.busy": "2022-11-07T08:20:13.198574Z",
     "iopub.status.idle": "2022-11-07T08:20:13.202504Z",
     "shell.execute_reply": "2022-11-07T08:20:13.202169Z",
     "shell.execute_reply.started": "2022-11-07T08:20:13.198835Z"
    },
    "executionInfo": {
     "elapsed": 219,
     "status": "ok",
     "timestamp": 1638171580772,
     "user": {
      "displayName": "Shaannoor Mann",
      "photoUrl": "https://lh3.googleusercontent.com/a/default-user=s64",
      "userId": "02520257695567980696"
     },
     "user_tz": 360
    },
    "id": "TONF4b6pqZnv",
    "tags": []
   },
   "outputs": [],
   "source": [
    "# define dataset\n",
    "X, y = make_classification(n_samples=10000, n_features=2, n_redundant=0,\n",
    "n_clusters_per_class=1, weights=[0.99], flip_y=0.0, random_state=1)"
   ]
  },
  {
   "cell_type": "markdown",
   "metadata": {
    "id": "B_Duyi9MqZn0"
   },
   "source": [
    "# Cost Sensitive Logistic regression"
   ]
  },
  {
   "cell_type": "code",
   "execution_count": 6,
   "metadata": {
    "ExecuteTime": {
     "end_time": "2020-04-28T03:32:13.918931Z",
     "start_time": "2020-04-28T03:32:13.819226Z"
    },
    "colab": {
     "base_uri": "https://localhost:8080/"
    },
    "execution": {
     "iopub.execute_input": "2022-11-07T08:20:15.110272Z",
     "iopub.status.busy": "2022-11-07T08:20:15.110068Z",
     "iopub.status.idle": "2022-11-07T08:20:15.153460Z",
     "shell.execute_reply": "2022-11-07T08:20:15.152827Z",
     "shell.execute_reply.started": "2022-11-07T08:20:15.110258Z"
    },
    "executionInfo": {
     "elapsed": 487,
     "status": "ok",
     "timestamp": 1638171608758,
     "user": {
      "displayName": "Shaannoor Mann",
      "photoUrl": "https://lh3.googleusercontent.com/a/default-user=s64",
      "userId": "02520257695567980696"
     },
     "user_tz": 360
    },
    "id": "SUt6CFfLqZn1",
    "outputId": "d0c03186-05e6-4578-ce4c-289cf1532980"
   },
   "outputs": [
    {
     "name": "stdout",
     "output_type": "stream",
     "text": [
      "Average cross-validation score: 0.94\n"
     ]
    }
   ],
   "source": [
    "logreg = LogisticRegression(solver='lbfgs')\n",
    "scores = cross_val_score(logreg, X, y,scoring='roc_auc')\n",
    "print(\"Average cross-validation score: {:.2f}\".format(scores.mean()))"
   ]
  },
  {
   "cell_type": "code",
   "execution_count": 7,
   "metadata": {
    "ExecuteTime": {
     "end_time": "2020-04-28T03:32:15.346827Z",
     "start_time": "2020-04-28T03:32:15.212166Z"
    },
    "colab": {
     "base_uri": "https://localhost:8080/"
    },
    "execution": {
     "iopub.execute_input": "2022-11-07T08:20:16.411137Z",
     "iopub.status.busy": "2022-11-07T08:20:16.410934Z",
     "iopub.status.idle": "2022-11-07T08:20:16.459936Z",
     "shell.execute_reply": "2022-11-07T08:20:16.459120Z",
     "shell.execute_reply.started": "2022-11-07T08:20:16.411123Z"
    },
    "executionInfo": {
     "elapsed": 264,
     "status": "ok",
     "timestamp": 1638171610524,
     "user": {
      "displayName": "Shaannoor Mann",
      "photoUrl": "https://lh3.googleusercontent.com/a/default-user=s64",
      "userId": "02520257695567980696"
     },
     "user_tz": 360
    },
    "id": "XkikK13hqZn3",
    "outputId": "6b8dbda9-46d3-40d6-92b1-df3d72b8b074"
   },
   "outputs": [
    {
     "name": "stdout",
     "output_type": "stream",
     "text": [
      "Average cross-validation score : 0.95\n"
     ]
    }
   ],
   "source": [
    "logreg = LogisticRegression(solver='lbfgs',class_weight='balanced')\n",
    "scores = cross_val_score(logreg, X, y,scoring='roc_auc')\n",
    "print(\"Average cross-validation score : {:.2f}\".format(scores.mean()))"
   ]
  },
  {
   "cell_type": "code",
   "execution_count": 8,
   "metadata": {
    "ExecuteTime": {
     "end_time": "2020-04-19T02:43:26.773142Z",
     "start_time": "2020-04-19T02:43:25.679039Z"
    },
    "colab": {
     "base_uri": "https://localhost:8080/"
    },
    "execution": {
     "iopub.execute_input": "2022-11-07T08:20:38.748995Z",
     "iopub.status.busy": "2022-11-07T08:20:38.748779Z",
     "iopub.status.idle": "2022-11-07T08:20:39.229028Z",
     "shell.execute_reply": "2022-11-07T08:20:39.228550Z",
     "shell.execute_reply.started": "2022-11-07T08:20:38.748982Z"
    },
    "executionInfo": {
     "elapsed": 1942,
     "status": "ok",
     "timestamp": 1638171627387,
     "user": {
      "displayName": "Shaannoor Mann",
      "photoUrl": "https://lh3.googleusercontent.com/a/default-user=s64",
      "userId": "02520257695567980696"
     },
     "user_tz": 360
    },
    "id": "I7NHalhTqZn6",
    "outputId": "4258c46d-d0b7-4457-8d60-7fe423ff0545"
   },
   "outputs": [
    {
     "name": "stdout",
     "output_type": "stream",
     "text": [
      "Best parameters: {'class_weight': {0: 1, 1: 100}}\n",
      "Best Mean cross-validation score: 0.95\n"
     ]
    }
   ],
   "source": [
    "logreg = LogisticRegression(solver='lbfgs')\n",
    "param_grid = {\n",
    "    \n",
    "    'class_weight': [{0:100,1:1}, {0:10,1:1}, {0:1,1:1}, {0:1,1:10}, {0:1,1:100}],\n",
    "}\n",
    "\n",
    "#apply grid search\n",
    "grid_logreg= GridSearchCV(logreg, param_grid, cv=5, n_jobs=2, scoring='roc_auc')\n",
    "grid_logreg.fit(X, y)\n",
    "\n",
    "print(\"Best parameters: {}\".format(grid_logreg.best_params_))\n",
    "print(\"Best Mean cross-validation score: {:.2f}\".format(grid_logreg.best_score_))"
   ]
  },
  {
   "cell_type": "code",
   "execution_count": 9,
   "metadata": {
    "ExecuteTime": {
     "end_time": "2020-04-28T03:32:44.798799Z",
     "start_time": "2020-04-28T03:32:43.596550Z"
    },
    "colab": {
     "base_uri": "https://localhost:8080/",
     "height": 51
    },
    "execution": {
     "iopub.execute_input": "2022-11-07T08:20:41.985512Z",
     "iopub.status.busy": "2022-11-07T08:20:41.984883Z",
     "iopub.status.idle": "2022-11-07T08:20:42.144413Z",
     "shell.execute_reply": "2022-11-07T08:20:42.143964Z",
     "shell.execute_reply.started": "2022-11-07T08:20:41.985494Z"
    },
    "executionInfo": {
     "elapsed": 780,
     "status": "ok",
     "timestamp": 1603191643594,
     "user": {
      "displayName": "Shaannoor Mann",
      "photoUrl": "",
      "userId": "02520257695567980696"
     },
     "user_tz": 300
    },
    "id": "BUWpccqRqZn_",
    "outputId": "728cd282-2720-4adc-84d0-f30c06bc9f7f"
   },
   "outputs": [
    {
     "name": "stdout",
     "output_type": "stream",
     "text": [
      "Best parameters: {'class_weight': {0: 1, 1: 100}}\n",
      "Best Mean cross-validation score: 0.95\n"
     ]
    }
   ],
   "source": [
    "logreg = LogisticRegression(solver='lbfgs')\n",
    "param_grid = { \n",
    "    'class_weight': [{0:100,1:1}, {0:10,1:1}, {0:1,1:1}, {0:1,1:10}, {0:1,1:100}]\n",
    "}\n",
    "grid_logreg= GridSearchCV(logreg, param_grid, cv=5, n_jobs=2, scoring='roc_auc')\n",
    "grid_logreg.fit(X, y)\n",
    "\n",
    " \n",
    "\n",
    "print(\"Best parameters: {}\".format(grid_logreg.best_params_))\n",
    "print(\"Best Mean cross-validation score: {:.2f}\".format(grid_logreg.best_score_))"
   ]
  },
  {
   "cell_type": "markdown",
   "metadata": {
    "id": "Y7SmXS6YqZoC"
   },
   "source": [
    "# Cost Sensitive SVM"
   ]
  },
  {
   "cell_type": "code",
   "execution_count": 10,
   "metadata": {
    "ExecuteTime": {
     "end_time": "2020-04-19T02:43:32.541161Z",
     "start_time": "2020-04-19T02:43:28.982773Z"
    },
    "colab": {
     "base_uri": "https://localhost:8080/"
    },
    "execution": {
     "iopub.execute_input": "2022-11-07T08:20:44.210378Z",
     "iopub.status.busy": "2022-11-07T08:20:44.210126Z",
     "iopub.status.idle": "2022-11-07T08:20:47.519860Z",
     "shell.execute_reply": "2022-11-07T08:20:47.519291Z",
     "shell.execute_reply.started": "2022-11-07T08:20:44.210364Z"
    },
    "executionInfo": {
     "elapsed": 9186,
     "status": "ok",
     "timestamp": 1638171680829,
     "user": {
      "displayName": "Shaannoor Mann",
      "photoUrl": "https://lh3.googleusercontent.com/a/default-user=s64",
      "userId": "02520257695567980696"
     },
     "user_tz": 360
    },
    "id": "PqDw1l4wqZoD",
    "outputId": "f08a5f20-dbe8-452f-a284-dd3662d6be80"
   },
   "outputs": [
    {
     "name": "stdout",
     "output_type": "stream",
     "text": [
      "Best parameters: {'class_weight': {0: 1, 1: 100}}\n",
      "Best Mean cross-validation score: 0.95\n"
     ]
    }
   ],
   "source": [
    "svc = SVC()\n",
    "param_grid = {\n",
    "    \n",
    "    'class_weight': [{0:100,1:1}, {0:10,1:1}, {0:1,1:1}, {0:1,1:10}, {0:1,1:100}],\n",
    "}\n",
    "\n",
    "#apply grid search\n",
    "grid_svc= GridSearchCV(svc, param_grid, cv=5, n_jobs=2, scoring='roc_auc')\n",
    "grid_svc.fit(X, y)\n",
    "\n",
    "print(\"Best parameters: {}\".format(grid_svc.best_params_))\n",
    "print(\"Best Mean cross-validation score: {:.2f}\".format(grid_svc.best_score_))"
   ]
  },
  {
   "cell_type": "markdown",
   "metadata": {
    "id": "zSI_s9vkqZoF"
   },
   "source": [
    "# Cost Sensitive Decison Tree"
   ]
  },
  {
   "cell_type": "code",
   "execution_count": 11,
   "metadata": {
    "ExecuteTime": {
     "end_time": "2020-04-19T02:43:33.029580Z",
     "start_time": "2020-04-19T02:43:32.568088Z"
    },
    "colab": {
     "base_uri": "https://localhost:8080/"
    },
    "execution": {
     "iopub.execute_input": "2022-11-07T08:20:57.337720Z",
     "iopub.status.busy": "2022-11-07T08:20:57.337516Z",
     "iopub.status.idle": "2022-11-07T08:20:57.555165Z",
     "shell.execute_reply": "2022-11-07T08:20:57.554811Z",
     "shell.execute_reply.started": "2022-11-07T08:20:57.337706Z"
    },
    "executionInfo": {
     "elapsed": 819,
     "status": "ok",
     "timestamp": 1638171701299,
     "user": {
      "displayName": "Shaannoor Mann",
      "photoUrl": "https://lh3.googleusercontent.com/a/default-user=s64",
      "userId": "02520257695567980696"
     },
     "user_tz": 360
    },
    "id": "p5NHAP7LqZoF",
    "outputId": "cd30ba83-ccf1-46db-d851-f289110ba272"
   },
   "outputs": [
    {
     "name": "stdout",
     "output_type": "stream",
     "text": [
      "Best parameters: {'class_weight': {0: 100, 1: 1}}\n",
      "Best Mean cross-validation score: 0.79\n"
     ]
    }
   ],
   "source": [
    "dtree = DecisionTreeClassifier()\n",
    "param_grid = {\n",
    "    \n",
    "    'class_weight': [{0:100,1:1}, {0:10,1:1}, {0:1,1:1}, {0:1,1:10}, {0:1,1:100}],\n",
    "}\n",
    "\n",
    "#apply grid search\n",
    "grid_dtree= GridSearchCV(dtree, param_grid, cv=5, n_jobs=2, scoring='roc_auc')\n",
    "grid_dtree.fit(X, y)\n",
    "\n",
    "print(\"Best parameters: {}\".format(grid_dtree.best_params_))\n",
    "print(\"Best Mean cross-validation score: {:.2f}\".format(grid_dtree.best_score_))"
   ]
  },
  {
   "cell_type": "markdown",
   "metadata": {
    "id": "9tgUFexFqZoI"
   },
   "source": [
    "# Cost Sensitive Random Forest Classifier"
   ]
  },
  {
   "cell_type": "code",
   "execution_count": 13,
   "metadata": {
    "ExecuteTime": {
     "end_time": "2020-04-19T02:43:43.301586Z",
     "start_time": "2020-04-19T02:43:33.058471Z"
    },
    "colab": {
     "base_uri": "https://localhost:8080/"
    },
    "execution": {
     "iopub.execute_input": "2022-11-07T08:23:15.969678Z",
     "iopub.status.busy": "2022-11-07T08:23:15.969439Z",
     "iopub.status.idle": "2022-11-07T08:23:22.267833Z",
     "shell.execute_reply": "2022-11-07T08:23:22.267142Z",
     "shell.execute_reply.started": "2022-11-07T08:23:15.969664Z"
    },
    "executionInfo": {
     "elapsed": 10846,
     "status": "ok",
     "timestamp": 1638171735648,
     "user": {
      "displayName": "Shaannoor Mann",
      "photoUrl": "https://lh3.googleusercontent.com/a/default-user=s64",
      "userId": "02520257695567980696"
     },
     "user_tz": 360
    },
    "id": "6ZqOuZofqZoI",
    "outputId": "bcf90967-1829-48db-9176-82ce2d1d91da",
    "tags": []
   },
   "outputs": [
    {
     "name": "stdout",
     "output_type": "stream",
     "text": [
      "Best parameters: {'class_weight': {0: 1, 1: 1}}\n",
      "Best Mean cross-validation score: 0.90\n"
     ]
    }
   ],
   "source": [
    "rf = RandomForestClassifier(random_state=42)\n",
    "param_grid = {\n",
    "    \n",
    "    'class_weight': [{0:100,1:1}, {0:10,1:1}, {0:1,1:1}, {0:1,1:10}, {0:1,1:100}],\n",
    "}\n",
    "\n",
    "#apply grid search\n",
    "grid_rf= GridSearchCV(rf, param_grid, cv=5, n_jobs=2, scoring='roc_auc')\n",
    "grid_rf.fit(X, y)\n",
    "\n",
    "print(\"Best parameters: {}\".format(grid_rf.best_params_))\n",
    "print(\"Best Mean cross-validation score: {:.2f}\".format(grid_rf.best_score_))"
   ]
  },
  {
   "cell_type": "code",
   "execution_count": null,
   "metadata": {
    "id": "LFeJ9DktqZoL"
   },
   "outputs": [],
   "source": []
  }
 ],
 "metadata": {
  "colab": {
   "name": "2_Cost Sensitive Leraning.ipynb",
   "provenance": [],
   "toc_visible": true
  },
  "kernelspec": {
   "display_name": "Python 3 (ipykernel)",
   "language": "python",
   "name": "python3"
  },
  "language_info": {
   "codemirror_mode": {
    "name": "ipython",
    "version": 3
   },
   "file_extension": ".py",
   "mimetype": "text/x-python",
   "name": "python",
   "nbconvert_exporter": "python",
   "pygments_lexer": "ipython3",
   "version": "3.9.13"
  },
  "toc": {
   "base_numbering": 1,
   "nav_menu": {},
   "number_sections": true,
   "sideBar": true,
   "skip_h1_title": false,
   "title_cell": "Table of Contents",
   "title_sidebar": "Contents",
   "toc_cell": false,
   "toc_position": {},
   "toc_section_display": true,
   "toc_window_display": false
  },
  "varInspector": {
   "cols": {
    "lenName": 16,
    "lenType": 16,
    "lenVar": 40
   },
   "kernels_config": {
    "python": {
     "delete_cmd_postfix": "",
     "delete_cmd_prefix": "del ",
     "library": "var_list.py",
     "varRefreshCmd": "print(var_dic_list())"
    },
    "r": {
     "delete_cmd_postfix": ") ",
     "delete_cmd_prefix": "rm(",
     "library": "var_list.r",
     "varRefreshCmd": "cat(var_dic_list()) "
    }
   },
   "types_to_exclude": [
    "module",
    "function",
    "builtin_function_or_method",
    "instance",
    "_Feature"
   ],
   "window_display": false
  }
 },
 "nbformat": 4,
 "nbformat_minor": 4
}
