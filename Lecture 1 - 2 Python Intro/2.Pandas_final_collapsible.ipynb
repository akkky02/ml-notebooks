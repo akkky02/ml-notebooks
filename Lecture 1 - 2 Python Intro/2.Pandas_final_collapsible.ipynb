{
 "cells": [
  {
   "cell_type": "markdown",
   "metadata": {
    "id": "mxuDLiJ9TSVi"
   },
   "source": [
    "\n",
    "**Summary previous Lecture**<br>\n",
    "NumPy's ndarray data structure provides essential features for the type of clean, well-organized data typically seen in numerical computing tasks.\n",
    "\n",
    "**Limitations of numpy**\n",
    " - Cannot attach labels to data,\n",
    " - lacks flexibility to working with missing data\n",
    " - lacks flexibility to do operations that do not map well to element-wise broadcasting (e.g., groupings, pivots, etc.)\n",
    " \n",
    "\n",
    "# <font color = 'dodgerblue'> **Pandas** </font>\n",
    "\n",
    "Pandas is an open-source library that is built on top of NumPy library. \n",
    "\n",
    "**Why Pandas**\n",
    "1. It provides an efficient implementation of multidimensional arrays (dataframes) with attached row and column labels.\n",
    "2. These dataframes often consist of hetrogeneous or missing data.\n",
    "3. Many of Excel's features, like making pivot tables, calculating columns based on other columns, drawing graphs, etc., can be done prorrammatically. \n",
    "4. You can also group rows by the value in a column or join tables together, just like in SQL. \n",
    "5. Pandas also does a great job with time series."
   ]
  },
  {
   "cell_type": "markdown",
   "metadata": {
    "id": "5vuH0WtkW79s"
   },
   "source": [
    "## <font color = 'dodgerblue'> **Importing a package** </font>\n",
    "\n",
    "1. Importing the pandas is similar to importing the numpy package.\n",
    "\n",
    "\n",
    "2. **Syntax**:\n",
    "\n",
    "\n",
    "\n",
    "```\n",
    "      import package_name as alias name\n",
    "```\n"
   ]
  },
  {
   "cell_type": "code",
   "execution_count": null,
   "id": "ab873049",
   "metadata": {},
   "outputs": [],
   "source": [
    "# Importing pandas package with alias name as pd"
   ]
  },
  {
   "cell_type": "markdown",
   "id": "a8b354e4",
   "metadata": {},
   "source": [
    "\n",
    "<details>\n",
    "<summary>Click to expand code</summary>\n",
    "\n",
    "```python\n",
    "# Importing pandas package with alias name as pd\n",
    "import pandas as pd\n",
    "import numpy as np\n",
    "</details>\n"
   ]
  },
  {
   "cell_type": "code",
   "execution_count": null,
   "id": "516f7824",
   "metadata": {},
   "outputs": [],
   "source": [
    "# Checking the version of the pandas"
   ]
  },
  {
   "cell_type": "markdown",
   "id": "c45d48b6",
   "metadata": {},
   "source": [
    "\n",
    "<details>\n",
    "<summary>Click to expand code</summary>\n",
    "\n",
    "```python\n",
    "# Checking the version of the pandas\n",
    "pd.__version__\n",
    "</details>\n"
   ]
  },
  {
   "cell_type": "markdown",
   "id": "e8fd35e2",
   "metadata": {},
   "source": [
    "\n",
    "<details>\n",
    "<summary>Click to expand code</summary>\n",
    "\n",
    "```python\n",
    "np.__version__\n",
    "</details>\n"
   ]
  },
  {
   "cell_type": "markdown",
   "metadata": {
    "id": "j_An6SmtYJ2i"
   },
   "source": [
    "# <font color = 'dodgerblue'> **Pandas Objects** </font>\n",
    "1. In numpy the arrays or matrices were identified by using the indices.\n",
    "2. Pandas obejcts are enhanced version of numpy where the rows and columns are labeled.\n",
    "3. The data can be accessed by using these lables for  columns/rows. \n",
    "4. These pandas objects are broadly classified as follows:\n",
    "   * Pandas series object\n",
    "   * Pandas dataframe object\n",
    "   \n",
    "\n"
   ]
  },
  {
   "cell_type": "markdown",
   "metadata": {
    "id": "JYgmwi5BZio1"
   },
   "source": [
    "## <font color = 'dodgerblue'> **Creating Pandas series object** </font>\n",
    "\n",
    "1. **Pandas Series** is a one dimensional array of indexed data.\n",
    "2. A series is a wrap of sequence of values and a sequence of indices for the given values.\n",
    "2. It can be created from list, dictionary etc.\n",
    "3. **Syntax** :\n",
    "   \n",
    "\n",
    "```\n",
    "      pandas.Series(data, index)\n",
    "```\n",
    "where, it can take data as a list, dictionary, tuple etc and index can be defined explicitly.\n",
    "4. To access the values of the series. We can use following code :\n",
    " \n",
    "  **Syntax** :\n",
    "```\n",
    "    d = pandas.Series(data, index)\n",
    "    d.values\n",
    "```\n",
    "values method gives the values of the series without the index.\n",
    "5. Similarly, we can access the index of the series without accessing the values as follows :\n",
    "\n",
    " **Syntax**:\n",
    "\n",
    "```\n",
    "    d.index\n",
    "```\n",
    "\n",
    "\n",
    "\n",
    "\n"
   ]
  },
  {
   "cell_type": "markdown",
   "metadata": {
    "id": "6yRvCbttKDQU"
   },
   "source": [
    "###  <font color = 'dodgerblue'> **Creating series from list** </font>"
   ]
  },
  {
   "cell_type": "code",
   "execution_count": null,
   "id": "c1b443f1",
   "metadata": {},
   "outputs": [],
   "source": [
    "# Creating series by using list "
   ]
  },
  {
   "cell_type": "markdown",
   "id": "f8ba216b",
   "metadata": {},
   "source": [
    "\n",
    "<details>\n",
    "<summary>Click to expand code</summary>\n",
    "\n",
    "```python\n",
    "# Creating series by using list \n",
    "my_list = [12, 0.25, 45, 36, 78, 20]\n",
    "data1 = pd.Series(my_list)\n",
    "print(f\"The new pandas series is : \\n {data1}\")\n",
    "</details>\n"
   ]
  },
  {
   "cell_type": "markdown",
   "metadata": {
    "id": "EKz9kzwpudqY"
   },
   "source": [
    "- From the above example, it looks like that series is similar to one dimensional numpy array. The key diffeernce is that we can define the index explicitly in series. \n",
    "- Each item in a Series object has something called a \"index label\" that is a unique name for it. \n",
    "- By default, it's just the item's rank in the Series (which starts at 0), but you can set the index labels yourself:"
   ]
  },
  {
   "cell_type": "markdown",
   "metadata": {
    "id": "J5NJaChtKSK1"
   },
   "source": [
    "###  <font color = 'dodgerblue'> **Specifying index** </font>"
   ]
  },
  {
   "cell_type": "markdown",
   "id": "5bf3400c",
   "metadata": {},
   "source": [
    "\n",
    "<details>\n",
    "<summary>Click to expand code</summary>\n",
    "\n",
    "```python\n",
    "data1 = pd.Series([12, 0.25, 45, 36, 78, 20],\n",
    "                  index = ['a', 'b', 'c', 'd', 'e', 'f'])\n",
    "print(f\"The new pandas series is : \\n{data1}\")\n",
    "</details>\n"
   ]
  },
  {
   "cell_type": "markdown",
   "metadata": {
    "id": "bVjTn0Nh8Pyg"
   },
   "source": [
    "We can think of series as specialized dictionaries. We can infact construct series from dictionaries."
   ]
  },
  {
   "cell_type": "markdown",
   "metadata": {
    "id": "mEil63PMKZMR"
   },
   "source": [
    "###  <font color = 'dodgerblue'> **Creating series from dictionary** </font>"
   ]
  },
  {
   "cell_type": "code",
   "execution_count": null,
   "id": "4f68f6ae",
   "metadata": {},
   "outputs": [],
   "source": [
    "# first lets create a dictionary\n",
    "# Lets pass this dictionary as a series"
   ]
  },
  {
   "cell_type": "markdown",
   "id": "0c5b2cb4",
   "metadata": {},
   "source": [
    "\n",
    "<details>\n",
    "<summary>Click to expand code</summary>\n",
    "\n",
    "```python\n",
    "# first lets create a dictionary\n",
    "data2 = { 'a':'Pandas', 'b':'numpy', 'c' :'Packages', 'd':'Data processing'}\n",
    "# Lets pass this dictionary as a series\n",
    "my_dict_series = pd.Series(data2)\n",
    "print(f\"The series using dictionary is :\\n{my_dict_series}\")\n",
    "</details>\n"
   ]
  },
  {
   "cell_type": "markdown",
   "metadata": {
    "id": "ykOD7rgmOIeq"
   },
   "source": [
    "###  <font color = 'dodgerblue'> **Series Vs. Dictionary** </font>"
   ]
  },
  {
   "cell_type": "markdown",
   "metadata": {
    "id": "AoguqnTw-MnT"
   },
   "source": [
    "However, unlike dictionaries, we can do array like operations (for example slicing on series)."
   ]
  },
  {
   "cell_type": "markdown",
   "id": "02e44863",
   "metadata": {},
   "source": [
    "\n",
    "<details>\n",
    "<summary>Click to expand code</summary>\n",
    "\n",
    "```python\n",
    "slice_dict = data2['a':'c']\n",
    "print(f'Slice of dictionary : {slice_dict}')\n",
    "</details>\n"
   ]
  },
  {
   "cell_type": "markdown",
   "id": "43ca9f1f",
   "metadata": {},
   "source": [
    "\n",
    "<details>\n",
    "<summary>Click to expand code</summary>\n",
    "\n",
    "```python\n",
    "slice_series = my_dict_series['a':'c']\n",
    "print(f'Slice of dictionary :\\n{slice_series}')\n",
    "</details>\n"
   ]
  },
  {
   "cell_type": "markdown",
   "metadata": {
    "id": "v7Ens2mDKluc"
   },
   "source": [
    "###  <font color = 'dodgerblue'> **Creating series using tuple** </font>"
   ]
  },
  {
   "cell_type": "markdown",
   "id": "eea051f8",
   "metadata": {},
   "source": [
    "\n",
    "<details>\n",
    "<summary>Click to expand code</summary>\n",
    "\n",
    "```python\n",
    "tup = (20, 15, 23, 45)\n",
    "pd.Series(tup)\n",
    "</details>\n"
   ]
  },
  {
   "cell_type": "markdown",
   "metadata": {
    "id": "Id6Qet2eIcOY"
   },
   "source": [
    "##  <font color = 'dodgerblue'>  **Creating Pandas Dataframe object**\n",
    "\n",
    "We can think of Dataframe as two dimensional array with both flexible row indices and flexible column names.\n",
    "\n",
    " **Syntax** :\n",
    "\n",
    "\n",
    "```\n",
    "    pandas.DataFrame(data, index, columns, dtype)\n",
    "```\n",
    "where, \n",
    "\n",
    "  **data** = ndarray, Iterable like list, dict, or DataFrame.\n",
    "\n",
    " **Index** =\n",
    "      Index to use for resulting dataframe. By default, it's just the item's rank (strating from 0)  if no index data is provided. We can think of this as row labels.\n",
    "\n",
    "  **columns** = They are used to mention the columns labels. By default, it's just the item's rank (strating from 0)  if no labels are provided.\n",
    "\n"
   ]
  },
  {
   "cell_type": "markdown",
   "metadata": {
    "id": "L6KsXz1CYnW1"
   },
   "source": [
    "Pandas dataframe object can be created in various ways as follows :\n",
    "\n",
    "<img src=\"https://drive.google.com/uc?export=view&id=1dsXSMVZ2PoiNo0Kr8KK8eOkeBTZQNby-\" width=\"600\"/>\n",
    "\n"
   ]
  },
  {
   "cell_type": "markdown",
   "metadata": {
    "id": "uOiaHOxObu28"
   },
   "source": [
    "####  <font color = 'dodgerblue'>  **Creating dataframe using a single series object**\n",
    "\n",
    "* A dataframe is a collection of series obejcts.\n",
    "* A single column dataframe can be created using  a single series.\n"
   ]
  },
  {
   "cell_type": "code",
   "execution_count": null,
   "id": "b825c0cd",
   "metadata": {},
   "outputs": [],
   "source": [
    "# Craeting dataframe using a single series object\n",
    "# creating a dataframe by using column labelling"
   ]
  },
  {
   "cell_type": "markdown",
   "id": "0b1c3376",
   "metadata": {},
   "source": [
    "\n",
    "<details>\n",
    "<summary>Click to expand code</summary>\n",
    "\n",
    "```python\n",
    "# Craeting dataframe using a single series object\n",
    "countries = pd.Series(['India', 'China', 'Austria', 'America', 'Australia'])\n",
    "# creating a dataframe by using column labelling\n",
    "dt = pd.DataFrame(data = countries, columns = ['countries'])\n",
    "print(f\"The dataframe using a single series object is \\n {dt}\")\n",
    "</details>\n"
   ]
  },
  {
   "cell_type": "markdown",
   "metadata": {
    "id": "yUhQXYi2dxHV"
   },
   "source": [
    "####  <font color = 'dodgerblue'>  **Creating dataframe using numpy array**\n",
    "\n",
    "* Let's take a two dimensional array of data.\n",
    "* We can create a dataframe by specifying the columns and index names.\n",
    "* If we do not specify the columns and index names then it will take the integer index for them.\n"
   ]
  },
  {
   "cell_type": "code",
   "execution_count": null,
   "id": "7f0e5964",
   "metadata": {},
   "outputs": [],
   "source": [
    "# Creating dataframe using numpy array\n",
    "# Lets import the numpy for creating array\n",
    "# Creating arrays by using numpy\n",
    "# rows = 4 ,columns = 5\n",
    "# lets create the dataframe using array, column labels, and index for the given array"
   ]
  },
  {
   "cell_type": "markdown",
   "id": "93953e66",
   "metadata": {},
   "source": [
    "\n",
    "<details>\n",
    "<summary>Click to expand code</summary>\n",
    "\n",
    "```python\n",
    "# Creating dataframe using numpy array\n",
    "# Lets import the numpy for creating array\n",
    "import numpy as np\n",
    "# Creating arrays by using numpy\n",
    "# rows = 4 ,columns = 5\n",
    "my_arr = np.random.rand(4, 5)\n",
    "# lets create the dataframe using array, column labels, and index for the given array\n",
    "dt1 = pd.DataFrame(data = my_arr , columns = ['var1', 'var2', 'var3', 'var4', 'var5'], index = ['a', 'b', 'c', 'd'])\n",
    "print(f\"The dataframe created by using arrays is : \\n {dt1}\")\n",
    "\n",
    "</details>\n"
   ]
  },
  {
   "cell_type": "code",
   "execution_count": null,
   "id": "397a126d",
   "metadata": {},
   "outputs": [],
   "source": [
    "# As we can see below, If we do not specify the columns and index names \n",
    "# then it will take the integer index for them."
   ]
  },
  {
   "cell_type": "markdown",
   "id": "b9f01cb6",
   "metadata": {},
   "source": [
    "\n",
    "<details>\n",
    "<summary>Click to expand code</summary>\n",
    "\n",
    "```python\n",
    "# As we can see below, If we do not specify the columns and index names \n",
    "# then it will take the integer index for them.\n",
    "dt1 = pd.DataFrame(data = my_arr)\n",
    "print(f\"The dataframe created by using arrays is : \\n {dt1}\")\n",
    "</details>\n"
   ]
  },
  {
   "cell_type": "markdown",
   "metadata": {
    "id": "RUWDhk4FONOT"
   },
   "source": [
    "####  <font color = 'dodgerblue'> **Creating a dataframe using list**\n",
    "\n",
    "A dataframe can be created using a single list or lists.\n",
    "\n",
    "  **Syntax**:\n",
    "\n",
    "\n",
    "```\n",
    "  pandas.DataFrame()\n",
    "```\n",
    "We can pass the list or lists .\n",
    "\n",
    "\n"
   ]
  },
  {
   "cell_type": "code",
   "execution_count": null,
   "id": "c0a41977",
   "metadata": {},
   "outputs": [],
   "source": [
    "# Creating dataframe using lists\n",
    "# We can observe that the column name is considered as 0\n",
    "# Giving column label "
   ]
  },
  {
   "cell_type": "markdown",
   "id": "534d7bdc",
   "metadata": {},
   "source": [
    "\n",
    "<details>\n",
    "<summary>Click to expand code</summary>\n",
    "\n",
    "```python\n",
    "# Creating dataframe using lists\n",
    "\n",
    "my_list = [14, 25, 36, 89, 12, 45]\n",
    "dt = pd.DataFrame(my_list)\n",
    "\n",
    "# We can observe that the column name is considered as 0\n",
    "print(f\"The dataframe using list without specifying column names\\n {dt}\")\n",
    "\n",
    "# Giving column label \n",
    "dt1 = pd.DataFrame(data = my_list, columns =['Marks'])\n",
    "print(f\"\\nThe new dataframe using the column name as Marks is: \\n{dt1}\")\n",
    "\n",
    "</details>\n"
   ]
  },
  {
   "cell_type": "markdown",
   "metadata": {
    "id": "3zbgOWlzU4NR"
   },
   "source": [
    "####  <font color = 'dodgerblue'> **Creating DataFrame from dict of ndarray/lists:**\n",
    "While creating dataframe from the dictionary of ndarray or lists we need to make sure that :\n",
    "* All arrays must be of same length.\n",
    "* If index is passed then length of the index must be equal to the length of the array.\n",
    "* If no index is passed then by default it takes range of the length of the array.\n",
    "* The key values of the dictionary will be treated as column labels"
   ]
  },
  {
   "cell_type": "code",
   "execution_count": null,
   "id": "b66a9558",
   "metadata": {},
   "outputs": [],
   "source": [
    "# Creating dataframe from dict of ndarrays/Lists\n",
    "# initializing the data of list"
   ]
  },
  {
   "cell_type": "markdown",
   "id": "8615a9d0",
   "metadata": {},
   "source": [
    "\n",
    "<details>\n",
    "<summary>Click to expand code</summary>\n",
    "\n",
    "```python\n",
    "# Creating dataframe from dict of ndarrays/Lists\n",
    "# initializing the data of list\n",
    "my_arr = {'col1' :[10, 45, 26, 36, 78, 46],\n",
    "          'col2' :['anu', 'alex', 'apex', 'ho', 'hi', 'bye']\n",
    "          }\n",
    "dt_frame = pd.DataFrame(data = my_arr)\n",
    "print(f\"the new dataframe is \\n {dt_frame}\")\n",
    "</details>\n"
   ]
  },
  {
   "cell_type": "markdown",
   "metadata": {
    "id": "MOGf74-Jfqgl"
   },
   "source": [
    "####  <font color = 'dodgerblue'> **Creating a dataframe using a list of dictionary**\n",
    "* Previously, we have covered the dictionaries using list. \n",
    "*  Now, let us consider the dictionaries inside the list or we can say list consisting of dictionaries.\n",
    "\n",
    "**Example** :\n",
    "\n",
    "my_list = [{1 : 'hi', 2 : 'c'}]\n",
    "\n",
    "Here, my_list consist of a dictionary\n"
   ]
  },
  {
   "cell_type": "code",
   "execution_count": null,
   "id": "3337cdaa",
   "metadata": {},
   "outputs": [],
   "source": [
    "# Creating a dataframe using a list of dictionary\n",
    "# First lets create a list consisting of dictionary\n",
    "# lets create a dataframe using list\n",
    "# The columns are labelled using keys\n",
    "# We can specify index for row labelling"
   ]
  },
  {
   "cell_type": "markdown",
   "id": "498b8192",
   "metadata": {},
   "source": [
    "\n",
    "<details>\n",
    "<summary>Click to expand code</summary>\n",
    "\n",
    "```python\n",
    "# Creating a dataframe using a list of dictionary\n",
    "# First lets create a list consisting of dictionary\n",
    "my_list = [{1:'pandas', 2:'numpy', 3:'scipy', 4:'data science'},\n",
    "          {1:'Amazon', 2:'Google', 3:'IBM', 4:'TalkValley'}]\n",
    "# lets create a dataframe using list\n",
    "# The columns are labelled using keys\n",
    "# We can specify index for row labelling\n",
    "my_dt = pd.DataFrame(data = my_list, index = ['Languages :','Companies :'])\n",
    "print(f'The dataframe using a list of dictionary is :\\n {my_dt}')\n",
    "\n",
    "</details>\n"
   ]
  },
  {
   "cell_type": "markdown",
   "metadata": {
    "id": "IR8M_l7wi88j"
   },
   "source": [
    "#  <font color = 'dodgerblue'> **Data indexing and selection**\n",
    "* In numpy we used slicing, indexing etc. in order to get sub-arrays.\n",
    "*  We wanted to access these sub-arrays to make easy modifications or operations.\n",
    "* Similarly, we can access and modify values in pandas series and dataframe objects.\n"
   ]
  },
  {
   "cell_type": "markdown",
   "metadata": {
    "id": "bUQi7ST2kyvy"
   },
   "source": [
    "##  <font color = 'dodgerblue'> **Data selection in series**\n",
    "We can think of a ``Series`` object as a standard Python dictionary or a one-dimensional NumPy array and we use similar ideas to select subset in series as well.\n"
   ]
  },
  {
   "cell_type": "markdown",
   "metadata": {
    "id": "qwoK25Jglm10"
   },
   "source": [
    "###  <font color = 'dodgerblue'> **Series as dictionary**\n",
    "* Like a dictionary, even the series object provides a mapping from a collection of keys to a collection of values.\n",
    "* We can also use series just like dictionary to examine the keys/indices and values.\n",
    "* We can also modify the values of the series just like a dictionary.\n",
    "Following examples will give a clear description about the topic.\n"
   ]
  },
  {
   "cell_type": "code",
   "execution_count": null,
   "id": "7861d511",
   "metadata": {},
   "outputs": [],
   "source": [
    "# Lets create a series "
   ]
  },
  {
   "cell_type": "markdown",
   "id": "1e83945f",
   "metadata": {},
   "source": [
    "\n",
    "<details>\n",
    "<summary>Click to expand code</summary>\n",
    "\n",
    "```python\n",
    "# Lets create a series \n",
    "my_ser = pd.Series([0.25, 10, 45, 26, 78, 36], index = ['first', 'second','third','fourth','fifth','sixth'])\n",
    "print(f'The dataframe is :\\n {my_ser}')\n",
    "</details>\n"
   ]
  },
  {
   "cell_type": "code",
   "execution_count": null,
   "id": "4446f629",
   "metadata": {},
   "outputs": [],
   "source": [
    "# We can access the values just by using index values"
   ]
  },
  {
   "cell_type": "markdown",
   "id": "1f47951f",
   "metadata": {},
   "source": [
    "\n",
    "<details>\n",
    "<summary>Click to expand code</summary>\n",
    "\n",
    "```python\n",
    "# We can access the values just by using index values\n",
    "my_ser['first']\n",
    "</details>\n"
   ]
  },
  {
   "cell_type": "code",
   "execution_count": null,
   "id": "06ce1531",
   "metadata": {},
   "outputs": [],
   "source": [
    "# We can access the index by using key() method like dictionary"
   ]
  },
  {
   "cell_type": "markdown",
   "id": "ab9a5606",
   "metadata": {},
   "source": [
    "\n",
    "<details>\n",
    "<summary>Click to expand code</summary>\n",
    "\n",
    "```python\n",
    "# We can access the index by using key() method like dictionary\n",
    "print(f\"The index are:\\n {my_ser.keys()}\")\n",
    "</details>\n"
   ]
  },
  {
   "cell_type": "code",
   "execution_count": null,
   "id": "229be3ad",
   "metadata": {},
   "outputs": [],
   "source": [
    "# We can also access the values with their keys by using items() method and store them in list"
   ]
  },
  {
   "cell_type": "markdown",
   "id": "e7591b36",
   "metadata": {},
   "source": [
    "\n",
    "<details>\n",
    "<summary>Click to expand code</summary>\n",
    "\n",
    "```python\n",
    "# We can also access the values with their keys by using items() method and store them in list\n",
    "print(f\"\\nthe values are :\\n {list(my_ser.items())}\")\n",
    "</details>\n"
   ]
  },
  {
   "cell_type": "code",
   "execution_count": null,
   "id": "0f02f30a",
   "metadata": {},
   "outputs": [],
   "source": [
    "# We can check whether a index is present in the series as follows"
   ]
  },
  {
   "cell_type": "markdown",
   "id": "58acf733",
   "metadata": {},
   "source": [
    "\n",
    "<details>\n",
    "<summary>Click to expand code</summary>\n",
    "\n",
    "```python\n",
    "# We can check whether a index is present in the series as follows\n",
    "print(f\"\\n'third' is present in series: {'third' in my_ser}\")\n",
    "</details>\n"
   ]
  },
  {
   "cell_type": "markdown",
   "metadata": {
    "id": "-m2af_sEp0l2"
   },
   "source": [
    "###  <font color = 'dodgerblue'> **Series as one- dimensional array**\n",
    "A Series also lets you select items in an array-like way using the same basic methods as NumPy arrays: \n",
    "\n",
    " * slicing\n",
    " *  masking \n",
    " * fancy indexing \n",
    "\n",
    "We provide the examples below:\n"
   ]
  },
  {
   "cell_type": "markdown",
   "metadata": {
    "id": "5ZFhbDHAlez3"
   },
   "source": [
    "#### **Slicing**\n",
    "\n",
    "**Syntax** :\n",
    "\n",
    "\n",
    "\n",
    "```\n",
    "    my_series = pandas.Series()\n",
    "    sub_series = my_series[start: stop: step]\n",
    "```\n",
    "\n",
    "\n"
   ]
  },
  {
   "cell_type": "code",
   "execution_count": null,
   "id": "8b02cdfa",
   "metadata": {},
   "outputs": [],
   "source": [
    "# CCreate a series"
   ]
  },
  {
   "cell_type": "markdown",
   "id": "bf330f6c",
   "metadata": {},
   "source": [
    "\n",
    "<details>\n",
    "<summary>Click to expand code</summary>\n",
    "\n",
    "```python\n",
    "# CCreate a series\n",
    "my_data = pd.Series([12, 78, 88, 92, 25, 14, 75], index = ['a', 'b', 'c', 'd', 'e', 'f', 'g'])\n",
    "my_data\n",
    "</details>\n"
   ]
  },
  {
   "cell_type": "markdown",
   "metadata": {
    "id": "so9ErDS0gHz7"
   },
   "source": [
    "#####  <font color = 'dodgerblue'>  **Using slicing by explicit index** "
   ]
  },
  {
   "cell_type": "code",
   "execution_count": null,
   "id": "9d2a3adb",
   "metadata": {},
   "outputs": [],
   "source": [
    "# slicing by explicit index\n",
    "# It will give the data from a to d index\n",
    "# In explicit/level-based indexing (where we specify the index rather than the position like 0, 1), \n",
    "# we get the final index included in the output\n",
    "# We will get all the values indexed from a to d."
   ]
  },
  {
   "cell_type": "markdown",
   "id": "af51f12a",
   "metadata": {},
   "source": [
    "\n",
    "<details>\n",
    "<summary>Click to expand code</summary>\n",
    "\n",
    "```python\n",
    "# slicing by explicit index\n",
    "# It will give the data from a to d index\n",
    "# In explicit/level-based indexing (where we specify the index rather than the position like 0, 1), \n",
    "# we get the final index included in the output\n",
    "# We will get all the values indexed from a to d.\n",
    "my_data['a' : 'd']\n",
    "</details>\n"
   ]
  },
  {
   "cell_type": "markdown",
   "metadata": {
    "id": "KmG6nYC2gRbX"
   },
   "source": [
    "#####  <font color = 'dodgerblue'>  **Using slicing by implicit integer index**"
   ]
  },
  {
   "cell_type": "code",
   "execution_count": null,
   "id": "381966db",
   "metadata": {},
   "outputs": [],
   "source": [
    "# In implicit/integer-based indexing the final index is excluded\n",
    "# In the example below,  we will get the values indexed from 0 to 2 and the value at index 3 will not be considered"
   ]
  },
  {
   "cell_type": "markdown",
   "id": "d8fb8ded",
   "metadata": {},
   "source": [
    "\n",
    "<details>\n",
    "<summary>Click to expand code</summary>\n",
    "\n",
    "```python\n",
    "# In implicit/integer-based indexing the final index is excluded\n",
    "# In the example below,  we will get the values indexed from 0 to 2 and the value at index 3 will not be considered\n",
    "my_data[0 : 3]\n",
    "</details>\n"
   ]
  },
  {
   "cell_type": "markdown",
   "metadata": {
    "id": "fTIjnSydePsN"
   },
   "source": [
    "####  <font color = 'dodgerblue'> **Masking**\n",
    "\n",
    "* Masking allows us to work with the boolean lists.\n",
    "* When applied to the original data it will return the data corresponding to index for which the vvalue the list is True.\n"
   ]
  },
  {
   "cell_type": "code",
   "execution_count": null,
   "id": "a1a505d2",
   "metadata": {},
   "outputs": [],
   "source": [
    "#Lets creat a series of data"
   ]
  },
  {
   "cell_type": "markdown",
   "id": "5c053f97",
   "metadata": {},
   "source": [
    "\n",
    "<details>\n",
    "<summary>Click to expand code</summary>\n",
    "\n",
    "```python\n",
    "#Lets creat a series of data\n",
    "my_ser = pd.Series([10, 20, 30, 40, 50, 60, 70, 80])\n",
    "print(f\"My series is \\n {my_ser}\")\n",
    "</details>\n"
   ]
  },
  {
   "cell_type": "code",
   "execution_count": null,
   "id": "88ffcf8f",
   "metadata": {},
   "outputs": [],
   "source": [
    "# Sum of elements that meet the condition : 20 > value > 50\n",
    "# Using for loop to access the data\n",
    "  #Lets use a condition that n should be between 20 and 50"
   ]
  },
  {
   "cell_type": "markdown",
   "id": "0f95e6cf",
   "metadata": {},
   "source": [
    "\n",
    "<details>\n",
    "<summary>Click to expand code</summary>\n",
    "\n",
    "```python\n",
    "# Sum of elements that meet the condition : 20 > value > 50\n",
    "# Using for loop to access the data\n",
    "total = 0\n",
    "for n in my_ser:\n",
    "  #Lets use a condition that n should be between 20 and 50\n",
    "    if (n>20) and (n<50):\n",
    "        total += n\n",
    "print(f\"the total sum is {total}\")\n",
    "</details>\n"
   ]
  },
  {
   "cell_type": "code",
   "execution_count": null,
   "id": "2b1a30a6",
   "metadata": {},
   "outputs": [],
   "source": [
    "# Let's do sum using list comprehension for the same data"
   ]
  },
  {
   "cell_type": "markdown",
   "id": "d3091563",
   "metadata": {},
   "source": [
    "\n",
    "<details>\n",
    "<summary>Click to expand code</summary>\n",
    "\n",
    "```python\n",
    "# Let's do sum using list comprehension for the same data\n",
    "sum([n for n in my_ser if (n>20) and (n<50)])\n",
    "</details>\n"
   ]
  },
  {
   "cell_type": "code",
   "execution_count": null,
   "id": "fb67c9c3",
   "metadata": {},
   "outputs": [],
   "source": [
    "# But what if there is more data \n",
    "# it will take time for the for loop or list comprehension\n",
    "# Masking will make it easier for data selection or operations"
   ]
  },
  {
   "cell_type": "markdown",
   "id": "9ba2b962",
   "metadata": {},
   "source": [
    "\n",
    "<details>\n",
    "<summary>Click to expand code</summary>\n",
    "\n",
    "```python\n",
    "# But what if there is more data \n",
    "# it will take time for the for loop or list comprehension\n",
    "# Masking will make it easier for data selection or operations\n",
    "\n",
    "my_mask = ((my_ser>20) & (my_ser<50))\n",
    "print(f\"If the condition is True, then mask returns True. Otherwise it returns False \\n {my_mask}\")\n",
    "</details>\n"
   ]
  },
  {
   "cell_type": "code",
   "execution_count": null,
   "id": "5d0e55b5",
   "metadata": {},
   "outputs": [],
   "source": [
    "# selected sub array"
   ]
  },
  {
   "cell_type": "markdown",
   "id": "32d0033b",
   "metadata": {},
   "source": [
    "\n",
    "<details>\n",
    "<summary>Click to expand code</summary>\n",
    "\n",
    "```python\n",
    "# selected sub array\n",
    "s = my_ser[my_mask]\n",
    "print(f'Selected sub array using mask is :\\n {s}')\n",
    "</details>\n"
   ]
  },
  {
   "cell_type": "code",
   "execution_count": null,
   "id": "4456c84c",
   "metadata": {},
   "outputs": [],
   "source": [
    "# Sum of the masked condition is "
   ]
  },
  {
   "cell_type": "markdown",
   "id": "c3a25d13",
   "metadata": {},
   "source": [
    "\n",
    "<details>\n",
    "<summary>Click to expand code</summary>\n",
    "\n",
    "```python\n",
    "# Sum of the masked condition is \n",
    "s = my_ser[my_mask].sum()\n",
    "print(f\"Therefore, the sum using mask is {s}\")\n",
    "</details>\n"
   ]
  },
  {
   "cell_type": "code",
   "execution_count": null,
   "id": "13d0390f",
   "metadata": {},
   "outputs": [],
   "source": [
    "# we can accomplish the above task in one statement"
   ]
  },
  {
   "cell_type": "markdown",
   "id": "ceb968d8",
   "metadata": {},
   "source": [
    "\n",
    "<details>\n",
    "<summary>Click to expand code</summary>\n",
    "\n",
    "```python\n",
    "# we can accomplish the above task in one statement\n",
    "\n",
    "my_ser[(my_ser> 20) & (my_ser<50)].sum()\n",
    "</details>\n"
   ]
  },
  {
   "cell_type": "markdown",
   "metadata": {
    "id": "T5jxTQ_FwUcf"
   },
   "source": [
    "####  <font color = 'dodgerblue'> **Fancy indexing**\n",
    "\n",
    "* Fancy indexing allows us to pass arrays of indices in place of passing a single index.\n",
    "\n",
    "\n",
    "  **Syntax** :\n",
    "\n",
    "\n",
    "```\n",
    "    data= pandas.Series()\n",
    "    indices = [3, 2, 5]\n",
    "    data[indices]\n",
    "```\n",
    "where, indices is a list of indices required.\n",
    "data is the series in pandas which is used to extract the data.\n"
   ]
  },
  {
   "cell_type": "code",
   "execution_count": null,
   "id": "fe3c468a",
   "metadata": {},
   "outputs": [],
   "source": [
    "# Fancy indexing\n",
    "# Lets prepare the list of indices \n",
    "# Lets pass this list inside the dataframe"
   ]
  },
  {
   "cell_type": "markdown",
   "id": "71bd7432",
   "metadata": {},
   "source": [
    "\n",
    "<details>\n",
    "<summary>Click to expand code</summary>\n",
    "\n",
    "```python\n",
    "# Fancy indexing\n",
    "\n",
    "# Lets prepare the list of indices \n",
    "ind = ['a', 'e' , 'd']\n",
    "\n",
    "# Lets pass this list inside the dataframe\n",
    "my_data[ind]\n",
    "</details>\n"
   ]
  },
  {
   "cell_type": "markdown",
   "metadata": {
    "id": "HKGquyNtGDP-"
   },
   "source": [
    "###  <font color = 'dodgerblue'> **indexers: loc, iloc**"
   ]
  },
  {
   "cell_type": "markdown",
   "metadata": {
    "id": "t8r3DI-IH1ZN"
   },
   "source": [
    "If we have explicit integer index, slicing and indexing conventions can create confusion.\n",
    "Let us see an example below:\n"
   ]
  },
  {
   "cell_type": "markdown",
   "id": "fbcca225",
   "metadata": {},
   "source": [
    "\n",
    "<details>\n",
    "<summary>Click to expand code</summary>\n",
    "\n",
    "```python\n",
    "my_data = pd.Series(['python', 'numpy', 'pandas'], index=[1, 3, 5])\n",
    "my_data\n",
    "</details>\n"
   ]
  },
  {
   "cell_type": "code",
   "execution_count": null,
   "id": "09f348a4",
   "metadata": {},
   "outputs": [],
   "source": [
    "# let us see what happens in indexing"
   ]
  },
  {
   "cell_type": "markdown",
   "id": "a5b37bcd",
   "metadata": {},
   "source": [
    "\n",
    "<details>\n",
    "<summary>Click to expand code</summary>\n",
    "\n",
    "```python\n",
    "# let us see what happens in indexing\n",
    "my_data[1]\n",
    "</details>\n"
   ]
  },
  {
   "cell_type": "code",
   "execution_count": null,
   "id": "681d7e1d",
   "metadata": {},
   "outputs": [],
   "source": [
    "# let us see what happens in slicing"
   ]
  },
  {
   "cell_type": "markdown",
   "id": "0504ee28",
   "metadata": {},
   "source": [
    "\n",
    "<details>\n",
    "<summary>Click to expand code</summary>\n",
    "\n",
    "```python\n",
    "# let us see what happens in slicing\n",
    "my_data[1:2]\n",
    "</details>\n"
   ]
  },
  {
   "cell_type": "markdown",
   "metadata": {
    "id": "QXy6z9r1JIah"
   },
   "source": [
    "- So in indexing, it uses explicit index (labels that we passed) and in slicing it uses implicit index (default index of python where first element is indexed as zero)\n",
    "- To avoid this confusion, we can use loc() method for explicit indexing and iloc method (integer indexing) for implicit indexing"
   ]
  },
  {
   "cell_type": "code",
   "execution_count": null,
   "id": "7958f569",
   "metadata": {},
   "outputs": [],
   "source": [
    "# explicit indexing using loc - get the item where explicit index is 1"
   ]
  },
  {
   "cell_type": "markdown",
   "id": "c5ae7d82",
   "metadata": {},
   "source": [
    "\n",
    "<details>\n",
    "<summary>Click to expand code</summary>\n",
    "\n",
    "```python\n",
    "# explicit indexing using loc - get the item where explicit index is 1\n",
    "my_data.loc[1]\n",
    "</details>\n"
   ]
  },
  {
   "cell_type": "code",
   "execution_count": null,
   "id": "cb132c25",
   "metadata": {},
   "outputs": [],
   "source": [
    "# implicit indexing using iloc - get the item where implicit indx is 1 (i.e second element)"
   ]
  },
  {
   "cell_type": "markdown",
   "id": "056d3749",
   "metadata": {},
   "source": [
    "\n",
    "<details>\n",
    "<summary>Click to expand code</summary>\n",
    "\n",
    "```python\n",
    "# implicit indexing using iloc - get the item where implicit indx is 1 (i.e second element)\n",
    "my_data.iloc[1]\n",
    "</details>\n"
   ]
  },
  {
   "cell_type": "markdown",
   "metadata": {
    "id": "ui1gLiDRVthc"
   },
   "source": [
    "\n",
    "### <font color = 'dodgerblue'> **Summary** : </font>\n",
    "\n",
    "<font color = 'red'>\n",
    "\n",
    "1.  Use masking if you want to select data based on condition.\n",
    "2. Use loc for explicit indexing - if you know the exact row labels\n",
    "3. Use iloc (integer) for implicit indexing - useful when we do not know the exact lables but know the sequence. For example - we want first five rows, last five rows or we want to iterate over the rows in a for loop. \n",
    "\n",
    "</font>"
   ]
  },
  {
   "cell_type": "markdown",
   "metadata": {
    "id": "NQvN53izxaz1"
   },
   "source": [
    "## <font color = 'dodgerblue'> **Data selection in DataFrame** \n",
    "There are various ways to select the data from the DataFrame as follows :\n",
    " \n",
    " * Dataframe as a dictionary\n",
    " * Dataframe as two dimensional array "
   ]
  },
  {
   "cell_type": "markdown",
   "metadata": {
    "id": "T_ftLEQpDuLR"
   },
   "source": [
    "### **DataFrame as a dictionary**\n",
    "Let's consider DataFrame as a dictionary. Then we can use dictionary way to select the data as follows:"
   ]
  },
  {
   "cell_type": "code",
   "execution_count": null,
   "id": "25ae3972",
   "metadata": {},
   "outputs": [],
   "source": [
    "# Let's try to make two series by using dictionary\n",
    "#Let's convert these series into dataframe"
   ]
  },
  {
   "cell_type": "markdown",
   "id": "e4ada864",
   "metadata": {},
   "source": [
    "\n",
    "<details>\n",
    "<summary>Click to expand code</summary>\n",
    "\n",
    "```python\n",
    "# Let's try to make two series by using dictionary\n",
    "my_area = pd.Series({1: 12305, 2: 26453, 3: 45789, 4: 12456, 5: 20134})\n",
    "countries = pd.Series({1: 'India', 2: 'Austria', 3: 'Africa', 4: 'America', 5: 'Sri lanka'})\n",
    "\n",
    "#Let's convert these series into dataframe\n",
    "my_dt = pd.DataFrame({'my_area': my_area, 'countries' : countries})\n",
    "print(f\"My dataframe is \\n {my_dt}\")\n",
    "\n",
    "</details>\n"
   ]
  },
  {
   "cell_type": "code",
   "execution_count": null,
   "id": "62941c35",
   "metadata": {},
   "outputs": [],
   "source": [
    "# We can acess the data by using dictionary-style indexing of the column name"
   ]
  },
  {
   "cell_type": "markdown",
   "id": "eab54fb9",
   "metadata": {},
   "source": [
    "\n",
    "<details>\n",
    "<summary>Click to expand code</summary>\n",
    "\n",
    "```python\n",
    "# We can acess the data by using dictionary-style indexing of the column name\n",
    "my_dt['my_area']\n",
    "</details>\n"
   ]
  },
  {
   "cell_type": "code",
   "execution_count": null,
   "id": "13ab2e40",
   "metadata": {},
   "outputs": [],
   "source": [
    "# We can also use the attribute -style access with column names that are strings"
   ]
  },
  {
   "cell_type": "markdown",
   "id": "4d69d9ed",
   "metadata": {},
   "source": [
    "\n",
    "<details>\n",
    "<summary>Click to expand code</summary>\n",
    "\n",
    "```python\n",
    "# We can also use the attribute -style access with column names that are strings\n",
    "my_dt.countries\n",
    "</details>\n"
   ]
  },
  {
   "cell_type": "markdown",
   "metadata": {
    "id": "sLnCmOd9Ixt8"
   },
   "source": [
    "### <font color = 'dodgerblue'> **Dataframe as two dimensional array**\n",
    "We can select the data by using following methods for a two dimensional array :\n",
    " * values\n",
    " * Slicing\n",
    " * loc (explicit indexing) is label based where we specify the rows and columns based on  labels of rows and columns\n",
    " * iloc (implicit indexing) stands for integer location where we can specify the rows and columns by their integer positional values.\n",
    "\n",
    "Following examples will give much more insights:"
   ]
  },
  {
   "cell_type": "markdown",
   "metadata": {
    "id": "1k8pBKTwSVSv"
   },
   "source": [
    "#### <font color = 'dodgerblue'> **Values**"
   ]
  },
  {
   "cell_type": "code",
   "execution_count": null,
   "id": "b362fa3d",
   "metadata": {},
   "outputs": [],
   "source": [
    "# Lets create the dictionary first\n",
    "# Creating the dataframe"
   ]
  },
  {
   "cell_type": "markdown",
   "id": "c02717b0",
   "metadata": {},
   "source": [
    "\n",
    "<details>\n",
    "<summary>Click to expand code</summary>\n",
    "\n",
    "```python\n",
    "# Lets create the dictionary first\n",
    "data = {\n",
    "    'calories' :[425, 500, 482, 369, 289, 563],\n",
    "    'hours' : [10, 20, 6, 4, 5, 6],\n",
    "    'sleep' :[6, 6, 8, 8, 7 , 6]\n",
    "}\n",
    "# Creating the dataframe\n",
    "\n",
    "dt = pd.DataFrame(data)\n",
    "print(f\"The dataframe is\\n {dt}\")\n",
    "</details>\n"
   ]
  },
  {
   "cell_type": "code",
   "execution_count": null,
   "id": "113e7771",
   "metadata": {},
   "outputs": [],
   "source": [
    "# we can use the values attribute to get the data without column names and index\n",
    "# this method gives us the data as numpy array"
   ]
  },
  {
   "cell_type": "markdown",
   "id": "642b632d",
   "metadata": {},
   "source": [
    "\n",
    "<details>\n",
    "<summary>Click to expand code</summary>\n",
    "\n",
    "```python\n",
    "# we can use the values attribute to get the data without column names and index\n",
    "# this method gives us the data as numpy array\n",
    "dt.values\n",
    "</details>\n"
   ]
  },
  {
   "cell_type": "code",
   "execution_count": null,
   "id": "6f16d903",
   "metadata": {},
   "outputs": [],
   "source": [
    "# we can see that using values method gives us the numpy array"
   ]
  },
  {
   "cell_type": "markdown",
   "id": "8adbae78",
   "metadata": {},
   "source": [
    "\n",
    "<details>\n",
    "<summary>Click to expand code</summary>\n",
    "\n",
    "```python\n",
    "# we can see that using values method gives us the numpy array\n",
    "type(dt.values)\n",
    "</details>\n"
   ]
  },
  {
   "cell_type": "markdown",
   "metadata": {
    "id": "p0hiAnsPN_e9"
   },
   "source": [
    "#### <font color = 'dodgerblue'> **Slicing**"
   ]
  },
  {
   "cell_type": "code",
   "execution_count": null,
   "id": "d743a8ac",
   "metadata": {},
   "outputs": [],
   "source": [
    "# Passing the single index to access a column"
   ]
  },
  {
   "cell_type": "markdown",
   "id": "327679b9",
   "metadata": {},
   "source": [
    "\n",
    "<details>\n",
    "<summary>Click to expand code</summary>\n",
    "\n",
    "```python\n",
    "# Passing the single index to access a column\n",
    "dt['calories']\n",
    "</details>\n"
   ]
  },
  {
   "cell_type": "code",
   "execution_count": null,
   "id": "faae2257",
   "metadata": {},
   "outputs": [],
   "source": [
    "# let us try slicing with columns"
   ]
  },
  {
   "cell_type": "markdown",
   "id": "cbb63284",
   "metadata": {},
   "source": [
    "\n",
    "<details>\n",
    "<summary>Click to expand code</summary>\n",
    "\n",
    "```python\n",
    "# let us try slicing with columns\n",
    "dt['calories':'sleep']\n",
    "</details>\n"
   ]
  },
  {
   "cell_type": "code",
   "execution_count": null,
   "id": "7e501c6e",
   "metadata": {},
   "outputs": [],
   "source": [
    "# let us try using implicit indexing"
   ]
  },
  {
   "cell_type": "markdown",
   "id": "5bc4a4bf",
   "metadata": {},
   "source": [
    "\n",
    "<details>\n",
    "<summary>Click to expand code</summary>\n",
    "\n",
    "```python\n",
    "# let us try using implicit indexing\n",
    "dt[0:2]\n",
    "</details>\n"
   ]
  },
  {
   "cell_type": "markdown",
   "metadata": {
    "id": "2j7L6ioSnpdD"
   },
   "source": [
    "<font color = 'red'> **Slicing Summary** </font>\n",
    "\n",
    "\n",
    "- <font color = 'aqua'> In Pandas , slicing refers to rows and not columns. Again slicing will use implicit indexng and fetch corresponding rows.\n",
    "\n",
    "- <font color = 'aqua'> Useful shotcuts - Acces single columns using indexing, for example `df['column name']` and use slicing to access rows `df[0:3]`. \n",
    "- <font color = 'aqua'> To avoid confusion, we should use `loc` and `iloc` methods. We can separate rows and columns using comma.\n",
    "\n"
   ]
  },
  {
   "cell_type": "markdown",
   "metadata": {
    "id": "qMe-aEmCR3Su"
   },
   "source": [
    "####  <font color = 'dodgerblue'> **indexers: loc, iloc**"
   ]
  },
  {
   "cell_type": "code",
   "execution_count": null,
   "id": "6b4da764",
   "metadata": {},
   "outputs": [],
   "source": [
    "# Lets create a dataframe"
   ]
  },
  {
   "cell_type": "markdown",
   "id": "f70ef307",
   "metadata": {},
   "source": [
    "\n",
    "<details>\n",
    "<summary>Click to expand code</summary>\n",
    "\n",
    "```python\n",
    "# Lets create a dataframe\n",
    "my_data = {\n",
    "    'name':['Olivia', 'Emma', 'Ava', 'Sophia', 'Isabella', 'Charlotte'],\n",
    "    'age' : [12, 15, 13, 14, 17, 19],\n",
    "    'class':['seventh', 'sixth', 'ninth', 'tenth', 'graduation', 'graduation']\n",
    "}\n",
    "dt3 = pd.DataFrame(my_data)\n",
    "print(f\"The dataframe is\\n {dt3}\\n\")\n",
    "</details>\n"
   ]
  },
  {
   "cell_type": "code",
   "execution_count": null,
   "id": "a9850810",
   "metadata": {},
   "outputs": [],
   "source": [
    "# Lets use loc method to locate a particular data (first four rows and column 'name' )\n",
    "# remember in explicit indexing both start and end values are included"
   ]
  },
  {
   "cell_type": "markdown",
   "id": "b32b9faf",
   "metadata": {},
   "source": [
    "\n",
    "<details>\n",
    "<summary>Click to expand code</summary>\n",
    "\n",
    "```python\n",
    "# Lets use loc method to locate a particular data (first four rows and column 'name' )\n",
    "# remember in explicit indexing both start and end values are included\n",
    "dt3.loc[: 3,  'name']\n",
    "</details>\n"
   ]
  },
  {
   "cell_type": "code",
   "execution_count": null,
   "id": "e193630b",
   "metadata": {},
   "outputs": [],
   "source": [
    "# now let us get the same data using iloc\n",
    "# remeber in implicit indexing start value is included but end valus is not included"
   ]
  },
  {
   "cell_type": "markdown",
   "id": "9157454f",
   "metadata": {},
   "source": [
    "\n",
    "<details>\n",
    "<summary>Click to expand code</summary>\n",
    "\n",
    "```python\n",
    "# now let us get the same data using iloc\n",
    "# remeber in implicit indexing start value is included but end valus is not included\n",
    "dt3.iloc[: 4,  0]\n",
    "</details>\n"
   ]
  },
  {
   "cell_type": "code",
   "execution_count": null,
   "id": "60c485c1",
   "metadata": {},
   "outputs": [],
   "source": [
    "# combine loc with masking\n",
    "# Get name and age of students whose age is greater than 13 "
   ]
  },
  {
   "cell_type": "markdown",
   "id": "e86419cc",
   "metadata": {},
   "source": [
    "\n",
    "<details>\n",
    "<summary>Click to expand code</summary>\n",
    "\n",
    "```python\n",
    "# combine loc with masking\n",
    "# Get name and age of students whose age is greater than 13 \n",
    "dt3.loc[dt3.age>13, ['name', 'age']]\n",
    "</details>\n"
   ]
  },
  {
   "cell_type": "code",
   "execution_count": null,
   "id": "a0411062",
   "metadata": {},
   "outputs": [],
   "source": [
    "# combine loc with masking\n",
    "# Get name and age of students whose age is greater than 13 but less than 17"
   ]
  },
  {
   "cell_type": "markdown",
   "id": "15c6faba",
   "metadata": {},
   "source": [
    "\n",
    "<details>\n",
    "<summary>Click to expand code</summary>\n",
    "\n",
    "```python\n",
    "# combine loc with masking\n",
    "# Get name and age of students whose age is greater than 13 but less than 17\n",
    "dt3.loc[(dt3.age>13) & (dt3.age<17), ['name', 'age']]\n",
    "</details>\n"
   ]
  },
  {
   "cell_type": "markdown",
   "metadata": {
    "id": "RaMSyoNOSn57"
   },
   "source": [
    "# <font color = 'dodgerblue'> **Uses cases** </font>\n",
    "1. Pandas have a variety of use cases. In this notebook, we will discuss the following:\n",
    "\n",
    "   * Handling missing values\n",
    "   * Manupulating data\n",
    "   * Sorting Data\n",
    "   * Aggregation of data\n",
    "   * Grouping data\n",
    "   * Data summary using Pivot Tables\n",
    "   * Merging, joining and concatenating data\n",
    "  \n",
    "\n"
   ]
  },
  {
   "cell_type": "markdown",
   "metadata": {
    "id": "08v6xS91Yc2u"
   },
   "source": [
    "## <font color = 'dodgerblue'> **Handling missing values** </font>\n",
    "\n",
    "1. The real world data is not so homogeneous or clean.\n",
    "2. The data may have missing values or null values.\n",
    "3. Pandas, helps us to clean our data and make it in a presentable form.\n",
    "4. Missing data are presented as null, NaN(not a number) or NA values\n",
    "5. There are several methods for detecting, removing and replacing null values in pandas and they are:\n",
    "   * isnull()\n",
    "   * notnull()\n",
    "   * dropna()\n",
    "   * fillna()  "
   ]
  },
  {
   "cell_type": "markdown",
   "metadata": {
    "id": "xRoDwXwdapf7"
   },
   "source": [
    "### <font color = 'dodgerblue'> **Detecting null values**\n",
    "* isnull() and notnull() are useful for detecting null  values.\n",
    "* We can get boolean mask for null using isnull() - for null values it will return True otherwise it will return False.\n",
    "* We can get boolean mask for not null using notnull() - for not null values it will return True otherwise it will return False."
   ]
  },
  {
   "cell_type": "code",
   "execution_count": null,
   "id": "d5b7843e",
   "metadata": {},
   "outputs": [],
   "source": [
    "# Lets create a new dataframe"
   ]
  },
  {
   "cell_type": "markdown",
   "id": "3ca894e7",
   "metadata": {},
   "source": [
    "\n",
    "<details>\n",
    "<summary>Click to expand code</summary>\n",
    "\n",
    "```python\n",
    "# Lets create a new dataframe\n",
    "\n",
    "data2 = {\n",
    "    'name' : ['alex', np.nan, 'ross', np.nan, 'potter', np.nan],\n",
    "    'age' :  [10, np.nan, 20, 0, np.nan, 25 ]\n",
    "}\n",
    "\n",
    "dt2 = pd.DataFrame(data2)\n",
    "print(f\"the dataframe is\\n {dt2}\")\n",
    "</details>\n"
   ]
  },
  {
   "cell_type": "markdown",
   "metadata": {
    "id": "siEF1Mo2avde"
   },
   "source": [
    "#### <font color = 'dodgerblue'> **is_null()**"
   ]
  },
  {
   "cell_type": "code",
   "execution_count": null,
   "id": "edce8f44",
   "metadata": {},
   "outputs": [],
   "source": [
    "# Detecting null values by using isnull() method\n",
    "# it will give the boolean mask "
   ]
  },
  {
   "cell_type": "markdown",
   "id": "e502325a",
   "metadata": {},
   "source": [
    "\n",
    "<details>\n",
    "<summary>Click to expand code</summary>\n",
    "\n",
    "```python\n",
    "# Detecting null values by using isnull() method\n",
    "# it will give the boolean mask \n",
    "null_mask = dt2.isnull()\n",
    "print(f' Mask indicating null values:\\n{null_mask}')\n",
    "</details>\n"
   ]
  },
  {
   "cell_type": "code",
   "execution_count": null,
   "id": "1fd3fbd5",
   "metadata": {},
   "outputs": [],
   "source": [
    "# we can count number of null values in each column by using .sum()"
   ]
  },
  {
   "cell_type": "markdown",
   "id": "69290221",
   "metadata": {},
   "source": [
    "\n",
    "<details>\n",
    "<summary>Click to expand code</summary>\n",
    "\n",
    "```python\n",
    "# we can count number of null values in each column by using .sum()\n",
    "print(f' Number of null values:\\n{dt2.isnull().sum()}')\n",
    "</details>\n"
   ]
  },
  {
   "cell_type": "code",
   "execution_count": null,
   "id": "29036aa1",
   "metadata": {},
   "outputs": [],
   "source": [
    "# Get the percentage of null values in eacvh column"
   ]
  },
  {
   "cell_type": "markdown",
   "id": "048e762d",
   "metadata": {},
   "source": [
    "\n",
    "<details>\n",
    "<summary>Click to expand code</summary>\n",
    "\n",
    "```python\n",
    "# Get the percentage of null values in eacvh column\n",
    "print(f' \\nPercentage of null values in each column:\\n{100*dt2.isnull().sum()/len(dt2)}')\n",
    "</details>\n"
   ]
  },
  {
   "cell_type": "code",
   "execution_count": null,
   "id": "2ef00eab",
   "metadata": {},
   "outputs": [],
   "source": [
    "# we can also get number of null values in each row"
   ]
  },
  {
   "cell_type": "markdown",
   "id": "f4789091",
   "metadata": {},
   "source": [
    "\n",
    "<details>\n",
    "<summary>Click to expand code</summary>\n",
    "\n",
    "```python\n",
    "# we can also get number of null values in each row\n",
    "print(f' Number of null values in eah row:\\n{dt2.isnull().sum(axis =1)}')\n",
    "</details>\n"
   ]
  },
  {
   "cell_type": "markdown",
   "metadata": {
    "id": "UlBV2wTma-p-"
   },
   "source": [
    "#### <font color = 'dodgerblue'> **not_null()**"
   ]
  },
  {
   "cell_type": "code",
   "execution_count": null,
   "id": "cce8ad60",
   "metadata": {},
   "outputs": [],
   "source": [
    "# We can access the values which are not null by using notnull() method\n",
    "# This will create a mask where all the missing values or NaN values are shown as False\n",
    "# And the non missing values are shown as True"
   ]
  },
  {
   "cell_type": "markdown",
   "id": "e6a673f5",
   "metadata": {},
   "source": [
    "\n",
    "<details>\n",
    "<summary>Click to expand code</summary>\n",
    "\n",
    "```python\n",
    "# We can access the values which are not null by using notnull() method\n",
    "# This will create a mask where all the missing values or NaN values are shown as False\n",
    "# And the non missing values are shown as True\n",
    "dt2.notnull()\n",
    "</details>\n"
   ]
  },
  {
   "cell_type": "markdown",
   "metadata": {
    "id": "0afxdxNWb5Hv"
   },
   "source": [
    "### <font color = 'dodgerblue'> **Dropping null values**\n",
    "\n",
    "dropna() method is used to drop the null values present in the data.\n"
   ]
  },
  {
   "cell_type": "code",
   "execution_count": null,
   "id": "b98de2cd",
   "metadata": {},
   "outputs": [],
   "source": [
    "# creating a dataframe\n",
    "# we can use numpy to create nan values by using np.nan method"
   ]
  },
  {
   "cell_type": "markdown",
   "id": "fa43f743",
   "metadata": {},
   "source": [
    "\n",
    "<details>\n",
    "<summary>Click to expand code</summary>\n",
    "\n",
    "```python\n",
    "# creating a dataframe\n",
    "# we can use numpy to create nan values by using np.nan method\n",
    "data = {\n",
    "    'columns': [0, 10, 20, np.nan , 0 , 12 , np.nan],\n",
    "    'rows' : ['first', 'second', 'third', 'fourth', 'fifth', 'sixth', 'seventh']\n",
    "}\n",
    "df = pd.DataFrame(data)\n",
    "print(f\"The data frame is \\n {df}\")\n",
    "</details>\n"
   ]
  },
  {
   "cell_type": "code",
   "execution_count": null,
   "id": "5f4dfac7",
   "metadata": {},
   "outputs": [],
   "source": [
    "# let's drop the NA/Nan values by using dropna()"
   ]
  },
  {
   "cell_type": "markdown",
   "id": "f54b37e9",
   "metadata": {},
   "source": [
    "\n",
    "<details>\n",
    "<summary>Click to expand code</summary>\n",
    "\n",
    "```python\n",
    "# let's drop the NA/Nan values by using dropna()\n",
    "df.dropna()\n",
    "</details>\n"
   ]
  },
  {
   "cell_type": "markdown",
   "metadata": {
    "id": "kLL7Ncctejfs"
   },
   "source": [
    "###  <font color = 'dodgerblue'> **Filling the null values**\n",
    "fillna() is used to fill the NA values in the dataframe."
   ]
  },
  {
   "cell_type": "code",
   "execution_count": null,
   "id": "0b0cf89c",
   "metadata": {},
   "outputs": [],
   "source": [
    "# Consider the dataframe df from the above example\n",
    "# Replace (fill) Na values with zero"
   ]
  },
  {
   "cell_type": "markdown",
   "id": "8af8bc8e",
   "metadata": {},
   "source": [
    "\n",
    "<details>\n",
    "<summary>Click to expand code</summary>\n",
    "\n",
    "```python\n",
    "# Consider the dataframe df from the above example\n",
    "# Replace (fill) Na values with zero\n",
    "\n",
    "df.fillna(0)\n",
    "</details>\n"
   ]
  },
  {
   "cell_type": "code",
   "execution_count": null,
   "id": "b9e067af",
   "metadata": {},
   "outputs": [],
   "source": [
    "# Using the forward fill to take the previous value forward"
   ]
  },
  {
   "cell_type": "markdown",
   "id": "ab0ec074",
   "metadata": {},
   "source": [
    "\n",
    "<details>\n",
    "<summary>Click to expand code</summary>\n",
    "\n",
    "```python\n",
    "# Using the forward fill to take the previous value forward\n",
    "df.fillna(method='ffill')\n",
    "</details>\n"
   ]
  },
  {
   "cell_type": "code",
   "execution_count": null,
   "id": "034dcd9a",
   "metadata": {},
   "outputs": [],
   "source": [
    "# Using the back-fill to take the next values backward\n",
    "# Filling the nan values from the next values"
   ]
  },
  {
   "cell_type": "markdown",
   "id": "67ae35a2",
   "metadata": {},
   "source": [
    "\n",
    "<details>\n",
    "<summary>Click to expand code</summary>\n",
    "\n",
    "```python\n",
    "# Using the back-fill to take the next values backward\n",
    "# Filling the nan values from the next values\n",
    "df.fillna(method='bfill')\n",
    "</details>\n"
   ]
  },
  {
   "cell_type": "markdown",
   "metadata": {
    "id": "_z-hEOXcfyd1"
   },
   "source": [
    "##  <font color = 'dodgerblue'> **Data Manipulation**\n",
    "We have many different methods to manipulate the data in the pandas. We will discuss some of these below:\n"
   ]
  },
  {
   "cell_type": "markdown",
   "metadata": {
    "id": "_Dd-x2PDjxpr"
   },
   "source": [
    "###  <font color = 'dodgerblue'> **Adding a new columns to the data**\n",
    "We can also add new columns to the existing data in pandas.\n",
    "The example is given as follows:"
   ]
  },
  {
   "cell_type": "code",
   "execution_count": null,
   "id": "964825f0",
   "metadata": {},
   "outputs": [],
   "source": [
    "# Adding new columns to the data\n",
    "# Let's create a dataframe"
   ]
  },
  {
   "cell_type": "markdown",
   "id": "cebb812a",
   "metadata": {},
   "source": [
    "\n",
    "<details>\n",
    "<summary>Click to expand code</summary>\n",
    "\n",
    "```python\n",
    "# Adding new columns to the data\n",
    "# Let's create a dataframe\n",
    "data = {\n",
    "    'name': ['alex', 'ami', 'ross', 'suzan', 'henry'],\n",
    "    'class' : ['first', 'first', 'second', 'second', 'second'],\n",
    "    'math_score' : [20, 20, 30, 50, 10],\n",
    "    'english_score' : [30, 40, 50, 60, 20],\n",
    "    'gender' :['Male', 'Female', 'Female', 'Female', 'Male']}\n",
    "    \n",
    "df1 = pd.DataFrame(data)\n",
    "print(f\"My dataframe is :\\n {df1}\")\n",
    "</details>\n"
   ]
  },
  {
   "cell_type": "code",
   "execution_count": null,
   "id": "a7c522e1",
   "metadata": {},
   "outputs": [],
   "source": [
    "# let's create a series consisting of age information of students"
   ]
  },
  {
   "cell_type": "markdown",
   "id": "ba9844bf",
   "metadata": {},
   "source": [
    "\n",
    "<details>\n",
    "<summary>Click to expand code</summary>\n",
    "\n",
    "```python\n",
    "# let's create a series consisting of age information of students\n",
    "age = pd.Series([4, 7, 8, 9, 5])\n",
    "print(f\"The series is :\\n {age}\")\n",
    "</details>\n"
   ]
  },
  {
   "cell_type": "code",
   "execution_count": null,
   "id": "9c209b64",
   "metadata": {},
   "outputs": [],
   "source": [
    "# add a new column to df1 - using the series age\n",
    "# the name of the new column should be age\n",
    "# The modified  dataframe is "
   ]
  },
  {
   "cell_type": "markdown",
   "id": "559cad76",
   "metadata": {},
   "source": [
    "\n",
    "<details>\n",
    "<summary>Click to expand code</summary>\n",
    "\n",
    "```python\n",
    "# add a new column to df1 - using the series age\n",
    "# the name of the new column should be age\n",
    "df1['age'] = age\n",
    "\n",
    "# The modified  dataframe is \n",
    "print(f\"The modified dataframe is :\\n\")\n",
    "df1\n",
    "</details>\n"
   ]
  },
  {
   "cell_type": "markdown",
   "metadata": {
    "id": "uRU8H3UQ7u8D"
   },
   "source": [
    "### <font color = 'dodgerblue'> **Modifying Data using index**"
   ]
  },
  {
   "cell_type": "code",
   "execution_count": null,
   "id": "2d0aa314",
   "metadata": {},
   "outputs": [],
   "source": [
    "# chnage the age of ross to 20\n",
    "# The modified  dataframe is "
   ]
  },
  {
   "cell_type": "markdown",
   "id": "03aa547c",
   "metadata": {},
   "source": [
    "\n",
    "<details>\n",
    "<summary>Click to expand code</summary>\n",
    "\n",
    "```python\n",
    "# chnage the age of ross to 20\n",
    "df1.loc[df1.name=='ross','age'] = 20\n",
    "# The modified  dataframe is \n",
    "print(f\"The modified dataframe is :\\n {df1}\")\n",
    "</details>\n"
   ]
  },
  {
   "cell_type": "markdown",
   "metadata": {
    "id": "ddlaUG7zqXkY"
   },
   "source": [
    "### <font color = 'dodgerblue'> **Modifying Data using numpy ufuncs**\n",
    "Pandas is built over numpy so any NumPy ufunc will work on Pandas Series and DataFrame objects"
   ]
  },
  {
   "cell_type": "markdown",
   "id": "b7c476d0",
   "metadata": {},
   "source": [
    "\n",
    "<details>\n",
    "<summary>Click to expand code</summary>\n",
    "\n",
    "```python\n",
    "log_scores = np.log(df1.loc[:, ['math_score', 'english_score']])\n",
    "</details>\n"
   ]
  },
  {
   "cell_type": "markdown",
   "id": "100f11e0",
   "metadata": {},
   "source": [
    "\n",
    "<details>\n",
    "<summary>Click to expand code</summary>\n",
    "\n",
    "```python\n",
    "log_scores\n",
    "</details>\n"
   ]
  },
  {
   "cell_type": "markdown",
   "metadata": {
    "id": "-bexmM-lJ_T2"
   },
   "source": [
    "### <font color = 'dodgerblue'> **Modify/Create columns using apply() function**\n",
    "\n",
    "* The apply function allows us to apply any function along an axis of the DataFrame."
   ]
  },
  {
   "cell_type": "code",
   "execution_count": null,
   "id": "9725b9d2",
   "metadata": {},
   "outputs": [],
   "source": [
    "# Use apply function  to subtract the mean from each column\n",
    "# the apply function will aply same function to all the rows\n",
    "# we can use the lambda function to specify the function"
   ]
  },
  {
   "cell_type": "markdown",
   "id": "76948609",
   "metadata": {},
   "source": [
    "\n",
    "<details>\n",
    "<summary>Click to expand code</summary>\n",
    "\n",
    "```python\n",
    "# Use apply function  to subtract the mean from each column\n",
    "# the apply function will aply same function to all the rows\n",
    "# we can use the lambda function to specify the function\n",
    "\n",
    "df1[['math_score', 'english_score']] = df1[['math_score', 'english_score']].apply(lambda x : (x-x.mean()))\n",
    "</details>\n"
   ]
  },
  {
   "cell_type": "markdown",
   "id": "77423065",
   "metadata": {},
   "source": [
    "\n",
    "<details>\n",
    "<summary>Click to expand code</summary>\n",
    "\n",
    "```python\n",
    "df1\n",
    "</details>\n"
   ]
  },
  {
   "cell_type": "code",
   "execution_count": null,
   "id": "39a642f2",
   "metadata": {},
   "outputs": [],
   "source": [
    "# create a new datafarme"
   ]
  },
  {
   "cell_type": "markdown",
   "id": "46870285",
   "metadata": {},
   "source": [
    "\n",
    "<details>\n",
    "<summary>Click to expand code</summary>\n",
    "\n",
    "```python\n",
    "# create a new datafarme\n",
    "my_arr = {'review_id' :[10, 45, 26, 36, 78, 46],\n",
    "          'text' :['MOVIE was good', 'it was AMAZING', 'horible', 'EXCELLENT', 'WIll watch again', 'DO not waste time']\n",
    "          }\n",
    "df_review = pd.DataFrame(data = my_arr)\n",
    "print(f\"the new dataframe is \\n {df_review}\")\n",
    "</details>\n"
   ]
  },
  {
   "cell_type": "code",
   "execution_count": null,
   "id": "84bb7b4a",
   "metadata": {},
   "outputs": [],
   "source": [
    "# use apply function to create a new column with lowercase test"
   ]
  },
  {
   "cell_type": "markdown",
   "id": "ba24410d",
   "metadata": {},
   "source": [
    "\n",
    "<details>\n",
    "<summary>Click to expand code</summary>\n",
    "\n",
    "```python\n",
    "# use apply function to create a new column with lowercase test\n",
    "\n",
    "df_review['text_lower'] = df_review['text'].apply(lambda x: x.lower())\n",
    "df_review\n",
    "</details>\n"
   ]
  },
  {
   "cell_type": "markdown",
   "metadata": {
    "id": "NT_JHWJWF8hk"
   },
   "source": [
    "### <font color = 'dodgerblue'> **Use filter() function to select subset of the data**\n",
    "Subset the dataframe rows or columns according to the specified index labels."
   ]
  },
  {
   "cell_type": "code",
   "execution_count": null,
   "id": "4ad0dc9e",
   "metadata": {},
   "outputs": [],
   "source": [
    "# select columns by column names"
   ]
  },
  {
   "cell_type": "markdown",
   "id": "039381a9",
   "metadata": {},
   "source": [
    "\n",
    "<details>\n",
    "<summary>Click to expand code</summary>\n",
    "\n",
    "```python\n",
    "# select columns by column names\n",
    "df1.filter(items = ['math_score', 'english_score'])\n",
    "</details>\n"
   ]
  },
  {
   "cell_type": "code",
   "execution_count": null,
   "id": "7e987958",
   "metadata": {},
   "outputs": [],
   "source": [
    "# select columns by regular expression"
   ]
  },
  {
   "cell_type": "markdown",
   "id": "aa5f7b58",
   "metadata": {},
   "source": [
    "\n",
    "<details>\n",
    "<summary>Click to expand code</summary>\n",
    "\n",
    "```python\n",
    "# select columns by regular expression\n",
    "df1.filter(regex = '.*score', axis =1)\n",
    "</details>\n"
   ]
  },
  {
   "cell_type": "markdown",
   "metadata": {
    "id": "1bRWPk4b5dQO"
   },
   "source": [
    "### <font color = 'dodgerblue'> **Modify/create columns using Binary operations**"
   ]
  },
  {
   "cell_type": "code",
   "execution_count": null,
   "id": "170483d2",
   "metadata": {},
   "outputs": [],
   "source": [
    "# add a new column which gives the total score (math score + english score)\n",
    "# The modified  dataframe is "
   ]
  },
  {
   "cell_type": "markdown",
   "id": "eaf208f6",
   "metadata": {},
   "source": [
    "\n",
    "<details>\n",
    "<summary>Click to expand code</summary>\n",
    "\n",
    "```python\n",
    "# add a new column which gives the total score (math score + english score)\n",
    "df1['total_score'] = df1['math_score'] + df1['english_score']\n",
    "# The modified  dataframe is \n",
    "print(f\"The modified dataframe is :\\n {df1}\")\n",
    "</details>\n"
   ]
  },
  {
   "cell_type": "code",
   "execution_count": null,
   "id": "f766fd7f",
   "metadata": {},
   "outputs": [],
   "source": [
    "# we can achieve this using the eval function as well\n",
    "# eval function can be used to evaluate any matahematical operations\n",
    "# using dataframe column names"
   ]
  },
  {
   "cell_type": "markdown",
   "id": "45b2bc95",
   "metadata": {},
   "source": [
    "\n",
    "<details>\n",
    "<summary>Click to expand code</summary>\n",
    "\n",
    "```python\n",
    "# we can achieve this using the eval function as well\n",
    "# eval function can be used to evaluate any matahematical operations\n",
    "# using dataframe column names\n",
    "df1['total_score'] = df1.eval('math_score + english_score')\n",
    "</details>\n"
   ]
  },
  {
   "cell_type": "markdown",
   "id": "2ca9840b",
   "metadata": {},
   "source": [
    "\n",
    "<details>\n",
    "<summary>Click to expand code</summary>\n",
    "\n",
    "```python\n",
    "df1\n",
    "</details>\n"
   ]
  },
  {
   "cell_type": "code",
   "execution_count": null,
   "id": "697c2e16",
   "metadata": {},
   "outputs": [],
   "source": [
    "# operation between two series with different index"
   ]
  },
  {
   "cell_type": "markdown",
   "id": "c46bc65f",
   "metadata": {},
   "source": [
    "\n",
    "<details>\n",
    "<summary>Click to expand code</summary>\n",
    "\n",
    "```python\n",
    "# operation between two series with different index\n",
    "my_ser1 = pd.Series(data = [1, 2, 3, 4], index = ['A', 'B','C', 'D'])\n",
    "my_ser2 = pd.Series(data = [5, 6, 7, 8], index = ['A', 'B','C', 'F'])\n",
    "</details>\n"
   ]
  },
  {
   "cell_type": "markdown",
   "id": "9af52427",
   "metadata": {},
   "source": [
    "\n",
    "<details>\n",
    "<summary>Click to expand code</summary>\n",
    "\n",
    "```python\n",
    "my_ser1.add(my_ser2)\n",
    "</details>\n"
   ]
  },
  {
   "cell_type": "markdown",
   "metadata": {
    "id": "XI3t-EF390sr"
   },
   "source": [
    "<font color = 'red'> **Note:** </font>\n",
    "<font color = 'aqua'>\n",
    "As we can see from above operation, when we add series or dataframes, Pandas will allign the indices in performing  binary operations. The resulting index will be a union of the two indices."
   ]
  },
  {
   "cell_type": "code",
   "execution_count": null,
   "id": "879c70ce",
   "metadata": {},
   "outputs": [],
   "source": [
    "# Operation with datafarmes/series  of different sizes\n",
    "# similar to broadcasting in numpy"
   ]
  },
  {
   "cell_type": "markdown",
   "id": "a957fb59",
   "metadata": {},
   "source": [
    "\n",
    "<details>\n",
    "<summary>Click to expand code</summary>\n",
    "\n",
    "```python\n",
    "# Operation with datafarmes/series  of different sizes\n",
    "# similar to broadcasting in numpy\n",
    "data = np.arange(12).reshape(3, 4)\n",
    "df = pd.DataFrame(data = data, columns = ['A', 'B','C', 'D'])\n",
    "df\n",
    "</details>\n"
   ]
  },
  {
   "cell_type": "code",
   "execution_count": null,
   "id": "c7286197",
   "metadata": {},
   "outputs": [],
   "source": [
    "# subtracting row from a dataframe\n",
    "# let us first select a row"
   ]
  },
  {
   "cell_type": "markdown",
   "id": "6ef73fd3",
   "metadata": {},
   "source": [
    "\n",
    "<details>\n",
    "<summary>Click to expand code</summary>\n",
    "\n",
    "```python\n",
    "# subtracting row from a dataframe\n",
    "# let us first select a row\n",
    "row = df.iloc[0, :]\n",
    "row\n",
    "</details>\n"
   ]
  },
  {
   "cell_type": "code",
   "execution_count": null,
   "id": "b0079835",
   "metadata": {},
   "outputs": [],
   "source": [
    "# For rows, we have  to match the series and dataframes along columns\n",
    "# hence in sub() we will specify axis = 1"
   ]
  },
  {
   "cell_type": "markdown",
   "id": "fa372938",
   "metadata": {},
   "source": [
    "\n",
    "<details>\n",
    "<summary>Click to expand code</summary>\n",
    "\n",
    "```python\n",
    "# For rows, we have  to match the series and dataframes along columns\n",
    "# hence in sub() we will specify axis = 1\n",
    "df_row_sub  = df.sub(row, axis=1)\n",
    "df_row_sub\n",
    "</details>\n"
   ]
  },
  {
   "cell_type": "code",
   "execution_count": null,
   "id": "1c1b0657",
   "metadata": {},
   "outputs": [],
   "source": [
    "# subtracting column from a dataframe\n",
    "# let us select a column first"
   ]
  },
  {
   "cell_type": "markdown",
   "id": "8f11734b",
   "metadata": {},
   "source": [
    "\n",
    "<details>\n",
    "<summary>Click to expand code</summary>\n",
    "\n",
    "```python\n",
    "# subtracting column from a dataframe\n",
    "# let us select a column first\n",
    "col = df.iloc[:, 0]\n",
    "col\n",
    "</details>\n"
   ]
  },
  {
   "cell_type": "code",
   "execution_count": null,
   "id": "26a196f6",
   "metadata": {},
   "outputs": [],
   "source": [
    "# For columns we have  to match the series and dataframes along rows (index)\n",
    "# hence in sub() we will specify axis = 1"
   ]
  },
  {
   "cell_type": "markdown",
   "id": "6ecf8b32",
   "metadata": {},
   "source": [
    "\n",
    "<details>\n",
    "<summary>Click to expand code</summary>\n",
    "\n",
    "```python\n",
    "# For columns we have  to match the series and dataframes along rows (index)\n",
    "# hence in sub() we will specify axis = 1\n",
    "df_col_sub  = df.sub(df.iloc[:, 0], axis=0)\n",
    "df_col_sub\n",
    "</details>\n"
   ]
  },
  {
   "cell_type": "markdown",
   "metadata": {
    "id": "0O4yWELnj_p-"
   },
   "source": [
    "### <font color = 'dodgerblue'>**Deleting rows/columns**\n",
    "We can delete the rows/columns by using the drop() method.\n",
    "\n",
    "**Syntax**:\n",
    "\n",
    "\n",
    "```\n",
    "    DataFrame.drop(index,columns, inplace = True/False)\n",
    "```\n",
    "* The index is the index of row to be deleted; columns: is used to specify column names to be deleted.\n",
    "\n",
    "* If we keep inplace value as **True** then the changes will be applied to the dataframe.\n",
    "* Otherwise it will just create a temporary view of the result."
   ]
  },
  {
   "cell_type": "code",
   "execution_count": null,
   "id": "9186d931",
   "metadata": {},
   "outputs": [],
   "source": [
    "# Deleting rows/columns\n",
    "# lets consider the dataframe mentioned above"
   ]
  },
  {
   "cell_type": "markdown",
   "id": "0369f346",
   "metadata": {},
   "source": [
    "\n",
    "<details>\n",
    "<summary>Click to expand code</summary>\n",
    "\n",
    "```python\n",
    "# Deleting rows/columns\n",
    "# lets consider the dataframe mentioned above\n",
    "\n",
    "df1_copy = df1.copy()\n",
    "print(f\"My dataframe is \\n {df1_copy}\")\n",
    "</details>\n"
   ]
  },
  {
   "cell_type": "code",
   "execution_count": null,
   "id": "3a42c164",
   "metadata": {},
   "outputs": [],
   "source": [
    "# remove second row and column age"
   ]
  },
  {
   "cell_type": "markdown",
   "id": "03f378d5",
   "metadata": {},
   "source": [
    "\n",
    "<details>\n",
    "<summary>Click to expand code</summary>\n",
    "\n",
    "```python\n",
    "# remove second row and column age\n",
    "df1_copy.drop(index = 1, columns ='age', inplace = True)\n",
    "print(f\"The new dataframe is \\n {df1_copy}\")\n",
    "</details>\n"
   ]
  },
  {
   "cell_type": "code",
   "execution_count": null,
   "id": "4ce56c4c",
   "metadata": {},
   "outputs": [],
   "source": [
    "# remove math_score_column"
   ]
  },
  {
   "cell_type": "markdown",
   "id": "90ba68a4",
   "metadata": {},
   "source": [
    "\n",
    "<details>\n",
    "<summary>Click to expand code</summary>\n",
    "\n",
    "```python\n",
    "# remove math_score_column\n",
    "df1_copy.drop( columns ='math_score', inplace = True)\n",
    "print(f\"The new dataframe is \\n {df1_copy}\")\n",
    "</details>\n"
   ]
  },
  {
   "cell_type": "markdown",
   "metadata": {
    "id": "dKXBk0timkX9"
   },
   "source": [
    "### <font color = 'dodgerblue'> **Truncate a data from before or after some specified index**\n",
    "We can truncate the data between some specific index and return the required data.\n",
    "\n",
    "**Syntax** :\n",
    "\n",
    "\n",
    "```\n",
    "DataFrame.truncate(before, after, axis)\n",
    "```\n",
    "where, we can mention the before or after index to truncate data.\n"
   ]
  },
  {
   "cell_type": "markdown",
   "id": "95ad7911",
   "metadata": {},
   "source": [
    "\n",
    "<details>\n",
    "<summary>Click to expand code</summary>\n",
    "\n",
    "```python\n",
    "print(f\"My dataframe is :\\n {df1}\")\n",
    "</details>\n"
   ]
  },
  {
   "cell_type": "code",
   "execution_count": null,
   "id": "0dfb250a",
   "metadata": {},
   "outputs": [],
   "source": [
    "# remove first and last rows"
   ]
  },
  {
   "cell_type": "markdown",
   "id": "957ca15c",
   "metadata": {},
   "source": [
    "\n",
    "<details>\n",
    "<summary>Click to expand code</summary>\n",
    "\n",
    "```python\n",
    "# remove first and last rows\n",
    "\n",
    "df1_trunc = df1.truncate(before = 1, after = 2)\n",
    "print(f\"\\n My new dataframe is \\n {df1_trunc}\")\n",
    "\n",
    "</details>\n"
   ]
  },
  {
   "cell_type": "markdown",
   "metadata": {
    "id": "xiNF4bSOz5YF"
   },
   "source": [
    "## <font color = 'dodgerblue'>**Sorting Data**"
   ]
  },
  {
   "cell_type": "markdown",
   "id": "fab5781a",
   "metadata": {},
   "source": [
    "\n",
    "<details>\n",
    "<summary>Click to expand code</summary>\n",
    "\n",
    "```python\n",
    "df1\n",
    "</details>\n"
   ]
  },
  {
   "cell_type": "code",
   "execution_count": null,
   "id": "6c6b2c0f",
   "metadata": {},
   "outputs": [],
   "source": [
    "# row sort (based on index)"
   ]
  },
  {
   "cell_type": "markdown",
   "id": "5c0a5d27",
   "metadata": {},
   "source": [
    "\n",
    "<details>\n",
    "<summary>Click to expand code</summary>\n",
    "\n",
    "```python\n",
    "# row sort (based on index)\n",
    "df1.sort_index(ascending=False, axis =0)\n",
    "</details>\n"
   ]
  },
  {
   "cell_type": "code",
   "execution_count": null,
   "id": "90480556",
   "metadata": {},
   "outputs": [],
   "source": [
    "# column sort (based on column names)"
   ]
  },
  {
   "cell_type": "markdown",
   "id": "889c661a",
   "metadata": {},
   "source": [
    "\n",
    "<details>\n",
    "<summary>Click to expand code</summary>\n",
    "\n",
    "```python\n",
    "# column sort (based on column names)\n",
    "df1.sort_index( axis =1)\n",
    "</details>\n"
   ]
  },
  {
   "cell_type": "code",
   "execution_count": null,
   "id": "38b0f0d6",
   "metadata": {},
   "outputs": [],
   "source": [
    "# sort based on values in a column"
   ]
  },
  {
   "cell_type": "markdown",
   "id": "7939d227",
   "metadata": {},
   "source": [
    "\n",
    "<details>\n",
    "<summary>Click to expand code</summary>\n",
    "\n",
    "```python\n",
    "# sort based on values in a column\n",
    "df1.sort_values(by = 'age', ascending=False, inplace = True)\n",
    "</details>\n"
   ]
  },
  {
   "cell_type": "markdown",
   "id": "44ff9883",
   "metadata": {},
   "source": [
    "\n",
    "<details>\n",
    "<summary>Click to expand code</summary>\n",
    "\n",
    "```python\n",
    "df1\n",
    "</details>\n"
   ]
  },
  {
   "cell_type": "markdown",
   "metadata": {
    "id": "ygYp7UmmsSer"
   },
   "source": [
    "## <font color = 'dodgerblue'> **Aggregation**\n",
    "\n",
    "* Similar to numpy, we can use aggregate functions in Pandas as well.\n",
    "\n",
    "\n",
    "<img src = \"https://drive.google.com/uc?view=export&id=1DXhiBZlNvBs6-ltdFXSSWwpudXTvMXaV\" width =\"400\" />\n"
   ]
  },
  {
   "cell_type": "markdown",
   "metadata": {
    "id": "wyPQ5tbwiZT3"
   },
   "source": [
    "###  <font color = 'dodgerblue'> **count()**"
   ]
  },
  {
   "cell_type": "code",
   "execution_count": null,
   "id": "b689aaa4",
   "metadata": {},
   "outputs": [],
   "source": [
    "# Let us  use the dataframe from the above example"
   ]
  },
  {
   "cell_type": "markdown",
   "id": "43b0b003",
   "metadata": {},
   "source": [
    "\n",
    "<details>\n",
    "<summary>Click to expand code</summary>\n",
    "\n",
    "```python\n",
    "# Let us  use the dataframe from the above example\n",
    "print(f\"the dataframe is:\\n {df1}\")\n",
    "</details>\n"
   ]
  },
  {
   "cell_type": "code",
   "execution_count": null,
   "id": "e73d81b3",
   "metadata": {},
   "outputs": [],
   "source": [
    "# Count() function\n",
    "# lets count the total number of items in dataframe\n",
    "# We will get the total number of elements in each column as follows"
   ]
  },
  {
   "cell_type": "markdown",
   "id": "c93085e1",
   "metadata": {},
   "source": [
    "\n",
    "<details>\n",
    "<summary>Click to expand code</summary>\n",
    "\n",
    "```python\n",
    "# Count() function\n",
    "# lets count the total number of items in dataframe\n",
    "# We will get the total number of elements in each column as follows\n",
    "df1.count()\n",
    "</details>\n"
   ]
  },
  {
   "cell_type": "markdown",
   "metadata": {
    "id": "XuzztFC4ijy9"
   },
   "source": [
    "###  <font color = 'dodgerblue'> **head(), tail()**"
   ]
  },
  {
   "cell_type": "code",
   "execution_count": null,
   "id": "5e4c2add",
   "metadata": {},
   "outputs": [],
   "source": [
    "# head(),tail()\n",
    "# get the top 2 rows"
   ]
  },
  {
   "cell_type": "markdown",
   "id": "9fb65f14",
   "metadata": {},
   "source": [
    "\n",
    "<details>\n",
    "<summary>Click to expand code</summary>\n",
    "\n",
    "```python\n",
    "# head(),tail()\n",
    "# get the top 2 rows\n",
    "print(f\"the top 2 rows are \\n {df1.head(2)}\")\n",
    "</details>\n"
   ]
  },
  {
   "cell_type": "code",
   "execution_count": null,
   "id": "973555a4",
   "metadata": {},
   "outputs": [],
   "source": [
    "# gets the last 3 rows"
   ]
  },
  {
   "cell_type": "markdown",
   "id": "c47ef263",
   "metadata": {},
   "source": [
    "\n",
    "<details>\n",
    "<summary>Click to expand code</summary>\n",
    "\n",
    "```python\n",
    "# gets the last 3 rows\n",
    "print(f\"\\nthe last 3 rows are \\n {df1.tail(3)}\")\n",
    "</details>\n"
   ]
  },
  {
   "cell_type": "markdown",
   "metadata": {
    "id": "Mpp3ffeYirko"
   },
   "source": [
    "###  <font color = 'dodgerblue'> **mean/median/std/var etc**"
   ]
  },
  {
   "cell_type": "code",
   "execution_count": null,
   "id": "9e0cd7ef",
   "metadata": {},
   "outputs": [],
   "source": [
    "# mean, median,std,var methods\n",
    "# it gives the mean  and median for each column if they are numerical"
   ]
  },
  {
   "cell_type": "markdown",
   "id": "cd551bee",
   "metadata": {},
   "source": [
    "\n",
    "<details>\n",
    "<summary>Click to expand code</summary>\n",
    "\n",
    "```python\n",
    "# mean, median,std,var methods\n",
    "# it gives the mean  and median for each column if they are numerical\n",
    "print(f\"the mean of the data is \\n{df1.mean()}\")\n",
    "print(f\"\\nthe median of the data is \\n{df1.median()}\")\n",
    "print(f\"\\nthe standard deviation of the data is \\n{df1.std()}\")\n",
    "print(f\"\\nthe variance of the data is \\n{df1.var()}\")\n",
    "</details>\n"
   ]
  },
  {
   "cell_type": "markdown",
   "metadata": {
    "id": "XgjfClqhi1Sh"
   },
   "source": [
    "###  <font color = 'dodgerblue'> **describe()**"
   ]
  },
  {
   "cell_type": "code",
   "execution_count": null,
   "id": "c61afc6e",
   "metadata": {},
   "outputs": [],
   "source": [
    "# We can also use describe() method to get all the descriptive statistics"
   ]
  },
  {
   "cell_type": "markdown",
   "id": "831032fa",
   "metadata": {},
   "source": [
    "\n",
    "<details>\n",
    "<summary>Click to expand code</summary>\n",
    "\n",
    "```python\n",
    "# We can also use describe() method to get all the descriptive statistics\n",
    "print(f\"the descriptive statistics  of the data is \\n {df1.describe()}\")\n",
    "</details>\n"
   ]
  },
  {
   "cell_type": "markdown",
   "metadata": {
    "id": "PSiRgxq0i9GI"
   },
   "source": [
    "###  <font color = 'dodgerblue'> **info()**"
   ]
  },
  {
   "cell_type": "code",
   "execution_count": null,
   "id": "29361dde",
   "metadata": {},
   "outputs": [],
   "source": [
    "# we can get the information about the columns using df.info() method"
   ]
  },
  {
   "cell_type": "markdown",
   "id": "59442e9b",
   "metadata": {},
   "source": [
    "\n",
    "<details>\n",
    "<summary>Click to expand code</summary>\n",
    "\n",
    "```python\n",
    "# we can get the information about the columns using df.info() method\n",
    "df1.info()\n",
    "</details>\n"
   ]
  },
  {
   "cell_type": "markdown",
   "metadata": {
    "id": "HhaFJPiYjEkE"
   },
   "source": [
    "###  <font color = 'dodgerblue'> **Applying functions along rows or columns**"
   ]
  },
  {
   "cell_type": "markdown",
   "id": "81ae7442",
   "metadata": {},
   "source": [
    "\n",
    "<details>\n",
    "<summary>Click to expand code</summary>\n",
    "\n",
    "```python\n",
    "df_score = df1.loc[:, ['math_score','english_score']]\n",
    "df_score\n",
    "</details>\n"
   ]
  },
  {
   "cell_type": "code",
   "execution_count": null,
   "id": "a7a4b37b",
   "metadata": {},
   "outputs": [],
   "source": [
    "# average score of each subject \n",
    "# axis = 0 : row sum for each column (subject)"
   ]
  },
  {
   "cell_type": "markdown",
   "id": "9d9e694e",
   "metadata": {},
   "source": [
    "\n",
    "<details>\n",
    "<summary>Click to expand code</summary>\n",
    "\n",
    "```python\n",
    "# average score of each subject \n",
    "# axis = 0 : row sum for each column (subject)\n",
    "df_score.mean(axis =0)\n",
    "</details>\n"
   ]
  },
  {
   "cell_type": "code",
   "execution_count": null,
   "id": "155e918d",
   "metadata": {},
   "outputs": [],
   "source": [
    "# total score for each student\n",
    "# axis = 1 - column sum for each row (student)"
   ]
  },
  {
   "cell_type": "markdown",
   "id": "5a5e0756",
   "metadata": {},
   "source": [
    "\n",
    "<details>\n",
    "<summary>Click to expand code</summary>\n",
    "\n",
    "```python\n",
    "# total score for each student\n",
    "# axis = 1 - column sum for each row (student)\n",
    "df_score.sum(axis=1)\n",
    "</details>\n"
   ]
  },
  {
   "cell_type": "code",
   "execution_count": null,
   "id": "ab337e61",
   "metadata": {},
   "outputs": [],
   "source": [
    "# total score (sum of all the scores for all students)"
   ]
  },
  {
   "cell_type": "markdown",
   "id": "ee4abf89",
   "metadata": {},
   "source": [
    "\n",
    "<details>\n",
    "<summary>Click to expand code</summary>\n",
    "\n",
    "```python\n",
    "# total score (sum of all the scores for all students)\n",
    "df_score.sum().sum()\n",
    "</details>\n"
   ]
  },
  {
   "cell_type": "markdown",
   "metadata": {
    "id": "M5kKNUW7jQ6i"
   },
   "source": [
    "###  <font color = 'dodgerblue'> **value_counts(): count of unique values**"
   ]
  },
  {
   "cell_type": "code",
   "execution_count": null,
   "id": "79642ed8",
   "metadata": {},
   "outputs": [],
   "source": [
    "# Find number of males and females in the data\n",
    "# value_counts give the count of unique values\n",
    "# the gender column had two uniqie values - male and female\n",
    "# value_count will give count of females and males"
   ]
  },
  {
   "cell_type": "markdown",
   "id": "ae81fd88",
   "metadata": {},
   "source": [
    "\n",
    "<details>\n",
    "<summary>Click to expand code</summary>\n",
    "\n",
    "```python\n",
    "# Find number of males and females in the data\n",
    "# value_counts give the count of unique values\n",
    "# the gender column had two uniqie values - male and female\n",
    "# value_count will give count of females and males\n",
    "df1['gender'].value_counts()\n",
    "</details>\n"
   ]
  },
  {
   "cell_type": "code",
   "execution_count": null,
   "id": "5ee641e7",
   "metadata": {},
   "outputs": [],
   "source": [
    "# we can get the percentage of each category by passing argument normalize = True"
   ]
  },
  {
   "cell_type": "markdown",
   "id": "c736874a",
   "metadata": {},
   "source": [
    "\n",
    "<details>\n",
    "<summary>Click to expand code</summary>\n",
    "\n",
    "```python\n",
    "# we can get the percentage of each category by passing argument normalize = True\n",
    "df1['gender'].value_counts(normalize = True)\n",
    "</details>\n"
   ]
  },
  {
   "cell_type": "markdown",
   "metadata": {
    "id": "Ct-F6V3-ocGH"
   },
   "source": [
    "## <font color = 'dodgerblue'> **Grouping data**</font>\n",
    "1. Aggregate functions helps us in understanding the data.\n",
    "2. But sometimes we may require to apply these aggregate function to a group of data.\n",
    "4.  Groupby mainly refers to a process involving one or more of the following steps:\n",
    "\n",
    "  * Split : We split data into groups by applying some conditions on data.\n",
    "\n",
    "  * Combine : We combine results from different groups.\n",
    "**Syntax** :\n",
    "\n",
    "\n",
    "\n",
    "```\n",
    "  DataFrame.groupby().sum()\n",
    "```\n",
    "here, first we group the data based on condition inside the parethesis. \n",
    "\n",
    "Then it will take sum of the given grouped data.\n",
    "\n",
    "\n",
    "Visual representation of a groupby operation\n",
    "<img src=\"https://drive.google.com/uc?export=view&id=10khD_6G02Z624KRjhyCGuicodjhHRege\" width=\"800\"/>"
   ]
  },
  {
   "cell_type": "markdown",
   "id": "f85ec8d8",
   "metadata": {},
   "source": [
    "\n",
    "<details>\n",
    "<summary>Click to expand code</summary>\n",
    "\n",
    "```python\n",
    "df1\n",
    "</details>\n"
   ]
  },
  {
   "cell_type": "code",
   "execution_count": null,
   "id": "3f1f3b24",
   "metadata": {},
   "outputs": [],
   "source": [
    "# group by function on the dataframe\n",
    "# lets group students based on gender"
   ]
  },
  {
   "cell_type": "markdown",
   "id": "48f17f68",
   "metadata": {},
   "source": [
    "\n",
    "<details>\n",
    "<summary>Click to expand code</summary>\n",
    "\n",
    "```python\n",
    "# group by function on the dataframe\n",
    "# lets group students based on gender\n",
    "df1.groupby('gender')\n",
    "</details>\n"
   ]
  },
  {
   "cell_type": "code",
   "execution_count": null,
   "id": "a3368cc2",
   "metadata": {},
   "outputs": [],
   "source": [
    "# Now lets apply mean() funtion to the grouped data\n",
    "# It will return the mean of the items for each gender"
   ]
  },
  {
   "cell_type": "markdown",
   "id": "c05c0c99",
   "metadata": {},
   "source": [
    "\n",
    "<details>\n",
    "<summary>Click to expand code</summary>\n",
    "\n",
    "```python\n",
    "# Now lets apply mean() funtion to the grouped data\n",
    "# It will return the mean of the items for each gender\n",
    "\n",
    "df1.groupby('gender').mean()\n",
    "</details>\n"
   ]
  },
  {
   "cell_type": "markdown",
   "metadata": {
    "id": "w47LvhStsZl2"
   },
   "source": [
    "#### <FONT COLOR = 'dodgerblue'> **groupby with aggregate()**\n",
    "\n",
    "* We are already familiar with the aggregations such as sum(), median(), std() etc.\n",
    "* But we can use aggregate functions in group by which provides the flexibility to perform any kind of aggregation on the given data.\n",
    "\n",
    "\n",
    "**Syntax** :\n",
    "\n",
    "\n",
    "```\n",
    "  DataFrame.aggregate(func, axis)\n",
    "\n",
    "```\n",
    "we can pass the required function and axis to apply the function.\n"
   ]
  },
  {
   "cell_type": "markdown",
   "id": "8115830a",
   "metadata": {},
   "source": [
    "\n",
    "<details>\n",
    "<summary>Click to expand code</summary>\n",
    "\n",
    "```python\n",
    "print(f\"My dataframe is: \\n {df1}\")\n",
    "</details>\n"
   ]
  },
  {
   "cell_type": "code",
   "execution_count": null,
   "id": "07d9996f",
   "metadata": {},
   "outputs": [],
   "source": [
    "# lets group the data then apply aggregate function\n",
    "# we want minimum and maximum value of each column for males and females"
   ]
  },
  {
   "cell_type": "markdown",
   "id": "182abf27",
   "metadata": {},
   "source": [
    "\n",
    "<details>\n",
    "<summary>Click to expand code</summary>\n",
    "\n",
    "```python\n",
    "# lets group the data then apply aggregate function\n",
    "# we want minimum and maximum value of each column for males and females\n",
    "df1.groupby('gender').aggregate([min, max])\n",
    "</details>\n"
   ]
  },
  {
   "cell_type": "markdown",
   "metadata": {
    "id": "rGuPivnbo2G-"
   },
   "source": [
    "#### <FONT COLOR = 'dodgerblue'> **filter out groups using groupby and filter**"
   ]
  },
  {
   "cell_type": "markdown",
   "metadata": {
    "id": "p6uOcwnbICYo"
   },
   "source": [
    "We can use filter with groupby() as well. This will allows us to drop or filter data based on the group properties.\n",
    "\n",
    "**Example** :\n",
    "We want to keep all the groups for whom the maximum value of total_score is greate than 0\n"
   ]
  },
  {
   "cell_type": "code",
   "execution_count": null,
   "id": "1cf75a40",
   "metadata": {},
   "outputs": [],
   "source": [
    "# lets create a function\n",
    "# now pass the function in filter function\n",
    "# code here"
   ]
  },
  {
   "cell_type": "markdown",
   "id": "192951bf",
   "metadata": {},
   "source": [
    "\n",
    "<details>\n",
    "<summary>Click to expand code</summary>\n",
    "\n",
    "```python\n",
    "# lets create a function\n",
    "\n",
    "def filter_func(df):\n",
    "  return df['total_score'].max() > 0\n",
    "\n",
    "# now pass the function in filter function\n",
    "# code here\n",
    "</details>\n"
   ]
  },
  {
   "cell_type": "code",
   "execution_count": null,
   "id": "d3984f19",
   "metadata": {},
   "outputs": [],
   "source": [
    "# use lamda expression to get the same result"
   ]
  },
  {
   "cell_type": "markdown",
   "id": "5b3f45e0",
   "metadata": {},
   "source": [
    "\n",
    "<details>\n",
    "<summary>Click to expand code</summary>\n",
    "\n",
    "```python\n",
    "# use lamda expression to get the same result\n",
    "df1.groupby('gender').filter(lambda x: x['total_score'].max()>0)\n",
    "</details>\n"
   ]
  },
  {
   "cell_type": "markdown",
   "metadata": {
    "id": "zzNUw-SHHfYk"
   },
   "source": [
    "<font color = 'red'> **Note:** </font> <font color = 'aqua'>   We get all the obsevations for the group for which the maximum value of total_score was greater than 70. The filter is applied at the group level."
   ]
  },
  {
   "cell_type": "markdown",
   "metadata": {
    "id": "jx3ZVbofnMdz"
   },
   "source": [
    "## <font color = 'dodgerblue'> **Pivot Tables**\n",
    "Pandas supports spreadsheet-like pivot tables that allow quick data summarization."
   ]
  },
  {
   "cell_type": "code",
   "execution_count": null,
   "id": "436f6882",
   "metadata": {},
   "outputs": [],
   "source": [
    "# let us get the mean  of total_score for each gender using groupby"
   ]
  },
  {
   "cell_type": "markdown",
   "id": "f46adf2e",
   "metadata": {},
   "source": [
    "\n",
    "<details>\n",
    "<summary>Click to expand code</summary>\n",
    "\n",
    "```python\n",
    "# let us get the mean  of total_score for each gender using groupby\n",
    "df1.groupby('gender')[['total_score']].mean()\n",
    "</details>\n"
   ]
  },
  {
   "cell_type": "code",
   "execution_count": null,
   "id": "6a47f835",
   "metadata": {},
   "outputs": [],
   "source": [
    "# let us get the mean  of total_score for each gender in each class using groupby"
   ]
  },
  {
   "cell_type": "markdown",
   "id": "63f4b2d1",
   "metadata": {},
   "source": [
    "\n",
    "<details>\n",
    "<summary>Click to expand code</summary>\n",
    "\n",
    "```python\n",
    "# let us get the mean  of total_score for each gender in each class using groupby\n",
    "df1.groupby(['gender','class'])[['total_score']].mean()\n",
    "</details>\n"
   ]
  },
  {
   "cell_type": "code",
   "execution_count": null,
   "id": "3509d920",
   "metadata": {},
   "outputs": [],
   "source": [
    "# we can unstack the above results"
   ]
  },
  {
   "cell_type": "markdown",
   "id": "2a93cb48",
   "metadata": {},
   "source": [
    "\n",
    "<details>\n",
    "<summary>Click to expand code</summary>\n",
    "\n",
    "```python\n",
    "# we can unstack the above results\n",
    "df1.groupby(['gender','class'])[['total_score']].mean().unstack()\n",
    "</details>\n"
   ]
  },
  {
   "cell_type": "code",
   "execution_count": null,
   "id": "25508811",
   "metadata": {},
   "outputs": [],
   "source": [
    "# This could be done more easily using pivot tables"
   ]
  },
  {
   "cell_type": "markdown",
   "id": "1e510c1e",
   "metadata": {},
   "source": [
    "\n",
    "<details>\n",
    "<summary>Click to expand code</summary>\n",
    "\n",
    "```python\n",
    "# This could be done more easily using pivot tables\n",
    "df1.pivot_table('total_score', index ='gender', columns = 'class')\n",
    "</details>\n"
   ]
  },
  {
   "cell_type": "code",
   "execution_count": null,
   "id": "0b218837",
   "metadata": {},
   "outputs": [],
   "source": [
    "# the default aggregate function is mean, we can easily change this to any otyher function"
   ]
  },
  {
   "cell_type": "markdown",
   "id": "a2ed290e",
   "metadata": {},
   "source": [
    "\n",
    "<details>\n",
    "<summary>Click to expand code</summary>\n",
    "\n",
    "```python\n",
    "# the default aggregate function is mean, we can easily change this to any otyher function\n",
    "df1.pivot_table('total_score', index ='gender', columns = 'class', aggfunc='min')\n",
    "</details>\n"
   ]
  },
  {
   "cell_type": "markdown",
   "metadata": {
    "id": "AO_3TPeInCV0"
   },
   "source": [
    "## <font color = 'dodgerblue'> **Combine Datasets: Merge and Join**\n",
    "With Pandas we can use SQL-like joins on DataFrames. Pandas support various types of joins like: inner joins, left/right outer joins and full joins. We will now illustrate these below:"
   ]
  },
  {
   "cell_type": "code",
   "execution_count": null,
   "id": "5e34f40e",
   "metadata": {},
   "outputs": [],
   "source": [
    "# Create dataframe"
   ]
  },
  {
   "cell_type": "markdown",
   "id": "e2f39292",
   "metadata": {},
   "source": [
    "\n",
    "<details>\n",
    "<summary>Click to expand code</summary>\n",
    "\n",
    "```python\n",
    "import pandas as pd\n",
    "# Create dataframe\n",
    "data = {'user_id':[1, 2, 3, 4, 5, 6, 7, 1, 2, 3],\n",
    "       'item_id': [1, 2, 3, 1, 2, 4, 5, 6, 7, 8],\n",
    "       'rating':  [1, 1, 5, 5, 4, 4, 4, 3, 2, 1]}\n",
    "ratings = pd.DataFrame(data)\n",
    "\n",
    "title_names = {'item_id': [2, 3, 4, 5, 6, 7, 8, 9, 10],\n",
    "          'movie_names': ' B C D E F G H I J '.split(),\n",
    "          }\n",
    "          \n",
    "movie_title = pd.DataFrame(title_names)\n",
    "\n",
    "print(f'Ratings data\\n{ratings}')\n",
    "print(f'\\nMovie Titles\\n{movie_title}')\n",
    "</details>\n"
   ]
  },
  {
   "cell_type": "markdown",
   "metadata": {
    "id": "av6OtDHKqtu1"
   },
   "source": [
    "### <font color = 'dodgerblue'> **Merge-INNER JOIN**"
   ]
  },
  {
   "cell_type": "code",
   "execution_count": null,
   "id": "0c2846f3",
   "metadata": {},
   "outputs": [],
   "source": [
    "# join data sets using merge"
   ]
  },
  {
   "cell_type": "markdown",
   "id": "3b902ce6",
   "metadata": {},
   "source": [
    "\n",
    "<details>\n",
    "<summary>Click to expand code</summary>\n",
    "\n",
    "```python\n",
    "# join data sets using merge\n",
    "pd.merge(left=ratings, right=movie_title, on=\"item_id\")\n",
    "</details>\n"
   ]
  },
  {
   "cell_type": "markdown",
   "metadata": {
    "id": "djDDLp22QaBJ"
   },
   "source": [
    "<font color = 'red'> **Note:** </font> <font color = 'aqua'>  Item_id 1, 9 and 10  were dropped because they don't exist in **both `DataFrame`s**. itemid 1 was missing from movie_title and item_id 9 amd 10 were not present in ratings dataframe This is the equivalent of a SQL `INNER JOIN`. If we want a `FULL OUTER JOIN`, where no item_id is dropped and `NaN` values are added, we should specify `how=\"outer\"`:"
   ]
  },
  {
   "cell_type": "markdown",
   "metadata": {
    "id": "6qtf5uQUrQcO"
   },
   "source": [
    "### <font color = 'dodgerblue'> **Merge-OUTER JOIN**"
   ]
  },
  {
   "cell_type": "markdown",
   "id": "dbd7b1c9",
   "metadata": {},
   "source": [
    "\n",
    "<details>\n",
    "<summary>Click to expand code</summary>\n",
    "\n",
    "```python\n",
    "all_titles = pd.merge(left=ratings, right=movie_title, on=\"item_id\", how = 'outer')\n",
    "all_titles\n",
    "</details>\n"
   ]
  },
  {
   "cell_type": "markdown",
   "metadata": {
    "id": "Yi4gPPLqRiN5"
   },
   "source": [
    "We can also use LEFT OUTER JOIN by setting how=\"left\": only the movies present in the ratings DataFrame will appear in the result. Similarly, with how=\"right\" only movies in the right DataFrame will appear in the result. Let us see example of LEFT OUTER JOIN"
   ]
  },
  {
   "cell_type": "markdown",
   "id": "d8e6695d",
   "metadata": {},
   "source": [
    "\n",
    "<details>\n",
    "<summary>Click to expand code</summary>\n",
    "\n",
    "```python\n",
    "movies_with_ratings_only = pd.merge(left=ratings, right=movie_title, on=\"item_id\", how = 'left')\n",
    "movies_with_ratings_only\n",
    "</details>\n"
   ]
  },
  {
   "cell_type": "markdown",
   "id": "8105ec20",
   "metadata": {},
   "source": [
    "\n",
    "<details>\n",
    "<summary>Click to expand code</summary>\n",
    "\n",
    "```python\n",
    "movies_with_title_info_only = pd.merge(left=ratings, right=movie_title, on=\"item_id\", how = 'right')\n",
    "movies_with_title_info_only \n",
    "</details>\n"
   ]
  },
  {
   "cell_type": "markdown",
   "metadata": {
    "id": "lTsSDo0Krudb"
   },
   "source": [
    "### <font color = 'dodgerblue'> **Merge - key column names are different**"
   ]
  },
  {
   "cell_type": "markdown",
   "id": "fb9bb9b3",
   "metadata": {},
   "source": [
    "\n",
    "<details>\n",
    "<summary>Click to expand code</summary>\n",
    "\n",
    "```python\n",
    "movie_title_2 = movie_title.copy()\n",
    "movie_title_2.columns = [\"movie_id\", \"movie_names\"]\n",
    "movie_title_2\n",
    "</details>\n"
   ]
  },
  {
   "cell_type": "markdown",
   "metadata": {
    "id": "NCciZe6SUM3V"
   },
   "source": [
    "If the key column names differ, then we have to use  use left_on and right_on. For example:"
   ]
  },
  {
   "cell_type": "markdown",
   "id": "22894016",
   "metadata": {},
   "source": [
    "\n",
    "<details>\n",
    "<summary>Click to expand code</summary>\n",
    "\n",
    "```python\n",
    "pd.merge(left=ratings, right=movie_title_2, left_on=\"item_id\", right_on=\"movie_id\")\n",
    "</details>\n"
   ]
  },
  {
   "cell_type": "markdown",
   "metadata": {
    "id": "5B7DvTXomhUv"
   },
   "source": [
    "## <font color = 'dodgerblue'>**Combine Datasets: Concat and Append**"
   ]
  },
  {
   "cell_type": "markdown",
   "metadata": {
    "id": "Gb1-UqirVHze"
   },
   "source": [
    "Rather than joining DataFrames, we can just concatenate them using concat():"
   ]
  },
  {
   "cell_type": "markdown",
   "id": "e6f961f0",
   "metadata": {},
   "source": [
    "\n",
    "<details>\n",
    "<summary>Click to expand code</summary>\n",
    "\n",
    "```python\n",
    "result_concat = pd.concat([ratings, movie_title])\n",
    "result_concat\n",
    "</details>\n"
   ]
  },
  {
   "cell_type": "markdown",
   "metadata": {
    "id": "e9GYS3IYV_xW"
   },
   "source": [
    "We can concatenate DataFrames horizontally instead of vertically by setting axis=1:"
   ]
  },
  {
   "cell_type": "markdown",
   "id": "b1ab2cbe",
   "metadata": {},
   "source": [
    "\n",
    "<details>\n",
    "<summary>Click to expand code</summary>\n",
    "\n",
    "```python\n",
    "horizontal_concat = pd.concat([ratings, movie_title], axis =1)\n",
    "horizontal_concat\n",
    "</details>\n"
   ]
  },
  {
   "cell_type": "markdown",
   "metadata": {
    "id": "DAxNAAuPWSWA"
   },
   "source": [
    "However, this does not make sense, the concatenation was done using index values. The same item_id has different movie names. So we need to reindex the `DataFrame`s by item_id before concatenating:"
   ]
  },
  {
   "cell_type": "markdown",
   "id": "6457d20e",
   "metadata": {},
   "source": [
    "\n",
    "<details>\n",
    "<summary>Click to expand code</summary>\n",
    "\n",
    "```python\n",
    "horizontal_concat = pd.concat([ratings.set_index('item_id'), movie_title.set_index('item_id')], axis =1)\n",
    "</details>\n"
   ]
  },
  {
   "cell_type": "markdown",
   "metadata": {
    "id": "Ln25i4LKsdTk"
   },
   "source": [
    "We get error above because item_id is not uniqie in ratings dataframe."
   ]
  },
  {
   "cell_type": "code",
   "execution_count": null,
   "id": "72cb523f",
   "metadata": {},
   "outputs": [],
   "source": [
    "# Create a new datafarne which has average rating for each movie"
   ]
  },
  {
   "cell_type": "markdown",
   "id": "010c90bd",
   "metadata": {},
   "source": [
    "\n",
    "<details>\n",
    "<summary>Click to expand code</summary>\n",
    "\n",
    "```python\n",
    "# Create a new datafarne which has average rating for each movie\n",
    "average_ratings = pd.DataFrame(ratings.groupby('item_id')['rating'].mean())\n",
    "average_ratings\n",
    "</details>\n"
   ]
  },
  {
   "cell_type": "markdown",
   "id": "db7af87e",
   "metadata": {},
   "source": [
    "\n",
    "<details>\n",
    "<summary>Click to expand code</summary>\n",
    "\n",
    "```python\n",
    "horizontal_concat = pd.concat([average_ratings, movie_title.set_index('item_id')], axis =1)\n",
    "horizontal_concat\n",
    "</details>\n"
   ]
  },
  {
   "cell_type": "markdown",
   "metadata": {
    "id": "Cwj4_rFyTrBK"
   },
   "source": [
    "# <font color = 'dodgerblue'> **Saving and Loading Data**"
   ]
  },
  {
   "cell_type": "markdown",
   "id": "62910e28",
   "metadata": {},
   "source": [
    "\n",
    "<details>\n",
    "<summary>Click to expand code</summary>\n",
    "\n",
    "```python\n",
    "df1\n",
    "</details>\n"
   ]
  },
  {
   "cell_type": "markdown",
   "metadata": {
    "id": "ejIoPDOpzdaM"
   },
   "source": [
    "## <font color = 'dodgerblue'> **Saving Data**"
   ]
  },
  {
   "cell_type": "code",
   "execution_count": null,
   "id": "8efbb067",
   "metadata": {},
   "outputs": [],
   "source": [
    "# mount google drive\n",
    "# so that we can save and load models/data from google drive"
   ]
  },
  {
   "cell_type": "markdown",
   "id": "964fa331",
   "metadata": {},
   "source": [
    "\n",
    "<details>\n",
    "<summary>Click to expand code</summary>\n",
    "\n",
    "```python\n",
    "# mount google drive\n",
    "# so that we can save and load models/data from google drive\n",
    "from google.colab import drive\n",
    "drive.mount('/content/drive')\n",
    "</details>\n"
   ]
  },
  {
   "cell_type": "code",
   "execution_count": null,
   "id": "f03582b4",
   "metadata": {},
   "outputs": [],
   "source": [
    "# library to navigate file system"
   ]
  },
  {
   "cell_type": "markdown",
   "id": "63be3247",
   "metadata": {},
   "source": [
    "\n",
    "<details>\n",
    "<summary>Click to expand code</summary>\n",
    "\n",
    "```python\n",
    "# library to navigate file system\n",
    "from pathlib import Path\n",
    "</details>\n"
   ]
  },
  {
   "cell_type": "code",
   "execution_count": null,
   "id": "1f1f1efb",
   "metadata": {},
   "outputs": [],
   "source": [
    "# check current director"
   ]
  },
  {
   "cell_type": "markdown",
   "id": "074aa130",
   "metadata": {},
   "source": [
    "\n",
    "<details>\n",
    "<summary>Click to expand code</summary>\n",
    "\n",
    "```python\n",
    "# check current director\n",
    "!pwd\n",
    "</details>\n"
   ]
  },
  {
   "cell_type": "markdown",
   "metadata": {
    "id": "r99ydff6N5co"
   },
   "source": [
    "If we do not provide specific location, files are saved in current directory. When we close Google Colab, these files will be lost. Thus we should save files/models on google drive."
   ]
  },
  {
   "cell_type": "code",
   "execution_count": null,
   "id": "8524b02f",
   "metadata": {},
   "outputs": [],
   "source": [
    "# here I have saved save my data to folder Data in my Google drive. /content/drive/MyDrive refers to \n",
    "# path where google drive is mounted. /teaching_fall_2022 is folder in my Google drive. \n",
    "# You should change this to folder you want to save data in your your Google drive\n",
    "# specify pathlib folder\n",
    "# This is a system Path(PosixPath)"
   ]
  },
  {
   "cell_type": "markdown",
   "id": "42cbdef4",
   "metadata": {},
   "source": [
    "\n",
    "<details>\n",
    "<summary>Click to expand code</summary>\n",
    "\n",
    "```python\n",
    "# here I have saved save my data to folder Data in my Google drive. /content/drive/MyDrive refers to \n",
    "# path where google drive is mounted. /teaching_fall_2022 is folder in my Google drive. \n",
    "# You should change this to folder you want to save data in your your Google drive\n",
    "\n",
    "# specify pathlib folder\n",
    "# This is a system Path(PosixPath)\n",
    "\n",
    "data_folder = Path('/content/drive/MyDrive/teaching_fall_2022/ml-fall-2022/Lecture2_Numpy_Pandas')\n",
    "</details>\n"
   ]
  },
  {
   "cell_type": "markdown",
   "metadata": {
    "id": "MA2f74KyPetP"
   },
   "source": [
    "We can construct a path to the file by joining the parts using the special operator /. The / can join several paths or a mix of paths and strings given, atleast one of those paths should be an instance of class Path from pathlib library (as shown below)."
   ]
  },
  {
   "cell_type": "markdown",
   "id": "12423960",
   "metadata": {},
   "source": [
    "\n",
    "<details>\n",
    "<summary>Click to expand code</summary>\n",
    "\n",
    "```python\n",
    "file_csv = data_folder / \"df_pd_ml_21.csv\"\n",
    "file_json = data_folder / \"df_pd_ml_21.json\"\n",
    "df1.to_csv(file_csv)\n",
    "df1.to_json(file_json)\n",
    "</details>\n"
   ]
  },
  {
   "cell_type": "code",
   "execution_count": null,
   "id": "05b39aea",
   "metadata": {},
   "outputs": [],
   "source": [
    "# check the content of the saved file"
   ]
  },
  {
   "cell_type": "markdown",
   "id": "f7ee72a0",
   "metadata": {},
   "source": [
    "\n",
    "<details>\n",
    "<summary>Click to expand code</summary>\n",
    "\n",
    "```python\n",
    "# check the content of the saved file\n",
    "for filename in (file_csv, file_json):\n",
    "    print(\"#\", filename)\n",
    "    with open(filename, \"rt\") as f:\n",
    "        print(f.read())\n",
    "        print()\n",
    "</details>\n"
   ]
  },
  {
   "cell_type": "markdown",
   "metadata": {
    "id": "IGPK_25azimy"
   },
   "source": [
    "## <font color = 'dodgerblue'> **Loading Data**"
   ]
  },
  {
   "cell_type": "markdown",
   "id": "492a403a",
   "metadata": {},
   "source": [
    "\n",
    "<details>\n",
    "<summary>Click to expand code</summary>\n",
    "\n",
    "```python\n",
    "df1_csv_loaded = pd.read_csv(file_csv, index_col=0)\n",
    "</details>\n"
   ]
  },
  {
   "cell_type": "markdown",
   "id": "f2328010",
   "metadata": {},
   "source": [
    "\n",
    "<details>\n",
    "<summary>Click to expand code</summary>\n",
    "\n",
    "```python\n",
    "df1_csv_loaded\n",
    "</details>\n"
   ]
  },
  {
   "cell_type": "markdown",
   "id": "3511c4e5",
   "metadata": {},
   "source": [
    "\n",
    "<details>\n",
    "<summary>Click to expand code</summary>\n",
    "\n",
    "```python\n",
    "df1_json_loaded = pd.read_json(file_json)\n",
    "</details>\n"
   ]
  },
  {
   "cell_type": "markdown",
   "id": "89ec2947",
   "metadata": {},
   "source": [
    "\n",
    "<details>\n",
    "<summary>Click to expand code</summary>\n",
    "\n",
    "```python\n",
    "df1_json_loaded\n",
    "</details>\n"
   ]
  }
 ],
 "metadata": {
  "colab": {
   "collapsed_sections": [],
   "name": "2.Pandas_final.ipynb",
   "provenance": [],
   "toc_visible": true
  },
  "kernelspec": {
   "display_name": "Python 3",
   "name": "python3"
  },
  "language_info": {
   "name": "python"
  }
 },
 "nbformat": 4,
 "nbformat_minor": 0
}
