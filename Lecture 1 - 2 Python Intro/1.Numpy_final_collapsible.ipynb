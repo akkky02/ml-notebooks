{
 "cells": [
  {
   "cell_type": "markdown",
   "metadata": {
    "id": "ZJj568ZHe26X"
   },
   "source": [
    "# <font color = 'dodgerblue'> **Introduction**\n",
    "* One of the basic fundamental process in data science is efficient \n",
    "storage and manipulation of numerical arrays.\n",
    "* The special packages to handle these numerical arrays in python are Numpy and pandas.\n",
    "* In this notebook, we will explore Numpy package.\n"
   ]
  },
  {
   "cell_type": "markdown",
   "metadata": {
    "id": "o76flkIUxuvt"
   },
   "source": [
    "# <font color = 'dodgerblue'> **Numpy**\n",
    "* Numpy stands for numerical python.\n",
    "* It provides efficient way to store and manipulate arrays.\n",
    "* It also contains useful linear algebra and random number functions\n",
    "\n",
    "\n"
   ]
  },
  {
   "cell_type": "markdown",
   "metadata": {
    "id": "D1_bVmrNq8i0",
    "jp-MarkdownHeadingCollapsed": true,
    "tags": []
   },
   "source": [
    "## <font color = 'dodgerblue'> **Importing a pacakge** </font>\n",
    "\n",
    "1.  Python has a way to put definitions in a file and use them in your program. Such a file is called a module.\n",
    "2. We use import statement to acquire the definitions from a module or the whole module.\n",
    "3. We can import modules from packages using the dot (.) operator. \n",
    "3. **Syntax**:\n",
    "    \n",
    "  ```\n",
    "  import package_name as alias name\n",
    "  ```\n",
    "  Import statement allows to import all the definitions from the given package.\n",
    "\n",
    "  \"Alias name\" can be used to give a short name for the packages. \n"
   ]
  },
  {
   "cell_type": "code",
   "execution_count": null,
   "id": "a3a5fe73",
   "metadata": {},
   "outputs": [],
   "source": [
    "# Importing numpy package"
   ]
  },
  {
   "cell_type": "markdown",
   "id": "e91b392b",
   "metadata": {},
   "source": [
    "\n",
    "<details>\n",
    "<summary>Click to expand code</summary>\n",
    "\n",
    "```python\n",
    "# Importing numpy package\n",
    "import numpy as np\n"
   ]
  },
  {
   "cell_type": "markdown",
   "metadata": {
    "id": "Cd58jTIzoGeZ",
    "jp-MarkdownHeadingCollapsed": true,
    "tags": []
   },
   "source": [
    "\n",
    "## <font color = 'dodgerblue'> **Version  of Numpy**\n",
    "* If there is any prerequisite of package version for any data science project, then its essential to verify the package version.\n",
    "*  We can check the package version as follows `package.__version__`\n",
    "   "
   ]
  },
  {
   "cell_type": "code",
   "execution_count": null,
   "id": "5d56b733",
   "metadata": {},
   "outputs": [],
   "source": [
    "# Check the version of the numpy  "
   ]
  },
  {
   "cell_type": "markdown",
   "id": "df8e7bd2",
   "metadata": {},
   "source": [
    "\n",
    "<details>\n",
    "<summary>Click to expand code</summary>\n",
    "\n",
    "```python\n",
    "# Check the version of the numpy  \n",
    "print(\"The version of my numpy package is \",np.__version__)\n"
   ]
  },
  {
   "cell_type": "code",
   "execution_count": null,
   "id": "0b316048",
   "metadata": {},
   "outputs": [],
   "source": [
    "# set printion option for the notebook"
   ]
  },
  {
   "cell_type": "markdown",
   "id": "bab09547",
   "metadata": {},
   "source": [
    "\n",
    "<details>\n",
    "<summary>Click to expand code</summary>\n",
    "\n",
    "```python\n",
    "# set printion option for the notebook\n",
    "np.set_printoptions(precision=2)\n"
   ]
  },
  {
   "cell_type": "markdown",
   "metadata": {
    "id": "1CZ_1mek9Pfp",
    "tags": []
   },
   "source": [
    "# <font color = 'dodgerblue'> **Creating Numpy Arrays** </font>\n",
    "There are 3 ways for creating arrays by using numpy and they are:\n",
    "\n",
    "1. Conversion from other Python structures (e.g., lists, tuples)\n",
    "\n",
    "2. Intrinsic numpy array creation objects (e.g., arange, ones, zeros, etc.)\n",
    "\n",
    "5. Use of special library functions (e.g., random)"
   ]
  },
  {
   "cell_type": "markdown",
   "metadata": {
    "id": "P62Mai0sE9nR"
   },
   "source": [
    "## <font color = 'dodgerblue'> **Conversion from other python structures using np.array()**\n",
    "\n",
    "We can easily convert any iterable function such as lists, tuples etc. into arrays by using numpy packages.\n",
    "\n",
    "  **Syntax**:\n",
    "  ```\n",
    "  np.array(list)\n",
    "  np.array(tuple)\n",
    "\n",
    "  ```\n",
    "We can pass iterable functions as an argument for the array() method in numpy.\n"
   ]
  },
  {
   "cell_type": "code",
   "execution_count": null,
   "id": "2c97a448",
   "metadata": {},
   "outputs": [],
   "source": [
    "# Creating array from a list\n",
    "# creae a numpy array from list"
   ]
  },
  {
   "cell_type": "markdown",
   "id": "faa1fa52",
   "metadata": {},
   "source": [
    "\n",
    "<details>\n",
    "<summary>Click to expand code</summary>\n",
    "\n",
    "```python\n",
    "# Creating array from a list\n",
    "list_array = [1, 2, 5, 4, 3, 6]\n",
    "\n",
    "# creae a numpy array from list\n",
    "numpy_array = np.array(list_array)\n",
    "print(numpy_array)\n"
   ]
  },
  {
   "cell_type": "code",
   "execution_count": null,
   "id": "515736ff",
   "metadata": {},
   "outputs": [],
   "source": [
    "# Creating arrays from tuple"
   ]
  },
  {
   "cell_type": "markdown",
   "id": "7d2feaec",
   "metadata": {},
   "source": [
    "\n",
    "<details>\n",
    "<summary>Click to expand code</summary>\n",
    "\n",
    "```python\n",
    "# Creating arrays from tuple\n",
    "my_tuple = (1, 2, 45, 36)\n",
    "numpy_array= np.array(my_tuple)\n",
    "print(numpy_array)\n"
   ]
  },
  {
   "cell_type": "code",
   "execution_count": null,
   "id": "2249fbd6",
   "metadata": {},
   "outputs": [],
   "source": [
    "# Creating 1 dimensional array from numpy package"
   ]
  },
  {
   "cell_type": "markdown",
   "id": "01742708",
   "metadata": {},
   "source": [
    "\n",
    "<details>\n",
    "<summary>Click to expand code</summary>\n",
    "\n",
    "```python\n",
    "# Creating 1 dimensional array from numpy package\n",
    "num = np.array([12, 45, 78, 36, 45])\n",
    "print(f'The numpy array is : \\n {num}')\n"
   ]
  },
  {
   "cell_type": "code",
   "execution_count": null,
   "id": "dddd31af",
   "metadata": {},
   "outputs": [],
   "source": [
    "# Creating 2 dimensional array from numpy package"
   ]
  },
  {
   "cell_type": "markdown",
   "id": "8224e181",
   "metadata": {},
   "source": [
    "\n",
    "<details>\n",
    "<summary>Click to expand code</summary>\n",
    "\n",
    "```python\n",
    "# Creating 2 dimensional array from numpy package\n",
    "numpy_array = np.array([[12, 45, 65, 78],[12, 1, 2, 3]])\n",
    "print(f'The 2 dimensional array is:\\n {numpy_array}')\n"
   ]
  },
  {
   "cell_type": "markdown",
   "metadata": {
    "id": "jbjL7WtshGEW"
   },
   "source": [
    "## <font color = 'dodgerblue'> **Notation**\n",
    "\n",
    "* In NumPy, each dimension is called an **axis**.\n",
    "* The number of axes is called the **rank**.\n",
    "    * For example, the above 2x2 matrix is an array of rank 2 (it is 2-dimensional).\n",
    "    * The first axis has length 2, the second has length 4.\n",
    "*  shape gives the size of each dimensions in an array.\n",
    "    * For example, the above array's shape is `(2, 4)`.\n",
    "    * The rank is equal to the shape's length.\n",
    "* The **size** of an array is the total number of elements, which is the product of all axis lengths (eg. 2*4=8)"
   ]
  },
  {
   "cell_type": "markdown",
   "metadata": {
    "id": "NiiDIxat-6sa"
   },
   "source": [
    "## <font color = 'dodgerblue'> **Intrinsic numpy array creation objects**\n",
    "Numpy has a special built in function to create arrays from the scratch.\n",
    "\n",
    "\n"
   ]
  },
  {
   "cell_type": "markdown",
   "metadata": {
    "id": "0ShKWnZKjOW6"
   },
   "source": [
    "### <font color = 'dodgerblue'> **np.zeros**\n",
    "An array filled with zeros can be created by specifying particular shape and data type. The default datatype is **float64**.\n",
    "  \n",
    " **Syntax** :\n",
    "  ```\n",
    "   np.zeros(shape, dtype)\n",
    "  ```"
   ]
  },
  {
   "cell_type": "code",
   "execution_count": null,
   "id": "8a5df413",
   "metadata": {},
   "outputs": [],
   "source": [
    "# Creating a one dimensional array filled with zeros"
   ]
  },
  {
   "cell_type": "markdown",
   "id": "d28257b2",
   "metadata": {},
   "source": [
    "\n",
    "<details>\n",
    "<summary>Click to expand code</summary>\n",
    "\n",
    "```python\n",
    "# Creating a one dimensional array filled with zeros\n",
    "np.zeros(10, dtype = float)\n"
   ]
  },
  {
   "cell_type": "code",
   "execution_count": null,
   "id": "ab7c6281",
   "metadata": {},
   "outputs": [],
   "source": [
    "# Creating a two dimensional array filled with zeros\n",
    "# The following will have 2 rows and 3 columns "
   ]
  },
  {
   "cell_type": "markdown",
   "id": "bb704f43",
   "metadata": {},
   "source": [
    "\n",
    "<details>\n",
    "<summary>Click to expand code</summary>\n",
    "\n",
    "```python\n",
    "# Creating a two dimensional array filled with zeros\n",
    "# The following will have 2 rows and 3 columns \n",
    "np.zeros((2, 3), dtype = int)\n"
   ]
  },
  {
   "cell_type": "markdown",
   "metadata": {
    "id": "RgQeyRdZjmGU"
   },
   "source": [
    "### <font color = 'dodgerblue'> **np.ones**\n",
    " An array filled with only ones can be created by specifying particular shape and data type. The default shape is **float64**.\n",
    "  \n",
    "  **Syntax**:\n",
    "  ```\n",
    "  np.ones(shape, dtype)\n",
    "  ```\n",
    "  where, dtype can be used as int, float etc."
   ]
  },
  {
   "cell_type": "code",
   "execution_count": null,
   "id": "1085249a",
   "metadata": {},
   "outputs": [],
   "source": [
    "# Creating a 1 dimensional array using ones method"
   ]
  },
  {
   "cell_type": "markdown",
   "id": "c2dfc179",
   "metadata": {},
   "source": [
    "\n",
    "<details>\n",
    "<summary>Click to expand code</summary>\n",
    "\n",
    "```python\n",
    "# Creating a 1 dimensional array using ones method\n",
    "np.ones(20, dtype = int)\n"
   ]
  },
  {
   "cell_type": "code",
   "execution_count": null,
   "id": "501e2c02",
   "metadata": {},
   "outputs": [],
   "source": [
    "# Creating a 2 dimensional array using ones method.\n",
    "# The following array will have 3 rows and 2 columns "
   ]
  },
  {
   "cell_type": "markdown",
   "id": "5a0d3b23",
   "metadata": {},
   "source": [
    "\n",
    "<details>\n",
    "<summary>Click to expand code</summary>\n",
    "\n",
    "```python\n",
    "# Creating a 2 dimensional array using ones method.\n",
    "# The following array will have 3 rows and 2 columns \n",
    "np.ones((3, 2), dtype = float)\n"
   ]
  },
  {
   "cell_type": "markdown",
   "metadata": {
    "id": "SeKB1vyfztOO"
   },
   "source": [
    "### <font color = 'dodgerblue'>**np.full()**\n",
    "We can create  an array of the given shape initialized with any given value.\n",
    "\n",
    " **Syntax** :\n",
    "  ```\n",
    "   np.full(shape, fill_value, dtype)\n",
    "  ```"
   ]
  },
  {
   "cell_type": "markdown",
   "id": "5e306552",
   "metadata": {},
   "source": [
    "\n",
    "<details>\n",
    "<summary>Click to expand code</summary>\n",
    "\n",
    "```python\n",
    "np.full((2,3), 5)\n"
   ]
  },
  {
   "cell_type": "markdown",
   "metadata": {
    "id": "Koo7peFEk4Os"
   },
   "source": [
    "### <font color = 'dodgerblue'> **np.arange()**\n",
    "arange() method is used to create values in the array in an increasing order. It is similar to the built in python range() method.\n",
    " \n",
    " **Syntax** :\n",
    "```\n",
    "np.arange(stop, dtype)\n",
    "np.arange(start, stop, dtype)\n",
    "np.arange(start, stop, step, dtype)\n",
    "```\n",
    "where,\n",
    "\n",
    "> **start** - \tOptional. An integer number specifying the strat position. Default is 0\n",
    "\n",
    "> **stop** - Required. An integer number specifying the stop position (**not included**).\n",
    "\n",
    "> **step (Optional)** - Optional. An integer value which determines the increment. default is 1"
   ]
  },
  {
   "cell_type": "code",
   "execution_count": null,
   "id": "fdd165e6",
   "metadata": {},
   "outputs": [],
   "source": [
    "# Creating an array using arange() method\n",
    "# It will give an array starting from default 0 to 9 elements\n",
    "# It will give an array starting from 12 and end at 24\n",
    "# It will give an array starting from 12 ,ending at 29 and incrementing each element by 5"
   ]
  },
  {
   "cell_type": "markdown",
   "id": "889d3beb",
   "metadata": {},
   "source": [
    "\n",
    "<details>\n",
    "<summary>Click to expand code</summary>\n",
    "\n",
    "```python\n",
    "# Creating an array using arange() method\n",
    "\n",
    "# It will give an array starting from default 0 to 9 elements\n",
    "a = np.arange(10, dtype = float)\n",
    "print(f\"An array starting from default 0 to 9 elements {a}\")\n",
    "\n",
    "# It will give an array starting from 12 and end at 24\n",
    "b = np.arange(12, 25, dtype = int)\n",
    "print(f\"\\n An array starting from 12 and end at 24 {b}\")\n",
    "\n",
    "# It will give an array starting from 12 ,ending at 29 and incrementing each element by 5\n",
    "c = np.arange(12, 30, 5, dtype = int)\n",
    "print(f\"\\n An array starting from 12 ,ending at 29 and incrementing each element by 5 {c}\")\n"
   ]
  },
  {
   "cell_type": "markdown",
   "metadata": {
    "id": "2Ok7wbzQxsUc"
   },
   "source": [
    "### <font color = 'dodgerblue'> **np.linspace()**\n",
    "\n",
    "It creates evenly spaced numbers over a specified interval\n",
    "\n",
    "  **Syntax**:\n",
    "\n",
    "  ```\n",
    "  np.linspace(start, stop, num)\n",
    "  ```\n",
    "  - start: strating value of sequence\n",
    "  - end: end value of sequence\n",
    "  - num: number of values to be generated"
   ]
  },
  {
   "cell_type": "code",
   "execution_count": null,
   "id": "b72e54b4",
   "metadata": {},
   "outputs": [],
   "source": [
    "# create an array using np.linspace\n",
    "# create 10 evenly soaced values between 0 and 4"
   ]
  },
  {
   "cell_type": "markdown",
   "id": "c7934112",
   "metadata": {},
   "source": [
    "\n",
    "<details>\n",
    "<summary>Click to expand code</summary>\n",
    "\n",
    "```python\n",
    "# create an array using np.linspace\n",
    "# create 10 evenly soaced values between 0 and 4\n",
    "d = np.linspace(start=0, stop = 5, num = 10)\n",
    "print(f\"\\n Ten evenly spaced values between 0 and 5 {d}\")\n"
   ]
  },
  {
   "cell_type": "markdown",
   "metadata": {
    "id": "MNJ6gl3xy_4U"
   },
   "source": [
    "### <font color = 'dodgerblue'> **eye()**\n",
    "This  method can be used to create an identity matrix or array. \n",
    "  * An **identity matrix** is a matrix which does not change any array when we multiply (matrix multiplication) the array with that matrix.\n",
    "  * The principal diagonal elements are ones and all other elements are zeros.\n",
    "\n",
    " **Example**:\n",
    "  $$\\begin{bmatrix} 1 & 0 & 0 \\\\ 0 & 1 & 0 \\\\ 0 & 0 & 1 \\end{bmatrix}$$\n",
    "\n",
    "\n",
    "  **Syntax**:\n",
    "\n",
    "\n",
    "  ```\n",
    "  np.eye(shape of the array, dtype)\n",
    "  ```\n",
    "  It gives a square matrix where rows and columns are same and we can define data type as int, float etc."
   ]
  },
  {
   "cell_type": "code",
   "execution_count": null,
   "id": "5b1ab83f",
   "metadata": {},
   "outputs": [],
   "source": [
    "# Using eye() method to create an identity matrix or array\n",
    "# The following matrix has 5 rows and 5 columns"
   ]
  },
  {
   "cell_type": "markdown",
   "id": "84ca2ee6",
   "metadata": {},
   "source": [
    "\n",
    "<details>\n",
    "<summary>Click to expand code</summary>\n",
    "\n",
    "```python\n",
    "# Using eye() method to create an identity matrix or array\n",
    "# The following matrix has 5 rows and 5 columns\n",
    "np.eye(5, dtype = float)\n"
   ]
  },
  {
   "cell_type": "markdown",
   "metadata": {
    "id": "Cycn0LCEEq0u"
   },
   "source": [
    "## <font color = 'dodgerblue'> **Special library functions**"
   ]
  },
  {
   "cell_type": "markdown",
   "metadata": {
    "id": "aTfdgYF80-nV"
   },
   "source": [
    "### <font color = 'dodgerblue'>**np.random()**\n",
    "\n",
    "numpy.random() method can be used to generate array with random numbers. \n",
    "\n",
    "\n",
    "  **Syntax**:\n",
    "```\n",
    "    np.random.randint(start, end, shape of array) # random integers\n",
    "    np.random.uniform(start, end, shape of array) # random numbers from uniform distribution\n",
    "    np.random.normal(mean, standard deviation, shape) # random numbers from normal distribution\n",
    "\n",
    "```\n",
    "\n"
   ]
  },
  {
   "cell_type": "markdown",
   "metadata": {
    "id": "F6gL4Jw9uR1l"
   },
   "source": [
    "#### <font color = 'dodgerblue'> **Random integers - randint()**"
   ]
  },
  {
   "cell_type": "code",
   "execution_count": null,
   "id": "a49e8cf7",
   "metadata": {},
   "outputs": [],
   "source": [
    "# Create an array that has random numbers (integers) between 0 to 10 in an array\n",
    "# The array will consist of 3 rows and 3 columns\n",
    "# the command below will also give the same result\n",
    "# when we specify only one paramter then it stats from 0 till that value"
   ]
  },
  {
   "cell_type": "markdown",
   "id": "6d1919cb",
   "metadata": {},
   "source": [
    "\n",
    "<details>\n",
    "<summary>Click to expand code</summary>\n",
    "\n",
    "```python\n",
    "# Create an array that has random numbers (integers) between 0 to 10 in an array\n",
    "# The array will consist of 3 rows and 3 columns\n",
    "a = np.random.randint(0, 10, (3, 3)) #  here 0 is inclusive but 10 is not\n",
    "print(a)\n",
    "\n",
    "# the command below will also give the same result\n",
    "# when we specify only one paramter then it stats from 0 till that value\n",
    "b = np.random.randint(10, size = (3, 3)) \n",
    "print(f'\\n{b}')\n"
   ]
  },
  {
   "cell_type": "markdown",
   "metadata": {
    "id": "v01_uG5ouUNv"
   },
   "source": [
    "#### <font color = 'dodgerblue'> **Normal Distribution - normal()**"
   ]
  },
  {
   "cell_type": "code",
   "execution_count": null,
   "id": "da735eed",
   "metadata": {},
   "outputs": [],
   "source": [
    "# Create an array normally distributed values\n",
    "# with mean = 2 and standard deviation = 3"
   ]
  },
  {
   "cell_type": "markdown",
   "id": "c13c3198",
   "metadata": {},
   "source": [
    "\n",
    "<details>\n",
    "<summary>Click to expand code</summary>\n",
    "\n",
    "```python\n",
    "# Create an array normally distributed values\n",
    "# with mean = 2 and standard deviation = 3\n",
    "\n",
    "np.random.normal(2, 3, (2, 3))\n"
   ]
  },
  {
   "cell_type": "markdown",
   "metadata": {
    "id": "zJRSVnQDuWOd"
   },
   "source": [
    "#### <font color = 'dodgerblue'> **Random Numbers - Uniform DIstributon - uniform()**"
   ]
  },
  {
   "cell_type": "code",
   "execution_count": null,
   "id": "068292fe",
   "metadata": {},
   "outputs": [],
   "source": [
    "# To create an array of uniformly distributed values.\n",
    "# random values between 0 and 1"
   ]
  },
  {
   "cell_type": "markdown",
   "id": "f5293f13",
   "metadata": {},
   "source": [
    "\n",
    "<details>\n",
    "<summary>Click to expand code</summary>\n",
    "\n",
    "```python\n",
    "# To create an array of uniformly distributed values.\n",
    "# random values between 0 and 1\n",
    "\n",
    "np.random.uniform(0, 1, (3, 4))\n"
   ]
  },
  {
   "cell_type": "markdown",
   "metadata": {
    "id": "p52Im_2wuZcg"
   },
   "source": [
    "#### <font color = 'dodgerblue'> **Set Seed - seed()**"
   ]
  },
  {
   "cell_type": "markdown",
   "metadata": {
    "id": "UqHQysUz9X-I"
   },
   "source": [
    "* numpy.random.seed() can be used to initialize random number generators. This will help us to generate same set of random  numbers everytie we run our code.\n",
    "\n",
    "  **Syntax**\n",
    "\n",
    "\n",
    "```\n",
    "    numpy.random.seed()\n",
    "    numpy.random.randint(start,stop)\n",
    "```\n",
    "* We can pass any integer in the seed argument.\n",
    "* Then we can generate a random number which will be same all the time."
   ]
  },
  {
   "cell_type": "code",
   "execution_count": null,
   "id": "240721a8",
   "metadata": {},
   "outputs": [],
   "source": [
    "# Using seed() function to generate the random numbers\n",
    "# We can run this cell multiple times and we can get same random number\n",
    "# if we comment the first statement (below) then we will get different number everytime we run this cell."
   ]
  },
  {
   "cell_type": "markdown",
   "id": "8a8237e7",
   "metadata": {},
   "source": [
    "\n",
    "<details>\n",
    "<summary>Click to expand code</summary>\n",
    "\n",
    "```python\n",
    "# Using seed() function to generate the random numbers\n",
    "# We can run this cell multiple times and we can get same random number\n",
    "# if we comment the first statement (below) then we will get different number everytime we run this cell.\n",
    "\n",
    "np.random.seed(0)\n",
    "np.random.randint(1, 100)\n"
   ]
  },
  {
   "cell_type": "markdown",
   "metadata": {
    "id": "8fSWwHDw0icl",
    "jp-MarkdownHeadingCollapsed": true,
    "tags": []
   },
   "source": [
    "# <font color = 'dodgerblue'> **List arrays vs Numpy arrays**\n",
    "- Arrays can store data more compactly.\n",
    "- Lists cannot directly handle math operations whereas Numpy arrays are great for numerical operations.\n",
    "- Appending elements to Numpy array will take more time than lists. Lists are good for the scenario where items can grow dynamically.\n",
    "\n",
    "In the example below, we will now compare the addition of two large collections using numpy and python list."
   ]
  },
  {
   "cell_type": "code",
   "execution_count": null,
   "id": "9761a32b",
   "metadata": {},
   "outputs": [],
   "source": [
    "# manipulating 10 million items\n",
    "# Wrrite a function to calculate time to add two arrays of 10 million items\n",
    "# We will use np.arange function to generate numpy arrays\n",
    "# use time() function from time module\n",
    "    # time in seconds\n",
    "    # generating numpy array with 10 million items\n",
    "    # generating another numpy array with 10 million items\n",
    "# Wrrite a sumilar function using python list\n",
    "# We will use built in range function to generate list of 10 million items\n",
    "# use time() function from time module\n",
    "    # time in seconds\n",
    "    # generating a list with 10 million items\n",
    "    # generating another list with  10 million items\n",
    "    # using list comprehension to add elements in two  lists"
   ]
  },
  {
   "cell_type": "markdown",
   "id": "a15b0818",
   "metadata": {},
   "source": [
    "\n",
    "<details>\n",
    "<summary>Click to expand code</summary>\n",
    "\n",
    "```python\n",
    "import time\n",
    "import numpy as np\n",
    "\n",
    "# manipulating 10 million items\n",
    "n = 10000000\n",
    "\n",
    "# Wrrite a function to calculate time to add two arrays of 10 million items\n",
    "# We will use np.arange function to generate numpy arrays\n",
    "# use time() function from time module\n",
    "\n",
    "def numpy_add():\n",
    "    # time in seconds\n",
    "    now = time.time()\n",
    "    # generating numpy array with 10 million items\n",
    "    x = np.array(np.arange(n))\n",
    "    # generating another numpy array with 10 million items\n",
    "    y = np.array(np.arange(n))\n",
    "    result = x + y\n",
    "    return time.time() - now\n",
    "\n",
    "# Wrrite a sumilar function using python list\n",
    "# We will use built in range function to generate list of 10 million items\n",
    "# use time() function from time module\n",
    "\n",
    "def python_add():\n",
    "    # time in seconds\n",
    "    now = time.time()\n",
    "    # generating a list with 10 million items\n",
    "    x = list(range(n))\n",
    "    # generating another list with  10 million items\n",
    "    y = list(range(n))\n",
    "    # using list comprehension to add elements in two  lists\n",
    "    result = [x[i] + y[i] for i in range(len(x))]\n",
    "    return time.time() - now\n"
   ]
  },
  {
   "cell_type": "code",
   "execution_count": null,
   "id": "38468bbb",
   "metadata": {},
   "outputs": [],
   "source": [
    "# We can check the time difference between array addition by using numpy and list "
   ]
  },
  {
   "cell_type": "markdown",
   "id": "ee174554",
   "metadata": {},
   "source": [
    "\n",
    "<details>\n",
    "<summary>Click to expand code</summary>\n",
    "\n",
    "```python\n",
    "# We can check the time difference between array addition by using numpy and list \n",
    "time_python = python_add()\n",
    "time_numpy = numpy_add()\n",
    "print('Python time: ' + str(time_python) + 's')\n",
    "print('NumPy time: ' + str(time_numpy) + 's')\n",
    "print(\"Numpy is \" + str(time_python / time_numpy) + \"x faster!\")\n"
   ]
  },
  {
   "cell_type": "markdown",
   "metadata": {
    "id": "iCeSdEhoMCe9"
   },
   "source": [
    "# <font color = 'dodgerblue'> **Numpy operations** </font>\n",
    "1. Numpy operations are used to manipulate or perform various types of mathematical operations on  the arrays.\n",
    "\n",
    "2. Few of the numpy operations are ndim, itemsize(), dtype(), reshape(), slicing(), linspace(), min/max(), sum(), sqrt()/std(), hsatck/vstack(), etc.\n",
    "\n",
    "3. These numpy operations can be classified as follows:\n",
    "  * Attributes of arrays\n",
    "  * Indexing of arrays\n",
    "  * Slicing of arrays\n",
    "  * Reshaping of arrays\n",
    "  * Joining and splitting of arrays"
   ]
  },
  {
   "cell_type": "markdown",
   "metadata": {
    "id": "Ws-GO2IY_Dhn"
   },
   "source": [
    "## <font color = 'dodgerblue'> **Attributes of arrays**\n",
    "\n",
    "Attributes of arrays helps in :-\n",
    "*  Determining the size and shape of arrays \n",
    "* Memory consumption by the arrays.  \n",
    "* Different data types of arrays.\n",
    "\n"
   ]
  },
  {
   "cell_type": "markdown",
   "metadata": {
    "id": "YBRoz7o3I2Rb"
   },
   "source": [
    "### <font color = 'dodgerblue'> **Determining the shape of the array** </font>\n",
    "1. For any kind of computations or operations on an array, it is very important to understand what an array’s “shape” is.\n",
    "2. shape, ndim, size are the methods used to determine the shape of the arrays.\n",
    "\n",
    "* **ndim** : It is used to determine the dimension of an array.  **Example** : an array can be of 1 dimensional, 2 dimensional , 3 dimensional etc.\n",
    "\n",
    "  **Syntax**:\n",
    "\n",
    "\n",
    "  ```\n",
    "      ndarray.ndim\n",
    "  ```\n",
    "  where, ndarray is the name of the array\n",
    "\n",
    "* **shape** : It is used to determine the number of elements in each dimensions in an array. **Example** : if an array is 2 dimensional then it will consist of(number of rows, number of columns) as shape.\n",
    "The output of the shape is always mentioned in a tuple form. \n",
    "\n",
    "  **Syntax**:\n",
    "  \n",
    "   ```\n",
    "   ndarray.shape\n",
    "   ```\n",
    "  where, ndarray is the name of the array\n",
    "* **size** : It determines the total size of  the array. **Example**: if an array consists of 60 elements in it. Then the size of the array is the total number of elements in an array and it will be 60.\n",
    "\n",
    " **Syntax**:\n",
    "\n",
    "\n",
    "  ```\n",
    "    ndarray.size\n",
    "  ```\n",
    "  where, ndarray is the name of the array\n",
    "\n",
    "\n",
    "\n"
   ]
  },
  {
   "cell_type": "markdown",
   "metadata": {
    "id": "fHPb6YLlujgF"
   },
   "source": [
    "#### <font color = 'dodgerblue'> **ndim**"
   ]
  },
  {
   "cell_type": "code",
   "execution_count": null,
   "id": "6c6174c7",
   "metadata": {},
   "outputs": [],
   "source": [
    "#To find the dimensions in an array"
   ]
  },
  {
   "cell_type": "markdown",
   "id": "79daca7f",
   "metadata": {},
   "source": [
    "\n",
    "<details>\n",
    "<summary>Click to expand code</summary>\n",
    "\n",
    "```python\n",
    "#To find the dimensions in an array\n",
    "my_array1 = np.array([1, 25, 46, 12, 2, 30])\n",
    "my_array2 = np.array([[12, 45, 32, 46],[12, 75, 48, 96]])\n",
    "print(f\"The dimension of the array 1 is: {my_array1.ndim}\")\n",
    "print(f\"\\nThe dimension of the array 2 is:  {my_array2.ndim}\")\n"
   ]
  },
  {
   "cell_type": "markdown",
   "metadata": {
    "id": "X_8BKAj7ukvl"
   },
   "source": [
    "#### <font color = 'dodgerblue'> **shape**"
   ]
  },
  {
   "cell_type": "code",
   "execution_count": null,
   "id": "74801951",
   "metadata": {},
   "outputs": [],
   "source": [
    "# To find  the shape of the array\n",
    "# If an array is one dimensional then it presents the number of elements as a size followed by a comma(,)"
   ]
  },
  {
   "cell_type": "markdown",
   "id": "fc2611ee",
   "metadata": {},
   "source": [
    "\n",
    "<details>\n",
    "<summary>Click to expand code</summary>\n",
    "\n",
    "```python\n",
    "# To find  the shape of the array\n",
    "# If an array is one dimensional then it presents the number of elements as a size followed by a comma(,)\n",
    "\n",
    "print(f\"The shape of the one dimensional array is: {my_array1.shape}\")\n",
    "print(f\"\\nThe shape of the two dimensions array  is: {my_array2.shape}\")\n"
   ]
  },
  {
   "cell_type": "markdown",
   "metadata": {
    "id": "1niJqc0OumEJ"
   },
   "source": [
    "#### <font color = 'dodgerblue'> **size**"
   ]
  },
  {
   "cell_type": "code",
   "execution_count": null,
   "id": "1fd0f2cf",
   "metadata": {},
   "outputs": [],
   "source": [
    "# To find the size of the array\n",
    "# Size determines the number of elements in an array"
   ]
  },
  {
   "cell_type": "markdown",
   "id": "123e4db5",
   "metadata": {},
   "source": [
    "\n",
    "<details>\n",
    "<summary>Click to expand code</summary>\n",
    "\n",
    "```python\n",
    "# To find the size of the array\n",
    "# Size determines the number of elements in an array\n",
    "\n",
    "print(f\"The size of the one dimensional array is: {my_array1.size}\")\n",
    "print(f\"\\nThe size of the two dimensions array is: {my_array2.size}\")\n"
   ]
  },
  {
   "cell_type": "markdown",
   "metadata": {
    "id": "TaikiVFaWQk8",
    "tags": []
   },
   "source": [
    "### <font color = 'dodgerblue'> **Differenet data types in arrays**\n",
    "\n",
    "Common Data types in numpy are :\n",
    "\n",
    "- bool_\tBoolean (True or False) stored as a byte\n",
    "- int8\tByte (-128 to 127)\n",
    "- int16\tInteger (-32768 to 32767)\n",
    "- int32\tInteger (-2147483648 to 2147483647)\n",
    "- int64\tInteger (-9223372036854775808 to 9223372036854775807)\n",
    "- uint8\tUnsigned integer (0 to 255)\n",
    "- uint16\tUnsigned integer (0 to 65535)\n",
    "- uint32\tUnsigned integer (0 to 4294967295)\n",
    "- uint64\tUnsigned integer (0 to 18446744073709551615)\n",
    "- float_\tShorthand for float64.\n",
    "- float16\tHalf precision float: sign bit, 5 bits exponent, 10 bits mantissa\n",
    "- float32\tSingle precision float: sign bit, 8 bits exponent, 23 bits mantissa\n",
    "- float64\tDouble precision float: sign bit, 11 bits exponent, 52 bits mantissa\n",
    "\n",
    "\n",
    "We can check different data types of arrays by using dtype method.\n",
    "\n",
    "**Syntax**:\n",
    "\n",
    " ```\n",
    "  ndarray.dtype\n",
    "  ```\n"
   ]
  },
  {
   "cell_type": "code",
   "execution_count": null,
   "id": "01f89e5f",
   "metadata": {},
   "outputs": [],
   "source": [
    "# check the data type of the array"
   ]
  },
  {
   "cell_type": "markdown",
   "id": "ac35453a",
   "metadata": {},
   "source": [
    "\n",
    "<details>\n",
    "<summary>Click to expand code</summary>\n",
    "\n",
    "```python\n",
    "# check the data type of the array\n",
    "my_array = np.array([[12, 45, 78, 12],\n",
    "                   [14, 75, 48, 21],\n",
    "                   [17, 45, 48, 69],\n",
    "                   [12, 45, 74, 48]\n",
    "                   ])\n",
    "print(f\"The data type of the array  is: {my_array.dtype}\")\n"
   ]
  },
  {
   "cell_type": "code",
   "execution_count": null,
   "id": "52463b27",
   "metadata": {},
   "outputs": [],
   "source": [
    "# check the data type of array generated by using random method"
   ]
  },
  {
   "cell_type": "markdown",
   "id": "cd794958",
   "metadata": {},
   "source": [
    "\n",
    "<details>\n",
    "<summary>Click to expand code</summary>\n",
    "\n",
    "```python\n",
    "# check the data type of array generated by using random method\n",
    "random_array = np.random.randint(10, size = (3, 4))\n",
    "print(f\"The random array is \\n {random_array}\")\n",
    "print(f\"The data type of the array  is: {random_array.dtype}\")\n"
   ]
  },
  {
   "cell_type": "markdown",
   "metadata": {
    "id": "-hTmG3LCRuDn"
   },
   "source": [
    "### <font color = 'dodgerblue'> **Determining the memory consumed by arrays** </font>\n",
    "1. It is important to know that arrays created by numpy take less amount of memory whereas arrays created by lists grasp more memory for storage.\n",
    "2. itemsize and nbytes are used to determine the storage of an array.\n",
    "* **itemsize** : It helps to find the length(in bytes) for each array element.\n",
    " \n",
    "  **Syntax**:\n",
    "\n",
    "   ```\n",
    "  ndarray.itemsize\n",
    "  ```\n",
    "* **nbytes** : It helps in listing the total length(in bytes) of the array.\n",
    "\n",
    "  **Syntax**:\n",
    "\n",
    "    ```\n",
    "  ndarray.nbytes\n",
    "  ```\n",
    "\n",
    "           \n",
    "\n",
    "\n",
    "\n",
    "\n",
    "\n"
   ]
  },
  {
   "cell_type": "markdown",
   "metadata": {
    "id": "cWtNerrWus-v"
   },
   "source": [
    "#### <font color = 'dodgerblue'> **itemsize**"
   ]
  },
  {
   "cell_type": "code",
   "execution_count": null,
   "id": "b3181b29",
   "metadata": {},
   "outputs": [],
   "source": [
    "#To check the storage in bytes consumed by  each array element"
   ]
  },
  {
   "cell_type": "markdown",
   "id": "8a8e806a",
   "metadata": {},
   "source": [
    "\n",
    "<details>\n",
    "<summary>Click to expand code</summary>\n",
    "\n",
    "```python\n",
    "#To check the storage in bytes consumed by  each array element\n",
    "numpy_array1 = np.array([12, 45, 46, 78], dtype=np.int64)\n",
    "print(f\"\\n The storage consumed by each array element in bytes for data type int64 is: {numpy_array1.itemsize}\")\n",
    "\n",
    "numpy_array2 = np.array([12, 45, 46, 78], dtype=np.int8)\n",
    "print(f\"\\n The storage consumed by each array element in bytes for data type int8 is : {numpy_array2.itemsize}\")\n",
    "\n"
   ]
  },
  {
   "cell_type": "markdown",
   "metadata": {
    "id": "ysglFbJTuuC6"
   },
   "source": [
    "#### <font color = 'dodgerblue'> **nbytes**"
   ]
  },
  {
   "cell_type": "code",
   "execution_count": null,
   "id": "7a49c0cf",
   "metadata": {},
   "outputs": [],
   "source": [
    "# To check total storage in bytes consumed by a numpy array"
   ]
  },
  {
   "cell_type": "markdown",
   "id": "af17a2c7",
   "metadata": {},
   "source": [
    "\n",
    "<details>\n",
    "<summary>Click to expand code</summary>\n",
    "\n",
    "```python\n",
    "# To check total storage in bytes consumed by a numpy array\n",
    "print(f\"Storage (in bytes) consumed by numpy_array1 is: {numpy_array1.nbytes}\\n\")\n",
    "print(f\"Storage (in bytes) consumed by numpy_array2 is: {numpy_array2.nbytes}\")\n"
   ]
  },
  {
   "cell_type": "markdown",
   "metadata": {
    "id": "scxM5jJk_kYI"
   },
   "source": [
    "## <font color = 'dodgerblue'> **Indexing of arrays** </font>\n",
    "\n",
    "1. Indexing of arrays is similar to list indexing.\n",
    "2. We can obtain the array element by mentioning the index number in the square brackets.\n",
    "3. The indexing always starts from 0. \n",
    "\n",
    "**Syntax**:\n",
    "\n",
    "\n",
    "\n",
    "```\n",
    "  ndarray['enter the index number']\n",
    "```\n",
    "\n",
    "\n"
   ]
  },
  {
   "cell_type": "code",
   "execution_count": null,
   "id": "b033261c",
   "metadata": {},
   "outputs": [],
   "source": [
    "# To access an element from one dimensional array"
   ]
  },
  {
   "cell_type": "markdown",
   "id": "9137ee7a",
   "metadata": {},
   "source": [
    "\n",
    "<details>\n",
    "<summary>Click to expand code</summary>\n",
    "\n",
    "```python\n",
    "# To access an element from one dimensional array\n",
    "my_num = np.array([12, 15, 23, 45])\n",
    "\n",
    "print(f\"The element in the third place of the array is: {my_num[2]}\")\n"
   ]
  },
  {
   "cell_type": "code",
   "execution_count": null,
   "id": "eaa34857",
   "metadata": {},
   "outputs": [],
   "source": [
    "# Access an element from the 2 dimensional array by using indexing"
   ]
  },
  {
   "cell_type": "markdown",
   "id": "8d144b90",
   "metadata": {},
   "source": [
    "\n",
    "<details>\n",
    "<summary>Click to expand code</summary>\n",
    "\n",
    "```python\n",
    "# Access an element from the 2 dimensional array by using indexing\n",
    "my_numpy = np.array([[12, 15, 24, 62],\n",
    "                   [124,15, 46, 23]\n",
    "                   ])\n",
    "print(f\"The element in the first row and third column  is : {my_numpy[0][2]}\")\n",
    "\n"
   ]
  },
  {
   "cell_type": "markdown",
   "metadata": {
    "id": "racSE9Ty_xGW"
   },
   "source": [
    "## <font color = 'dodgerblue'> **Slicing of arrays** </font>\n",
    "1. Sometimes, we don't need huge arrays for the computation purpose. We just need a part of the array. These are known as subarrays.\n",
    "2.  The sub arrays can be acquired by using slicing.\n",
    "3. Just like an array indexing, we can use the square brackets for slicing the array into a sub array.\n",
    "4. Hence, Slicing in python means taking elements from one given index to another given index.\n",
    "  \n",
    "  **Syntax**:\n",
    "\n",
    "\n",
    "\n",
    "   ```\n",
    "      ndarray[start:stop:step]\n",
    "\n",
    "   ```\n",
    "  where,\n",
    "\n",
    "\n",
    ">> **start** : The index number to start the slicing. The default value of start is 0. <br>\n",
    " **stop** :The index number to end the slicing. The default value is the size of the dimension. <br>**step** : Integer value which determines the increment between index values in the sequence. By default it takes 1.\n",
    "  \n",
    "5. If there is any missing value inside the [start:stop:step] then it takes default value. \n",
    "\n",
    "**Example** :-\n",
    "\n",
    "* [: : 2] \n",
    "\n",
    "  Here ,\n",
    "  **start** = 0,\n",
    "\n",
    "  **stop** = size of the dimension, \n",
    "\n",
    "  **step** = 2"
   ]
  },
  {
   "cell_type": "markdown",
   "metadata": {
    "id": "XkXMbmozt1QX"
   },
   "source": [
    "### <font color = 'dodgerblue'> **Access subarrays in one dimension and multiple dimensions**\n",
    "Slicing is used in similar way for one dimensional and multi dimensional arrays just separated by using commas in multi dimensional arrays."
   ]
  },
  {
   "cell_type": "code",
   "execution_count": null,
   "id": "ca777977",
   "metadata": {},
   "outputs": [],
   "source": [
    "# One dimensional sub arrays"
   ]
  },
  {
   "cell_type": "markdown",
   "id": "45631b09",
   "metadata": {},
   "source": [
    "\n",
    "<details>\n",
    "<summary>Click to expand code</summary>\n",
    "\n",
    "```python\n",
    "# One dimensional sub arrays\n",
    "my_array = np.arange(10)\n",
    "print(f\"The one dimensional array is {my_array}\")\n"
   ]
  },
  {
   "cell_type": "code",
   "execution_count": null,
   "id": "10e5ead9",
   "metadata": {},
   "outputs": [],
   "source": [
    "# sub- array consisting first five elements"
   ]
  },
  {
   "cell_type": "markdown",
   "id": "ff80a1f9",
   "metadata": {},
   "source": [
    "\n",
    "<details>\n",
    "<summary>Click to expand code</summary>\n",
    "\n",
    "```python\n",
    "# sub- array consisting first five elements\n",
    "print(f\"\\n Sub- array consisting first five elements {my_array[:5]}\")\n"
   ]
  },
  {
   "cell_type": "code",
   "execution_count": null,
   "id": "41cadcdc",
   "metadata": {},
   "outputs": [],
   "source": [
    "# sub-array consisting of last five elements"
   ]
  },
  {
   "cell_type": "markdown",
   "id": "63646567",
   "metadata": {},
   "source": [
    "\n",
    "<details>\n",
    "<summary>Click to expand code</summary>\n",
    "\n",
    "```python\n",
    "# sub-array consisting of last five elements\n",
    "print(f\"\\n Sub- array consisting last five elements {my_array[-5:]}\")\n"
   ]
  },
  {
   "cell_type": "code",
   "execution_count": null,
   "id": "acb998a3",
   "metadata": {},
   "outputs": [],
   "source": [
    "# sub-array consisting of the middle elements \n",
    "# (also note that step size is 2, so we will skip one element)"
   ]
  },
  {
   "cell_type": "markdown",
   "id": "a3ae1a67",
   "metadata": {},
   "source": [
    "\n",
    "<details>\n",
    "<summary>Click to expand code</summary>\n",
    "\n",
    "```python\n",
    "# sub-array consisting of the middle elements \n",
    "# (also note that step size is 2, so we will skip one element)\n",
    "print(f\"\\n Sub-array consisting middle elements {my_array[2:9:2]}\")\n",
    "\n"
   ]
  },
  {
   "cell_type": "code",
   "execution_count": null,
   "id": "a1ba80f8",
   "metadata": {},
   "outputs": [],
   "source": [
    "# Multi-dimensional sub- arrays"
   ]
  },
  {
   "cell_type": "markdown",
   "id": "e301028d",
   "metadata": {},
   "source": [
    "\n",
    "<details>\n",
    "<summary>Click to expand code</summary>\n",
    "\n",
    "```python\n",
    "# Multi-dimensional sub- arrays\n",
    "multi_array = np.random.randint(10, size=(5, 4))\n",
    "print(f'The multi dimensional array is :\\n {multi_array}')\n"
   ]
  },
  {
   "cell_type": "code",
   "execution_count": null,
   "id": "9476c523",
   "metadata": {},
   "outputs": [],
   "source": [
    "# get the shape of the array"
   ]
  },
  {
   "cell_type": "markdown",
   "id": "5df9394e",
   "metadata": {},
   "source": [
    "\n",
    "<details>\n",
    "<summary>Click to expand code</summary>\n",
    "\n",
    "```python\n",
    "# get the shape of the array\n",
    "print(f\"shape of the array {multi_array.shape}\")\n"
   ]
  },
  {
   "cell_type": "code",
   "execution_count": null,
   "id": "54e8d522",
   "metadata": {},
   "outputs": [],
   "source": [
    "# We can access first dimension as rows and second dimension as column"
   ]
  },
  {
   "cell_type": "markdown",
   "id": "787b0427",
   "metadata": {},
   "source": [
    "\n",
    "<details>\n",
    "<summary>Click to expand code</summary>\n",
    "\n",
    "```python\n",
    "# We can access first dimension as rows and second dimension as column\n",
    "print(f\"number of rows of the array {multi_array.shape[0]}\")\n",
    "print(f\"number of columns of the array {multi_array.shape[1]}\")\n"
   ]
  },
  {
   "cell_type": "code",
   "execution_count": null,
   "id": "7deee78f",
   "metadata": {},
   "outputs": [],
   "source": [
    "# get all the rows and first column of the array"
   ]
  },
  {
   "cell_type": "markdown",
   "id": "c40f25e2",
   "metadata": {},
   "source": [
    "\n",
    "<details>\n",
    "<summary>Click to expand code</summary>\n",
    "\n",
    "```python\n",
    "# get all the rows and first column of the array\n",
    "print(f\"The first column of the array is:\\n {multi_array[:, 0]}\")\n"
   ]
  },
  {
   "cell_type": "code",
   "execution_count": null,
   "id": "e30519eb",
   "metadata": {},
   "outputs": [],
   "source": [
    "# get all teh columns and first row of the array"
   ]
  },
  {
   "cell_type": "markdown",
   "id": "fc8a9951",
   "metadata": {},
   "source": [
    "\n",
    "<details>\n",
    "<summary>Click to expand code</summary>\n",
    "\n",
    "```python\n",
    "# get all teh columns and first row of the array\n",
    "print(f\"The first row of the array is:\\n {multi_array[0, :]}\")\n"
   ]
  },
  {
   "cell_type": "code",
   "execution_count": null,
   "id": "3cbf4481",
   "metadata": {},
   "outputs": [],
   "source": [
    "# We can use the syntax :- [start:stop:step] for each dimension separated by comma(,)\n",
    "# Accessing first two rows and first three columns from multi_array\n",
    "# let us try to extract first two rows and first three columns"
   ]
  },
  {
   "cell_type": "markdown",
   "id": "48966fc6",
   "metadata": {},
   "source": [
    "\n",
    "<details>\n",
    "<summary>Click to expand code</summary>\n",
    "\n",
    "```python\n",
    "# We can use the syntax :- [start:stop:step] for each dimension separated by comma(,)\n",
    "# Accessing first two rows and first three columns from multi_array\n",
    "# let us try to extract first two rows and first three columns\n",
    "\n",
    "print(f\"Accessing 2 rows and 3 columns\\n {multi_array[: 2, : 3]}\")\n",
    " \n"
   ]
  },
  {
   "cell_type": "code",
   "execution_count": null,
   "id": "5f713bc5",
   "metadata": {},
   "outputs": [],
   "source": [
    "# Accessing all rows and alternate columns"
   ]
  },
  {
   "cell_type": "markdown",
   "id": "0b6a5c4f",
   "metadata": {},
   "source": [
    "\n",
    "<details>\n",
    "<summary>Click to expand code</summary>\n",
    "\n",
    "```python\n",
    "# Accessing all rows and alternate columns\n",
    "print(f\"Accessing all rows and alternate columns\\n {multi_array[:, ::2]}\")\n"
   ]
  },
  {
   "cell_type": "code",
   "execution_count": null,
   "id": "02e6e8b5",
   "metadata": {},
   "outputs": [],
   "source": [
    "# Accessing alternate rows and columns"
   ]
  },
  {
   "cell_type": "markdown",
   "id": "1a22cdbe",
   "metadata": {},
   "source": [
    "\n",
    "<details>\n",
    "<summary>Click to expand code</summary>\n",
    "\n",
    "```python\n",
    "# Accessing alternate rows and columns\n",
    "print(f\"\\nAccessing alternate rows and columns\\n {multi_array[::2, ::2]}\")\n"
   ]
  },
  {
   "cell_type": "code",
   "execution_count": null,
   "id": "30d00e13",
   "metadata": {},
   "outputs": [],
   "source": [
    "# Modifying a subarray modifies the array also\n",
    "# Let's copy the sub-array from my_arr\n",
    "# modify subarray"
   ]
  },
  {
   "cell_type": "markdown",
   "id": "d29c1a00",
   "metadata": {},
   "source": [
    "\n",
    "<details>\n",
    "<summary>Click to expand code</summary>\n",
    "\n",
    "```python\n",
    "# Modifying a subarray modifies the array also\n",
    "np.random.seed(0)\n",
    "my_arr = np.random.randint(10, size=(3, 5))\n",
    "print(f\"The array with 3 rows and 5 columns is : \\n {my_arr}\")\n",
    "\n",
    "# Let's copy the sub-array from my_arr\n",
    "sub_arr = my_arr[:,0]\n",
    "print(f\"\\nMy sub-array is : \\n {sub_arr}\")\n",
    "\n",
    "# modify subarray\n",
    "sub_arr[1] = 1000\n",
    "\n",
    "print('\\nArray and subarray after modifying sub array')\n",
    "print(f\"\\nMy_array : \\n {my_arr}\")\n",
    "print(f\"\\nMy sub-array is : \\n {sub_arr}\")\n"
   ]
  },
  {
   "cell_type": "markdown",
   "metadata": {
    "id": "dsEfcgr01r9F"
   },
   "source": [
    "### <font color = 'dodgerblue'> **Creating sub-array by using copy()**\n",
    "By using copy method we can create a separate copy of the sub- array. \n",
    "Any changes in the sub- array will not effect the array.\n",
    "\n",
    "**Syntax**:\n",
    "```\n",
    "ndarray[start:stop:step].copy()\n",
    "```\n",
    "Following examples explains this method clearly :\n"
   ]
  },
  {
   "cell_type": "code",
   "execution_count": null,
   "id": "e3b762db",
   "metadata": {},
   "outputs": [],
   "source": [
    "# Let's copy the sub-array from my_arr\n",
    "# modify subarray"
   ]
  },
  {
   "cell_type": "markdown",
   "id": "5d77dcc5",
   "metadata": {},
   "source": [
    "\n",
    "<details>\n",
    "<summary>Click to expand code</summary>\n",
    "\n",
    "```python\n",
    "np.random.seed(0)\n",
    "my_arr = np.random.randint(10, size=(3, 5))\n",
    "print(f\"The array with 3 rows and 5 columns is : \\n {my_arr}\")\n",
    "\n",
    "# Let's copy the sub-array from my_arr\n",
    "my_copy_arr = my_arr[:,0].copy()\n",
    "print(f\"\\nNew copy of my sub-array is : \\n {my_copy_arr}\")\n",
    "\n",
    "# modify subarray\n",
    "my_copy_arr[1] = 1000\n",
    "\n",
    "print('\\nArray and subarray after modifying sub array')\n",
    "print(f\"\\nMy_array : \\n {my_arr}\")\n",
    "print(f\"\\nMy sub-array is : \\n {my_copy_arr}\")\n"
   ]
  },
  {
   "cell_type": "markdown",
   "metadata": {
    "id": "TkHaJNMY_8o2"
   },
   "source": [
    "## <font color = 'dodgerblue'> **Reshaping of arrays**</font>\n",
    "\n",
    "1. Changing the shape of the arrays is important for computation purpose, especially while doing arithmetic operations.\n",
    "2. This can be done by using reshape() method.\n",
    "\n",
    "  **Syntax**:\n",
    " \n",
    "\n",
    "  ```\n",
    "      ndarray.reshape((mention the size to be given))\n",
    "  ```\n",
    " \n",
    "\n",
    "4. In order to convert higher dimensions into the single dimension we can use flatten or ravel functions.\n",
    "\n",
    "  **Syntax** :\n",
    "\n",
    "\n",
    "```\n",
    "    numpy.array.flatten() \n",
    "    or \n",
    "    numpy.array.reshape().ravel()\n",
    "```\n"
   ]
  },
  {
   "cell_type": "markdown",
   "metadata": {
    "id": "osOQCsvJ_DpP"
   },
   "source": [
    "### <font color = 'dodgerblue'> **reshape**\n",
    "- The reshape function returns a new numpy array object that points at the same data.\n",
    "-  It does not create a copy. This means that modifying one array will also modify the other."
   ]
  },
  {
   "cell_type": "code",
   "execution_count": null,
   "id": "6d6af3f4",
   "metadata": {},
   "outputs": [],
   "source": [
    "# create a one dimensional array\n",
    "# we can check the shape of the given array\n",
    "# Check the dimension of the num_arr"
   ]
  },
  {
   "cell_type": "markdown",
   "id": "dd984952",
   "metadata": {},
   "source": [
    "\n",
    "<details>\n",
    "<summary>Click to expand code</summary>\n",
    "\n",
    "```python\n",
    "# create a one dimensional array\n",
    "num_arr = np.arange(1, 10)\n",
    "\n",
    "# we can check the shape of the given array\n",
    "print(f\"\\nThe shape of the array is :\\n {num_arr.shape}\")\n",
    "\n",
    "# Check the dimension of the num_arr\n",
    "print(f\"\\nthe dimension of the array is :\\n {num_arr.ndim}\")\n",
    "\n"
   ]
  },
  {
   "cell_type": "code",
   "execution_count": null,
   "id": "acb6a124",
   "metadata": {},
   "outputs": [],
   "source": [
    "# Let us reshape the array, so that it has 3 rows and 3 columns.\n",
    "# we can check the shape of the given array\n",
    "# Check the dimension of the num_arr"
   ]
  },
  {
   "cell_type": "markdown",
   "id": "18de1f95",
   "metadata": {},
   "source": [
    "\n",
    "<details>\n",
    "<summary>Click to expand code</summary>\n",
    "\n",
    "```python\n",
    "# Let us reshape the array, so that it has 3 rows and 3 columns.\n",
    "num_arr = num_arr.reshape((3, 3))\n",
    "print(f\"my array is :\\n {num_arr}\")\n",
    "\n",
    "# we can check the shape of the given array\n",
    "print(f\"\\nthe shape of the array is :\\n {num_arr.shape}\")\n",
    "\n",
    "# Check the dimension of the num_arr\n",
    "print(f\"\\nthe dimension of the array is :\\n {num_arr.ndim}\")\n"
   ]
  },
  {
   "cell_type": "markdown",
   "metadata": {
    "id": "tmk9nsBS_vHr"
   },
   "source": [
    "### <font color = 'dodgerblue'> **ravel**\n",
    "\n",
    "- The ravel function returns a new one dimensional array object that points at the same data. It also does not create a copy. \n",
    "- This means that modifying one array will also modify the other."
   ]
  },
  {
   "cell_type": "code",
   "execution_count": null,
   "id": "01301ea6",
   "metadata": {},
   "outputs": [],
   "source": [
    "# Converting 3 dimensional array into 1 dimension\n",
    "# Creating a three-dimensional array"
   ]
  },
  {
   "cell_type": "markdown",
   "id": "c411d472",
   "metadata": {},
   "source": [
    "\n",
    "<details>\n",
    "<summary>Click to expand code</summary>\n",
    "\n",
    "```python\n",
    "# Converting 3 dimensional array into 1 dimension\n",
    "\n",
    "# Creating a three-dimensional array\n",
    "np.random.seed(123)\n",
    "my_array = np.random.randint(20, size=(2, 2, 3))\n",
    "print(f\"My array is \\n {my_array}\")\n",
    "print(f\"\\nThe dimension of my array is : {my_array.ndim}\")\n"
   ]
  },
  {
   "cell_type": "code",
   "execution_count": null,
   "id": "95f912d3",
   "metadata": {},
   "outputs": [],
   "source": [
    "# lets convert this dimension to 1 by using ravel() method\n",
    "# ravel is useful if you want to convert n-dimensional array to one dimensional array"
   ]
  },
  {
   "cell_type": "markdown",
   "id": "fe10574a",
   "metadata": {},
   "source": [
    "\n",
    "<details>\n",
    "<summary>Click to expand code</summary>\n",
    "\n",
    "```python\n",
    "# lets convert this dimension to 1 by using ravel() method\n",
    "# ravel is useful if you want to convert n-dimensional array to one dimensional array\n",
    "new_arr = my_array.ravel()\n",
    "print(f\"\\nThe new array with 1 dimension is : {new_arr}\")\n"
   ]
  },
  {
   "cell_type": "code",
   "execution_count": null,
   "id": "c0fbd2a5",
   "metadata": {},
   "outputs": [],
   "source": [
    "# modify the new_array and observe whether it changes my_array"
   ]
  },
  {
   "cell_type": "markdown",
   "id": "d03144bb",
   "metadata": {},
   "source": [
    "\n",
    "<details>\n",
    "<summary>Click to expand code</summary>\n",
    "\n",
    "```python\n",
    "# modify the new_array and observe whether it changes my_array\n",
    "new_arr[3] = 1000\n",
    "print('\\nmy_array and new_arr after modifying new_arr')\n",
    "print(f\"\\nMy_array : \\n {my_array}\")\n",
    "print(f\"\\nnew_arr is : \\n {new_arr}\")\n"
   ]
  },
  {
   "cell_type": "markdown",
   "metadata": {
    "id": "4sn9vrXKGHmV"
   },
   "source": [
    "### <font color = 'dodgerblue'> **flatten**\n",
    "\n",
    "- The flatten function returns a new one dimensional array object. \n",
    "\n",
    "- flatten always returns a copy. Therefore, in the above example (if we use flatten) changes to new_arr will not affect my_array.\n"
   ]
  },
  {
   "cell_type": "code",
   "execution_count": null,
   "id": "e1a07f9c",
   "metadata": {},
   "outputs": [],
   "source": [
    "# Using flatten\n",
    "# Creating a 3 dimensional random numpy array \n",
    "# Using ravel to convert it into 1 dimension"
   ]
  },
  {
   "cell_type": "markdown",
   "id": "02abb89b",
   "metadata": {},
   "source": [
    "\n",
    "<details>\n",
    "<summary>Click to expand code</summary>\n",
    "\n",
    "```python\n",
    "# Using flatten\n",
    "\n",
    "# Creating a 3 dimensional random numpy array \n",
    "np.random.seed(123)\n",
    "my_array = np.random.randint(20, size=(2, 2, 5))\n",
    "print(f\"My array is \\n {my_array}\")\n",
    "print(f\"\\nThe dimension of my array is : {my_array.ndim}\")\n",
    "\n",
    "# Using ravel to convert it into 1 dimension\n",
    "new_arr = my_array.flatten()\n",
    "print(f\"The new array with one dimension is {new_arr}\")\n"
   ]
  },
  {
   "cell_type": "code",
   "execution_count": null,
   "id": "92691e5a",
   "metadata": {},
   "outputs": [],
   "source": [
    "# modify the new_array and observe whether it changes my_array"
   ]
  },
  {
   "cell_type": "markdown",
   "id": "d02b1ff9",
   "metadata": {},
   "source": [
    "\n",
    "<details>\n",
    "<summary>Click to expand code</summary>\n",
    "\n",
    "```python\n",
    "# modify the new_array and observe whether it changes my_array\n",
    "new_arr[3] = 100000\n",
    "print('\\nmy_array and new_arr after modifying new_arr')\n",
    "print(f\"\\nMy_array : \\n {my_array}\")\n",
    "print(f\"\\nnew_arr is : \\n {new_arr}\")\n"
   ]
  },
  {
   "cell_type": "markdown",
   "metadata": {
    "id": "3264mt70C-ry"
   },
   "source": [
    "### <font color = 'dodgerblue'> **unknown size**\n",
    "In some cases we do not know the size of a particular dimension. In these cases when we specify the shape we can use -1 for that particular dimension. Numpy will infer the size of this dimension."
   ]
  },
  {
   "cell_type": "code",
   "execution_count": null,
   "id": "971926d3",
   "metadata": {},
   "outputs": [],
   "source": [
    "# We want to change it to two dimensional array with n rows and 3 columns. Since we do not know \n",
    "# total number of rows, we can use -1 to specify number of rows"
   ]
  },
  {
   "cell_type": "markdown",
   "id": "0537ba37",
   "metadata": {},
   "source": [
    "\n",
    "<details>\n",
    "<summary>Click to expand code</summary>\n",
    "\n",
    "```python\n",
    "my_array = np.random.randint(10, size=(np.random.randint(low=1, high=10), 3, 3))\n",
    "print(f'The shape of the array is: {my_array.shape}')\n",
    "\n",
    "# We want to change it to two dimensional array with n rows and 3 columns. Since we do not know \n",
    "# total number of rows, we can use -1 to specify number of rows\n",
    "\n",
    "my_array = my_array.reshape(-1, 3)\n",
    "print(f'The new shape of the array is {my_array.shape}')\n"
   ]
  },
  {
   "cell_type": "markdown",
   "metadata": {
    "id": "_eAIDC07AH60"
   },
   "source": [
    "## <font color = 'dodgerblue'> **Stacking arrays**\n",
    "\n",
    "It is sometimes useful to combine/stack arrays. Numpy provide following methods \n",
    "  * vstack \n",
    "  * hstack\n",
    "  * concatenate\n",
    "  * stack\n"
   ]
  },
  {
   "cell_type": "code",
   "execution_count": null,
   "id": "d0dac0db",
   "metadata": {},
   "outputs": [],
   "source": [
    "# let us create arrays first"
   ]
  },
  {
   "cell_type": "markdown",
   "id": "07921c1f",
   "metadata": {},
   "source": [
    "\n",
    "<details>\n",
    "<summary>Click to expand code</summary>\n",
    "\n",
    "```python\n",
    "# let us create arrays first\n",
    "x1 = np.random.randint(low=0, high=10, size = (2, 5))\n",
    "x2 = np.ones((4, 5))\n",
    "x3 = np.zeros((2, 3))\n"
   ]
  },
  {
   "cell_type": "markdown",
   "id": "58b0d268",
   "metadata": {},
   "source": [
    "\n",
    "<details>\n",
    "<summary>Click to expand code</summary>\n",
    "\n",
    "```python\n",
    "print('x1', x1, sep = '\\n')\n",
    "print('\\nx2', x2, sep = '\\n')\n",
    "print('\\nx3', x3, sep = '\\n')\n"
   ]
  },
  {
   "cell_type": "markdown",
   "metadata": {
    "id": "wDT3c9jmobJA"
   },
   "source": [
    "### <font color = 'dodgerblue'> **vstack**\n",
    "We can stack arrays vertically using vstack. The arrays should have same number of columns. As x1 and x2 has same number of columsn, we can use vstack to combine these arrays.\n",
    "\n",
    "<img src=\"https://drive.google.com/uc?export=view&id=15iB5N0WTWnlLHuoOWwJhzTZ_S93a7LX5\" width=\"300\"/>"
   ]
  },
  {
   "cell_type": "markdown",
   "id": "4d3b6d4d",
   "metadata": {},
   "source": [
    "\n",
    "<details>\n",
    "<summary>Click to expand code</summary>\n",
    "\n",
    "```python\n",
    "x1_x2_v= np.vstack((x1, x2))\n",
    "x1_x2_v\n"
   ]
  },
  {
   "cell_type": "markdown",
   "metadata": {
    "id": "TcZWNs_rpmFt"
   },
   "source": [
    "### <font color = 'dodgerblue'> **hstack**\n",
    "We can stack arrays horizontally using hstack. The arrays should have same number of rows. As x1 and x3 has same number of rows, we can use hstack to combine these arrays.\n",
    "\n",
    "<img src=\"https://drive.google.com/uc?export=view&id=1YXSYv1UAdL3HHFcLIl7iuVwuyVsGqFad\" width=\"300\"/>"
   ]
  },
  {
   "cell_type": "markdown",
   "id": "75dc90b3",
   "metadata": {},
   "source": [
    "\n",
    "<details>\n",
    "<summary>Click to expand code</summary>\n",
    "\n",
    "```python\n",
    "x1_x3_h = np.hstack((x1, x3))\n",
    "x1_x3_h\n"
   ]
  },
  {
   "cell_type": "markdown",
   "metadata": {
    "id": "SXmMm0zrq3-T"
   },
   "source": [
    "### <font color = 'dodgerblue'> **concatenate**\n",
    "Concatenate stack arrays along any given axis. \n",
    "- The arrays must have the same shape (except in the concatenating dimension)\n",
    "- x1 and x2 have the same shape except for dim = 0, hence we can conactenate these along dim = 0. \n",
    "- x1 and x3 have the same shape except for dim = 1, hence we can conactenate these along dim = 1\n",
    "- We cannot concatenate x2 and x3 along any dimension.\n",
    "\n",
    "  **NOTE:**\n",
    "  * Concatenation along the rows (axis=0) => Vertical Stacking\n",
    "  * Concatenation along the columns (axis=1)\n",
    "  => Horizontal stacking"
   ]
  },
  {
   "cell_type": "markdown",
   "id": "cae30bfa",
   "metadata": {},
   "source": [
    "\n",
    "<details>\n",
    "<summary>Click to expand code</summary>\n",
    "\n",
    "```python\n",
    "x1_x2 = np.concatenate((x1, x2), axis = 0 )\n",
    "x1_x2\n"
   ]
  },
  {
   "cell_type": "markdown",
   "id": "5e49febf",
   "metadata": {},
   "source": [
    "\n",
    "<details>\n",
    "<summary>Click to expand code</summary>\n",
    "\n",
    "```python\n",
    "x1_x3 = np.concatenate((x1, x3), axis = 1 )\n",
    "x1_x3\n"
   ]
  },
  {
   "cell_type": "markdown",
   "metadata": {
    "id": "FIDkfoP-s7vL"
   },
   "source": [
    "### <font color = 'dodgerblue'> **stack**\n",
    "The stack function stacks along a new dimension. All the arrays should have the same shape. We cannot use stack with x1, x2 and x3 as these have differnt shape.\n"
   ]
  },
  {
   "cell_type": "markdown",
   "id": "dbc59cc2",
   "metadata": {},
   "source": [
    "\n",
    "<details>\n",
    "<summary>Click to expand code</summary>\n",
    "\n",
    "```python\n",
    "x4 = np.ones((2,2))\n",
    "x5 = np.zeros((2,2))\n",
    "x6 = np.full((2,2),3)\n",
    "x4_x5_x6 = np.stack((x4, x5, x6))\n",
    "x4_x5_x6\n"
   ]
  },
  {
   "cell_type": "markdown",
   "id": "6c14f7ec",
   "metadata": {},
   "source": [
    "\n",
    "<details>\n",
    "<summary>Click to expand code</summary>\n",
    "\n",
    "```python\n",
    "x4_x5_x6.shape\n"
   ]
  },
  {
   "cell_type": "markdown",
   "metadata": {
    "id": "Ajg3UlcQR_wA"
   },
   "source": [
    "## <font color = 'dodgerblue'> **Splitting arrays**\n",
    "We can use following metods to split arrays in numpy:\n",
    "- vsplit - Split arrays vertically (along first axis, axis =0)\n",
    "- hsplit - Split arrays horizontally (along second axis, axis =1)\n",
    "- split - aplit arrays along any dimension"
   ]
  },
  {
   "cell_type": "markdown",
   "metadata": {
    "id": "hlHU6c12vtqv"
   },
   "source": [
    "### <font color = 'dodgerblue'> **vsplit**\n",
    "Always splits arrays along first axis (i.e rows for 2 dimensional array)\n",
    "\n",
    "  Syntax :\n",
    "  ```\n",
    "  numpy.vsplit(array,indices_or_sections)\n",
    "  ```\n",
    " where, **indices/sections** are used to mention the number of splits."
   ]
  },
  {
   "cell_type": "code",
   "execution_count": null,
   "id": "c4f3f298",
   "metadata": {},
   "outputs": [],
   "source": [
    "# splitting of an array using vsplit() method\n",
    "# splitting above array into 2 sub arrays, we will split at indices 2"
   ]
  },
  {
   "cell_type": "markdown",
   "id": "d1fc3d5f",
   "metadata": {},
   "source": [
    "\n",
    "<details>\n",
    "<summary>Click to expand code</summary>\n",
    "\n",
    "```python\n",
    "# splitting of an array using vsplit() method\n",
    "num_arr = np.arange(10).reshape((5,2))\n",
    "print(f\"My array is \\n {num_arr}\")\n",
    "\n",
    "# splitting above array into 2 sub arrays, we will split at indices 2\n",
    "for i, subarray in enumerate(np.vsplit(num_arr, [2])):  \n",
    "  print(f'\\nWhen we split at indices 2, subarray {i+1} is \\n{subarray}')\n"
   ]
  },
  {
   "cell_type": "code",
   "execution_count": null,
   "id": "b9851fe1",
   "metadata": {},
   "outputs": [],
   "source": [
    "# let us try splitting at indices 4\n",
    "# splitting above array into 2 sub arrays, we will split at indices 4"
   ]
  },
  {
   "cell_type": "markdown",
   "id": "5b03e60b",
   "metadata": {},
   "source": [
    "\n",
    "<details>\n",
    "<summary>Click to expand code</summary>\n",
    "\n",
    "```python\n",
    "# let us try splitting at indices 4\n",
    "# splitting above array into 2 sub arrays, we will split at indices 4\n",
    "for i, subarray in enumerate(np.vsplit(num_arr,[4])):  \n",
    "  print(f'\\nWhen we split at indices 4, subarray {i+1} is \\n{subarray}')\n",
    "\n"
   ]
  },
  {
   "cell_type": "code",
   "execution_count": null,
   "id": "ce568b88",
   "metadata": {},
   "outputs": [],
   "source": [
    "# Creating Multiple Splits with vsplit\n",
    "# splitting above array into 3 subarrays"
   ]
  },
  {
   "cell_type": "markdown",
   "id": "f7b806ae",
   "metadata": {},
   "source": [
    "\n",
    "<details>\n",
    "<summary>Click to expand code</summary>\n",
    "\n",
    "```python\n",
    "# Creating Multiple Splits with vsplit\n",
    "num_arr= np.arange(18).reshape((3, 6))\n",
    "print(f\"My array is \\n {num_arr}\")\n",
    "\n",
    "# splitting above array into 3 subarrays\n",
    "for i, subarray in enumerate(np.vsplit(num_arr, 3)):  \n",
    "  print(f'\\nSubarray {i+1} is \\n{subarray}')\n"
   ]
  },
  {
   "cell_type": "markdown",
   "metadata": {
    "id": "63S0lu5Lxlay"
   },
   "source": [
    "### <font color = 'dodgerblue'>  **hsplit**\n",
    "Always splits arrays along second axis (i.e columns for 2 dimensional array)\n",
    "\n",
    "  Syntax :\n",
    "  ```\n",
    "  numpy.hsplit(array,indices_or_sections)\n",
    "  ```\n",
    " where, **indices/sections** are used to mention the number of splits."
   ]
  },
  {
   "cell_type": "code",
   "execution_count": null,
   "id": "214b533a",
   "metadata": {},
   "outputs": [],
   "source": [
    "# splitting of an array using hsplit() method\n",
    "# splitting above array into 2 sub arrays, we will split at indices 2\n",
    "# let us try splitting at indices 4\n",
    "# splitting above array into 2 sub arrays, we will split at indices 4"
   ]
  },
  {
   "cell_type": "markdown",
   "id": "5ebc0907",
   "metadata": {},
   "source": [
    "\n",
    "<details>\n",
    "<summary>Click to expand code</summary>\n",
    "\n",
    "```python\n",
    "# splitting of an array using hsplit() method\n",
    "num_arr= np.arange(18).reshape((3,6))\n",
    "print(f\"My array is \\n {num_arr}\")\n",
    "\n",
    "# splitting above array into 2 sub arrays, we will split at indices 2\n",
    "for i, subarray in enumerate(np.hsplit(num_arr,[2])):  \n",
    "  print(f'\\nWhen we split at indices 2, subarray {i+1} is \\n{subarray}')\n",
    "\n",
    "# let us try splitting at indices 4\n",
    "# splitting above array into 2 sub arrays, we will split at indices 4\n",
    "for i, subarray in enumerate(np.hsplit(num_arr,[4])):  \n",
    "  print(f'\\nWhen we split at indices 4, subarray {i+1} is \\n{subarray}')\n"
   ]
  },
  {
   "cell_type": "code",
   "execution_count": null,
   "id": "b137ba33",
   "metadata": {},
   "outputs": [],
   "source": [
    "# Creating Multiple Splits with hsplit\n",
    "# splitting above array into 3 subarrays"
   ]
  },
  {
   "cell_type": "markdown",
   "id": "7dc0f2d2",
   "metadata": {},
   "source": [
    "\n",
    "<details>\n",
    "<summary>Click to expand code</summary>\n",
    "\n",
    "```python\n",
    "# Creating Multiple Splits with hsplit\n",
    "num_arr= np.arange(12).reshape((4,3))\n",
    "print(f\"My array is \\n {num_arr}\")\n",
    "\n",
    "# splitting above array into 3 subarrays\n",
    "for i, subarray in enumerate(np.hsplit(num_arr,3)):  \n",
    "  print(f'\\nSubarray {i+1} is \\n{subarray}')\n"
   ]
  },
  {
   "cell_type": "markdown",
   "metadata": {
    "id": "qJNHO5m1u0mQ"
   },
   "source": [
    "### <font color = 'dodgerblue'> **split()** method : \n",
    "   * It is used to split the array into sub- arrays along any specified dimension(axis).\n",
    "\n",
    "  **Syntax** :\n",
    "  ```\n",
    "  numpy.split(array, indices_or_sections, axis)\n",
    "  ```\n",
    "  where, **indices/sections** are used to mention the number of splits."
   ]
  },
  {
   "cell_type": "code",
   "execution_count": null,
   "id": "12fff073",
   "metadata": {},
   "outputs": [],
   "source": [
    "# splitting of an array using split() method\n",
    "# splitting above array into 5 sub-arrays"
   ]
  },
  {
   "cell_type": "markdown",
   "id": "853b01ca",
   "metadata": {},
   "source": [
    "\n",
    "<details>\n",
    "<summary>Click to expand code</summary>\n",
    "\n",
    "```python\n",
    "# splitting of an array using split() method\n",
    "num_arr = np.arange(10).reshape((5,2))\n",
    "print(f\"My array is \\n {num_arr}\\n\")\n",
    "\n",
    "# splitting above array into 5 sub-arrays\n",
    "\n",
    "for i, subarray in enumerate(np.split(num_arr, 5, axis = 0)):  \n",
    "  print(f'Subarray {i+1} is {subarray}\\n')\n"
   ]
  },
  {
   "cell_type": "markdown",
   "metadata": {
    "id": "smSmSl10MefB"
   },
   "source": [
    "# <font color = 'dodgerblue'> **Numpy's Universal functionas (ufuncs)**\n",
    "\n",
    "* ufuncs stands for \"Universal Functions\".  They are vectorized wrappers of simple functions. \n",
    "* There are two types of UFuncs, they are **unary ufuncs** (operate on a single input) and **binary Ufuncs** (operate on two inputs)."
   ]
  },
  {
   "cell_type": "markdown",
   "metadata": {
    "id": "dxB0ZpxdV6Zt"
   },
   "source": [
    "## <font color = 'dodgerblue'>  **binary ufuncs**\n",
    "* This include all arithmetic operators (+, -, *, /, //, **, etc.) and some other functions (add, greater, maximum etc,). They apply elementwise on two ndarrays. These can also be used when arrays have different shape (see Broadcasting).\n",
    "\n",
    "\n"
   ]
  },
  {
   "cell_type": "markdown",
   "id": "64bbdaec",
   "metadata": {},
   "source": [
    "\n",
    "<details>\n",
    "<summary>Click to expand code</summary>\n",
    "\n",
    "```python\n",
    "my_num1 = np.array([10, 20, 30, 45, 15])\n",
    "my_num2 = np.array([2, 3, 4, 2, 2])\n",
    "my_sum = np.add(my_num1, my_num2)\n",
    "\n",
    "print(\"my_num1 + my_num2  =\", my_num1 + my_num2)\n",
    "print(\"my_num1 - my_num2  =\", my_num1 - my_num2)\n",
    "print(\"my_num1 * my_num2  =\", my_num1 * my_num2)\n",
    "print(\"my_num1 / my_num2  =\", my_num1 / my_num2)\n",
    "print(\"my_num1 // my_num2  =\", my_num1 // my_num2) # Floor division e.g. 6//4 =1 \n",
    "print(\"my_num1 % my_num2  =\", my_num1 % my_num2) # Modulus/remainder\n",
    "print(\"my_num1 ** my_num2 =\", my_num1 ** my_num2) # Exponential/Power\n",
    "\n"
   ]
  },
  {
   "cell_type": "markdown",
   "id": "1545c4d5",
   "metadata": {},
   "source": [
    "\n",
    "<details>\n",
    "<summary>Click to expand code</summary>\n",
    "\n",
    "```python\n",
    "np.add(my_num1, my_num2) # equivalent to my_num1 + my_num2\n"
   ]
  },
  {
   "cell_type": "markdown",
   "id": "4a0d7640",
   "metadata": {},
   "source": [
    "\n",
    "<details>\n",
    "<summary>Click to expand code</summary>\n",
    "\n",
    "```python\n",
    "np.greater(my_num1, my_num2) # equivalent to my_num1 > my_num2\n"
   ]
  },
  {
   "cell_type": "markdown",
   "id": "864b721b",
   "metadata": {},
   "source": [
    "\n",
    "<details>\n",
    "<summary>Click to expand code</summary>\n",
    "\n",
    "```python\n",
    "np.maximum(my_num1, my_num2)\n"
   ]
  },
  {
   "cell_type": "markdown",
   "metadata": {
    "id": "ck9YXzyK4uUo"
   },
   "source": [
    "## <font color = 'dodgerblue'>  **unary ufuncs**\n",
    "They are fast elementwise functions that apply to all the elements of a single array. For example, when we apply  square function to an array, the finction returns a new ndarray where all the elemnets are squared."
   ]
  },
  {
   "cell_type": "markdown",
   "id": "543e0c3d",
   "metadata": {},
   "source": [
    "\n",
    "<details>\n",
    "<summary>Click to expand code</summary>\n",
    "\n",
    "```python\n",
    "np.random.seed(123)\n",
    "my_num3 = np.random.normal(0, 3, (2,3))\n",
    "print(\"Original ndarray\", my_num3, sep ='\\n')\n",
    "print(f'\\nabsolute\\n {np.abs(my_num3)}')\n",
    "print(f'\\nsqrt\\n {np.sqrt(my_num3)}')\n",
    "print(f'\\nlog\\n{np.log(my_num3)}')\n",
    "print(f'\\nsign \\n{np.sign(my_num3)}')\n",
    "print(f'\\ntrignometric function cos \\n:{np.cos(my_num3)}')\n",
    "print(f'\\nceil\\n{np.ceil(my_num3)}') # The ceil of the scalar x is the smallest integer i, such that i >= x.    \n"
   ]
  },
  {
   "cell_type": "markdown",
   "metadata": {
    "id": "GERQPhtREPfp"
   },
   "source": [
    "# <font color = 'dodgerblue'> **Broadcasting**\n",
    "The way NumPy handles arrays with different shapes while performing arithmetic operations is known as broadcasting. The smaller array is \"broadcast\" across the larger array, subject to specific conditions.\n",
    "\n",
    "* The following image describes how a 2 dimensional tensor will be added to a 1 dimensional tensor\n",
    "<img src=\"https://drive.google.com/uc?export=view&id=1QG2GO1owGpyXbcugJFVFGb4o_buV4s3j\" width=\"600\"/>"
   ]
  },
  {
   "cell_type": "markdown",
   "metadata": {
    "id": "AAZedm-F6VZJ"
   },
   "source": [
    "## <font color = 'dodgerblue'> **Rules of broadcasting**</font>\n",
    "1. If two arrays differ in their sizes (i.e they have different number of dimensions), the array with the smaller dimension can be appended with '1' to the left in its shape. In other words, the array is transformed to a two-dimensional array.\n",
    "2. Again if the shape of the array does not match, then the transformed array (which has shape equal to 1) will be stretched out to match the shape of the array of higher dimension.\n",
    "We can check the above figure for this.\n",
    "2. When operating on two arrays, NumPy compares their shapes \n",
    " element-wise. It starts with the trailing dimensions and works its way forward. Two dimensions are compatible when\n",
    "\n",
    "   * They are equal, or\n",
    "\n",
    "   * One of them is 1\n",
    "2. If any dimension of the arrays does not match and  neither is equal to 1, then we get an error.\n",
    "\n"
   ]
  },
  {
   "cell_type": "markdown",
   "metadata": {
    "id": "UkNwvqBXwCBW"
   },
   "source": [
    "### <font color = 'dodgerblue'> **Implementation of Broadcasting**"
   ]
  },
  {
   "cell_type": "code",
   "execution_count": null,
   "id": "81afedb9",
   "metadata": {},
   "outputs": [],
   "source": [
    "# Consider 2 matrices A and B\n",
    "# Checking the shape of both matrices"
   ]
  },
  {
   "cell_type": "markdown",
   "id": "1f013447",
   "metadata": {},
   "source": [
    "\n",
    "<details>\n",
    "<summary>Click to expand code</summary>\n",
    "\n",
    "```python\n",
    "# Consider 2 matrices A and B\n",
    "A = np.array([[12,16,14],[13,17,13],[14,18,12]])\n",
    "B = np.array([1,2,3])\n",
    "\n",
    "# Checking the shape of both matrices\n",
    "print(f\"Shape of array A is {A.shape}\")\n",
    "print(f\"Shape of array B is {B.shape}\")\n"
   ]
  },
  {
   "cell_type": "markdown",
   "metadata": {
    "id": "5sCE2mqgwXfe"
   },
   "source": [
    "B has one dimension and A has two dimensions. Numpy will first prepend 1 to the dimension of A so that it also has same number of dimensions."
   ]
  },
  {
   "cell_type": "code",
   "execution_count": null,
   "id": "597dfb13",
   "metadata": {},
   "outputs": [],
   "source": [
    "# Reshaping matrix B to 2 dimensional array"
   ]
  },
  {
   "cell_type": "markdown",
   "id": "c9912aa1",
   "metadata": {},
   "source": [
    "\n",
    "<details>\n",
    "<summary>Click to expand code</summary>\n",
    "\n",
    "```python\n",
    "# Reshaping matrix B to 2 dimensional array\n",
    "B_new = B.reshape(1,-1)\n",
    "print(f\"Shape of matrix B is {B_new.shape}\")\n",
    "B_new\n"
   ]
  },
  {
   "cell_type": "markdown",
   "metadata": {
    "id": "NquArydtxD2g"
   },
   "source": [
    "After reshaping, the shape of B still dosen't match to A. Now it will stretch the tensor with smaller dimension so that it has the same shape as the tensor with higher dimensions."
   ]
  },
  {
   "cell_type": "code",
   "execution_count": null,
   "id": "ab44024e",
   "metadata": {},
   "outputs": [],
   "source": [
    "# Stretching matrix B along the rows"
   ]
  },
  {
   "cell_type": "markdown",
   "id": "5adc8af0",
   "metadata": {},
   "source": [
    "\n",
    "<details>\n",
    "<summary>Click to expand code</summary>\n",
    "\n",
    "```python\n",
    "# Stretching matrix B along the rows\n",
    "B_stretched = B_new.repeat(3, axis=0)\n",
    "print(f\"Shape of stretched matrix B is {B_stretched.shape}\")\n",
    "B_stretched\n"
   ]
  },
  {
   "cell_type": "markdown",
   "metadata": {
    "id": "2nVWTEfqxxfj"
   },
   "source": [
    "Finally, after stretching matrix B thrice along the rows, the shape becomes equal to that of matrix A. Let's add both the matrices and check the result:"
   ]
  },
  {
   "cell_type": "markdown",
   "id": "e23316e9",
   "metadata": {},
   "source": [
    "\n",
    "<details>\n",
    "<summary>Click to expand code</summary>\n",
    "\n",
    "```python\n",
    "np.add(A,B_stretched)\n"
   ]
  },
  {
   "cell_type": "markdown",
   "metadata": {
    "id": "PrcmX_XxyICX"
   },
   "source": [
    "Comparing the result of addition of matrix A and stretched matrix B with original matrices A and B:"
   ]
  },
  {
   "cell_type": "markdown",
   "id": "b54b2564",
   "metadata": {},
   "source": [
    "\n",
    "<details>\n",
    "<summary>Click to expand code</summary>\n",
    "\n",
    "```python\n",
    "np.add(A,B)\n"
   ]
  },
  {
   "cell_type": "markdown",
   "metadata": {
    "id": "AfV37ExGyWxY"
   },
   "source": [
    "We can see that both the results match. This example shows what numpy does under the hood to do mathematical operations on arrays of different shapes. So broadcasting is an efficient way of performing operations on arrays of unequal sizes"
   ]
  },
  {
   "cell_type": "markdown",
   "metadata": {
    "id": "FF-UV_WezBlN"
   },
   "source": [
    "### <font color = 'dodgerblue'> **Broadcasting Examples**"
   ]
  },
  {
   "cell_type": "markdown",
   "metadata": {
    "id": "MdN46fETzpJF"
   },
   "source": [
    "Consider the following example :\n",
    " \n",
    " $$A=\\begin{bmatrix} 1 & 2 & 4 \\\\ 4 & 1 & 3\\end{bmatrix}$$\n",
    "\n",
    " $$B=\\begin{bmatrix} 1 & 2 & 4 \\end{bmatrix}$$\n",
    "\n",
    "*  We can observe that shape of A is(2, 3) and shape of B is (3, ) [if there is a single row, we can mention the shape by using number of columns separated by a comma(,)]\n",
    "* Here B is an array with fewer dimensions.\n",
    "* By rule 1, Numpy will first prepend 1 to the dimension of B so that it also has same number of dimensions.:\n",
    "     \n",
    "    So, B shape is (1, 3) \n",
    "* Now, let's check the shape again :\n",
    "   \n",
    "     A = (2, 3) and B = (1, 3)\n",
    "* We can see that all the corresponding dimensions of two arrays are either of the same size or one of the dimension is 1. Hence the arrays are broadcastable and we can do mathamatical opeartions on these arrays."
   ]
  },
  {
   "cell_type": "markdown",
   "id": "a81b8a6e",
   "metadata": {},
   "source": [
    "\n",
    "<details>\n",
    "<summary>Click to expand code</summary>\n",
    "\n",
    "```python\n",
    "A = np.array([[1, 2, 4], [4, 1, 3]])\n",
    "B = np.array([1, 2, 4])\n",
    "print(f'shape of A is {A.shape}')\n",
    "print(f'shape of B is {B.shape}')\n"
   ]
  },
  {
   "cell_type": "code",
   "execution_count": null,
   "id": "ff058eaa",
   "metadata": {},
   "outputs": [],
   "source": [
    "# we can check that the arrays are broadcastable by doing arithmatic operations"
   ]
  },
  {
   "cell_type": "markdown",
   "id": "b9da9a7f",
   "metadata": {},
   "source": [
    "\n",
    "<details>\n",
    "<summary>Click to expand code</summary>\n",
    "\n",
    "```python\n",
    "# we can check that the arrays are broadcastable by doing arithmatic operations\n",
    "A * B\n"
   ]
  },
  {
   "cell_type": "markdown",
   "metadata": {
    "id": "MK3eQ5bscfZz"
   },
   "source": [
    "QUIZ: Consider following two arrays:\n",
    "- arr1 = np.arange(4).reshape((4,1))\n",
    "- arr2 = np.arange(3)\n",
    "\n",
    "1. Can we take the product of these two arrays?\n",
    "2.  What is the shape of the final array?"
   ]
  },
  {
   "cell_type": "code",
   "execution_count": null,
   "id": "da30045a",
   "metadata": {},
   "outputs": [],
   "source": [
    "# Create arrays\n",
    "#check the shape of the arrays"
   ]
  },
  {
   "cell_type": "markdown",
   "id": "c77f7604",
   "metadata": {},
   "source": [
    "\n",
    "<details>\n",
    "<summary>Click to expand code</summary>\n",
    "\n",
    "```python\n",
    "# Create arrays\n",
    "arr1 = np.arange(4).reshape((4,1))\n",
    "arr2 = np.arange(3)\n",
    "print(f\"array 1 is :\\n {arr1}\")\n",
    "print(f\"array 2 is : \\n {arr2}\")\n",
    "\n",
    "#check the shape of the arrays\n",
    "print(f\"The shape of array 1 is :\\n {arr1.shape}\")\n",
    "print(f\"The shape of array 2 is :\\n {arr2.shape}\")\n",
    "\n"
   ]
  },
  {
   "cell_type": "code",
   "execution_count": null,
   "id": "6a99874b",
   "metadata": {},
   "outputs": [],
   "source": [
    "# array2 has fewer number of dimensions\n",
    "# We can prepend 1 on the left side , the hsape of array 2 will ne (1, 3)\n",
    "# If we compare the arrays, we can see that they follow broadcasting rules.\n",
    "# Hence we can take product.\n",
    "# The shape of the new array will be (4,3)"
   ]
  },
  {
   "cell_type": "markdown",
   "id": "fbb97be7",
   "metadata": {},
   "source": [
    "\n",
    "<details>\n",
    "<summary>Click to expand code</summary>\n",
    "\n",
    "```python\n",
    "# array2 has fewer number of dimensions\n",
    "# We can prepend 1 on the left side , the hsape of array 2 will ne (1, 3)\n",
    "# If we compare the arrays, we can see that they follow broadcasting rules.\n",
    "# Hence we can take product.\n",
    "\n",
    "prod= np.multiply(arr1,arr2)\n",
    "print(f\"The product of the arrays is :\\n {prod}\")\n",
    "\n",
    "# The shape of the new array will be (4,3)\n",
    "print(f\"The shape of the new array prod is : {prod.shape}\")\n"
   ]
  },
  {
   "cell_type": "markdown",
   "metadata": {
    "id": "Af2iZBN_6PoH"
   },
   "source": [
    "<font color = 'red'> **In summary:** </font> <font color = 'aqua'> Two arrays are “broadcastable” if the following rules hold:\n",
    "\n",
    "When iterating over the dimension sizes, starting at the trailing dimension, the dimension sizes must either be equal or one of them should be 1. \n",
    "Else, they are not broadcastable.</font>"
   ]
  },
  {
   "cell_type": "markdown",
   "metadata": {
    "id": "T8ncWoKNYvwF"
   },
   "source": [
    "# <font color = 'dodgerblue'> **Aggregate functions**\n",
    "\n",
    "* These are ndarray methods that compute the aggregate value (like mean, min, sum, product, variance, any, all) of all the elements of ndarray or aggregate value along a particulat axis (for example for 2 d- dimensional ndarrays we can compute the mean along rows or columns).\n",
    "\n",
    "\n",
    "\n"
   ]
  },
  {
   "cell_type": "markdown",
   "metadata": {
    "id": "HigQqNALBzDT"
   },
   "source": [
    "## <font color = 'dodgerblue'> **aggregate all values**"
   ]
  },
  {
   "cell_type": "markdown",
   "id": "cad50e71",
   "metadata": {},
   "source": [
    "\n",
    "<details>\n",
    "<summary>Click to expand code</summary>\n",
    "\n",
    "```python\n",
    "array1 = np.array([[-1, 2, 7], [15, 36, 48]])\n",
    "print('original array :\\n ', array1, '\\n')\n",
    "print(f\"the sum of all elements of the arrays is : {np.sum(array1)}\")\n",
    "print(f\"the product of all elements of  arrays is : {np.product(array1)}\")\n",
    "print(f\"The minimum number in the array is : {np.min(array1)}\")\n",
    "print(f\"the variance of the array is : {np.var(array1)}\")\n",
    "print(f\"check if any value of array is greater than 0: {np.any(array1>0)}\")\n",
    "print(f\"check if all the values of array are greater than 0: {np.all(array1>0)}\")\n"
   ]
  },
  {
   "cell_type": "markdown",
   "metadata": {
    "id": "BCjOyk3oB9O5"
   },
   "source": [
    "## <font color = 'dodgerblue'> **aggregate along a dimension**"
   ]
  },
  {
   "cell_type": "code",
   "execution_count": null,
   "id": "d61ce756",
   "metadata": {},
   "outputs": [],
   "source": [
    "# For multidimensional array, we can aggrgate along a specific dimension as well"
   ]
  },
  {
   "cell_type": "markdown",
   "id": "173f64aa",
   "metadata": {},
   "source": [
    "\n",
    "<details>\n",
    "<summary>Click to expand code</summary>\n",
    "\n",
    "```python\n",
    "# For multidimensional array, we can aggrgate along a specific dimension as well\n",
    "\n",
    "column_sum = np.sum(array1, axis = 1) # column sum for each row\n",
    "print(f\"column sum for each row: {column_sum}\")\n",
    "print(f'Shape of the original array is {array1.shape}')\n",
    "print(f\"the shape of array after summation : {column_sum.shape}\")\n"
   ]
  },
  {
   "cell_type": "markdown",
   "metadata": {
    "id": "lroqh84enDkU"
   },
   "source": [
    "Let us say we want to divide all the elements of a row with the column sum for that row. The shape of original array (2, 3) and the column sum (2,) are not compatible (we cannot bradcast these two arrays). If we try this operation it will give us an error."
   ]
  },
  {
   "cell_type": "markdown",
   "id": "9031722a",
   "metadata": {},
   "source": [
    "\n",
    "<details>\n",
    "<summary>Click to expand code</summary>\n",
    "\n",
    "```python\n",
    "normalized_array1= array1/column_sum\n"
   ]
  },
  {
   "cell_type": "markdown",
   "metadata": {
    "id": "kNuSt9pIZn0V"
   },
   "source": [
    "## <font color = 'dodgerblue'> **keepdims**"
   ]
  },
  {
   "cell_type": "markdown",
   "metadata": {
    "id": "O3OT0UvQr0NA"
   },
   "source": [
    "In the above example the number of dimensions reduces after aggregation. If we want to keep the number of dimesnions same as as original array, we can pass the argument keepdims= True."
   ]
  },
  {
   "cell_type": "code",
   "execution_count": null,
   "id": "4a93526a",
   "metadata": {},
   "outputs": [],
   "source": [
    "# keep number of dimensions same by passing keepdims = True"
   ]
  },
  {
   "cell_type": "markdown",
   "id": "b1607873",
   "metadata": {},
   "source": [
    "\n",
    "<details>\n",
    "<summary>Click to expand code</summary>\n",
    "\n",
    "```python\n",
    "# keep number of dimensions same by passing keepdims = True\n",
    "column_sum = np.sum(array1, axis = 1, keepdims=True) # column sum for each row\n",
    "print(f\"column sum for each row:\\n {column_sum}\")\n",
    "print(f'Shape of the original array is {array1.shape}')\n",
    "print(f\"the shape of array after summation : {column_sum.shape}\")\n"
   ]
  },
  {
   "cell_type": "markdown",
   "metadata": {
    "id": "ZlfNNC29s50e"
   },
   "source": [
    "We can see that now the shapes of the original array and column sum are broadcastable."
   ]
  },
  {
   "cell_type": "markdown",
   "id": "5cf99dd2",
   "metadata": {},
   "source": [
    "\n",
    "<details>\n",
    "<summary>Click to expand code</summary>\n",
    "\n",
    "```python\n",
    "normalized_array1 = array1/column_sum\n",
    "print(f'column sum for each row: {column_sum}')\n",
    "print(f'original array: {array1}')\n",
    "print(f'normalized array: {normalized_array1}')\n"
   ]
  },
  {
   "cell_type": "markdown",
   "metadata": {
    "id": "6ty9YhgdZ3Xu"
   },
   "source": [
    "# <font color = 'dodgerblue'> **Matrix - 2 Dimensional arrays**\n",
    "* A matrix is a rectangular arrays of numbers, symbols, or expressions, arranged in rows and columns.\n",
    "* A matrix with $m$ rows and $n$ columns is called $\n",
    "m * n$ (or) $m$ by  $n$ matrix. Where $m$ and $n$ are called dimensions.\n",
    "* The following matrix is an example of $m$ by $n$ matrix ($m$ rows and $n$ columns )\n",
    "\\begin{bmatrix}\n",
    "x_{1,1} & x_{1,2} & \\cdots & x_{1,n} \\\\ x_{2,1} & x_{2,2}&\\cdots& x_{2,n}  \\\\\\vdots & \\vdots & \\ddots & \\vdots \\\\ x_{m,1} & x_{m,2} &\\cdots& x_{m,n} \\end{bmatrix}"
   ]
  },
  {
   "cell_type": "markdown",
   "metadata": {
    "id": "i8CXhxYlnz2u"
   },
   "source": [
    "## <font color = 'dodgerblue'> **Matrix addition**\n",
    "* Suppose we have two matrices and they are\n",
    "\n",
    "$\\boldsymbol{A} = \\begin{bmatrix}\n",
    "1 & 2 & 3\\\\5 & 6 & 4\\\\4 & 4 & 7\\end{bmatrix}$\n",
    "$\\boldsymbol{B} = \\begin{bmatrix}\n",
    "5& 7& 3\\\\8& 9 & 10\\\\4& 3 & 9\\end{bmatrix}$\n",
    "* We can find the **sum of matrices** simply by adding the corresponding entries in matrices $A$ and $B$.\n",
    "\n",
    "  Therefore, $A+B =  \\begin{bmatrix}\n",
    "  1+5 & 2+7 & 3+3\\\\5+8 & 6+9 & 4+10\\\\4+4 & 4+3 & 7+9\\end{bmatrix}$\n",
    "    \n",
    "  $=\\begin{bmatrix}\n",
    "  6 & 9 & 6\\\\13 & 15 & 14\\\\8 & 7 & 16\\end{bmatrix}$\n",
    "\n",
    "* In numpy, we can use **add()** method to perform addition of matrices."
   ]
  },
  {
   "cell_type": "code",
   "execution_count": null,
   "id": "7a5299c9",
   "metadata": {},
   "outputs": [],
   "source": [
    "# Addition of matrices by using add() method"
   ]
  },
  {
   "cell_type": "markdown",
   "id": "e3460aeb",
   "metadata": {},
   "source": [
    "\n",
    "<details>\n",
    "<summary>Click to expand code</summary>\n",
    "\n",
    "```python\n",
    "# Addition of matrices by using add() method\n",
    "A = np.array([[1, 2, 3], [5, 6, 4],[4, 4, 7]])\n",
    "B = np.array([[5, 7, 3], [8, 9, 10],[4, 3, 9]])\n",
    "print(f\"The addition of two matrices A+B  is \\n {np.add(A,B)}\")\n"
   ]
  },
  {
   "cell_type": "markdown",
   "metadata": {
    "id": "AkLMM2hyXn1X"
   },
   "source": [
    "## <font color = 'dodgerblue'> **Matrix Subtraction**\n",
    "* We can find the **difference between matrices** simply by subtracting the corresponding entries in matrices $A$ and $B$.\n",
    "* Let's consider the above two matrices $A$ and $B$.\n",
    "Therefore, $A-B =  \\begin{bmatrix}\n",
    "1-5 & 2-7 & 3-3\\\\5-8 & 6-9 &4-10\\\\4-4 & 4-3 & 7-9\\end{bmatrix}$\n",
    "$\\ =\\begin{bmatrix}\n",
    "-4 & -5 &  0\\\\-3 &-3 & -6\\\\  0 &  1 & -2\\end{bmatrix}$\n",
    "\n",
    "\n",
    "* In numpy, we can use **subtract()** method to subtract two matrices."
   ]
  },
  {
   "cell_type": "code",
   "execution_count": null,
   "id": "6c1ec2d0",
   "metadata": {},
   "outputs": [],
   "source": [
    "#finding the difference between the two matrices by using subtract() method."
   ]
  },
  {
   "cell_type": "markdown",
   "id": "201ffe92",
   "metadata": {},
   "source": [
    "\n",
    "<details>\n",
    "<summary>Click to expand code</summary>\n",
    "\n",
    "```python\n",
    "#finding the difference between the two matrices by using subtract() method.\n",
    "A = np.array([[1, 2, 3], [5, 6, 4],[4, 4, 7]])\n",
    "B = np.array([[5, 7, 3], [8, 9, 10],[4, 3, 9]])\n",
    "print(f\"The difference between two matrices A-B  is \\n {np.subtract(A,B)}\")\n"
   ]
  },
  {
   "cell_type": "markdown",
   "metadata": {
    "id": "NiaZ7ucioBK9"
   },
   "source": [
    "## <font color = 'dodgerblue'> **Hadamard product**\n",
    "* Hadamard product of two vectors is very similar to matrix addition, elements corresponding to same row and columns of given vectors/matrices are multiplied together to form a new vector/matrix.\n",
    "* It is named after French Mathematician, **Jacques Hadamard**.\n",
    "\n",
    "* **Example :** If we have two matrices A and B. The size of $A$ = (2, 2) and $B$ = (2, 2) then the hadamard product of $A$, $B$ denoted as \n",
    "$A \\circ B$  will be of size (2, 2).\n",
    "\n",
    "\n",
    "$\\boldsymbol{A} = \\begin{bmatrix}\n",
    "1& 2 & 3\\\\5&  6 & 4\\end{bmatrix}$\n",
    "$\\boldsymbol{B} = \\begin{bmatrix}\n",
    "5& 7& 3\\\\8& 9 & 10\\end{bmatrix}$\n",
    "\n",
    "$\\\\(A \\circ B)$ = \n",
    "$\\begin{bmatrix}1×5 & 2×7 & 3×3\\\\5×8 & 6×9 & 4×10\\end{bmatrix}$ \n",
    "= $\\begin{bmatrix}5 & 14 & 9\\\\40 & 54 & 40\\end{bmatrix}$ \n",
    "\n",
    "* In numpy, we can use **multiply()** method or **operator *** to find the hadamard product.\n",
    "\n",
    "\n",
    "\n"
   ]
  },
  {
   "cell_type": "code",
   "execution_count": null,
   "id": "8f39573b",
   "metadata": {},
   "outputs": [],
   "source": [
    "#Let's create the above example matrices using numpy\n",
    "#the hadamard product for the above two matrices is given as follows :\n",
    "# We can see the element wise product for the two matrices"
   ]
  },
  {
   "cell_type": "markdown",
   "id": "a2c05bef",
   "metadata": {},
   "source": [
    "\n",
    "<details>\n",
    "<summary>Click to expand code</summary>\n",
    "\n",
    "```python\n",
    "#Let's create the above example matrices using numpy\n",
    "A = np.array([[1, 2, 3],[5, 6, 4]])\n",
    "B = np.array([[5, 7, 3],[8, 9, 10]])\n",
    "print(f\"the  the matrice A is given as \\n {A} \\n\")\n",
    "print(f\"the  the matrice B is given as \\n {B} \\n\")\n",
    "#the hadamard product for the above two matrices is given as follows :\n",
    "# We can see the element wise product for the two matrices\n",
    "print(f\"the hadamard product for the above two matrices is given as \\n {np.multiply(A,B)} \\n\")\n",
    "print(f\"the hadamard product for the above two matrices is given as \\n {A*B}\")\n"
   ]
  },
  {
   "cell_type": "markdown",
   "metadata": {
    "id": "Tvmy8UPgpIVa"
   },
   "source": [
    "## <font color = 'dodgerblue'> **Trace of a matrix**\n",
    "* In linear algebra, the trace of a square matrix A, denoted by  **tr(A)**\n",
    "* It is defined to be the sum of elements on the main diagonal (from the upper left to the lower right) of A.\n",
    "* **Example** :- **trace of matrix A** is given below :-\n",
    "\n",
    "$\\bf{A} =\n",
    "  \\begin{pmatrix}\n",
    "    a_{11} & a_{12} & a_{13} \\\\\n",
    "    a_{21} & a_{22} & a_{23} \\\\\n",
    "    a_{31} & a_{32} & a_{33}\n",
    "  \\end{pmatrix}$ \n",
    "  $= \\begin{pmatrix}\n",
    "    1 &  5 &  3 \\\\\n",
    "    11 &  10 &  7 \\\\\n",
    "     6 & 12 & -2\n",
    "  \\end{pmatrix}$\n",
    "\n",
    "  Then the trace of $A$ is given as :-\n",
    "\n",
    "  $\\operatorname{tr}({A}) = \\sum_{i=1}^{3} a_{ii} = a_{11} + a_{22} + a_{33} = 1 + 10 + (-2) = 9$\n",
    "\n",
    "* In numpy, we can find the trace of a matrix by using trace() method."
   ]
  },
  {
   "cell_type": "code",
   "execution_count": null,
   "id": "a4d1849e",
   "metadata": {},
   "outputs": [],
   "source": [
    "#matrix A"
   ]
  },
  {
   "cell_type": "markdown",
   "id": "d781d85e",
   "metadata": {},
   "source": [
    "\n",
    "<details>\n",
    "<summary>Click to expand code</summary>\n",
    "\n",
    "```python\n",
    "#matrix A\n",
    "A = np.array([[1, 5, 3],[11, 10, 7],[6, 12, -2]])\n"
   ]
  },
  {
   "cell_type": "code",
   "execution_count": null,
   "id": "83d05a05",
   "metadata": {},
   "outputs": [],
   "source": [
    "# Trace of matrix "
   ]
  },
  {
   "cell_type": "markdown",
   "id": "baaa4be5",
   "metadata": {},
   "source": [
    "\n",
    "<details>\n",
    "<summary>Click to expand code</summary>\n",
    "\n",
    "```python\n",
    "# Trace of matrix \n",
    "print(f\"Trace of matrix: {np.trace(A)}\")\n"
   ]
  },
  {
   "cell_type": "markdown",
   "metadata": {
    "id": "FYMtpU3JpdQb"
   },
   "source": [
    "## <font color = 'dodgerblue'> **Transpose of a matrix**\n",
    "* In linear algebra, the transpose of a matrix is an operator which flips a matrix over its diagonal. \n",
    "* That is, it switches the row and column indices of the matrix $A$ by producing another matrix, it is often denoted by $A^T$.\n",
    "* **Example** - Let us take a matrix \n",
    "\n",
    "  $\\boldsymbol{A} = \\begin{bmatrix}\n",
    "  1& 2 \\\\5&  6 \\end{bmatrix}$\n",
    "\n",
    "  Then the transpose of A is given as follows :-\n",
    "\n",
    "  $\\boldsymbol{A^T} = \\begin{bmatrix}\n",
    "  1& 5 \\\\2&  6 \\end{bmatrix}$\n",
    "\n",
    "* In numpy, we can use **T** in order to transpose a matrix. Let's check an example of matrix transpose using numpy as follows :-"
   ]
  },
  {
   "cell_type": "code",
   "execution_count": null,
   "id": "de309375",
   "metadata": {},
   "outputs": [],
   "source": [
    "# Using transpose of a matrix by using T in numpy"
   ]
  },
  {
   "cell_type": "markdown",
   "id": "25909086",
   "metadata": {},
   "source": [
    "\n",
    "<details>\n",
    "<summary>Click to expand code</summary>\n",
    "\n",
    "```python\n",
    "# Using transpose of a matrix by using T in numpy\n",
    "A = np.array([[1, 2],[5, 6]])\n",
    "print(f\"the matrix A is given as \\n {A}\")\n"
   ]
  },
  {
   "cell_type": "code",
   "execution_count": null,
   "id": "4653b7ec",
   "metadata": {},
   "outputs": [],
   "source": [
    "# We can check the tranpose of the matrix A "
   ]
  },
  {
   "cell_type": "markdown",
   "id": "042e61ef",
   "metadata": {},
   "source": [
    "\n",
    "<details>\n",
    "<summary>Click to expand code</summary>\n",
    "\n",
    "```python\n",
    "# We can check the tranpose of the matrix A \n",
    "print(f\"transpose of matrix A is \\n{A.T}\")\n"
   ]
  },
  {
   "cell_type": "markdown",
   "metadata": {
    "id": "G0lN2EWJZW9c"
   },
   "source": [
    "## <font color = 'dodgerblue'> **Inner product or Dot product**\n",
    "Dot product of 2 vectors x and y, represented as `(x.T)(y)` is given by the summation of product of elements at the same position.\n",
    "\n",
    "If we have 2 vectors x: [1, 2, 3, 4] and y: [1, 1, 2, 1]\n",
    "\n",
    "(x.y) will be 1x1 + 2x1 + 3x2 + 4x1 = 13"
   ]
  },
  {
   "cell_type": "markdown",
   "metadata": {
    "id": "LeMZeJG7blYI"
   },
   "source": [
    "To find the inner product of the vectors, we can use the dot() method of NumPy."
   ]
  },
  {
   "cell_type": "code",
   "execution_count": null,
   "id": "9f1cd649",
   "metadata": {},
   "outputs": [],
   "source": [
    "# Inner product of vectors\n",
    "# if arrays are of the same length then inner product will be a scalar "
   ]
  },
  {
   "cell_type": "markdown",
   "id": "ecda03b1",
   "metadata": {},
   "source": [
    "\n",
    "<details>\n",
    "<summary>Click to expand code</summary>\n",
    "\n",
    "```python\n",
    "# Inner product of vectors\n",
    "import numpy as np\n",
    "my_arr = np.array([12, 45, 32, 1, 2, 4])\n",
    "my_arr1 = np.array([15, 26, 31, 45, 21, 4])\n",
    "# if arrays are of the same length then inner product will be a scalar \n",
    "np.dot(my_arr,my_arr1)\n"
   ]
  },
  {
   "cell_type": "markdown",
   "metadata": {
    "id": "yw4n1k6fZMP-"
   },
   "source": [
    "## <font color = 'dodgerblue'> **Matrix multiplication**</font>\n",
    "Matrix multiplication is a binary operation on 2 matrices which gives us a matrix which is the product of the 2 matrices. \n",
    "\n",
    "If we are given 2 matrices $A$ of shape $(m * n)$ and $B$ of shape $(q * p)$, we can perform matrix multiplication only when $n = q$ and the resultant product matrix will have shape $(m * p)$. \n",
    "\n",
    "Suppose we are given 2 matrices $A (m * n)$ and $B (n * p)$: \n",
    "\n",
    "$$\\mathbf{A}=\\begin{bmatrix}\n",
    " a_{11} & a_{12} & \\cdots & a_{1n} \\\\\n",
    " a_{21} & a_{22} & \\cdots & a_{2n} \\\\\n",
    "\\vdots & \\vdots & \\ddots & \\vdots \\\\\n",
    " a_{m1} & a_{m2} & \\cdots & a_{mn} \\\\\n",
    "\\end{bmatrix},\\quad\n",
    "\\mathbf{B}=\\begin{bmatrix}\n",
    " b_{11} & b_{12} & \\cdots & b_{1p} \\\\\n",
    " b_{21} & b_{22} & \\cdots & b_{2p} \\\\\n",
    "\\vdots & \\vdots & \\ddots & \\vdots \\\\\n",
    " b_{n1} & b_{n2} & \\cdots & b_{np} \\\\\n",
    "\\end{bmatrix}$$\n",
    "\n",
    "Then after performing matrix multiplication, the resultant matrix C = AB will be:\n",
    "\n",
    "$$\\mathbf{C}=\\begin{bmatrix}\n",
    " c_{11} & c_{12} & \\cdots & c_{1p} \\\\\n",
    " c_{21} & c_{22} & \\cdots & c_{2p} \\\\\n",
    "\\vdots & \\vdots & \\ddots & \\vdots \\\\\n",
    " c_{mp} & c_{mp} & \\cdots & c_{mp} \\\\\n",
    "\\end{bmatrix}$$\n",
    "\n",
    "Here, $c_{ij} = a_{i1}b_{1j} + a_{i2}b_{2j} + ... a_{in}b_{b_nj} = \\sum_{k = 1}^n a_{ik}b_{kj}$\n",
    "\n",
    "for, $i = 1,....m$ and $j = 1,...p$\n",
    "\n",
    "\n",
    "Thus, each element of C, $c_{ij}$ is obtained by dot product of $i^{th}$ row of $A$ and $j^{th}$ column of $B$. \n",
    "\n",
    "**Example** : \n",
    "  1. Let $A$ be a matrix of (4, 3) dimensions.\n",
    "  2. Let $B$ be another matrix of (3, 2) dimensions.\n",
    "  3. Let us denote denote the matrix multiplication of $A$ and $B$ with $C$.\n",
    "  5. Then the dimension of $C$ = (number of rows of $A$,number of columns of $B$) \n",
    "     \n",
    "    dimension of  $C$ = (4, 2)\n",
    "\n",
    "The figure given below will give a good example of matrix multplication :\n",
    "\n",
    "<img src = \"https://drive.google.com/uc?view=export&id=176DF50XdtwkqU5wvxtWuD75sRDHvSJBf\" width =\"250\"/>"
   ]
  },
  {
   "cell_type": "code",
   "execution_count": null,
   "id": "9481910d",
   "metadata": {},
   "outputs": [],
   "source": [
    "# let's consider two matrices of different shape"
   ]
  },
  {
   "cell_type": "markdown",
   "id": "ae2213c9",
   "metadata": {},
   "source": [
    "\n",
    "<details>\n",
    "<summary>Click to expand code</summary>\n",
    "\n",
    "```python\n",
    "# let's consider two matrices of different shape\n",
    "x = np.array([[1,25,46],[28,45,76]])\n",
    "print(f\"The dimensions of the matrix x is : \\n{x.shape}\")\n",
    "\n",
    "y = np.array([[14,15,7],[12,36,48],[1,25,7]])\n",
    "print(f\"The dimensions of the matrix y is : \\n{y.shape}\")\n"
   ]
  },
  {
   "cell_type": "code",
   "execution_count": null,
   "id": "dc84f557",
   "metadata": {},
   "outputs": [],
   "source": [
    "# Let's the check the rule of matrix multiplication\n",
    "# Since, the number of columns of x = number of rows of y\n",
    "# the shape of the product of both matrix is (number of rows of x, number of columns of y)\n",
    "# the matmul() method helps in multiplying matrices  "
   ]
  },
  {
   "cell_type": "markdown",
   "id": "e2829a65",
   "metadata": {},
   "source": [
    "\n",
    "<details>\n",
    "<summary>Click to expand code</summary>\n",
    "\n",
    "```python\n",
    "# Let's the check the rule of matrix multiplication\n",
    "# Since, the number of columns of x = number of rows of y\n",
    "# the shape of the product of both matrix is (number of rows of x, number of columns of y)\n",
    "# the matmul() method helps in multiplying matrices  \n",
    "\n",
    "my_prod = np.matmul(x, y)\n",
    "print(f\"The dimensions of the product matrix  is : \\n{my_prod.shape}\")\n",
    "\n"
   ]
  },
  {
   "cell_type": "markdown",
   "metadata": {
    "id": "RWKO1RCVZZUC"
   },
   "source": [
    "## <font color = 'dodgerblue'> **Outer product**\n",
    "\n",
    "* If $H$ and $M$ are column vectors of any size, then $H M^T$ is the\n",
    "outer product of $H$ and $M$.\n",
    "* Example: $\\boldsymbol{H} = \\begin{bmatrix}\n",
    "1\\\\7\\\\5\\end{bmatrix}$\n",
    "$\\boldsymbol{M} = \\begin{bmatrix}\n",
    "2\\\\4\\\\ 9\\end{bmatrix}$\n",
    "\n",
    "  **H** and **M** are column vectors, each having 3 elements.\n",
    "\n",
    "  **H'** is the transpose of **H**, which makes **H'** a row vector,\n",
    "\n",
    "  **M'** is the transpose of **M**, which makes **M'** a row vector.\n",
    "\n",
    "\n",
    "* We can apply the matrix multiplication rule and check the required dimension.\n",
    "\n",
    "Now, the outer product of the matrix is defined as follows :-\n",
    " \n",
    "$HM' =  \\begin{bmatrix}\n",
    "1\\\\ 7\\\\ 5\\end{bmatrix} × \\begin{bmatrix}\n",
    "2\\ 4\\ 9\\end{bmatrix}$ = $\\begin{bmatrix}1×2 & 1×4 & 1×9 \\\\7×2 & 7×4 & 7×9\\\\5×2 & 5×4 & 5×9\\end{bmatrix}$ \n",
    "= $\\begin{bmatrix}2 & 4 & 9 \\\\14 & 28 & 63\\\\10 & 20 & 45\\end{bmatrix}$\n",
    "\n"
   ]
  },
  {
   "cell_type": "markdown",
   "metadata": {
    "id": "7AiOUtI3cv8P"
   },
   "source": [
    "The outer product of the vectors and matrices can be found using the outer() method of NumPy.\n",
    "\n",
    "**Syntax** \n",
    "\n",
    "\n",
    "```\n",
    "numpy.outer(a, b, out = None)\n",
    "```\n",
    "where a, b are the vectors  or matrices.\n",
    "out = A location where the result is stored(optional argument)\n",
    "\n"
   ]
  },
  {
   "cell_type": "code",
   "execution_count": null,
   "id": "ce549643",
   "metadata": {},
   "outputs": [],
   "source": [
    "#let's consider above example\n",
    "#let a be a column matrix\n",
    "#b be a row matrix\n",
    "#the outer product of the matrices are"
   ]
  },
  {
   "cell_type": "markdown",
   "id": "abab2d13",
   "metadata": {},
   "source": [
    "\n",
    "<details>\n",
    "<summary>Click to expand code</summary>\n",
    "\n",
    "```python\n",
    "#let's consider above example\n",
    "#let a be a column matrix\n",
    "a = np.array([[1]\n",
    "              ,[7]\n",
    "              ,[5]])\n",
    "#b be a row matrix\n",
    "b = np.array([2, 4, 9])\n",
    "#the outer product of the matrices are\n",
    "np.outer(a,b, out =None)\n"
   ]
  },
  {
   "cell_type": "markdown",
   "metadata": {
    "id": "ARcbnRB4pNDX"
   },
   "source": [
    "## <font color = 'dodgerblue'> **Inverse of matrix**\n",
    "Wikipedia Definition (https://en.wikipedia.org/wiki/Invertible_matrix)<br><br>\n",
    "In linear algebra, an n-by-n square matrix $\\mathbf{A}$ is called invertible (also nonsingular or nondegenerate), if there exists an $n$ by $n$ square matrix $\\mathbf{B}$ such that\n",
    "\\begin{equation}\n",
    "  \\mathbf{A}\\mathbf{B} = \\mathbf{B}\\mathbf{A} = \\mathbf{I_n}\n",
    "\\end{equation}\n",
    "\n",
    "where $\\mathbf{I_n}$ denotes the n-by-n identity matrix and the multiplication used is ordinary matrix multiplication. If this is the case, then the matrix $\\mathbf{B}$ is uniquely determined by $\\mathbf{A}$, and is called the (multiplicative) inverse of $\\mathbf{A}$, denoted by $\\mathbf{A^{-1}}$"
   ]
  },
  {
   "cell_type": "code",
   "execution_count": null,
   "id": "c4dcb8df",
   "metadata": {},
   "outputs": [],
   "source": [
    "# Let's create an 1-D array"
   ]
  },
  {
   "cell_type": "markdown",
   "id": "1f3e959a",
   "metadata": {},
   "source": [
    "\n",
    "<details>\n",
    "<summary>Click to expand code</summary>\n",
    "\n",
    "```python\n",
    "# Let's create an 1-D array\n",
    "\n",
    "my_mat = np.array([[1, 5, 4],\n",
    "             [2, 4, 8],\n",
    "             [4, 7, 2]\n",
    "             ])\n",
    "\n",
    "\n"
   ]
  },
  {
   "cell_type": "code",
   "execution_count": null,
   "id": "c3ead145",
   "metadata": {},
   "outputs": [],
   "source": [
    "# inverse of the matrix"
   ]
  },
  {
   "cell_type": "markdown",
   "id": "e1610d72",
   "metadata": {},
   "source": [
    "\n",
    "<details>\n",
    "<summary>Click to expand code</summary>\n",
    "\n",
    "```python\n",
    "# inverse of the matrix\n",
    "my_mat_inv = np.linalg.inv(my_mat)\n",
    "print(f\"Inverse of matrix : \\n {my_mat_inv}\")\n"
   ]
  },
  {
   "cell_type": "code",
   "execution_count": null,
   "id": "dfc27716",
   "metadata": {},
   "outputs": [],
   "source": [
    "# let us check teh condition A A_inv = I"
   ]
  },
  {
   "cell_type": "markdown",
   "id": "cbabe290",
   "metadata": {},
   "source": [
    "\n",
    "<details>\n",
    "<summary>Click to expand code</summary>\n",
    "\n",
    "```python\n",
    "# let us check teh condition A A_inv = I\n",
    "print(np.matmul(my_mat, my_mat_inv))\n"
   ]
  }
 ],
 "metadata": {
  "colab": {
   "collapsed_sections": [],
   "name": "1.Numpy_final.ipynb",
   "provenance": []
  },
  "kernelspec": {
   "display_name": "Python 3 (ipykernel)",
   "language": "python",
   "name": "python3"
  },
  "language_info": {
   "codemirror_mode": {
    "name": "ipython",
    "version": 3
   },
   "file_extension": ".py",
   "mimetype": "text/x-python",
   "name": "python",
   "nbconvert_exporter": "python",
   "pygments_lexer": "ipython3",
   "version": "3.9.10"
  }
 },
 "nbformat": 4,
 "nbformat_minor": 0
}
