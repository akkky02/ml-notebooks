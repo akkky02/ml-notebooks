{
 "cells": [
  {
   "cell_type": "markdown",
   "metadata": {
    "id": "_lbcfZlsYdKC"
   },
   "source": [
    "# <font color = 'pickle'>**Import/Install the packages**"
   ]
  },
  {
   "cell_type": "code",
   "execution_count": 1,
   "metadata": {
    "colab": {
     "base_uri": "https://localhost:8080/"
    },
    "execution": {
     "iopub.execute_input": "2022-10-23T23:36:21.099902Z",
     "iopub.status.busy": "2022-10-23T23:36:21.099598Z",
     "iopub.status.idle": "2022-10-23T23:36:21.108678Z",
     "shell.execute_reply": "2022-10-23T23:36:21.108121Z",
     "shell.execute_reply.started": "2022-10-23T23:36:21.099817Z"
    },
    "executionInfo": {
     "elapsed": 139,
     "status": "ok",
     "timestamp": 1665260899222,
     "user": {
      "displayName": "Shaannoor Mann",
      "userId": "02520257695567980696"
     },
     "user_tz": 300
    },
    "id": "Nqlomery0WlC",
    "outputId": "b849b499-7837-4eb5-d870-723be26d1f33",
    "tags": []
   },
   "outputs": [
    {
     "name": "stdout",
     "output_type": "stream",
     "text": [
      "Not Running on Colab\n"
     ]
    }
   ],
   "source": [
    "if 'google.colab' in str(get_ipython()):\n",
    "    print('Running on Colab')\n",
    "else:\n",
    "    print('Not Running on Colab')"
   ]
  },
  {
   "cell_type": "code",
   "execution_count": 2,
   "metadata": {
    "execution": {
     "iopub.execute_input": "2022-10-23T23:36:21.110203Z",
     "iopub.status.busy": "2022-10-23T23:36:21.109797Z",
     "iopub.status.idle": "2022-10-23T23:36:21.113550Z",
     "shell.execute_reply": "2022-10-23T23:36:21.113008Z",
     "shell.execute_reply.started": "2022-10-23T23:36:21.110177Z"
    },
    "id": "VZ_zLxMs7W_E",
    "tags": []
   },
   "outputs": [],
   "source": [
    "if 'google.colab' in str(get_ipython()):\n",
    "  !pip install --upgrade feature_engine scikit-learn -q"
   ]
  },
  {
   "cell_type": "code",
   "execution_count": 3,
   "metadata": {
    "colab": {
     "base_uri": "https://localhost:8080/"
    },
    "execution": {
     "iopub.execute_input": "2022-10-23T23:36:21.114717Z",
     "iopub.status.busy": "2022-10-23T23:36:21.114358Z",
     "iopub.status.idle": "2022-10-23T23:36:21.117746Z",
     "shell.execute_reply": "2022-10-23T23:36:21.117210Z",
     "shell.execute_reply.started": "2022-10-23T23:36:21.114694Z"
    },
    "executionInfo": {
     "elapsed": 788,
     "status": "ok",
     "timestamp": 1665260904627,
     "user": {
      "displayName": "Shaannoor Mann",
      "userId": "02520257695567980696"
     },
     "user_tz": 300
    },
    "id": "8qW5mznUw3De",
    "outputId": "41b193c3-bd6b-4dbd-f2e9-6c00d822f74b",
    "tags": []
   },
   "outputs": [],
   "source": [
    "if 'google.colab' in str(get_ipython()):\n",
    "    from google.colab import drive\n",
    "    drive.mount('/content/drive')"
   ]
  },
  {
   "cell_type": "code",
   "execution_count": 4,
   "metadata": {
    "execution": {
     "iopub.execute_input": "2022-10-23T23:36:21.118874Z",
     "iopub.status.busy": "2022-10-23T23:36:21.118539Z",
     "iopub.status.idle": "2022-10-23T23:36:21.122543Z",
     "shell.execute_reply": "2022-10-23T23:36:21.121999Z",
     "shell.execute_reply.started": "2022-10-23T23:36:21.118850Z"
    },
    "id": "Rwcl46RajFl1",
    "tags": []
   },
   "outputs": [],
   "source": [
    "import feature_engine"
   ]
  },
  {
   "cell_type": "code",
   "execution_count": 5,
   "metadata": {
    "colab": {
     "base_uri": "https://localhost:8080/"
    },
    "execution": {
     "iopub.execute_input": "2022-10-23T23:36:21.124758Z",
     "iopub.status.busy": "2022-10-23T23:36:21.124317Z",
     "iopub.status.idle": "2022-10-23T23:36:21.127922Z",
     "shell.execute_reply": "2022-10-23T23:36:21.127380Z",
     "shell.execute_reply.started": "2022-10-23T23:36:21.124732Z"
    },
    "executionInfo": {
     "elapsed": 4,
     "status": "ok",
     "timestamp": 1665260904628,
     "user": {
      "displayName": "Shaannoor Mann",
      "userId": "02520257695567980696"
     },
     "user_tz": 300
    },
    "id": "Gc5kY-QzjMJ3",
    "outputId": "2d7f34c5-f74a-46d6-f7b3-4073e63b0d65",
    "tags": []
   },
   "outputs": [
    {
     "name": "stdout",
     "output_type": "stream",
     "text": [
      "1.5.0\n"
     ]
    }
   ],
   "source": [
    "print(feature_engine.__version__)"
   ]
  },
  {
   "cell_type": "code",
   "execution_count": 6,
   "metadata": {
    "execution": {
     "iopub.execute_input": "2022-10-23T23:36:21.129035Z",
     "iopub.status.busy": "2022-10-23T23:36:21.128692Z",
     "iopub.status.idle": "2022-10-23T23:36:21.346982Z",
     "shell.execute_reply": "2022-10-23T23:36:21.346629Z",
     "shell.execute_reply.started": "2022-10-23T23:36:21.129010Z"
    },
    "id": "Wgcd8L8ExSfZ",
    "tags": []
   },
   "outputs": [],
   "source": [
    "import sklearn"
   ]
  },
  {
   "cell_type": "code",
   "execution_count": 7,
   "metadata": {
    "colab": {
     "base_uri": "https://localhost:8080/"
    },
    "execution": {
     "iopub.execute_input": "2022-10-23T23:36:21.347526Z",
     "iopub.status.busy": "2022-10-23T23:36:21.347449Z",
     "iopub.status.idle": "2022-10-23T23:36:21.349833Z",
     "shell.execute_reply": "2022-10-23T23:36:21.349575Z",
     "shell.execute_reply.started": "2022-10-23T23:36:21.347516Z"
    },
    "executionInfo": {
     "elapsed": 3,
     "status": "ok",
     "timestamp": 1665260905214,
     "user": {
      "displayName": "Shaannoor Mann",
      "userId": "02520257695567980696"
     },
     "user_tz": 300
    },
    "id": "yFznwa08ws6H",
    "outputId": "f80cfdae-a3b6-4406-9d86-cc8375d19eb0",
    "tags": []
   },
   "outputs": [
    {
     "name": "stdout",
     "output_type": "stream",
     "text": [
      "1.1.2\n"
     ]
    }
   ],
   "source": [
    "print(sklearn.__version__)"
   ]
  },
  {
   "cell_type": "code",
   "execution_count": 8,
   "metadata": {
    "execution": {
     "iopub.execute_input": "2022-10-23T23:36:21.350363Z",
     "iopub.status.busy": "2022-10-23T23:36:21.350289Z",
     "iopub.status.idle": "2022-10-23T23:36:21.895805Z",
     "shell.execute_reply": "2022-10-23T23:36:21.895457Z",
     "shell.execute_reply.started": "2022-10-23T23:36:21.350354Z"
    },
    "id": "eKaVwwRgWb1H",
    "tags": []
   },
   "outputs": [],
   "source": [
    "\"\"\"Importing the required packages\"\"\"\n",
    "\n",
    "# For DataFrames and manipulations\n",
    "import pandas as pd\n",
    "import numpy as np\n",
    "\n",
    "# For data Visualization\n",
    "import matplotlib.pyplot as plt\n",
    "import seaborn as sns\n",
    "import scipy.stats as stats\n",
    "%matplotlib inline\n",
    "\n",
    "from scipy.stats import uniform, truncnorm, randint, loguniform\n",
    "\n",
    "# drop arbitrary features\n",
    "from feature_engine.selection import DropFeatures\n",
    "\n",
    "# For categorical variables\n",
    "from feature_engine.encoding import OneHotEncoder\n",
    "from feature_engine.encoding import DecisionTreeEncoder\n",
    "\n",
    "# Missing value imputation\n",
    "from feature_engine.imputation import MeanMedianImputer\n",
    "\n",
    "# add missing indicator \n",
    "from feature_engine.imputation import AddMissingIndicator\n",
    "\n",
    "# categorical imputer\n",
    "from feature_engine.imputation import CategoricalImputer\n",
    "\n",
    "# random sample imputer\n",
    "from feature_engine.imputation import RandomSampleImputer\n",
    "\n",
    "# Numerical variable Transformation\n",
    "from feature_engine.transformation import LogTransformer\n",
    "\n",
    "# Handling Outliers\n",
    "from feature_engine.outliers import Winsorizer\n",
    "\n",
    "# feature engine wrapper \n",
    "from feature_engine.wrappers import SklearnTransformerWrapper\n",
    "\n",
    "# sklearn pre-processor\n",
    "from sklearn.preprocessing import StandardScaler\n",
    "from sklearn.preprocessing import MinMaxScaler\n",
    "from sklearn.preprocessing import PolynomialFeatures\n",
    "\n",
    "# DIscretization\n",
    "from sklearn.preprocessing import KBinsDiscretizer\n",
    "\n",
    "# For splitting the dataset\n",
    "from sklearn.model_selection import train_test_split\n",
    "\n",
    "# Using Support Vector Machines as models\n",
    "from sklearn.svm import LinearSVC\n",
    "from sklearn.svm import SVC\n",
    "\n",
    "# creating pipelines \n",
    "from sklearn.pipeline import Pipeline\n",
    "from sklearn.compose import ColumnTransformer\n",
    "\n",
    "# Hyper parameter tuning\n",
    "from sklearn.model_selection import GridSearchCV\n",
    "from sklearn.model_selection import RandomizedSearchCV\n",
    "from sklearn.model_selection import StratifiedKFold\n",
    "\n",
    "# draws a confusion matrix\n",
    "from sklearn.metrics import ConfusionMatrixDisplay\n",
    "\n",
    "# save and load models\n",
    "import joblib\n",
    "\n",
    "# Pathlib to navigate file system\n",
    "from pathlib import Path\n",
    "import sys"
   ]
  },
  {
   "cell_type": "code",
   "execution_count": null,
   "metadata": {
    "id": "McSk1lEiELhX"
   },
   "outputs": [],
   "source": []
  },
  {
   "cell_type": "markdown",
   "metadata": {
    "id": "MEUsBSfkMKTy"
   },
   "source": [
    "# <font color = 'pickle'> **Specify Project Folder Location**"
   ]
  },
  {
   "cell_type": "code",
   "execution_count": 9,
   "metadata": {
    "colab": {
     "base_uri": "https://localhost:8080/"
    },
    "execution": {
     "iopub.execute_input": "2022-10-23T23:36:21.896353Z",
     "iopub.status.busy": "2022-10-23T23:36:21.896274Z",
     "iopub.status.idle": "2022-10-23T23:36:21.898699Z",
     "shell.execute_reply": "2022-10-23T23:36:21.898425Z",
     "shell.execute_reply.started": "2022-10-23T23:36:21.896342Z"
    },
    "executionInfo": {
     "elapsed": 750,
     "status": "ok",
     "timestamp": 1665260906233,
     "user": {
      "displayName": "Shaannoor Mann",
      "userId": "02520257695567980696"
     },
     "user_tz": 300
    },
    "id": "YS943LowMRy7",
    "outputId": "a553cd9c-b3d7-4c3e-e76c-75b96cfb9ae5",
    "tags": []
   },
   "outputs": [],
   "source": [
    "if 'google.colab' in str(get_ipython()):\n",
    "    from google.colab import drive\n",
    "    drive.mount('/content/drive') "
   ]
  },
  {
   "cell_type": "code",
   "execution_count": 10,
   "metadata": {
    "execution": {
     "iopub.execute_input": "2022-10-23T23:36:21.899148Z",
     "iopub.status.busy": "2022-10-23T23:36:21.899074Z",
     "iopub.status.idle": "2022-10-23T23:36:21.901242Z",
     "shell.execute_reply": "2022-10-23T23:36:21.900982Z",
     "shell.execute_reply.started": "2022-10-23T23:36:21.899139Z"
    },
    "id": "AbYVFzzYMVn5",
    "tags": []
   },
   "outputs": [],
   "source": [
    "if 'google.colab' in str(get_ipython()):\n",
    "    base_folder = Path('/content/drive/MyDrive/data/')\n",
    "else:\n",
    "    base_folder = Path('/home/harpreet/Insync/google_drive_shaannoor/data/')"
   ]
  },
  {
   "cell_type": "code",
   "execution_count": 11,
   "metadata": {
    "execution": {
     "iopub.execute_input": "2022-10-23T23:36:21.901668Z",
     "iopub.status.busy": "2022-10-23T23:36:21.901595Z",
     "iopub.status.idle": "2022-10-23T23:36:21.903874Z",
     "shell.execute_reply": "2022-10-23T23:36:21.903615Z",
     "shell.execute_reply.started": "2022-10-23T23:36:21.901659Z"
    },
    "id": "GEx877hTMbqh",
    "tags": []
   },
   "outputs": [],
   "source": [
    "data_folder = base_folder/'datasets'\n",
    "save_model_folder = base_folder/'models/ml_fall_2022'\n",
    "custom_function_folder = base_folder/'custom-functions'\n",
    "save_model_folder.mkdir(exist_ok=True, parents=True)"
   ]
  },
  {
   "cell_type": "code",
   "execution_count": 12,
   "metadata": {
    "execution": {
     "iopub.execute_input": "2022-10-23T23:36:21.904796Z",
     "iopub.status.busy": "2022-10-23T23:36:21.904468Z",
     "iopub.status.idle": "2022-10-23T23:36:21.915813Z",
     "shell.execute_reply": "2022-10-23T23:36:21.915561Z",
     "shell.execute_reply.started": "2022-10-23T23:36:21.904778Z"
    },
    "id": "n36rJZHFMuAg",
    "tags": []
   },
   "outputs": [],
   "source": [
    "%load_ext autoreload\n",
    "%autoreload 2"
   ]
  },
  {
   "cell_type": "code",
   "execution_count": 13,
   "metadata": {
    "execution": {
     "iopub.execute_input": "2022-10-23T23:36:21.916240Z",
     "iopub.status.busy": "2022-10-23T23:36:21.916168Z",
     "iopub.status.idle": "2022-10-23T23:36:21.925315Z",
     "shell.execute_reply": "2022-10-23T23:36:21.925058Z",
     "shell.execute_reply.started": "2022-10-23T23:36:21.916231Z"
    },
    "id": "Ui6jEPgpMuxV",
    "tags": []
   },
   "outputs": [],
   "source": [
    "sys.path.append(str(custom_function_folder))"
   ]
  },
  {
   "cell_type": "code",
   "execution_count": 14,
   "metadata": {
    "colab": {
     "base_uri": "https://localhost:8080/"
    },
    "execution": {
     "iopub.execute_input": "2022-10-23T23:36:21.927474Z",
     "iopub.status.busy": "2022-10-23T23:36:21.927395Z",
     "iopub.status.idle": "2022-10-23T23:36:21.937548Z",
     "shell.execute_reply": "2022-10-23T23:36:21.937296Z",
     "shell.execute_reply.started": "2022-10-23T23:36:21.927464Z"
    },
    "executionInfo": {
     "elapsed": 4,
     "status": "ok",
     "timestamp": 1665260906234,
     "user": {
      "displayName": "Shaannoor Mann",
      "userId": "02520257695567980696"
     },
     "user_tz": 300
    },
    "id": "gtpYU1O7M0OV",
    "outputId": "92e060e4-8f48-40c3-db21-6efce10f3d97",
    "tags": []
   },
   "outputs": [
    {
     "data": {
      "text/plain": [
       "['/home/harpreet/Insync/google_drive_teaching/teaching_fall_2022/ml-fall-2022/Lecture8_SVM_DTree',\n",
       " '/home/harpreet/mambaforge/lib/python310.zip',\n",
       " '/home/harpreet/mambaforge/lib/python3.10',\n",
       " '/home/harpreet/mambaforge/lib/python3.10/lib-dynload',\n",
       " '',\n",
       " '/home/harpreet/.local/lib/python3.10/site-packages',\n",
       " '/home/harpreet/mambaforge/lib/python3.10/site-packages',\n",
       " '/home/harpreet/mambaforge/lib/python3.10/site-packages/sentencepiece-0.1.95-py3.10-linux-x86_64.egg',\n",
       " '/home/harpreet/Insync/google_drive_shaannoor/data/custom-functions']"
      ]
     },
     "execution_count": 14,
     "metadata": {},
     "output_type": "execute_result"
    }
   ],
   "source": [
    "sys.path"
   ]
  },
  {
   "cell_type": "code",
   "execution_count": 15,
   "metadata": {
    "execution": {
     "iopub.execute_input": "2022-10-23T23:36:21.937986Z",
     "iopub.status.busy": "2022-10-23T23:36:21.937913Z",
     "iopub.status.idle": "2022-10-23T23:36:21.961925Z",
     "shell.execute_reply": "2022-10-23T23:36:21.961575Z",
     "shell.execute_reply.started": "2022-10-23T23:36:21.937977Z"
    },
    "id": "phWR13WZNC5s",
    "tags": []
   },
   "outputs": [],
   "source": [
    "from  plot_learning_curve import plot_learning_curve"
   ]
  },
  {
   "cell_type": "code",
   "execution_count": 16,
   "metadata": {
    "execution": {
     "iopub.execute_input": "2022-10-23T23:36:21.962376Z",
     "iopub.status.busy": "2022-10-23T23:36:21.962303Z",
     "iopub.status.idle": "2022-10-23T23:36:21.971268Z",
     "shell.execute_reply": "2022-10-23T23:36:21.970993Z",
     "shell.execute_reply.started": "2022-10-23T23:36:21.962367Z"
    },
    "id": "SLcCft36SmE_",
    "tags": []
   },
   "outputs": [],
   "source": [
    "from eda_plots import diagnostic_plots, plot_target_by_category"
   ]
  },
  {
   "cell_type": "markdown",
   "metadata": {
    "id": "XoP6NciQEL0v"
   },
   "source": [
    "# <font color = 'pickle'>**Import the dataset**\n",
    "Next, we will create variables to store paths where the data exists and where we will save the model. "
   ]
  },
  {
   "cell_type": "markdown",
   "metadata": {
    "id": "eAMXlSoKsZCC"
   },
   "source": [
    "Now, we will create a variable to store the specific data file path from the data source folder."
   ]
  },
  {
   "cell_type": "code",
   "execution_count": 17,
   "metadata": {
    "execution": {
     "iopub.execute_input": "2022-10-23T23:36:21.971705Z",
     "iopub.status.busy": "2022-10-23T23:36:21.971631Z",
     "iopub.status.idle": "2022-10-23T23:36:21.979940Z",
     "shell.execute_reply": "2022-10-23T23:36:21.979676Z",
     "shell.execute_reply.started": "2022-10-23T23:36:21.971696Z"
    },
    "id": "4gSZxOT74-ut",
    "tags": []
   },
   "outputs": [],
   "source": [
    "file = data_folder / 'modified_churn.csv'"
   ]
  },
  {
   "cell_type": "markdown",
   "metadata": {
    "id": "4EkE60wkssnH"
   },
   "source": [
    "Now, we will create a data-frame using the above file path and Pandas....  "
   ]
  },
  {
   "cell_type": "code",
   "execution_count": 18,
   "metadata": {
    "execution": {
     "iopub.execute_input": "2022-10-23T23:36:21.980373Z",
     "iopub.status.busy": "2022-10-23T23:36:21.980299Z",
     "iopub.status.idle": "2022-10-23T23:36:21.995356Z",
     "shell.execute_reply": "2022-10-23T23:36:21.995097Z",
     "shell.execute_reply.started": "2022-10-23T23:36:21.980363Z"
    },
    "id": "KnfuvsILEL0v",
    "tags": []
   },
   "outputs": [],
   "source": [
    "df = pd.read_csv(file)"
   ]
  },
  {
   "cell_type": "code",
   "execution_count": 19,
   "metadata": {
    "colab": {
     "base_uri": "https://localhost:8080/"
    },
    "execution": {
     "iopub.execute_input": "2022-10-23T23:36:21.995792Z",
     "iopub.status.busy": "2022-10-23T23:36:21.995718Z",
     "iopub.status.idle": "2022-10-23T23:36:22.008458Z",
     "shell.execute_reply": "2022-10-23T23:36:22.008187Z",
     "shell.execute_reply.started": "2022-10-23T23:36:21.995783Z"
    },
    "executionInfo": {
     "elapsed": 4,
     "status": "ok",
     "timestamp": 1665260906445,
     "user": {
      "displayName": "Shaannoor Mann",
      "userId": "02520257695567980696"
     },
     "user_tz": 300
    },
    "id": "Ypq5JyviN48N",
    "outputId": "eeffa628-b547-4042-f7a0-796d19a73cdb",
    "tags": []
   },
   "outputs": [
    {
     "name": "stdout",
     "output_type": "stream",
     "text": [
      "<class 'pandas.core.frame.DataFrame'>\n",
      "RangeIndex: 4074 entries, 0 to 4073\n",
      "Data columns (total 15 columns):\n",
      " #   Column           Non-Null Count  Dtype  \n",
      "---  ------           --------------  -----  \n",
      " 0   Unnamed: 0       4074 non-null   int64  \n",
      " 1   RowNumber        4074 non-null   int64  \n",
      " 2   CustomerId       4074 non-null   int64  \n",
      " 3   Surname          4074 non-null   object \n",
      " 4   CreditScore      4074 non-null   int64  \n",
      " 5   Geography        3585 non-null   object \n",
      " 6   Gender           4033 non-null   object \n",
      " 7   Age              3543 non-null   float64\n",
      " 8   Tenure           4072 non-null   float64\n",
      " 9   Balance          4067 non-null   float64\n",
      " 10  NumOfProducts    4070 non-null   float64\n",
      " 11  HasCrCard        4074 non-null   int64  \n",
      " 12  IsActiveMember   4074 non-null   int64  \n",
      " 13  EstimatedSalary  4074 non-null   float64\n",
      " 14  Exited           4074 non-null   int64  \n",
      "dtypes: float64(5), int64(7), object(3)\n",
      "memory usage: 477.5+ KB\n"
     ]
    }
   ],
   "source": [
    "df.info()"
   ]
  },
  {
   "cell_type": "markdown",
   "metadata": {
    "id": "cOelMajf2OeE"
   },
   "source": [
    "# <font color = 'pickle'>**Split Data into Train/Test set**"
   ]
  },
  {
   "cell_type": "code",
   "execution_count": 20,
   "metadata": {
    "execution": {
     "iopub.execute_input": "2022-10-23T23:36:22.008907Z",
     "iopub.status.busy": "2022-10-23T23:36:22.008831Z",
     "iopub.status.idle": "2022-10-23T23:36:22.019185Z",
     "shell.execute_reply": "2022-10-23T23:36:22.018921Z",
     "shell.execute_reply.started": "2022-10-23T23:36:22.008897Z"
    },
    "id": "u5-BpiokwkOv",
    "tags": []
   },
   "outputs": [],
   "source": [
    "# before doing any data cleaning step we need to first split the data into train/test\n",
    "X = df.drop(['Exited'], axis =1)\n",
    "y = df['Exited']\n",
    "X_train, X_test, y_train, y_test = train_test_split(X, y, test_size=0.33, random_state=0, stratify =y)"
   ]
  },
  {
   "cell_type": "markdown",
   "metadata": {
    "id": "ZHSUYlma4YJK"
   },
   "source": [
    "# <font color = 'pickle'> **Complete Pipeline**\n",
    "\n",
    "We will start  with churn_pipleline_3 from knn_complete example. We will change the final steps to SVM Model and fine tune the hyperparameters of SVM now. We will first start with Linear SVC and try other kernels in later rounds.\n",
    "The three important hyperparameters for Linear SVC in sklearn are :\n",
    "\n",
    "- C: Inverse of regularization strength. We can increase/descrease C to increase/deecrease model complexity. Smaller values specify stronger regularization.\n",
    "\n",
    "- penalty :Since we do not have very large number of variables, we will use l2 regularization. L1 is useful if we want to do feature selection.\n",
    "\n",
    "-  Since in our case n_samples> n_features, we will use dual = False.\n",
    "\n",
    "We will first try to overfit the data. We can do that by specifying a very high value for C.\n"
   ]
  },
  {
   "cell_type": "code",
   "execution_count": 21,
   "metadata": {
    "execution": {
     "iopub.execute_input": "2022-10-23T23:36:22.019631Z",
     "iopub.status.busy": "2022-10-23T23:36:22.019558Z",
     "iopub.status.idle": "2022-10-23T23:36:22.029325Z",
     "shell.execute_reply": "2022-10-23T23:36:22.029054Z",
     "shell.execute_reply.started": "2022-10-23T23:36:22.019622Z"
    },
    "id": "68EBNpWazH9K",
    "tags": []
   },
   "outputs": [],
   "source": [
    "columns_to_drop = ['RowNumber', 'CustomerId', 'Surname','Unnamed: 0']\n",
    "\n",
    "churn_pipeline_svc = Pipeline([\n",
    "                           \n",
    "    ('drop_features',\n",
    "      DropFeatures(columns_to_drop)),\n",
    "\n",
    "    ('imputer_median',\n",
    "      MeanMedianImputer(imputation_method='median', variables=['Age', 'Balance', 'NumOfProducts'])),\n",
    "\n",
    "    ('imputer_catgorical_frequent',\n",
    "      CategoricalImputer(imputation_method = 'frequent', variables=['Gender','Geography'])),\n",
    "\n",
    "      ('imputer_missing_indicator',\n",
    "      AddMissingIndicator(variables=['Age', 'Geography'])),\n",
    "\n",
    "    ('imputer_random_sample',\n",
    "      RandomSampleImputer(random_state=123, variables=['Tenure'])),\n",
    "    \n",
    "    ('log_transformer', LogTransformer(variables = ['Age'])\n",
    "      ),\n",
    "    \n",
    "    ('discretizer_cs',\n",
    "      SklearnTransformerWrapper(KBinsDiscretizer(n_bins=10, encode= 'ordinal', strategy = 'kmeans' ), \n",
    "                               variables = ['CreditScore'])),\n",
    "\n",
    "    ('discretizer_bal',\n",
    "      SklearnTransformerWrapper(KBinsDiscretizer(n_bins=10, encode= 'ordinal', strategy = 'kmeans' ), \n",
    "                               variables = ['Balance'])),\n",
    "    \n",
    "    ('one_hot_encoder',\n",
    "      OneHotEncoder(variables=['Geography', 'Gender', 'HasCrCard', 'IsActiveMember', 'CreditScore', 'Balance']\n",
    "                   , drop_last= True, ignore_format=True)),\n",
    "\n",
    "    ('outlier',\n",
    "      Winsorizer(capping_method='gaussian', tail ='both', fold = 3, variables=['Age'])),\n",
    "\n",
    "    ('scalar',\n",
    "      SklearnTransformerWrapper(MinMaxScaler(), variables = ['Age', 'Tenure', 'EstimatedSalary', 'NumOfProducts'])),\n",
    "    \n",
    "    ('svc',\n",
    "     LinearSVC(penalty ='l2',random_state=123, max_iter =100000, dual = False\n",
    "                       ))\n",
    "])"
   ]
  },
  {
   "cell_type": "code",
   "execution_count": 22,
   "metadata": {
    "colab": {
     "base_uri": "https://localhost:8080/",
     "height": 517
    },
    "execution": {
     "iopub.execute_input": "2022-10-23T23:36:22.029769Z",
     "iopub.status.busy": "2022-10-23T23:36:22.029688Z",
     "iopub.status.idle": "2022-10-23T23:36:22.056192Z",
     "shell.execute_reply": "2022-10-23T23:36:22.055940Z",
     "shell.execute_reply.started": "2022-10-23T23:36:22.029760Z"
    },
    "executionInfo": {
     "elapsed": 116,
     "status": "ok",
     "timestamp": 1627508492982,
     "user": {
      "displayName": "Shaannoor Mann",
      "photoUrl": "",
      "userId": "02520257695567980696"
     },
     "user_tz": 300
    },
    "id": "00MvgZ6Y_ApD",
    "outputId": "4ea7f7ac-3bbb-4224-9ad6-da1425710042",
    "tags": []
   },
   "outputs": [
    {
     "data": {
      "text/html": [
       "<style>#sk-container-id-1 {color: black;background-color: white;}#sk-container-id-1 pre{padding: 0;}#sk-container-id-1 div.sk-toggleable {background-color: white;}#sk-container-id-1 label.sk-toggleable__label {cursor: pointer;display: block;width: 100%;margin-bottom: 0;padding: 0.3em;box-sizing: border-box;text-align: center;}#sk-container-id-1 label.sk-toggleable__label-arrow:before {content: \"▸\";float: left;margin-right: 0.25em;color: #696969;}#sk-container-id-1 label.sk-toggleable__label-arrow:hover:before {color: black;}#sk-container-id-1 div.sk-estimator:hover label.sk-toggleable__label-arrow:before {color: black;}#sk-container-id-1 div.sk-toggleable__content {max-height: 0;max-width: 0;overflow: hidden;text-align: left;background-color: #f0f8ff;}#sk-container-id-1 div.sk-toggleable__content pre {margin: 0.2em;color: black;border-radius: 0.25em;background-color: #f0f8ff;}#sk-container-id-1 input.sk-toggleable__control:checked~div.sk-toggleable__content {max-height: 200px;max-width: 100%;overflow: auto;}#sk-container-id-1 input.sk-toggleable__control:checked~label.sk-toggleable__label-arrow:before {content: \"▾\";}#sk-container-id-1 div.sk-estimator input.sk-toggleable__control:checked~label.sk-toggleable__label {background-color: #d4ebff;}#sk-container-id-1 div.sk-label input.sk-toggleable__control:checked~label.sk-toggleable__label {background-color: #d4ebff;}#sk-container-id-1 input.sk-hidden--visually {border: 0;clip: rect(1px 1px 1px 1px);clip: rect(1px, 1px, 1px, 1px);height: 1px;margin: -1px;overflow: hidden;padding: 0;position: absolute;width: 1px;}#sk-container-id-1 div.sk-estimator {font-family: monospace;background-color: #f0f8ff;border: 1px dotted black;border-radius: 0.25em;box-sizing: border-box;margin-bottom: 0.5em;}#sk-container-id-1 div.sk-estimator:hover {background-color: #d4ebff;}#sk-container-id-1 div.sk-parallel-item::after {content: \"\";width: 100%;border-bottom: 1px solid gray;flex-grow: 1;}#sk-container-id-1 div.sk-label:hover label.sk-toggleable__label {background-color: #d4ebff;}#sk-container-id-1 div.sk-serial::before {content: \"\";position: absolute;border-left: 1px solid gray;box-sizing: border-box;top: 0;bottom: 0;left: 50%;z-index: 0;}#sk-container-id-1 div.sk-serial {display: flex;flex-direction: column;align-items: center;background-color: white;padding-right: 0.2em;padding-left: 0.2em;position: relative;}#sk-container-id-1 div.sk-item {position: relative;z-index: 1;}#sk-container-id-1 div.sk-parallel {display: flex;align-items: stretch;justify-content: center;background-color: white;position: relative;}#sk-container-id-1 div.sk-item::before, #sk-container-id-1 div.sk-parallel-item::before {content: \"\";position: absolute;border-left: 1px solid gray;box-sizing: border-box;top: 0;bottom: 0;left: 50%;z-index: -1;}#sk-container-id-1 div.sk-parallel-item {display: flex;flex-direction: column;z-index: 1;position: relative;background-color: white;}#sk-container-id-1 div.sk-parallel-item:first-child::after {align-self: flex-end;width: 50%;}#sk-container-id-1 div.sk-parallel-item:last-child::after {align-self: flex-start;width: 50%;}#sk-container-id-1 div.sk-parallel-item:only-child::after {width: 0;}#sk-container-id-1 div.sk-dashed-wrapped {border: 1px dashed gray;margin: 0 0.4em 0.5em 0.4em;box-sizing: border-box;padding-bottom: 0.4em;background-color: white;}#sk-container-id-1 div.sk-label label {font-family: monospace;font-weight: bold;display: inline-block;line-height: 1.2em;}#sk-container-id-1 div.sk-label-container {text-align: center;}#sk-container-id-1 div.sk-container {/* jupyter's `normalize.less` sets `[hidden] { display: none; }` but bootstrap.min.css set `[hidden] { display: none !important; }` so we also need the `!important` here to be able to override the default hidden behavior on the sphinx rendered scikit-learn.org. See: https://github.com/scikit-learn/scikit-learn/issues/21755 */display: inline-block !important;position: relative;}#sk-container-id-1 div.sk-text-repr-fallback {display: none;}</style><div id=\"sk-container-id-1\" class=\"sk-top-container\"><div class=\"sk-text-repr-fallback\"><pre>Pipeline(steps=[(&#x27;drop_features&#x27;,\n",
       "                 DropFeatures(features_to_drop=[&#x27;RowNumber&#x27;, &#x27;CustomerId&#x27;,\n",
       "                                                &#x27;Surname&#x27;, &#x27;Unnamed: 0&#x27;])),\n",
       "                (&#x27;imputer_median&#x27;,\n",
       "                 MeanMedianImputer(variables=[&#x27;Age&#x27;, &#x27;Balance&#x27;,\n",
       "                                              &#x27;NumOfProducts&#x27;])),\n",
       "                (&#x27;imputer_catgorical_frequent&#x27;,\n",
       "                 CategoricalImputer(imputation_method=&#x27;frequent&#x27;,\n",
       "                                    variables=[&#x27;Gender&#x27;, &#x27;Geography&#x27;])),\n",
       "                (&#x27;imputer_missing_indicator&#x27;,\n",
       "                 AddMissingI...\n",
       "                 OneHotEncoder(drop_last=True, ignore_format=True,\n",
       "                               variables=[&#x27;Geography&#x27;, &#x27;Gender&#x27;, &#x27;HasCrCard&#x27;,\n",
       "                                          &#x27;IsActiveMember&#x27;, &#x27;CreditScore&#x27;,\n",
       "                                          &#x27;Balance&#x27;])),\n",
       "                (&#x27;outlier&#x27;, Winsorizer(tail=&#x27;both&#x27;, variables=[&#x27;Age&#x27;])),\n",
       "                (&#x27;scalar&#x27;,\n",
       "                 SklearnTransformerWrapper(transformer=MinMaxScaler(),\n",
       "                                           variables=[&#x27;Age&#x27;, &#x27;Tenure&#x27;,\n",
       "                                                      &#x27;EstimatedSalary&#x27;,\n",
       "                                                      &#x27;NumOfProducts&#x27;])),\n",
       "                (&#x27;svc&#x27;,\n",
       "                 LinearSVC(dual=False, max_iter=100000, random_state=123))])</pre><b>In a Jupyter environment, please rerun this cell to show the HTML representation or trust the notebook. <br />On GitHub, the HTML representation is unable to render, please try loading this page with nbviewer.org.</b></div><div class=\"sk-container\" hidden><div class=\"sk-item sk-dashed-wrapped\"><div class=\"sk-label-container\"><div class=\"sk-label sk-toggleable\"><input class=\"sk-toggleable__control sk-hidden--visually\" id=\"sk-estimator-id-1\" type=\"checkbox\" ><label for=\"sk-estimator-id-1\" class=\"sk-toggleable__label sk-toggleable__label-arrow\">Pipeline</label><div class=\"sk-toggleable__content\"><pre>Pipeline(steps=[(&#x27;drop_features&#x27;,\n",
       "                 DropFeatures(features_to_drop=[&#x27;RowNumber&#x27;, &#x27;CustomerId&#x27;,\n",
       "                                                &#x27;Surname&#x27;, &#x27;Unnamed: 0&#x27;])),\n",
       "                (&#x27;imputer_median&#x27;,\n",
       "                 MeanMedianImputer(variables=[&#x27;Age&#x27;, &#x27;Balance&#x27;,\n",
       "                                              &#x27;NumOfProducts&#x27;])),\n",
       "                (&#x27;imputer_catgorical_frequent&#x27;,\n",
       "                 CategoricalImputer(imputation_method=&#x27;frequent&#x27;,\n",
       "                                    variables=[&#x27;Gender&#x27;, &#x27;Geography&#x27;])),\n",
       "                (&#x27;imputer_missing_indicator&#x27;,\n",
       "                 AddMissingI...\n",
       "                 OneHotEncoder(drop_last=True, ignore_format=True,\n",
       "                               variables=[&#x27;Geography&#x27;, &#x27;Gender&#x27;, &#x27;HasCrCard&#x27;,\n",
       "                                          &#x27;IsActiveMember&#x27;, &#x27;CreditScore&#x27;,\n",
       "                                          &#x27;Balance&#x27;])),\n",
       "                (&#x27;outlier&#x27;, Winsorizer(tail=&#x27;both&#x27;, variables=[&#x27;Age&#x27;])),\n",
       "                (&#x27;scalar&#x27;,\n",
       "                 SklearnTransformerWrapper(transformer=MinMaxScaler(),\n",
       "                                           variables=[&#x27;Age&#x27;, &#x27;Tenure&#x27;,\n",
       "                                                      &#x27;EstimatedSalary&#x27;,\n",
       "                                                      &#x27;NumOfProducts&#x27;])),\n",
       "                (&#x27;svc&#x27;,\n",
       "                 LinearSVC(dual=False, max_iter=100000, random_state=123))])</pre></div></div></div><div class=\"sk-serial\"><div class=\"sk-item\"><div class=\"sk-estimator sk-toggleable\"><input class=\"sk-toggleable__control sk-hidden--visually\" id=\"sk-estimator-id-2\" type=\"checkbox\" ><label for=\"sk-estimator-id-2\" class=\"sk-toggleable__label sk-toggleable__label-arrow\">DropFeatures</label><div class=\"sk-toggleable__content\"><pre>DropFeatures(features_to_drop=[&#x27;RowNumber&#x27;, &#x27;CustomerId&#x27;, &#x27;Surname&#x27;,\n",
       "                               &#x27;Unnamed: 0&#x27;])</pre></div></div></div><div class=\"sk-item\"><div class=\"sk-estimator sk-toggleable\"><input class=\"sk-toggleable__control sk-hidden--visually\" id=\"sk-estimator-id-3\" type=\"checkbox\" ><label for=\"sk-estimator-id-3\" class=\"sk-toggleable__label sk-toggleable__label-arrow\">MeanMedianImputer</label><div class=\"sk-toggleable__content\"><pre>MeanMedianImputer(variables=[&#x27;Age&#x27;, &#x27;Balance&#x27;, &#x27;NumOfProducts&#x27;])</pre></div></div></div><div class=\"sk-item\"><div class=\"sk-estimator sk-toggleable\"><input class=\"sk-toggleable__control sk-hidden--visually\" id=\"sk-estimator-id-4\" type=\"checkbox\" ><label for=\"sk-estimator-id-4\" class=\"sk-toggleable__label sk-toggleable__label-arrow\">CategoricalImputer</label><div class=\"sk-toggleable__content\"><pre>CategoricalImputer(imputation_method=&#x27;frequent&#x27;,\n",
       "                   variables=[&#x27;Gender&#x27;, &#x27;Geography&#x27;])</pre></div></div></div><div class=\"sk-item\"><div class=\"sk-estimator sk-toggleable\"><input class=\"sk-toggleable__control sk-hidden--visually\" id=\"sk-estimator-id-5\" type=\"checkbox\" ><label for=\"sk-estimator-id-5\" class=\"sk-toggleable__label sk-toggleable__label-arrow\">AddMissingIndicator</label><div class=\"sk-toggleable__content\"><pre>AddMissingIndicator(variables=[&#x27;Age&#x27;, &#x27;Geography&#x27;])</pre></div></div></div><div class=\"sk-item\"><div class=\"sk-estimator sk-toggleable\"><input class=\"sk-toggleable__control sk-hidden--visually\" id=\"sk-estimator-id-6\" type=\"checkbox\" ><label for=\"sk-estimator-id-6\" class=\"sk-toggleable__label sk-toggleable__label-arrow\">RandomSampleImputer</label><div class=\"sk-toggleable__content\"><pre>RandomSampleImputer(random_state=123, variables=[&#x27;Tenure&#x27;])</pre></div></div></div><div class=\"sk-item\"><div class=\"sk-estimator sk-toggleable\"><input class=\"sk-toggleable__control sk-hidden--visually\" id=\"sk-estimator-id-7\" type=\"checkbox\" ><label for=\"sk-estimator-id-7\" class=\"sk-toggleable__label sk-toggleable__label-arrow\">LogTransformer</label><div class=\"sk-toggleable__content\"><pre>LogTransformer(variables=[&#x27;Age&#x27;])</pre></div></div></div><div class=\"sk-item sk-dashed-wrapped\"><div class=\"sk-label-container\"><div class=\"sk-label sk-toggleable\"><input class=\"sk-toggleable__control sk-hidden--visually\" id=\"sk-estimator-id-8\" type=\"checkbox\" ><label for=\"sk-estimator-id-8\" class=\"sk-toggleable__label sk-toggleable__label-arrow\">discretizer_cs: SklearnTransformerWrapper</label><div class=\"sk-toggleable__content\"><pre>SklearnTransformerWrapper(transformer=KBinsDiscretizer(encode=&#x27;ordinal&#x27;,\n",
       "                                                       n_bins=10,\n",
       "                                                       strategy=&#x27;kmeans&#x27;),\n",
       "                          variables=[&#x27;CreditScore&#x27;])</pre></div></div></div><div class=\"sk-parallel\"><div class=\"sk-parallel-item\"><div class=\"sk-item\"><div class=\"sk-label-container\"><div class=\"sk-label sk-toggleable\"><input class=\"sk-toggleable__control sk-hidden--visually\" id=\"sk-estimator-id-9\" type=\"checkbox\" ><label for=\"sk-estimator-id-9\" class=\"sk-toggleable__label sk-toggleable__label-arrow\">transformer: KBinsDiscretizer</label><div class=\"sk-toggleable__content\"><pre>KBinsDiscretizer(encode=&#x27;ordinal&#x27;, n_bins=10, strategy=&#x27;kmeans&#x27;)</pre></div></div></div><div class=\"sk-serial\"><div class=\"sk-item\"><div class=\"sk-estimator sk-toggleable\"><input class=\"sk-toggleable__control sk-hidden--visually\" id=\"sk-estimator-id-10\" type=\"checkbox\" ><label for=\"sk-estimator-id-10\" class=\"sk-toggleable__label sk-toggleable__label-arrow\">KBinsDiscretizer</label><div class=\"sk-toggleable__content\"><pre>KBinsDiscretizer(encode=&#x27;ordinal&#x27;, n_bins=10, strategy=&#x27;kmeans&#x27;)</pre></div></div></div></div></div></div></div></div><div class=\"sk-item sk-dashed-wrapped\"><div class=\"sk-label-container\"><div class=\"sk-label sk-toggleable\"><input class=\"sk-toggleable__control sk-hidden--visually\" id=\"sk-estimator-id-11\" type=\"checkbox\" ><label for=\"sk-estimator-id-11\" class=\"sk-toggleable__label sk-toggleable__label-arrow\">discretizer_bal: SklearnTransformerWrapper</label><div class=\"sk-toggleable__content\"><pre>SklearnTransformerWrapper(transformer=KBinsDiscretizer(encode=&#x27;ordinal&#x27;,\n",
       "                                                       n_bins=10,\n",
       "                                                       strategy=&#x27;kmeans&#x27;),\n",
       "                          variables=[&#x27;Balance&#x27;])</pre></div></div></div><div class=\"sk-parallel\"><div class=\"sk-parallel-item\"><div class=\"sk-item\"><div class=\"sk-label-container\"><div class=\"sk-label sk-toggleable\"><input class=\"sk-toggleable__control sk-hidden--visually\" id=\"sk-estimator-id-12\" type=\"checkbox\" ><label for=\"sk-estimator-id-12\" class=\"sk-toggleable__label sk-toggleable__label-arrow\">transformer: KBinsDiscretizer</label><div class=\"sk-toggleable__content\"><pre>KBinsDiscretizer(encode=&#x27;ordinal&#x27;, n_bins=10, strategy=&#x27;kmeans&#x27;)</pre></div></div></div><div class=\"sk-serial\"><div class=\"sk-item\"><div class=\"sk-estimator sk-toggleable\"><input class=\"sk-toggleable__control sk-hidden--visually\" id=\"sk-estimator-id-13\" type=\"checkbox\" ><label for=\"sk-estimator-id-13\" class=\"sk-toggleable__label sk-toggleable__label-arrow\">KBinsDiscretizer</label><div class=\"sk-toggleable__content\"><pre>KBinsDiscretizer(encode=&#x27;ordinal&#x27;, n_bins=10, strategy=&#x27;kmeans&#x27;)</pre></div></div></div></div></div></div></div></div><div class=\"sk-item\"><div class=\"sk-estimator sk-toggleable\"><input class=\"sk-toggleable__control sk-hidden--visually\" id=\"sk-estimator-id-14\" type=\"checkbox\" ><label for=\"sk-estimator-id-14\" class=\"sk-toggleable__label sk-toggleable__label-arrow\">OneHotEncoder</label><div class=\"sk-toggleable__content\"><pre>OneHotEncoder(drop_last=True, ignore_format=True,\n",
       "              variables=[&#x27;Geography&#x27;, &#x27;Gender&#x27;, &#x27;HasCrCard&#x27;, &#x27;IsActiveMember&#x27;,\n",
       "                         &#x27;CreditScore&#x27;, &#x27;Balance&#x27;])</pre></div></div></div><div class=\"sk-item\"><div class=\"sk-estimator sk-toggleable\"><input class=\"sk-toggleable__control sk-hidden--visually\" id=\"sk-estimator-id-15\" type=\"checkbox\" ><label for=\"sk-estimator-id-15\" class=\"sk-toggleable__label sk-toggleable__label-arrow\">Winsorizer</label><div class=\"sk-toggleable__content\"><pre>Winsorizer(tail=&#x27;both&#x27;, variables=[&#x27;Age&#x27;])</pre></div></div></div><div class=\"sk-item sk-dashed-wrapped\"><div class=\"sk-label-container\"><div class=\"sk-label sk-toggleable\"><input class=\"sk-toggleable__control sk-hidden--visually\" id=\"sk-estimator-id-16\" type=\"checkbox\" ><label for=\"sk-estimator-id-16\" class=\"sk-toggleable__label sk-toggleable__label-arrow\">scalar: SklearnTransformerWrapper</label><div class=\"sk-toggleable__content\"><pre>SklearnTransformerWrapper(transformer=MinMaxScaler(),\n",
       "                          variables=[&#x27;Age&#x27;, &#x27;Tenure&#x27;, &#x27;EstimatedSalary&#x27;,\n",
       "                                     &#x27;NumOfProducts&#x27;])</pre></div></div></div><div class=\"sk-parallel\"><div class=\"sk-parallel-item\"><div class=\"sk-item\"><div class=\"sk-label-container\"><div class=\"sk-label sk-toggleable\"><input class=\"sk-toggleable__control sk-hidden--visually\" id=\"sk-estimator-id-17\" type=\"checkbox\" ><label for=\"sk-estimator-id-17\" class=\"sk-toggleable__label sk-toggleable__label-arrow\">transformer: MinMaxScaler</label><div class=\"sk-toggleable__content\"><pre>MinMaxScaler()</pre></div></div></div><div class=\"sk-serial\"><div class=\"sk-item\"><div class=\"sk-estimator sk-toggleable\"><input class=\"sk-toggleable__control sk-hidden--visually\" id=\"sk-estimator-id-18\" type=\"checkbox\" ><label for=\"sk-estimator-id-18\" class=\"sk-toggleable__label sk-toggleable__label-arrow\">MinMaxScaler</label><div class=\"sk-toggleable__content\"><pre>MinMaxScaler()</pre></div></div></div></div></div></div></div></div><div class=\"sk-item\"><div class=\"sk-estimator sk-toggleable\"><input class=\"sk-toggleable__control sk-hidden--visually\" id=\"sk-estimator-id-19\" type=\"checkbox\" ><label for=\"sk-estimator-id-19\" class=\"sk-toggleable__label sk-toggleable__label-arrow\">LinearSVC</label><div class=\"sk-toggleable__content\"><pre>LinearSVC(dual=False, max_iter=100000, random_state=123)</pre></div></div></div></div></div></div></div>"
      ],
      "text/plain": [
       "Pipeline(steps=[('drop_features',\n",
       "                 DropFeatures(features_to_drop=['RowNumber', 'CustomerId',\n",
       "                                                'Surname', 'Unnamed: 0'])),\n",
       "                ('imputer_median',\n",
       "                 MeanMedianImputer(variables=['Age', 'Balance',\n",
       "                                              'NumOfProducts'])),\n",
       "                ('imputer_catgorical_frequent',\n",
       "                 CategoricalImputer(imputation_method='frequent',\n",
       "                                    variables=['Gender', 'Geography'])),\n",
       "                ('imputer_missing_indicator',\n",
       "                 AddMissingI...\n",
       "                 OneHotEncoder(drop_last=True, ignore_format=True,\n",
       "                               variables=['Geography', 'Gender', 'HasCrCard',\n",
       "                                          'IsActiveMember', 'CreditScore',\n",
       "                                          'Balance'])),\n",
       "                ('outlier', Winsorizer(tail='both', variables=['Age'])),\n",
       "                ('scalar',\n",
       "                 SklearnTransformerWrapper(transformer=MinMaxScaler(),\n",
       "                                           variables=['Age', 'Tenure',\n",
       "                                                      'EstimatedSalary',\n",
       "                                                      'NumOfProducts'])),\n",
       "                ('svc',\n",
       "                 LinearSVC(dual=False, max_iter=100000, random_state=123))])"
      ]
     },
     "execution_count": 22,
     "metadata": {},
     "output_type": "execute_result"
    }
   ],
   "source": [
    "from sklearn import set_config\n",
    "\n",
    "set_config(display='diagram')\n",
    "churn_pipeline_svc"
   ]
  },
  {
   "cell_type": "markdown",
   "metadata": {
    "id": "Kp-MdP4wyZNp"
   },
   "source": [
    "## <font color = 'pickle'>**Hyperparameter Tuning - Round 1**"
   ]
  },
  {
   "cell_type": "markdown",
   "metadata": {
    "execution": {
     "iopub.execute_input": "2021-07-29T10:06:15.976869Z",
     "iopub.status.busy": "2021-07-29T10:06:15.976439Z",
     "iopub.status.idle": "2021-07-29T10:06:15.979365Z",
     "shell.execute_reply": "2021-07-29T10:06:15.979091Z",
     "shell.execute_reply.started": "2021-07-29T10:06:15.976849Z"
    },
    "id": "3_454y3nXdW2",
    "tags": []
   },
   "source": [
    "**It is normally a good idea to use log scale to specify search space for C. We willl not serach over C in the first round. In the first round we will try to see if we can overfit the training data. We can do that by specifying a very high value for C.**. "
   ]
  },
  {
   "cell_type": "markdown",
   "metadata": {
    "execution": {
     "iopub.execute_input": "2022-10-23T23:02:27.751893Z",
     "iopub.status.busy": "2022-10-23T23:02:27.751654Z",
     "iopub.status.idle": "2022-10-23T23:02:27.775839Z",
     "shell.execute_reply": "2022-10-23T23:02:27.775070Z",
     "shell.execute_reply.started": "2022-10-23T23:02:27.751868Z"
    }
   },
   "source": [
    "### <font color = 'pickle'>**Specify Param Grid**"
   ]
  },
  {
   "cell_type": "code",
   "execution_count": 23,
   "metadata": {
    "execution": {
     "iopub.execute_input": "2022-10-23T23:36:22.056622Z",
     "iopub.status.busy": "2022-10-23T23:36:22.056549Z",
     "iopub.status.idle": "2022-10-23T23:36:22.065942Z",
     "shell.execute_reply": "2022-10-23T23:36:22.065673Z",
     "shell.execute_reply.started": "2022-10-23T23:36:22.056613Z"
    },
    "id": "XITc81Fjm05O",
    "tags": []
   },
   "outputs": [],
   "source": [
    "# now we create the grid with all the parameters that we would like to test\n",
    "\n",
    "param_grid_1 = {\n",
    "    'discretizer_cs__transformer__n_bins': range(2, 8, 2),\n",
    "    'discretizer_bal__transformer__n_bins': range(2, 8, 2),\n",
    "    'scalar__transformer': [StandardScaler(), MinMaxScaler()],\n",
    "    'svc__C': [100],\n",
    "    }\n",
    "\n",
    "\n",
    "# now we set up the grid search with cross-validation\n",
    "grid_svc_1 = GridSearchCV(churn_pipeline_svc, param_grid_1,\n",
    "                           cv=5, return_train_score= True, n_jobs=-1 )"
   ]
  },
  {
   "cell_type": "markdown",
   "metadata": {
    "execution": {
     "iopub.execute_input": "2022-10-23T23:03:10.773537Z",
     "iopub.status.busy": "2022-10-23T23:03:10.773298Z",
     "iopub.status.idle": "2022-10-23T23:03:10.795343Z",
     "shell.execute_reply": "2022-10-23T23:03:10.794675Z",
     "shell.execute_reply.started": "2022-10-23T23:03:10.773511Z"
    }
   },
   "source": [
    "### <font color = 'pickle'>**Fit Model**"
   ]
  },
  {
   "cell_type": "code",
   "execution_count": 24,
   "metadata": {
    "colab": {
     "base_uri": "https://localhost:8080/"
    },
    "execution": {
     "iopub.execute_input": "2022-10-23T23:36:22.066375Z",
     "iopub.status.busy": "2022-10-23T23:36:22.066301Z",
     "iopub.status.idle": "2022-10-23T23:36:23.808819Z",
     "shell.execute_reply": "2022-10-23T23:36:23.808413Z",
     "shell.execute_reply.started": "2022-10-23T23:36:22.066366Z"
    },
    "executionInfo": {
     "elapsed": 37245,
     "status": "ok",
     "timestamp": 1627508545270,
     "user": {
      "displayName": "Shaannoor Mann",
      "photoUrl": "",
      "userId": "02520257695567980696"
     },
     "user_tz": 300
    },
    "id": "HRNYXliAttst",
    "outputId": "892ac790-c6d2-4eb9-b12a-5c0533aa362c",
    "tags": []
   },
   "outputs": [
    {
     "data": {
      "text/html": [
       "<style>#sk-container-id-2 {color: black;background-color: white;}#sk-container-id-2 pre{padding: 0;}#sk-container-id-2 div.sk-toggleable {background-color: white;}#sk-container-id-2 label.sk-toggleable__label {cursor: pointer;display: block;width: 100%;margin-bottom: 0;padding: 0.3em;box-sizing: border-box;text-align: center;}#sk-container-id-2 label.sk-toggleable__label-arrow:before {content: \"▸\";float: left;margin-right: 0.25em;color: #696969;}#sk-container-id-2 label.sk-toggleable__label-arrow:hover:before {color: black;}#sk-container-id-2 div.sk-estimator:hover label.sk-toggleable__label-arrow:before {color: black;}#sk-container-id-2 div.sk-toggleable__content {max-height: 0;max-width: 0;overflow: hidden;text-align: left;background-color: #f0f8ff;}#sk-container-id-2 div.sk-toggleable__content pre {margin: 0.2em;color: black;border-radius: 0.25em;background-color: #f0f8ff;}#sk-container-id-2 input.sk-toggleable__control:checked~div.sk-toggleable__content {max-height: 200px;max-width: 100%;overflow: auto;}#sk-container-id-2 input.sk-toggleable__control:checked~label.sk-toggleable__label-arrow:before {content: \"▾\";}#sk-container-id-2 div.sk-estimator input.sk-toggleable__control:checked~label.sk-toggleable__label {background-color: #d4ebff;}#sk-container-id-2 div.sk-label input.sk-toggleable__control:checked~label.sk-toggleable__label {background-color: #d4ebff;}#sk-container-id-2 input.sk-hidden--visually {border: 0;clip: rect(1px 1px 1px 1px);clip: rect(1px, 1px, 1px, 1px);height: 1px;margin: -1px;overflow: hidden;padding: 0;position: absolute;width: 1px;}#sk-container-id-2 div.sk-estimator {font-family: monospace;background-color: #f0f8ff;border: 1px dotted black;border-radius: 0.25em;box-sizing: border-box;margin-bottom: 0.5em;}#sk-container-id-2 div.sk-estimator:hover {background-color: #d4ebff;}#sk-container-id-2 div.sk-parallel-item::after {content: \"\";width: 100%;border-bottom: 1px solid gray;flex-grow: 1;}#sk-container-id-2 div.sk-label:hover label.sk-toggleable__label {background-color: #d4ebff;}#sk-container-id-2 div.sk-serial::before {content: \"\";position: absolute;border-left: 1px solid gray;box-sizing: border-box;top: 0;bottom: 0;left: 50%;z-index: 0;}#sk-container-id-2 div.sk-serial {display: flex;flex-direction: column;align-items: center;background-color: white;padding-right: 0.2em;padding-left: 0.2em;position: relative;}#sk-container-id-2 div.sk-item {position: relative;z-index: 1;}#sk-container-id-2 div.sk-parallel {display: flex;align-items: stretch;justify-content: center;background-color: white;position: relative;}#sk-container-id-2 div.sk-item::before, #sk-container-id-2 div.sk-parallel-item::before {content: \"\";position: absolute;border-left: 1px solid gray;box-sizing: border-box;top: 0;bottom: 0;left: 50%;z-index: -1;}#sk-container-id-2 div.sk-parallel-item {display: flex;flex-direction: column;z-index: 1;position: relative;background-color: white;}#sk-container-id-2 div.sk-parallel-item:first-child::after {align-self: flex-end;width: 50%;}#sk-container-id-2 div.sk-parallel-item:last-child::after {align-self: flex-start;width: 50%;}#sk-container-id-2 div.sk-parallel-item:only-child::after {width: 0;}#sk-container-id-2 div.sk-dashed-wrapped {border: 1px dashed gray;margin: 0 0.4em 0.5em 0.4em;box-sizing: border-box;padding-bottom: 0.4em;background-color: white;}#sk-container-id-2 div.sk-label label {font-family: monospace;font-weight: bold;display: inline-block;line-height: 1.2em;}#sk-container-id-2 div.sk-label-container {text-align: center;}#sk-container-id-2 div.sk-container {/* jupyter's `normalize.less` sets `[hidden] { display: none; }` but bootstrap.min.css set `[hidden] { display: none !important; }` so we also need the `!important` here to be able to override the default hidden behavior on the sphinx rendered scikit-learn.org. See: https://github.com/scikit-learn/scikit-learn/issues/21755 */display: inline-block !important;position: relative;}#sk-container-id-2 div.sk-text-repr-fallback {display: none;}</style><div id=\"sk-container-id-2\" class=\"sk-top-container\"><div class=\"sk-text-repr-fallback\"><pre>GridSearchCV(cv=5,\n",
       "             estimator=Pipeline(steps=[(&#x27;drop_features&#x27;,\n",
       "                                        DropFeatures(features_to_drop=[&#x27;RowNumber&#x27;,\n",
       "                                                                       &#x27;CustomerId&#x27;,\n",
       "                                                                       &#x27;Surname&#x27;,\n",
       "                                                                       &#x27;Unnamed: &#x27;\n",
       "                                                                       &#x27;0&#x27;])),\n",
       "                                       (&#x27;imputer_median&#x27;,\n",
       "                                        MeanMedianImputer(variables=[&#x27;Age&#x27;,\n",
       "                                                                     &#x27;Balance&#x27;,\n",
       "                                                                     &#x27;NumOfProducts&#x27;])),\n",
       "                                       (&#x27;imputer_catgorical_frequent&#x27;,\n",
       "                                        CategoricalImputer(imputation_method=&#x27;frequent&#x27;,\n",
       "                                                           variables=[&#x27;Gender&#x27;,\n",
       "                                                                      &#x27;Geography&#x27;])),\n",
       "                                       (&#x27;imputer_...\n",
       "                                        SklearnTransformerWrapper(transformer=MinMaxScaler(),\n",
       "                                                                  variables=[&#x27;Age&#x27;,\n",
       "                                                                             &#x27;Tenure&#x27;,\n",
       "                                                                             &#x27;EstimatedSalary&#x27;,\n",
       "                                                                             &#x27;NumOfProducts&#x27;])),\n",
       "                                       (&#x27;svc&#x27;,\n",
       "                                        LinearSVC(dual=False, max_iter=100000,\n",
       "                                                  random_state=123))]),\n",
       "             n_jobs=-1,\n",
       "             param_grid={&#x27;discretizer_bal__transformer__n_bins&#x27;: range(2, 8, 2),\n",
       "                         &#x27;discretizer_cs__transformer__n_bins&#x27;: range(2, 8, 2),\n",
       "                         &#x27;scalar__transformer&#x27;: [StandardScaler(),\n",
       "                                                 MinMaxScaler()],\n",
       "                         &#x27;svc__C&#x27;: [100]},\n",
       "             return_train_score=True)</pre><b>In a Jupyter environment, please rerun this cell to show the HTML representation or trust the notebook. <br />On GitHub, the HTML representation is unable to render, please try loading this page with nbviewer.org.</b></div><div class=\"sk-container\" hidden><div class=\"sk-item sk-dashed-wrapped\"><div class=\"sk-label-container\"><div class=\"sk-label sk-toggleable\"><input class=\"sk-toggleable__control sk-hidden--visually\" id=\"sk-estimator-id-20\" type=\"checkbox\" ><label for=\"sk-estimator-id-20\" class=\"sk-toggleable__label sk-toggleable__label-arrow\">GridSearchCV</label><div class=\"sk-toggleable__content\"><pre>GridSearchCV(cv=5,\n",
       "             estimator=Pipeline(steps=[(&#x27;drop_features&#x27;,\n",
       "                                        DropFeatures(features_to_drop=[&#x27;RowNumber&#x27;,\n",
       "                                                                       &#x27;CustomerId&#x27;,\n",
       "                                                                       &#x27;Surname&#x27;,\n",
       "                                                                       &#x27;Unnamed: &#x27;\n",
       "                                                                       &#x27;0&#x27;])),\n",
       "                                       (&#x27;imputer_median&#x27;,\n",
       "                                        MeanMedianImputer(variables=[&#x27;Age&#x27;,\n",
       "                                                                     &#x27;Balance&#x27;,\n",
       "                                                                     &#x27;NumOfProducts&#x27;])),\n",
       "                                       (&#x27;imputer_catgorical_frequent&#x27;,\n",
       "                                        CategoricalImputer(imputation_method=&#x27;frequent&#x27;,\n",
       "                                                           variables=[&#x27;Gender&#x27;,\n",
       "                                                                      &#x27;Geography&#x27;])),\n",
       "                                       (&#x27;imputer_...\n",
       "                                        SklearnTransformerWrapper(transformer=MinMaxScaler(),\n",
       "                                                                  variables=[&#x27;Age&#x27;,\n",
       "                                                                             &#x27;Tenure&#x27;,\n",
       "                                                                             &#x27;EstimatedSalary&#x27;,\n",
       "                                                                             &#x27;NumOfProducts&#x27;])),\n",
       "                                       (&#x27;svc&#x27;,\n",
       "                                        LinearSVC(dual=False, max_iter=100000,\n",
       "                                                  random_state=123))]),\n",
       "             n_jobs=-1,\n",
       "             param_grid={&#x27;discretizer_bal__transformer__n_bins&#x27;: range(2, 8, 2),\n",
       "                         &#x27;discretizer_cs__transformer__n_bins&#x27;: range(2, 8, 2),\n",
       "                         &#x27;scalar__transformer&#x27;: [StandardScaler(),\n",
       "                                                 MinMaxScaler()],\n",
       "                         &#x27;svc__C&#x27;: [100]},\n",
       "             return_train_score=True)</pre></div></div></div><div class=\"sk-parallel\"><div class=\"sk-parallel-item\"><div class=\"sk-item\"><div class=\"sk-label-container\"><div class=\"sk-label sk-toggleable\"><input class=\"sk-toggleable__control sk-hidden--visually\" id=\"sk-estimator-id-21\" type=\"checkbox\" ><label for=\"sk-estimator-id-21\" class=\"sk-toggleable__label sk-toggleable__label-arrow\">estimator: Pipeline</label><div class=\"sk-toggleable__content\"><pre>Pipeline(steps=[(&#x27;drop_features&#x27;,\n",
       "                 DropFeatures(features_to_drop=[&#x27;RowNumber&#x27;, &#x27;CustomerId&#x27;,\n",
       "                                                &#x27;Surname&#x27;, &#x27;Unnamed: 0&#x27;])),\n",
       "                (&#x27;imputer_median&#x27;,\n",
       "                 MeanMedianImputer(variables=[&#x27;Age&#x27;, &#x27;Balance&#x27;,\n",
       "                                              &#x27;NumOfProducts&#x27;])),\n",
       "                (&#x27;imputer_catgorical_frequent&#x27;,\n",
       "                 CategoricalImputer(imputation_method=&#x27;frequent&#x27;,\n",
       "                                    variables=[&#x27;Gender&#x27;, &#x27;Geography&#x27;])),\n",
       "                (&#x27;imputer_missing_indicator&#x27;,\n",
       "                 AddMissingI...\n",
       "                 OneHotEncoder(drop_last=True, ignore_format=True,\n",
       "                               variables=[&#x27;Geography&#x27;, &#x27;Gender&#x27;, &#x27;HasCrCard&#x27;,\n",
       "                                          &#x27;IsActiveMember&#x27;, &#x27;CreditScore&#x27;,\n",
       "                                          &#x27;Balance&#x27;])),\n",
       "                (&#x27;outlier&#x27;, Winsorizer(tail=&#x27;both&#x27;, variables=[&#x27;Age&#x27;])),\n",
       "                (&#x27;scalar&#x27;,\n",
       "                 SklearnTransformerWrapper(transformer=MinMaxScaler(),\n",
       "                                           variables=[&#x27;Age&#x27;, &#x27;Tenure&#x27;,\n",
       "                                                      &#x27;EstimatedSalary&#x27;,\n",
       "                                                      &#x27;NumOfProducts&#x27;])),\n",
       "                (&#x27;svc&#x27;,\n",
       "                 LinearSVC(dual=False, max_iter=100000, random_state=123))])</pre></div></div></div><div class=\"sk-serial\"><div class=\"sk-item\"><div class=\"sk-serial\"><div class=\"sk-item\"><div class=\"sk-estimator sk-toggleable\"><input class=\"sk-toggleable__control sk-hidden--visually\" id=\"sk-estimator-id-22\" type=\"checkbox\" ><label for=\"sk-estimator-id-22\" class=\"sk-toggleable__label sk-toggleable__label-arrow\">DropFeatures</label><div class=\"sk-toggleable__content\"><pre>DropFeatures(features_to_drop=[&#x27;RowNumber&#x27;, &#x27;CustomerId&#x27;, &#x27;Surname&#x27;,\n",
       "                               &#x27;Unnamed: 0&#x27;])</pre></div></div></div><div class=\"sk-item\"><div class=\"sk-estimator sk-toggleable\"><input class=\"sk-toggleable__control sk-hidden--visually\" id=\"sk-estimator-id-23\" type=\"checkbox\" ><label for=\"sk-estimator-id-23\" class=\"sk-toggleable__label sk-toggleable__label-arrow\">MeanMedianImputer</label><div class=\"sk-toggleable__content\"><pre>MeanMedianImputer(variables=[&#x27;Age&#x27;, &#x27;Balance&#x27;, &#x27;NumOfProducts&#x27;])</pre></div></div></div><div class=\"sk-item\"><div class=\"sk-estimator sk-toggleable\"><input class=\"sk-toggleable__control sk-hidden--visually\" id=\"sk-estimator-id-24\" type=\"checkbox\" ><label for=\"sk-estimator-id-24\" class=\"sk-toggleable__label sk-toggleable__label-arrow\">CategoricalImputer</label><div class=\"sk-toggleable__content\"><pre>CategoricalImputer(imputation_method=&#x27;frequent&#x27;,\n",
       "                   variables=[&#x27;Gender&#x27;, &#x27;Geography&#x27;])</pre></div></div></div><div class=\"sk-item\"><div class=\"sk-estimator sk-toggleable\"><input class=\"sk-toggleable__control sk-hidden--visually\" id=\"sk-estimator-id-25\" type=\"checkbox\" ><label for=\"sk-estimator-id-25\" class=\"sk-toggleable__label sk-toggleable__label-arrow\">AddMissingIndicator</label><div class=\"sk-toggleable__content\"><pre>AddMissingIndicator(variables=[&#x27;Age&#x27;, &#x27;Geography&#x27;])</pre></div></div></div><div class=\"sk-item\"><div class=\"sk-estimator sk-toggleable\"><input class=\"sk-toggleable__control sk-hidden--visually\" id=\"sk-estimator-id-26\" type=\"checkbox\" ><label for=\"sk-estimator-id-26\" class=\"sk-toggleable__label sk-toggleable__label-arrow\">RandomSampleImputer</label><div class=\"sk-toggleable__content\"><pre>RandomSampleImputer(random_state=123, variables=[&#x27;Tenure&#x27;])</pre></div></div></div><div class=\"sk-item\"><div class=\"sk-estimator sk-toggleable\"><input class=\"sk-toggleable__control sk-hidden--visually\" id=\"sk-estimator-id-27\" type=\"checkbox\" ><label for=\"sk-estimator-id-27\" class=\"sk-toggleable__label sk-toggleable__label-arrow\">LogTransformer</label><div class=\"sk-toggleable__content\"><pre>LogTransformer(variables=[&#x27;Age&#x27;])</pre></div></div></div><div class=\"sk-item sk-dashed-wrapped\"><div class=\"sk-label-container\"><div class=\"sk-label sk-toggleable\"><input class=\"sk-toggleable__control sk-hidden--visually\" id=\"sk-estimator-id-28\" type=\"checkbox\" ><label for=\"sk-estimator-id-28\" class=\"sk-toggleable__label sk-toggleable__label-arrow\">discretizer_cs: SklearnTransformerWrapper</label><div class=\"sk-toggleable__content\"><pre>SklearnTransformerWrapper(transformer=KBinsDiscretizer(encode=&#x27;ordinal&#x27;,\n",
       "                                                       n_bins=10,\n",
       "                                                       strategy=&#x27;kmeans&#x27;),\n",
       "                          variables=[&#x27;CreditScore&#x27;])</pre></div></div></div><div class=\"sk-parallel\"><div class=\"sk-parallel-item\"><div class=\"sk-item\"><div class=\"sk-label-container\"><div class=\"sk-label sk-toggleable\"><input class=\"sk-toggleable__control sk-hidden--visually\" id=\"sk-estimator-id-29\" type=\"checkbox\" ><label for=\"sk-estimator-id-29\" class=\"sk-toggleable__label sk-toggleable__label-arrow\">transformer: KBinsDiscretizer</label><div class=\"sk-toggleable__content\"><pre>KBinsDiscretizer(encode=&#x27;ordinal&#x27;, n_bins=10, strategy=&#x27;kmeans&#x27;)</pre></div></div></div><div class=\"sk-serial\"><div class=\"sk-item\"><div class=\"sk-estimator sk-toggleable\"><input class=\"sk-toggleable__control sk-hidden--visually\" id=\"sk-estimator-id-30\" type=\"checkbox\" ><label for=\"sk-estimator-id-30\" class=\"sk-toggleable__label sk-toggleable__label-arrow\">KBinsDiscretizer</label><div class=\"sk-toggleable__content\"><pre>KBinsDiscretizer(encode=&#x27;ordinal&#x27;, n_bins=10, strategy=&#x27;kmeans&#x27;)</pre></div></div></div></div></div></div></div></div><div class=\"sk-item sk-dashed-wrapped\"><div class=\"sk-label-container\"><div class=\"sk-label sk-toggleable\"><input class=\"sk-toggleable__control sk-hidden--visually\" id=\"sk-estimator-id-31\" type=\"checkbox\" ><label for=\"sk-estimator-id-31\" class=\"sk-toggleable__label sk-toggleable__label-arrow\">discretizer_bal: SklearnTransformerWrapper</label><div class=\"sk-toggleable__content\"><pre>SklearnTransformerWrapper(transformer=KBinsDiscretizer(encode=&#x27;ordinal&#x27;,\n",
       "                                                       n_bins=10,\n",
       "                                                       strategy=&#x27;kmeans&#x27;),\n",
       "                          variables=[&#x27;Balance&#x27;])</pre></div></div></div><div class=\"sk-parallel\"><div class=\"sk-parallel-item\"><div class=\"sk-item\"><div class=\"sk-label-container\"><div class=\"sk-label sk-toggleable\"><input class=\"sk-toggleable__control sk-hidden--visually\" id=\"sk-estimator-id-32\" type=\"checkbox\" ><label for=\"sk-estimator-id-32\" class=\"sk-toggleable__label sk-toggleable__label-arrow\">transformer: KBinsDiscretizer</label><div class=\"sk-toggleable__content\"><pre>KBinsDiscretizer(encode=&#x27;ordinal&#x27;, n_bins=10, strategy=&#x27;kmeans&#x27;)</pre></div></div></div><div class=\"sk-serial\"><div class=\"sk-item\"><div class=\"sk-estimator sk-toggleable\"><input class=\"sk-toggleable__control sk-hidden--visually\" id=\"sk-estimator-id-33\" type=\"checkbox\" ><label for=\"sk-estimator-id-33\" class=\"sk-toggleable__label sk-toggleable__label-arrow\">KBinsDiscretizer</label><div class=\"sk-toggleable__content\"><pre>KBinsDiscretizer(encode=&#x27;ordinal&#x27;, n_bins=10, strategy=&#x27;kmeans&#x27;)</pre></div></div></div></div></div></div></div></div><div class=\"sk-item\"><div class=\"sk-estimator sk-toggleable\"><input class=\"sk-toggleable__control sk-hidden--visually\" id=\"sk-estimator-id-34\" type=\"checkbox\" ><label for=\"sk-estimator-id-34\" class=\"sk-toggleable__label sk-toggleable__label-arrow\">OneHotEncoder</label><div class=\"sk-toggleable__content\"><pre>OneHotEncoder(drop_last=True, ignore_format=True,\n",
       "              variables=[&#x27;Geography&#x27;, &#x27;Gender&#x27;, &#x27;HasCrCard&#x27;, &#x27;IsActiveMember&#x27;,\n",
       "                         &#x27;CreditScore&#x27;, &#x27;Balance&#x27;])</pre></div></div></div><div class=\"sk-item\"><div class=\"sk-estimator sk-toggleable\"><input class=\"sk-toggleable__control sk-hidden--visually\" id=\"sk-estimator-id-35\" type=\"checkbox\" ><label for=\"sk-estimator-id-35\" class=\"sk-toggleable__label sk-toggleable__label-arrow\">Winsorizer</label><div class=\"sk-toggleable__content\"><pre>Winsorizer(tail=&#x27;both&#x27;, variables=[&#x27;Age&#x27;])</pre></div></div></div><div class=\"sk-item sk-dashed-wrapped\"><div class=\"sk-label-container\"><div class=\"sk-label sk-toggleable\"><input class=\"sk-toggleable__control sk-hidden--visually\" id=\"sk-estimator-id-36\" type=\"checkbox\" ><label for=\"sk-estimator-id-36\" class=\"sk-toggleable__label sk-toggleable__label-arrow\">scalar: SklearnTransformerWrapper</label><div class=\"sk-toggleable__content\"><pre>SklearnTransformerWrapper(transformer=MinMaxScaler(),\n",
       "                          variables=[&#x27;Age&#x27;, &#x27;Tenure&#x27;, &#x27;EstimatedSalary&#x27;,\n",
       "                                     &#x27;NumOfProducts&#x27;])</pre></div></div></div><div class=\"sk-parallel\"><div class=\"sk-parallel-item\"><div class=\"sk-item\"><div class=\"sk-label-container\"><div class=\"sk-label sk-toggleable\"><input class=\"sk-toggleable__control sk-hidden--visually\" id=\"sk-estimator-id-37\" type=\"checkbox\" ><label for=\"sk-estimator-id-37\" class=\"sk-toggleable__label sk-toggleable__label-arrow\">transformer: MinMaxScaler</label><div class=\"sk-toggleable__content\"><pre>MinMaxScaler()</pre></div></div></div><div class=\"sk-serial\"><div class=\"sk-item\"><div class=\"sk-estimator sk-toggleable\"><input class=\"sk-toggleable__control sk-hidden--visually\" id=\"sk-estimator-id-38\" type=\"checkbox\" ><label for=\"sk-estimator-id-38\" class=\"sk-toggleable__label sk-toggleable__label-arrow\">MinMaxScaler</label><div class=\"sk-toggleable__content\"><pre>MinMaxScaler()</pre></div></div></div></div></div></div></div></div><div class=\"sk-item\"><div class=\"sk-estimator sk-toggleable\"><input class=\"sk-toggleable__control sk-hidden--visually\" id=\"sk-estimator-id-39\" type=\"checkbox\" ><label for=\"sk-estimator-id-39\" class=\"sk-toggleable__label sk-toggleable__label-arrow\">LinearSVC</label><div class=\"sk-toggleable__content\"><pre>LinearSVC(dual=False, max_iter=100000, random_state=123)</pre></div></div></div></div></div></div></div></div></div></div></div></div>"
      ],
      "text/plain": [
       "GridSearchCV(cv=5,\n",
       "             estimator=Pipeline(steps=[('drop_features',\n",
       "                                        DropFeatures(features_to_drop=['RowNumber',\n",
       "                                                                       'CustomerId',\n",
       "                                                                       'Surname',\n",
       "                                                                       'Unnamed: '\n",
       "                                                                       '0'])),\n",
       "                                       ('imputer_median',\n",
       "                                        MeanMedianImputer(variables=['Age',\n",
       "                                                                     'Balance',\n",
       "                                                                     'NumOfProducts'])),\n",
       "                                       ('imputer_catgorical_frequent',\n",
       "                                        CategoricalImputer(imputation_method='frequent',\n",
       "                                                           variables=['Gender',\n",
       "                                                                      'Geography'])),\n",
       "                                       ('imputer_...\n",
       "                                        SklearnTransformerWrapper(transformer=MinMaxScaler(),\n",
       "                                                                  variables=['Age',\n",
       "                                                                             'Tenure',\n",
       "                                                                             'EstimatedSalary',\n",
       "                                                                             'NumOfProducts'])),\n",
       "                                       ('svc',\n",
       "                                        LinearSVC(dual=False, max_iter=100000,\n",
       "                                                  random_state=123))]),\n",
       "             n_jobs=-1,\n",
       "             param_grid={'discretizer_bal__transformer__n_bins': range(2, 8, 2),\n",
       "                         'discretizer_cs__transformer__n_bins': range(2, 8, 2),\n",
       "                         'scalar__transformer': [StandardScaler(),\n",
       "                                                 MinMaxScaler()],\n",
       "                         'svc__C': [100]},\n",
       "             return_train_score=True)"
      ]
     },
     "execution_count": 24,
     "metadata": {},
     "output_type": "execute_result"
    }
   ],
   "source": [
    "grid_svc_1.fit(X_train,y_train)"
   ]
  },
  {
   "cell_type": "markdown",
   "metadata": {},
   "source": [
    "### <font color = 'pickle'>**Get Best Params**"
   ]
  },
  {
   "cell_type": "code",
   "execution_count": 25,
   "metadata": {
    "colab": {
     "base_uri": "https://localhost:8080/"
    },
    "execution": {
     "iopub.execute_input": "2022-10-23T23:36:23.809588Z",
     "iopub.status.busy": "2022-10-23T23:36:23.809446Z",
     "iopub.status.idle": "2022-10-23T23:36:23.824591Z",
     "shell.execute_reply": "2022-10-23T23:36:23.824275Z",
     "shell.execute_reply.started": "2022-10-23T23:36:23.809572Z"
    },
    "executionInfo": {
     "elapsed": 37245,
     "status": "ok",
     "timestamp": 1627508545270,
     "user": {
      "displayName": "Shaannoor Mann",
      "photoUrl": "",
      "userId": "02520257695567980696"
     },
     "user_tz": 300
    },
    "id": "HRNYXliAttst",
    "outputId": "892ac790-c6d2-4eb9-b12a-5c0533aa362c",
    "tags": []
   },
   "outputs": [
    {
     "name": "stdout",
     "output_type": "stream",
     "text": [
      "{'discretizer_bal__transformer__n_bins': 4, 'discretizer_cs__transformer__n_bins': 4, 'scalar__transformer': StandardScaler(), 'svc__C': 100}\n"
     ]
    }
   ],
   "source": [
    "#Let's check the best_parameters from GridSearchCv for our model\n",
    "print(grid_svc_1.best_params_)"
   ]
  },
  {
   "cell_type": "markdown",
   "metadata": {},
   "source": [
    "### <font color = 'pickle'>**Save Model**"
   ]
  },
  {
   "cell_type": "code",
   "execution_count": 26,
   "metadata": {
    "execution": {
     "iopub.execute_input": "2022-10-23T23:36:23.825275Z",
     "iopub.status.busy": "2022-10-23T23:36:23.825057Z",
     "iopub.status.idle": "2022-10-23T23:36:23.836990Z",
     "shell.execute_reply": "2022-10-23T23:36:23.836684Z",
     "shell.execute_reply.started": "2022-10-23T23:36:23.825262Z"
    },
    "id": "yDW0l3V_EexB",
    "tags": []
   },
   "outputs": [],
   "source": [
    "file_best_estimator_round1 = save_model_folder / 'svc_round1_best_estimator.pkl'\n",
    "file_complete_grid_round1  = save_model_folder / 'svc_round1_complete_grid.pkl'"
   ]
  },
  {
   "cell_type": "code",
   "execution_count": 27,
   "metadata": {
    "colab": {
     "base_uri": "https://localhost:8080/"
    },
    "execution": {
     "iopub.execute_input": "2022-10-23T23:36:23.837580Z",
     "iopub.status.busy": "2022-10-23T23:36:23.837444Z",
     "iopub.status.idle": "2022-10-23T23:36:23.864874Z",
     "shell.execute_reply": "2022-10-23T23:36:23.864520Z",
     "shell.execute_reply.started": "2022-10-23T23:36:23.837567Z"
    },
    "executionInfo": {
     "elapsed": 285,
     "status": "ok",
     "timestamp": 1627510910305,
     "user": {
      "displayName": "Shaannoor Mann",
      "photoUrl": "",
      "userId": "02520257695567980696"
     },
     "user_tz": 300
    },
    "id": "LQ6OBb7dXdW5",
    "outputId": "83c21c26-ef5c-4cd4-8df7-8f1061dba444",
    "tags": []
   },
   "outputs": [
    {
     "data": {
      "text/plain": [
       "['/home/harpreet/Insync/google_drive_shaannoor/data/models/ml_fall_2022/svc_round1_complete_grid.pkl']"
      ]
     },
     "execution_count": 27,
     "metadata": {},
     "output_type": "execute_result"
    }
   ],
   "source": [
    "joblib.dump(grid_svc_1.best_estimator_, file_best_estimator_round1 )\n",
    "joblib.dump(grid_svc_1, file_complete_grid_round1)"
   ]
  },
  {
   "cell_type": "markdown",
   "metadata": {},
   "source": [
    "### <font color = 'pickle'>**Load Saved Model**"
   ]
  },
  {
   "cell_type": "code",
   "execution_count": 28,
   "metadata": {
    "execution": {
     "iopub.execute_input": "2022-10-23T23:36:23.865664Z",
     "iopub.status.busy": "2022-10-23T23:36:23.865398Z",
     "iopub.status.idle": "2022-10-23T23:36:23.884452Z",
     "shell.execute_reply": "2022-10-23T23:36:23.884061Z",
     "shell.execute_reply.started": "2022-10-23T23:36:23.865647Z"
    },
    "id": "dDBKsEUuEzZh",
    "tags": []
   },
   "outputs": [],
   "source": [
    "loaded_best_estimator_round1 = joblib.load(file_best_estimator_round1)\n",
    "loaded_complete_grid_round1 = joblib.load(file_complete_grid_round1)"
   ]
  },
  {
   "cell_type": "markdown",
   "metadata": {},
   "source": [
    "### <font color = 'pickle'>**Plot Learning Curve**"
   ]
  },
  {
   "cell_type": "code",
   "execution_count": 29,
   "metadata": {
    "colab": {
     "base_uri": "https://localhost:8080/",
     "height": 368
    },
    "execution": {
     "iopub.execute_input": "2022-10-23T23:36:23.885116Z",
     "iopub.status.busy": "2022-10-23T23:36:23.884983Z",
     "iopub.status.idle": "2022-10-23T23:36:24.259758Z",
     "shell.execute_reply": "2022-10-23T23:36:24.259347Z",
     "shell.execute_reply.started": "2022-10-23T23:36:23.885103Z"
    },
    "executionInfo": {
     "elapsed": 4656,
     "status": "ok",
     "timestamp": 1627510930525,
     "user": {
      "displayName": "Shaannoor Mann",
      "photoUrl": "",
      "userId": "02520257695567980696"
     },
     "user_tz": 300
    },
    "id": "l2iuBo-f-jYl",
    "outputId": "293be7d4-3111-4d81-a798-9cb88bcfc428",
    "tags": []
   },
   "outputs": [
    {
     "data": {
      "text/plain": [
       "<module 'matplotlib.pyplot' from '/home/harpreet/mambaforge/lib/python3.10/site-packages/matplotlib/pyplot.py'>"
      ]
     },
     "execution_count": 29,
     "metadata": {},
     "output_type": "execute_result"
    },
    {
     "data": {
      "image/png": "[encoded data removed]",
      "text/plain": [
       "<Figure size 2000x500 with 3 Axes>"
      ]
     },
     "metadata": {},
     "output_type": "display_data"
    }
   ],
   "source": [
    "plot_learning_curve(loaded_best_estimator_round1, 'Learning Curves svc', X_train, y_train, n_jobs=-1)"
   ]
  },
  {
   "cell_type": "markdown",
   "metadata": {
    "id": "FZBs3Mr0_0r9"
   },
   "source": [
    "From the learning curves, its is clear that both training and cross validation scores are low. **So there is clearly undetrfitting.** Even for very small training data, the training score is less than what we got from KNN. Since, we have not used any regularization, we cannot increase the capacity of model. **Hence, we will not do any further hyperparameter tuning using LinearSVC.** In case of underfitting, adding more training data will also not help. We can improve the perfromnace further by two methods (1) By adding more features or (2) by using non-linear models. \n",
    "\n",
    "In logistic regression, we added polynomial fearures. However, we can explore that more efficiently by using non-linear kernels (polynomial kernels) in case of SVM. We will now try non-linear kernels in round2."
   ]
  },
  {
   "cell_type": "markdown",
   "metadata": {},
   "source": [
    "### <font color = 'pickle'>**Check Cross Validation Score and Train Score**"
   ]
  },
  {
   "cell_type": "code",
   "execution_count": 30,
   "metadata": {
    "colab": {
     "base_uri": "https://localhost:8080/"
    },
    "execution": {
     "iopub.execute_input": "2022-10-23T23:36:24.260538Z",
     "iopub.status.busy": "2022-10-23T23:36:24.260324Z",
     "iopub.status.idle": "2022-10-23T23:36:24.291165Z",
     "shell.execute_reply": "2022-10-23T23:36:24.290790Z",
     "shell.execute_reply.started": "2022-10-23T23:36:24.260525Z"
    },
    "executionInfo": {
     "elapsed": 206,
     "status": "ok",
     "timestamp": 1627510976185,
     "user": {
      "displayName": "Shaannoor Mann",
      "photoUrl": "",
      "userId": "02520257695567980696"
     },
     "user_tz": 300
    },
    "id": "wdSNNrWw4cgH",
    "outputId": "fec0ced4-6e6c-4a4b-b8f6-e56d4eeffa87",
    "tags": []
   },
   "outputs": [
    {
     "name": "stdout",
     "output_type": "stream",
     "text": [
      "0.707218761451081\n",
      "0.7039217663070874\n"
     ]
    }
   ],
   "source": [
    "#let's check the train scores\n",
    "print(loaded_best_estimator_round1.score(X_train,y_train))\n",
    "\n",
    "#let's check the cross validation score\n",
    "print(loaded_complete_grid_round1.best_score_)"
   ]
  },
  {
   "cell_type": "markdown",
   "metadata": {
    "id": "e9dejzS8ym_3"
   },
   "source": [
    "## <font color = 'pickle'>**Hyperparameter Tuning - Round 2- Non-Linear SVM** \n",
    "- Initially we wil start with gaussin kernel. We will not do any regularization to see whether we can overfit the data.\n",
    "- To acheive this we will use C = 1000 and not tune any other hyperparameter."
   ]
  },
  {
   "cell_type": "code",
   "execution_count": 31,
   "metadata": {
    "execution": {
     "iopub.execute_input": "2022-10-23T23:36:24.291717Z",
     "iopub.status.busy": "2022-10-23T23:36:24.291635Z",
     "iopub.status.idle": "2022-10-23T23:36:24.302724Z",
     "shell.execute_reply": "2022-10-23T23:36:24.302413Z",
     "shell.execute_reply.started": "2022-10-23T23:36:24.291707Z"
    },
    "id": "bQVs7qnlXdW8",
    "tags": []
   },
   "outputs": [],
   "source": [
    "columns_to_drop = ['RowNumber', 'CustomerId', 'Surname','Unnamed: 0']\n",
    "\n",
    "churn_pipeline_svm_non_linear = Pipeline([\n",
    "                           \n",
    "                      \n",
    "    ('drop_features',\n",
    "      DropFeatures(columns_to_drop)),\n",
    "\n",
    "    ('imputer_median',\n",
    "      MeanMedianImputer(imputation_method='median', variables=['Age', 'Balance', 'NumOfProducts'])),\n",
    "\n",
    "    ('imputer_catgorical_frequent',\n",
    "      CategoricalImputer(imputation_method = 'frequent', variables=['Gender','Geography'])),\n",
    "\n",
    "      ('imputer_missing_indicator',\n",
    "      AddMissingIndicator(variables=['Age', 'Geography'])),\n",
    "\n",
    "    ('imputer_random_sample',\n",
    "      RandomSampleImputer(random_state=123, variables=['Tenure'])),\n",
    "    \n",
    "    ('log_transformer', LogTransformer(variables = ['Age'])\n",
    "      ),\n",
    "    \n",
    "    ('discretizer_cs',\n",
    "      SklearnTransformerWrapper(KBinsDiscretizer(n_bins=10, encode= 'ordinal', strategy = 'kmeans' ), \n",
    "                               variables = ['CreditScore'])),\n",
    "\n",
    "    ('discretizer_bal',\n",
    "      SklearnTransformerWrapper(KBinsDiscretizer(n_bins=10, encode= 'ordinal', strategy = 'kmeans' ), \n",
    "                               variables = ['Balance'])),\n",
    "    \n",
    "    ('one_hot_encoder',\n",
    "      OneHotEncoder(variables=['Geography', 'Gender', 'HasCrCard', 'IsActiveMember', 'CreditScore', 'Balance']\n",
    "                   , drop_last= True, ignore_format=True)),\n",
    "\n",
    "    ('outlier',\n",
    "      Winsorizer(capping_method='gaussian', tail ='both', fold = 3, variables=['Age'])),\n",
    "\n",
    "    ('scalar',\n",
    "      SklearnTransformerWrapper(MinMaxScaler(), variables = ['Age', 'Tenure', 'EstimatedSalary', 'NumOfProducts'])),\n",
    "\n",
    "    ('svc',\n",
    "     SVC(random_state=123))\n",
    "])"
   ]
  },
  {
   "cell_type": "code",
   "execution_count": 32,
   "metadata": {
    "execution": {
     "iopub.execute_input": "2022-10-23T23:36:24.303237Z",
     "iopub.status.busy": "2022-10-23T23:36:24.303161Z",
     "iopub.status.idle": "2022-10-23T23:36:24.329088Z",
     "shell.execute_reply": "2022-10-23T23:36:24.328630Z",
     "shell.execute_reply.started": "2022-10-23T23:36:24.303228Z"
    },
    "id": "IMLDZqP-XdW9",
    "outputId": "c14ca790-75e0-4130-c8ce-a91a743994dd",
    "tags": []
   },
   "outputs": [
    {
     "data": {
      "text/html": [
       "<style>#sk-container-id-3 {color: black;background-color: white;}#sk-container-id-3 pre{padding: 0;}#sk-container-id-3 div.sk-toggleable {background-color: white;}#sk-container-id-3 label.sk-toggleable__label {cursor: pointer;display: block;width: 100%;margin-bottom: 0;padding: 0.3em;box-sizing: border-box;text-align: center;}#sk-container-id-3 label.sk-toggleable__label-arrow:before {content: \"▸\";float: left;margin-right: 0.25em;color: #696969;}#sk-container-id-3 label.sk-toggleable__label-arrow:hover:before {color: black;}#sk-container-id-3 div.sk-estimator:hover label.sk-toggleable__label-arrow:before {color: black;}#sk-container-id-3 div.sk-toggleable__content {max-height: 0;max-width: 0;overflow: hidden;text-align: left;background-color: #f0f8ff;}#sk-container-id-3 div.sk-toggleable__content pre {margin: 0.2em;color: black;border-radius: 0.25em;background-color: #f0f8ff;}#sk-container-id-3 input.sk-toggleable__control:checked~div.sk-toggleable__content {max-height: 200px;max-width: 100%;overflow: auto;}#sk-container-id-3 input.sk-toggleable__control:checked~label.sk-toggleable__label-arrow:before {content: \"▾\";}#sk-container-id-3 div.sk-estimator input.sk-toggleable__control:checked~label.sk-toggleable__label {background-color: #d4ebff;}#sk-container-id-3 div.sk-label input.sk-toggleable__control:checked~label.sk-toggleable__label {background-color: #d4ebff;}#sk-container-id-3 input.sk-hidden--visually {border: 0;clip: rect(1px 1px 1px 1px);clip: rect(1px, 1px, 1px, 1px);height: 1px;margin: -1px;overflow: hidden;padding: 0;position: absolute;width: 1px;}#sk-container-id-3 div.sk-estimator {font-family: monospace;background-color: #f0f8ff;border: 1px dotted black;border-radius: 0.25em;box-sizing: border-box;margin-bottom: 0.5em;}#sk-container-id-3 div.sk-estimator:hover {background-color: #d4ebff;}#sk-container-id-3 div.sk-parallel-item::after {content: \"\";width: 100%;border-bottom: 1px solid gray;flex-grow: 1;}#sk-container-id-3 div.sk-label:hover label.sk-toggleable__label {background-color: #d4ebff;}#sk-container-id-3 div.sk-serial::before {content: \"\";position: absolute;border-left: 1px solid gray;box-sizing: border-box;top: 0;bottom: 0;left: 50%;z-index: 0;}#sk-container-id-3 div.sk-serial {display: flex;flex-direction: column;align-items: center;background-color: white;padding-right: 0.2em;padding-left: 0.2em;position: relative;}#sk-container-id-3 div.sk-item {position: relative;z-index: 1;}#sk-container-id-3 div.sk-parallel {display: flex;align-items: stretch;justify-content: center;background-color: white;position: relative;}#sk-container-id-3 div.sk-item::before, #sk-container-id-3 div.sk-parallel-item::before {content: \"\";position: absolute;border-left: 1px solid gray;box-sizing: border-box;top: 0;bottom: 0;left: 50%;z-index: -1;}#sk-container-id-3 div.sk-parallel-item {display: flex;flex-direction: column;z-index: 1;position: relative;background-color: white;}#sk-container-id-3 div.sk-parallel-item:first-child::after {align-self: flex-end;width: 50%;}#sk-container-id-3 div.sk-parallel-item:last-child::after {align-self: flex-start;width: 50%;}#sk-container-id-3 div.sk-parallel-item:only-child::after {width: 0;}#sk-container-id-3 div.sk-dashed-wrapped {border: 1px dashed gray;margin: 0 0.4em 0.5em 0.4em;box-sizing: border-box;padding-bottom: 0.4em;background-color: white;}#sk-container-id-3 div.sk-label label {font-family: monospace;font-weight: bold;display: inline-block;line-height: 1.2em;}#sk-container-id-3 div.sk-label-container {text-align: center;}#sk-container-id-3 div.sk-container {/* jupyter's `normalize.less` sets `[hidden] { display: none; }` but bootstrap.min.css set `[hidden] { display: none !important; }` so we also need the `!important` here to be able to override the default hidden behavior on the sphinx rendered scikit-learn.org. See: https://github.com/scikit-learn/scikit-learn/issues/21755 */display: inline-block !important;position: relative;}#sk-container-id-3 div.sk-text-repr-fallback {display: none;}</style><div id=\"sk-container-id-3\" class=\"sk-top-container\"><div class=\"sk-text-repr-fallback\"><pre>Pipeline(steps=[(&#x27;drop_features&#x27;,\n",
       "                 DropFeatures(features_to_drop=[&#x27;RowNumber&#x27;, &#x27;CustomerId&#x27;,\n",
       "                                                &#x27;Surname&#x27;, &#x27;Unnamed: 0&#x27;])),\n",
       "                (&#x27;imputer_median&#x27;,\n",
       "                 MeanMedianImputer(variables=[&#x27;Age&#x27;, &#x27;Balance&#x27;,\n",
       "                                              &#x27;NumOfProducts&#x27;])),\n",
       "                (&#x27;imputer_catgorical_frequent&#x27;,\n",
       "                 CategoricalImputer(imputation_method=&#x27;frequent&#x27;,\n",
       "                                    variables=[&#x27;Gender&#x27;, &#x27;Geography&#x27;])),\n",
       "                (&#x27;imputer_missing_indicator&#x27;,\n",
       "                 AddMissingI...\n",
       "                (&#x27;one_hot_encoder&#x27;,\n",
       "                 OneHotEncoder(drop_last=True, ignore_format=True,\n",
       "                               variables=[&#x27;Geography&#x27;, &#x27;Gender&#x27;, &#x27;HasCrCard&#x27;,\n",
       "                                          &#x27;IsActiveMember&#x27;, &#x27;CreditScore&#x27;,\n",
       "                                          &#x27;Balance&#x27;])),\n",
       "                (&#x27;outlier&#x27;, Winsorizer(tail=&#x27;both&#x27;, variables=[&#x27;Age&#x27;])),\n",
       "                (&#x27;scalar&#x27;,\n",
       "                 SklearnTransformerWrapper(transformer=MinMaxScaler(),\n",
       "                                           variables=[&#x27;Age&#x27;, &#x27;Tenure&#x27;,\n",
       "                                                      &#x27;EstimatedSalary&#x27;,\n",
       "                                                      &#x27;NumOfProducts&#x27;])),\n",
       "                (&#x27;svc&#x27;, SVC(random_state=123))])</pre><b>In a Jupyter environment, please rerun this cell to show the HTML representation or trust the notebook. <br />On GitHub, the HTML representation is unable to render, please try loading this page with nbviewer.org.</b></div><div class=\"sk-container\" hidden><div class=\"sk-item sk-dashed-wrapped\"><div class=\"sk-label-container\"><div class=\"sk-label sk-toggleable\"><input class=\"sk-toggleable__control sk-hidden--visually\" id=\"sk-estimator-id-40\" type=\"checkbox\" ><label for=\"sk-estimator-id-40\" class=\"sk-toggleable__label sk-toggleable__label-arrow\">Pipeline</label><div class=\"sk-toggleable__content\"><pre>Pipeline(steps=[(&#x27;drop_features&#x27;,\n",
       "                 DropFeatures(features_to_drop=[&#x27;RowNumber&#x27;, &#x27;CustomerId&#x27;,\n",
       "                                                &#x27;Surname&#x27;, &#x27;Unnamed: 0&#x27;])),\n",
       "                (&#x27;imputer_median&#x27;,\n",
       "                 MeanMedianImputer(variables=[&#x27;Age&#x27;, &#x27;Balance&#x27;,\n",
       "                                              &#x27;NumOfProducts&#x27;])),\n",
       "                (&#x27;imputer_catgorical_frequent&#x27;,\n",
       "                 CategoricalImputer(imputation_method=&#x27;frequent&#x27;,\n",
       "                                    variables=[&#x27;Gender&#x27;, &#x27;Geography&#x27;])),\n",
       "                (&#x27;imputer_missing_indicator&#x27;,\n",
       "                 AddMissingI...\n",
       "                (&#x27;one_hot_encoder&#x27;,\n",
       "                 OneHotEncoder(drop_last=True, ignore_format=True,\n",
       "                               variables=[&#x27;Geography&#x27;, &#x27;Gender&#x27;, &#x27;HasCrCard&#x27;,\n",
       "                                          &#x27;IsActiveMember&#x27;, &#x27;CreditScore&#x27;,\n",
       "                                          &#x27;Balance&#x27;])),\n",
       "                (&#x27;outlier&#x27;, Winsorizer(tail=&#x27;both&#x27;, variables=[&#x27;Age&#x27;])),\n",
       "                (&#x27;scalar&#x27;,\n",
       "                 SklearnTransformerWrapper(transformer=MinMaxScaler(),\n",
       "                                           variables=[&#x27;Age&#x27;, &#x27;Tenure&#x27;,\n",
       "                                                      &#x27;EstimatedSalary&#x27;,\n",
       "                                                      &#x27;NumOfProducts&#x27;])),\n",
       "                (&#x27;svc&#x27;, SVC(random_state=123))])</pre></div></div></div><div class=\"sk-serial\"><div class=\"sk-item\"><div class=\"sk-estimator sk-toggleable\"><input class=\"sk-toggleable__control sk-hidden--visually\" id=\"sk-estimator-id-41\" type=\"checkbox\" ><label for=\"sk-estimator-id-41\" class=\"sk-toggleable__label sk-toggleable__label-arrow\">DropFeatures</label><div class=\"sk-toggleable__content\"><pre>DropFeatures(features_to_drop=[&#x27;RowNumber&#x27;, &#x27;CustomerId&#x27;, &#x27;Surname&#x27;,\n",
       "                               &#x27;Unnamed: 0&#x27;])</pre></div></div></div><div class=\"sk-item\"><div class=\"sk-estimator sk-toggleable\"><input class=\"sk-toggleable__control sk-hidden--visually\" id=\"sk-estimator-id-42\" type=\"checkbox\" ><label for=\"sk-estimator-id-42\" class=\"sk-toggleable__label sk-toggleable__label-arrow\">MeanMedianImputer</label><div class=\"sk-toggleable__content\"><pre>MeanMedianImputer(variables=[&#x27;Age&#x27;, &#x27;Balance&#x27;, &#x27;NumOfProducts&#x27;])</pre></div></div></div><div class=\"sk-item\"><div class=\"sk-estimator sk-toggleable\"><input class=\"sk-toggleable__control sk-hidden--visually\" id=\"sk-estimator-id-43\" type=\"checkbox\" ><label for=\"sk-estimator-id-43\" class=\"sk-toggleable__label sk-toggleable__label-arrow\">CategoricalImputer</label><div class=\"sk-toggleable__content\"><pre>CategoricalImputer(imputation_method=&#x27;frequent&#x27;,\n",
       "                   variables=[&#x27;Gender&#x27;, &#x27;Geography&#x27;])</pre></div></div></div><div class=\"sk-item\"><div class=\"sk-estimator sk-toggleable\"><input class=\"sk-toggleable__control sk-hidden--visually\" id=\"sk-estimator-id-44\" type=\"checkbox\" ><label for=\"sk-estimator-id-44\" class=\"sk-toggleable__label sk-toggleable__label-arrow\">AddMissingIndicator</label><div class=\"sk-toggleable__content\"><pre>AddMissingIndicator(variables=[&#x27;Age&#x27;, &#x27;Geography&#x27;])</pre></div></div></div><div class=\"sk-item\"><div class=\"sk-estimator sk-toggleable\"><input class=\"sk-toggleable__control sk-hidden--visually\" id=\"sk-estimator-id-45\" type=\"checkbox\" ><label for=\"sk-estimator-id-45\" class=\"sk-toggleable__label sk-toggleable__label-arrow\">RandomSampleImputer</label><div class=\"sk-toggleable__content\"><pre>RandomSampleImputer(random_state=123, variables=[&#x27;Tenure&#x27;])</pre></div></div></div><div class=\"sk-item\"><div class=\"sk-estimator sk-toggleable\"><input class=\"sk-toggleable__control sk-hidden--visually\" id=\"sk-estimator-id-46\" type=\"checkbox\" ><label for=\"sk-estimator-id-46\" class=\"sk-toggleable__label sk-toggleable__label-arrow\">LogTransformer</label><div class=\"sk-toggleable__content\"><pre>LogTransformer(variables=[&#x27;Age&#x27;])</pre></div></div></div><div class=\"sk-item sk-dashed-wrapped\"><div class=\"sk-label-container\"><div class=\"sk-label sk-toggleable\"><input class=\"sk-toggleable__control sk-hidden--visually\" id=\"sk-estimator-id-47\" type=\"checkbox\" ><label for=\"sk-estimator-id-47\" class=\"sk-toggleable__label sk-toggleable__label-arrow\">discretizer_cs: SklearnTransformerWrapper</label><div class=\"sk-toggleable__content\"><pre>SklearnTransformerWrapper(transformer=KBinsDiscretizer(encode=&#x27;ordinal&#x27;,\n",
       "                                                       n_bins=10,\n",
       "                                                       strategy=&#x27;kmeans&#x27;),\n",
       "                          variables=[&#x27;CreditScore&#x27;])</pre></div></div></div><div class=\"sk-parallel\"><div class=\"sk-parallel-item\"><div class=\"sk-item\"><div class=\"sk-label-container\"><div class=\"sk-label sk-toggleable\"><input class=\"sk-toggleable__control sk-hidden--visually\" id=\"sk-estimator-id-48\" type=\"checkbox\" ><label for=\"sk-estimator-id-48\" class=\"sk-toggleable__label sk-toggleable__label-arrow\">transformer: KBinsDiscretizer</label><div class=\"sk-toggleable__content\"><pre>KBinsDiscretizer(encode=&#x27;ordinal&#x27;, n_bins=10, strategy=&#x27;kmeans&#x27;)</pre></div></div></div><div class=\"sk-serial\"><div class=\"sk-item\"><div class=\"sk-estimator sk-toggleable\"><input class=\"sk-toggleable__control sk-hidden--visually\" id=\"sk-estimator-id-49\" type=\"checkbox\" ><label for=\"sk-estimator-id-49\" class=\"sk-toggleable__label sk-toggleable__label-arrow\">KBinsDiscretizer</label><div class=\"sk-toggleable__content\"><pre>KBinsDiscretizer(encode=&#x27;ordinal&#x27;, n_bins=10, strategy=&#x27;kmeans&#x27;)</pre></div></div></div></div></div></div></div></div><div class=\"sk-item sk-dashed-wrapped\"><div class=\"sk-label-container\"><div class=\"sk-label sk-toggleable\"><input class=\"sk-toggleable__control sk-hidden--visually\" id=\"sk-estimator-id-50\" type=\"checkbox\" ><label for=\"sk-estimator-id-50\" class=\"sk-toggleable__label sk-toggleable__label-arrow\">discretizer_bal: SklearnTransformerWrapper</label><div class=\"sk-toggleable__content\"><pre>SklearnTransformerWrapper(transformer=KBinsDiscretizer(encode=&#x27;ordinal&#x27;,\n",
       "                                                       n_bins=10,\n",
       "                                                       strategy=&#x27;kmeans&#x27;),\n",
       "                          variables=[&#x27;Balance&#x27;])</pre></div></div></div><div class=\"sk-parallel\"><div class=\"sk-parallel-item\"><div class=\"sk-item\"><div class=\"sk-label-container\"><div class=\"sk-label sk-toggleable\"><input class=\"sk-toggleable__control sk-hidden--visually\" id=\"sk-estimator-id-51\" type=\"checkbox\" ><label for=\"sk-estimator-id-51\" class=\"sk-toggleable__label sk-toggleable__label-arrow\">transformer: KBinsDiscretizer</label><div class=\"sk-toggleable__content\"><pre>KBinsDiscretizer(encode=&#x27;ordinal&#x27;, n_bins=10, strategy=&#x27;kmeans&#x27;)</pre></div></div></div><div class=\"sk-serial\"><div class=\"sk-item\"><div class=\"sk-estimator sk-toggleable\"><input class=\"sk-toggleable__control sk-hidden--visually\" id=\"sk-estimator-id-52\" type=\"checkbox\" ><label for=\"sk-estimator-id-52\" class=\"sk-toggleable__label sk-toggleable__label-arrow\">KBinsDiscretizer</label><div class=\"sk-toggleable__content\"><pre>KBinsDiscretizer(encode=&#x27;ordinal&#x27;, n_bins=10, strategy=&#x27;kmeans&#x27;)</pre></div></div></div></div></div></div></div></div><div class=\"sk-item\"><div class=\"sk-estimator sk-toggleable\"><input class=\"sk-toggleable__control sk-hidden--visually\" id=\"sk-estimator-id-53\" type=\"checkbox\" ><label for=\"sk-estimator-id-53\" class=\"sk-toggleable__label sk-toggleable__label-arrow\">OneHotEncoder</label><div class=\"sk-toggleable__content\"><pre>OneHotEncoder(drop_last=True, ignore_format=True,\n",
       "              variables=[&#x27;Geography&#x27;, &#x27;Gender&#x27;, &#x27;HasCrCard&#x27;, &#x27;IsActiveMember&#x27;,\n",
       "                         &#x27;CreditScore&#x27;, &#x27;Balance&#x27;])</pre></div></div></div><div class=\"sk-item\"><div class=\"sk-estimator sk-toggleable\"><input class=\"sk-toggleable__control sk-hidden--visually\" id=\"sk-estimator-id-54\" type=\"checkbox\" ><label for=\"sk-estimator-id-54\" class=\"sk-toggleable__label sk-toggleable__label-arrow\">Winsorizer</label><div class=\"sk-toggleable__content\"><pre>Winsorizer(tail=&#x27;both&#x27;, variables=[&#x27;Age&#x27;])</pre></div></div></div><div class=\"sk-item sk-dashed-wrapped\"><div class=\"sk-label-container\"><div class=\"sk-label sk-toggleable\"><input class=\"sk-toggleable__control sk-hidden--visually\" id=\"sk-estimator-id-55\" type=\"checkbox\" ><label for=\"sk-estimator-id-55\" class=\"sk-toggleable__label sk-toggleable__label-arrow\">scalar: SklearnTransformerWrapper</label><div class=\"sk-toggleable__content\"><pre>SklearnTransformerWrapper(transformer=MinMaxScaler(),\n",
       "                          variables=[&#x27;Age&#x27;, &#x27;Tenure&#x27;, &#x27;EstimatedSalary&#x27;,\n",
       "                                     &#x27;NumOfProducts&#x27;])</pre></div></div></div><div class=\"sk-parallel\"><div class=\"sk-parallel-item\"><div class=\"sk-item\"><div class=\"sk-label-container\"><div class=\"sk-label sk-toggleable\"><input class=\"sk-toggleable__control sk-hidden--visually\" id=\"sk-estimator-id-56\" type=\"checkbox\" ><label for=\"sk-estimator-id-56\" class=\"sk-toggleable__label sk-toggleable__label-arrow\">transformer: MinMaxScaler</label><div class=\"sk-toggleable__content\"><pre>MinMaxScaler()</pre></div></div></div><div class=\"sk-serial\"><div class=\"sk-item\"><div class=\"sk-estimator sk-toggleable\"><input class=\"sk-toggleable__control sk-hidden--visually\" id=\"sk-estimator-id-57\" type=\"checkbox\" ><label for=\"sk-estimator-id-57\" class=\"sk-toggleable__label sk-toggleable__label-arrow\">MinMaxScaler</label><div class=\"sk-toggleable__content\"><pre>MinMaxScaler()</pre></div></div></div></div></div></div></div></div><div class=\"sk-item\"><div class=\"sk-estimator sk-toggleable\"><input class=\"sk-toggleable__control sk-hidden--visually\" id=\"sk-estimator-id-58\" type=\"checkbox\" ><label for=\"sk-estimator-id-58\" class=\"sk-toggleable__label sk-toggleable__label-arrow\">SVC</label><div class=\"sk-toggleable__content\"><pre>SVC(random_state=123)</pre></div></div></div></div></div></div></div>"
      ],
      "text/plain": [
       "Pipeline(steps=[('drop_features',\n",
       "                 DropFeatures(features_to_drop=['RowNumber', 'CustomerId',\n",
       "                                                'Surname', 'Unnamed: 0'])),\n",
       "                ('imputer_median',\n",
       "                 MeanMedianImputer(variables=['Age', 'Balance',\n",
       "                                              'NumOfProducts'])),\n",
       "                ('imputer_catgorical_frequent',\n",
       "                 CategoricalImputer(imputation_method='frequent',\n",
       "                                    variables=['Gender', 'Geography'])),\n",
       "                ('imputer_missing_indicator',\n",
       "                 AddMissingI...\n",
       "                ('one_hot_encoder',\n",
       "                 OneHotEncoder(drop_last=True, ignore_format=True,\n",
       "                               variables=['Geography', 'Gender', 'HasCrCard',\n",
       "                                          'IsActiveMember', 'CreditScore',\n",
       "                                          'Balance'])),\n",
       "                ('outlier', Winsorizer(tail='both', variables=['Age'])),\n",
       "                ('scalar',\n",
       "                 SklearnTransformerWrapper(transformer=MinMaxScaler(),\n",
       "                                           variables=['Age', 'Tenure',\n",
       "                                                      'EstimatedSalary',\n",
       "                                                      'NumOfProducts'])),\n",
       "                ('svc', SVC(random_state=123))])"
      ]
     },
     "execution_count": 32,
     "metadata": {},
     "output_type": "execute_result"
    }
   ],
   "source": [
    "from sklearn import set_config\n",
    "\n",
    "set_config(display='diagram')\n",
    "churn_pipeline_svm_non_linear"
   ]
  },
  {
   "cell_type": "markdown",
   "metadata": {},
   "source": [
    "### <font color = 'pickle'>**Specify Param Grid**"
   ]
  },
  {
   "cell_type": "code",
   "execution_count": 33,
   "metadata": {
    "execution": {
     "iopub.execute_input": "2022-10-23T23:36:24.329681Z",
     "iopub.status.busy": "2022-10-23T23:36:24.329600Z",
     "iopub.status.idle": "2022-10-23T23:36:24.338651Z",
     "shell.execute_reply": "2022-10-23T23:36:24.338228Z",
     "shell.execute_reply.started": "2022-10-23T23:36:24.329671Z"
    },
    "id": "bJZ5843TEHHM",
    "tags": []
   },
   "outputs": [],
   "source": [
    "# now we create the grid with all the parameters that we would like to test.\n",
    "param_grid_2 = {\n",
    "    'discretizer_cs__transformer__n_bins': range(2, 12, 2),\n",
    "    'discretizer_bal__transformer__n_bins': range(2, 8, 2),\n",
    "    'svc__kernel' :['rbf', 'sigmoid'],\n",
    "    'svc__C' :[1000],\n",
    "     }\n",
    "\n",
    "# now we set up the grid search with cross-validation\n",
    "grid_svc_2 = GridSearchCV(churn_pipeline_svm_non_linear, param_grid_2,\n",
    "                           cv=5, return_train_score= True, n_jobs=-1 )"
   ]
  },
  {
   "cell_type": "markdown",
   "metadata": {},
   "source": [
    "### <font color = 'pickle'>**Fit Model**"
   ]
  },
  {
   "cell_type": "code",
   "execution_count": 34,
   "metadata": {
    "colab": {
     "base_uri": "https://localhost:8080/"
    },
    "execution": {
     "iopub.execute_input": "2022-10-23T23:36:24.339580Z",
     "iopub.status.busy": "2022-10-23T23:36:24.339474Z",
     "iopub.status.idle": "2022-10-23T23:36:27.497099Z",
     "shell.execute_reply": "2022-10-23T23:36:27.496326Z",
     "shell.execute_reply.started": "2022-10-23T23:36:24.339571Z"
    },
    "executionInfo": {
     "elapsed": 375225,
     "status": "ok",
     "timestamp": 1627495368425,
     "user": {
      "displayName": "Harpreet Singh",
      "photoUrl": "https://lh3.googleusercontent.com/a-/AOh14GgoHXww3A9iD3K6JH0yfUWV-xv9zq1wI6_3E9i8yw=s64",
      "userId": "10443507700807192111"
     },
     "user_tz": 300
    },
    "id": "sx09kkKV5imQ",
    "outputId": "e5492479-345c-4dbb-9368-1cdc3fa47bb4",
    "tags": []
   },
   "outputs": [
    {
     "data": {
      "text/html": [
       "<style>#sk-container-id-4 {color: black;background-color: white;}#sk-container-id-4 pre{padding: 0;}#sk-container-id-4 div.sk-toggleable {background-color: white;}#sk-container-id-4 label.sk-toggleable__label {cursor: pointer;display: block;width: 100%;margin-bottom: 0;padding: 0.3em;box-sizing: border-box;text-align: center;}#sk-container-id-4 label.sk-toggleable__label-arrow:before {content: \"▸\";float: left;margin-right: 0.25em;color: #696969;}#sk-container-id-4 label.sk-toggleable__label-arrow:hover:before {color: black;}#sk-container-id-4 div.sk-estimator:hover label.sk-toggleable__label-arrow:before {color: black;}#sk-container-id-4 div.sk-toggleable__content {max-height: 0;max-width: 0;overflow: hidden;text-align: left;background-color: #f0f8ff;}#sk-container-id-4 div.sk-toggleable__content pre {margin: 0.2em;color: black;border-radius: 0.25em;background-color: #f0f8ff;}#sk-container-id-4 input.sk-toggleable__control:checked~div.sk-toggleable__content {max-height: 200px;max-width: 100%;overflow: auto;}#sk-container-id-4 input.sk-toggleable__control:checked~label.sk-toggleable__label-arrow:before {content: \"▾\";}#sk-container-id-4 div.sk-estimator input.sk-toggleable__control:checked~label.sk-toggleable__label {background-color: #d4ebff;}#sk-container-id-4 div.sk-label input.sk-toggleable__control:checked~label.sk-toggleable__label {background-color: #d4ebff;}#sk-container-id-4 input.sk-hidden--visually {border: 0;clip: rect(1px 1px 1px 1px);clip: rect(1px, 1px, 1px, 1px);height: 1px;margin: -1px;overflow: hidden;padding: 0;position: absolute;width: 1px;}#sk-container-id-4 div.sk-estimator {font-family: monospace;background-color: #f0f8ff;border: 1px dotted black;border-radius: 0.25em;box-sizing: border-box;margin-bottom: 0.5em;}#sk-container-id-4 div.sk-estimator:hover {background-color: #d4ebff;}#sk-container-id-4 div.sk-parallel-item::after {content: \"\";width: 100%;border-bottom: 1px solid gray;flex-grow: 1;}#sk-container-id-4 div.sk-label:hover label.sk-toggleable__label {background-color: #d4ebff;}#sk-container-id-4 div.sk-serial::before {content: \"\";position: absolute;border-left: 1px solid gray;box-sizing: border-box;top: 0;bottom: 0;left: 50%;z-index: 0;}#sk-container-id-4 div.sk-serial {display: flex;flex-direction: column;align-items: center;background-color: white;padding-right: 0.2em;padding-left: 0.2em;position: relative;}#sk-container-id-4 div.sk-item {position: relative;z-index: 1;}#sk-container-id-4 div.sk-parallel {display: flex;align-items: stretch;justify-content: center;background-color: white;position: relative;}#sk-container-id-4 div.sk-item::before, #sk-container-id-4 div.sk-parallel-item::before {content: \"\";position: absolute;border-left: 1px solid gray;box-sizing: border-box;top: 0;bottom: 0;left: 50%;z-index: -1;}#sk-container-id-4 div.sk-parallel-item {display: flex;flex-direction: column;z-index: 1;position: relative;background-color: white;}#sk-container-id-4 div.sk-parallel-item:first-child::after {align-self: flex-end;width: 50%;}#sk-container-id-4 div.sk-parallel-item:last-child::after {align-self: flex-start;width: 50%;}#sk-container-id-4 div.sk-parallel-item:only-child::after {width: 0;}#sk-container-id-4 div.sk-dashed-wrapped {border: 1px dashed gray;margin: 0 0.4em 0.5em 0.4em;box-sizing: border-box;padding-bottom: 0.4em;background-color: white;}#sk-container-id-4 div.sk-label label {font-family: monospace;font-weight: bold;display: inline-block;line-height: 1.2em;}#sk-container-id-4 div.sk-label-container {text-align: center;}#sk-container-id-4 div.sk-container {/* jupyter's `normalize.less` sets `[hidden] { display: none; }` but bootstrap.min.css set `[hidden] { display: none !important; }` so we also need the `!important` here to be able to override the default hidden behavior on the sphinx rendered scikit-learn.org. See: https://github.com/scikit-learn/scikit-learn/issues/21755 */display: inline-block !important;position: relative;}#sk-container-id-4 div.sk-text-repr-fallback {display: none;}</style><div id=\"sk-container-id-4\" class=\"sk-top-container\"><div class=\"sk-text-repr-fallback\"><pre>GridSearchCV(cv=5,\n",
       "             estimator=Pipeline(steps=[(&#x27;drop_features&#x27;,\n",
       "                                        DropFeatures(features_to_drop=[&#x27;RowNumber&#x27;,\n",
       "                                                                       &#x27;CustomerId&#x27;,\n",
       "                                                                       &#x27;Surname&#x27;,\n",
       "                                                                       &#x27;Unnamed: &#x27;\n",
       "                                                                       &#x27;0&#x27;])),\n",
       "                                       (&#x27;imputer_median&#x27;,\n",
       "                                        MeanMedianImputer(variables=[&#x27;Age&#x27;,\n",
       "                                                                     &#x27;Balance&#x27;,\n",
       "                                                                     &#x27;NumOfProducts&#x27;])),\n",
       "                                       (&#x27;imputer_catgorical_frequent&#x27;,\n",
       "                                        CategoricalImputer(imputation_method=&#x27;frequent&#x27;,\n",
       "                                                           variables=[&#x27;Gender&#x27;,\n",
       "                                                                      &#x27;Geography&#x27;])),\n",
       "                                       (&#x27;imputer_...\n",
       "                                       (&#x27;scalar&#x27;,\n",
       "                                        SklearnTransformerWrapper(transformer=MinMaxScaler(),\n",
       "                                                                  variables=[&#x27;Age&#x27;,\n",
       "                                                                             &#x27;Tenure&#x27;,\n",
       "                                                                             &#x27;EstimatedSalary&#x27;,\n",
       "                                                                             &#x27;NumOfProducts&#x27;])),\n",
       "                                       (&#x27;svc&#x27;, SVC(random_state=123))]),\n",
       "             n_jobs=-1,\n",
       "             param_grid={&#x27;discretizer_bal__transformer__n_bins&#x27;: range(2, 8, 2),\n",
       "                         &#x27;discretizer_cs__transformer__n_bins&#x27;: range(2, 12, 2),\n",
       "                         &#x27;svc__C&#x27;: [1000], &#x27;svc__kernel&#x27;: [&#x27;rbf&#x27;, &#x27;sigmoid&#x27;]},\n",
       "             return_train_score=True)</pre><b>In a Jupyter environment, please rerun this cell to show the HTML representation or trust the notebook. <br />On GitHub, the HTML representation is unable to render, please try loading this page with nbviewer.org.</b></div><div class=\"sk-container\" hidden><div class=\"sk-item sk-dashed-wrapped\"><div class=\"sk-label-container\"><div class=\"sk-label sk-toggleable\"><input class=\"sk-toggleable__control sk-hidden--visually\" id=\"sk-estimator-id-59\" type=\"checkbox\" ><label for=\"sk-estimator-id-59\" class=\"sk-toggleable__label sk-toggleable__label-arrow\">GridSearchCV</label><div class=\"sk-toggleable__content\"><pre>GridSearchCV(cv=5,\n",
       "             estimator=Pipeline(steps=[(&#x27;drop_features&#x27;,\n",
       "                                        DropFeatures(features_to_drop=[&#x27;RowNumber&#x27;,\n",
       "                                                                       &#x27;CustomerId&#x27;,\n",
       "                                                                       &#x27;Surname&#x27;,\n",
       "                                                                       &#x27;Unnamed: &#x27;\n",
       "                                                                       &#x27;0&#x27;])),\n",
       "                                       (&#x27;imputer_median&#x27;,\n",
       "                                        MeanMedianImputer(variables=[&#x27;Age&#x27;,\n",
       "                                                                     &#x27;Balance&#x27;,\n",
       "                                                                     &#x27;NumOfProducts&#x27;])),\n",
       "                                       (&#x27;imputer_catgorical_frequent&#x27;,\n",
       "                                        CategoricalImputer(imputation_method=&#x27;frequent&#x27;,\n",
       "                                                           variables=[&#x27;Gender&#x27;,\n",
       "                                                                      &#x27;Geography&#x27;])),\n",
       "                                       (&#x27;imputer_...\n",
       "                                       (&#x27;scalar&#x27;,\n",
       "                                        SklearnTransformerWrapper(transformer=MinMaxScaler(),\n",
       "                                                                  variables=[&#x27;Age&#x27;,\n",
       "                                                                             &#x27;Tenure&#x27;,\n",
       "                                                                             &#x27;EstimatedSalary&#x27;,\n",
       "                                                                             &#x27;NumOfProducts&#x27;])),\n",
       "                                       (&#x27;svc&#x27;, SVC(random_state=123))]),\n",
       "             n_jobs=-1,\n",
       "             param_grid={&#x27;discretizer_bal__transformer__n_bins&#x27;: range(2, 8, 2),\n",
       "                         &#x27;discretizer_cs__transformer__n_bins&#x27;: range(2, 12, 2),\n",
       "                         &#x27;svc__C&#x27;: [1000], &#x27;svc__kernel&#x27;: [&#x27;rbf&#x27;, &#x27;sigmoid&#x27;]},\n",
       "             return_train_score=True)</pre></div></div></div><div class=\"sk-parallel\"><div class=\"sk-parallel-item\"><div class=\"sk-item\"><div class=\"sk-label-container\"><div class=\"sk-label sk-toggleable\"><input class=\"sk-toggleable__control sk-hidden--visually\" id=\"sk-estimator-id-60\" type=\"checkbox\" ><label for=\"sk-estimator-id-60\" class=\"sk-toggleable__label sk-toggleable__label-arrow\">estimator: Pipeline</label><div class=\"sk-toggleable__content\"><pre>Pipeline(steps=[(&#x27;drop_features&#x27;,\n",
       "                 DropFeatures(features_to_drop=[&#x27;RowNumber&#x27;, &#x27;CustomerId&#x27;,\n",
       "                                                &#x27;Surname&#x27;, &#x27;Unnamed: 0&#x27;])),\n",
       "                (&#x27;imputer_median&#x27;,\n",
       "                 MeanMedianImputer(variables=[&#x27;Age&#x27;, &#x27;Balance&#x27;,\n",
       "                                              &#x27;NumOfProducts&#x27;])),\n",
       "                (&#x27;imputer_catgorical_frequent&#x27;,\n",
       "                 CategoricalImputer(imputation_method=&#x27;frequent&#x27;,\n",
       "                                    variables=[&#x27;Gender&#x27;, &#x27;Geography&#x27;])),\n",
       "                (&#x27;imputer_missing_indicator&#x27;,\n",
       "                 AddMissingI...\n",
       "                (&#x27;one_hot_encoder&#x27;,\n",
       "                 OneHotEncoder(drop_last=True, ignore_format=True,\n",
       "                               variables=[&#x27;Geography&#x27;, &#x27;Gender&#x27;, &#x27;HasCrCard&#x27;,\n",
       "                                          &#x27;IsActiveMember&#x27;, &#x27;CreditScore&#x27;,\n",
       "                                          &#x27;Balance&#x27;])),\n",
       "                (&#x27;outlier&#x27;, Winsorizer(tail=&#x27;both&#x27;, variables=[&#x27;Age&#x27;])),\n",
       "                (&#x27;scalar&#x27;,\n",
       "                 SklearnTransformerWrapper(transformer=MinMaxScaler(),\n",
       "                                           variables=[&#x27;Age&#x27;, &#x27;Tenure&#x27;,\n",
       "                                                      &#x27;EstimatedSalary&#x27;,\n",
       "                                                      &#x27;NumOfProducts&#x27;])),\n",
       "                (&#x27;svc&#x27;, SVC(random_state=123))])</pre></div></div></div><div class=\"sk-serial\"><div class=\"sk-item\"><div class=\"sk-serial\"><div class=\"sk-item\"><div class=\"sk-estimator sk-toggleable\"><input class=\"sk-toggleable__control sk-hidden--visually\" id=\"sk-estimator-id-61\" type=\"checkbox\" ><label for=\"sk-estimator-id-61\" class=\"sk-toggleable__label sk-toggleable__label-arrow\">DropFeatures</label><div class=\"sk-toggleable__content\"><pre>DropFeatures(features_to_drop=[&#x27;RowNumber&#x27;, &#x27;CustomerId&#x27;, &#x27;Surname&#x27;,\n",
       "                               &#x27;Unnamed: 0&#x27;])</pre></div></div></div><div class=\"sk-item\"><div class=\"sk-estimator sk-toggleable\"><input class=\"sk-toggleable__control sk-hidden--visually\" id=\"sk-estimator-id-62\" type=\"checkbox\" ><label for=\"sk-estimator-id-62\" class=\"sk-toggleable__label sk-toggleable__label-arrow\">MeanMedianImputer</label><div class=\"sk-toggleable__content\"><pre>MeanMedianImputer(variables=[&#x27;Age&#x27;, &#x27;Balance&#x27;, &#x27;NumOfProducts&#x27;])</pre></div></div></div><div class=\"sk-item\"><div class=\"sk-estimator sk-toggleable\"><input class=\"sk-toggleable__control sk-hidden--visually\" id=\"sk-estimator-id-63\" type=\"checkbox\" ><label for=\"sk-estimator-id-63\" class=\"sk-toggleable__label sk-toggleable__label-arrow\">CategoricalImputer</label><div class=\"sk-toggleable__content\"><pre>CategoricalImputer(imputation_method=&#x27;frequent&#x27;,\n",
       "                   variables=[&#x27;Gender&#x27;, &#x27;Geography&#x27;])</pre></div></div></div><div class=\"sk-item\"><div class=\"sk-estimator sk-toggleable\"><input class=\"sk-toggleable__control sk-hidden--visually\" id=\"sk-estimator-id-64\" type=\"checkbox\" ><label for=\"sk-estimator-id-64\" class=\"sk-toggleable__label sk-toggleable__label-arrow\">AddMissingIndicator</label><div class=\"sk-toggleable__content\"><pre>AddMissingIndicator(variables=[&#x27;Age&#x27;, &#x27;Geography&#x27;])</pre></div></div></div><div class=\"sk-item\"><div class=\"sk-estimator sk-toggleable\"><input class=\"sk-toggleable__control sk-hidden--visually\" id=\"sk-estimator-id-65\" type=\"checkbox\" ><label for=\"sk-estimator-id-65\" class=\"sk-toggleable__label sk-toggleable__label-arrow\">RandomSampleImputer</label><div class=\"sk-toggleable__content\"><pre>RandomSampleImputer(random_state=123, variables=[&#x27;Tenure&#x27;])</pre></div></div></div><div class=\"sk-item\"><div class=\"sk-estimator sk-toggleable\"><input class=\"sk-toggleable__control sk-hidden--visually\" id=\"sk-estimator-id-66\" type=\"checkbox\" ><label for=\"sk-estimator-id-66\" class=\"sk-toggleable__label sk-toggleable__label-arrow\">LogTransformer</label><div class=\"sk-toggleable__content\"><pre>LogTransformer(variables=[&#x27;Age&#x27;])</pre></div></div></div><div class=\"sk-item sk-dashed-wrapped\"><div class=\"sk-label-container\"><div class=\"sk-label sk-toggleable\"><input class=\"sk-toggleable__control sk-hidden--visually\" id=\"sk-estimator-id-67\" type=\"checkbox\" ><label for=\"sk-estimator-id-67\" class=\"sk-toggleable__label sk-toggleable__label-arrow\">discretizer_cs: SklearnTransformerWrapper</label><div class=\"sk-toggleable__content\"><pre>SklearnTransformerWrapper(transformer=KBinsDiscretizer(encode=&#x27;ordinal&#x27;,\n",
       "                                                       n_bins=10,\n",
       "                                                       strategy=&#x27;kmeans&#x27;),\n",
       "                          variables=[&#x27;CreditScore&#x27;])</pre></div></div></div><div class=\"sk-parallel\"><div class=\"sk-parallel-item\"><div class=\"sk-item\"><div class=\"sk-label-container\"><div class=\"sk-label sk-toggleable\"><input class=\"sk-toggleable__control sk-hidden--visually\" id=\"sk-estimator-id-68\" type=\"checkbox\" ><label for=\"sk-estimator-id-68\" class=\"sk-toggleable__label sk-toggleable__label-arrow\">transformer: KBinsDiscretizer</label><div class=\"sk-toggleable__content\"><pre>KBinsDiscretizer(encode=&#x27;ordinal&#x27;, n_bins=10, strategy=&#x27;kmeans&#x27;)</pre></div></div></div><div class=\"sk-serial\"><div class=\"sk-item\"><div class=\"sk-estimator sk-toggleable\"><input class=\"sk-toggleable__control sk-hidden--visually\" id=\"sk-estimator-id-69\" type=\"checkbox\" ><label for=\"sk-estimator-id-69\" class=\"sk-toggleable__label sk-toggleable__label-arrow\">KBinsDiscretizer</label><div class=\"sk-toggleable__content\"><pre>KBinsDiscretizer(encode=&#x27;ordinal&#x27;, n_bins=10, strategy=&#x27;kmeans&#x27;)</pre></div></div></div></div></div></div></div></div><div class=\"sk-item sk-dashed-wrapped\"><div class=\"sk-label-container\"><div class=\"sk-label sk-toggleable\"><input class=\"sk-toggleable__control sk-hidden--visually\" id=\"sk-estimator-id-70\" type=\"checkbox\" ><label for=\"sk-estimator-id-70\" class=\"sk-toggleable__label sk-toggleable__label-arrow\">discretizer_bal: SklearnTransformerWrapper</label><div class=\"sk-toggleable__content\"><pre>SklearnTransformerWrapper(transformer=KBinsDiscretizer(encode=&#x27;ordinal&#x27;,\n",
       "                                                       n_bins=10,\n",
       "                                                       strategy=&#x27;kmeans&#x27;),\n",
       "                          variables=[&#x27;Balance&#x27;])</pre></div></div></div><div class=\"sk-parallel\"><div class=\"sk-parallel-item\"><div class=\"sk-item\"><div class=\"sk-label-container\"><div class=\"sk-label sk-toggleable\"><input class=\"sk-toggleable__control sk-hidden--visually\" id=\"sk-estimator-id-71\" type=\"checkbox\" ><label for=\"sk-estimator-id-71\" class=\"sk-toggleable__label sk-toggleable__label-arrow\">transformer: KBinsDiscretizer</label><div class=\"sk-toggleable__content\"><pre>KBinsDiscretizer(encode=&#x27;ordinal&#x27;, n_bins=10, strategy=&#x27;kmeans&#x27;)</pre></div></div></div><div class=\"sk-serial\"><div class=\"sk-item\"><div class=\"sk-estimator sk-toggleable\"><input class=\"sk-toggleable__control sk-hidden--visually\" id=\"sk-estimator-id-72\" type=\"checkbox\" ><label for=\"sk-estimator-id-72\" class=\"sk-toggleable__label sk-toggleable__label-arrow\">KBinsDiscretizer</label><div class=\"sk-toggleable__content\"><pre>KBinsDiscretizer(encode=&#x27;ordinal&#x27;, n_bins=10, strategy=&#x27;kmeans&#x27;)</pre></div></div></div></div></div></div></div></div><div class=\"sk-item\"><div class=\"sk-estimator sk-toggleable\"><input class=\"sk-toggleable__control sk-hidden--visually\" id=\"sk-estimator-id-73\" type=\"checkbox\" ><label for=\"sk-estimator-id-73\" class=\"sk-toggleable__label sk-toggleable__label-arrow\">OneHotEncoder</label><div class=\"sk-toggleable__content\"><pre>OneHotEncoder(drop_last=True, ignore_format=True,\n",
       "              variables=[&#x27;Geography&#x27;, &#x27;Gender&#x27;, &#x27;HasCrCard&#x27;, &#x27;IsActiveMember&#x27;,\n",
       "                         &#x27;CreditScore&#x27;, &#x27;Balance&#x27;])</pre></div></div></div><div class=\"sk-item\"><div class=\"sk-estimator sk-toggleable\"><input class=\"sk-toggleable__control sk-hidden--visually\" id=\"sk-estimator-id-74\" type=\"checkbox\" ><label for=\"sk-estimator-id-74\" class=\"sk-toggleable__label sk-toggleable__label-arrow\">Winsorizer</label><div class=\"sk-toggleable__content\"><pre>Winsorizer(tail=&#x27;both&#x27;, variables=[&#x27;Age&#x27;])</pre></div></div></div><div class=\"sk-item sk-dashed-wrapped\"><div class=\"sk-label-container\"><div class=\"sk-label sk-toggleable\"><input class=\"sk-toggleable__control sk-hidden--visually\" id=\"sk-estimator-id-75\" type=\"checkbox\" ><label for=\"sk-estimator-id-75\" class=\"sk-toggleable__label sk-toggleable__label-arrow\">scalar: SklearnTransformerWrapper</label><div class=\"sk-toggleable__content\"><pre>SklearnTransformerWrapper(transformer=MinMaxScaler(),\n",
       "                          variables=[&#x27;Age&#x27;, &#x27;Tenure&#x27;, &#x27;EstimatedSalary&#x27;,\n",
       "                                     &#x27;NumOfProducts&#x27;])</pre></div></div></div><div class=\"sk-parallel\"><div class=\"sk-parallel-item\"><div class=\"sk-item\"><div class=\"sk-label-container\"><div class=\"sk-label sk-toggleable\"><input class=\"sk-toggleable__control sk-hidden--visually\" id=\"sk-estimator-id-76\" type=\"checkbox\" ><label for=\"sk-estimator-id-76\" class=\"sk-toggleable__label sk-toggleable__label-arrow\">transformer: MinMaxScaler</label><div class=\"sk-toggleable__content\"><pre>MinMaxScaler()</pre></div></div></div><div class=\"sk-serial\"><div class=\"sk-item\"><div class=\"sk-estimator sk-toggleable\"><input class=\"sk-toggleable__control sk-hidden--visually\" id=\"sk-estimator-id-77\" type=\"checkbox\" ><label for=\"sk-estimator-id-77\" class=\"sk-toggleable__label sk-toggleable__label-arrow\">MinMaxScaler</label><div class=\"sk-toggleable__content\"><pre>MinMaxScaler()</pre></div></div></div></div></div></div></div></div><div class=\"sk-item\"><div class=\"sk-estimator sk-toggleable\"><input class=\"sk-toggleable__control sk-hidden--visually\" id=\"sk-estimator-id-78\" type=\"checkbox\" ><label for=\"sk-estimator-id-78\" class=\"sk-toggleable__label sk-toggleable__label-arrow\">SVC</label><div class=\"sk-toggleable__content\"><pre>SVC(random_state=123)</pre></div></div></div></div></div></div></div></div></div></div></div></div>"
      ],
      "text/plain": [
       "GridSearchCV(cv=5,\n",
       "             estimator=Pipeline(steps=[('drop_features',\n",
       "                                        DropFeatures(features_to_drop=['RowNumber',\n",
       "                                                                       'CustomerId',\n",
       "                                                                       'Surname',\n",
       "                                                                       'Unnamed: '\n",
       "                                                                       '0'])),\n",
       "                                       ('imputer_median',\n",
       "                                        MeanMedianImputer(variables=['Age',\n",
       "                                                                     'Balance',\n",
       "                                                                     'NumOfProducts'])),\n",
       "                                       ('imputer_catgorical_frequent',\n",
       "                                        CategoricalImputer(imputation_method='frequent',\n",
       "                                                           variables=['Gender',\n",
       "                                                                      'Geography'])),\n",
       "                                       ('imputer_...\n",
       "                                       ('scalar',\n",
       "                                        SklearnTransformerWrapper(transformer=MinMaxScaler(),\n",
       "                                                                  variables=['Age',\n",
       "                                                                             'Tenure',\n",
       "                                                                             'EstimatedSalary',\n",
       "                                                                             'NumOfProducts'])),\n",
       "                                       ('svc', SVC(random_state=123))]),\n",
       "             n_jobs=-1,\n",
       "             param_grid={'discretizer_bal__transformer__n_bins': range(2, 8, 2),\n",
       "                         'discretizer_cs__transformer__n_bins': range(2, 12, 2),\n",
       "                         'svc__C': [1000], 'svc__kernel': ['rbf', 'sigmoid']},\n",
       "             return_train_score=True)"
      ]
     },
     "execution_count": 34,
     "metadata": {},
     "output_type": "execute_result"
    }
   ],
   "source": [
    "# fit the model\n",
    "grid_svc_2.fit(X_train,y_train)"
   ]
  },
  {
   "cell_type": "markdown",
   "metadata": {},
   "source": [
    "### <font color = 'pickle'>**Get Best Params**"
   ]
  },
  {
   "cell_type": "code",
   "execution_count": 35,
   "metadata": {
    "colab": {
     "base_uri": "https://localhost:8080/"
    },
    "execution": {
     "iopub.execute_input": "2022-10-23T23:36:27.498066Z",
     "iopub.status.busy": "2022-10-23T23:36:27.497978Z",
     "iopub.status.idle": "2022-10-23T23:36:27.509574Z",
     "shell.execute_reply": "2022-10-23T23:36:27.509227Z",
     "shell.execute_reply.started": "2022-10-23T23:36:27.498056Z"
    },
    "executionInfo": {
     "elapsed": 375225,
     "status": "ok",
     "timestamp": 1627495368425,
     "user": {
      "displayName": "Harpreet Singh",
      "photoUrl": "https://lh3.googleusercontent.com/a-/AOh14GgoHXww3A9iD3K6JH0yfUWV-xv9zq1wI6_3E9i8yw=s64",
      "userId": "10443507700807192111"
     },
     "user_tz": 300
    },
    "id": "sx09kkKV5imQ",
    "outputId": "e5492479-345c-4dbb-9368-1cdc3fa47bb4",
    "tags": []
   },
   "outputs": [
    {
     "name": "stdout",
     "output_type": "stream",
     "text": [
      "{'discretizer_bal__transformer__n_bins': 6, 'discretizer_cs__transformer__n_bins': 2, 'svc__C': 1000, 'svc__kernel': 'rbf'}\n"
     ]
    }
   ],
   "source": [
    "#Let's check the best_parameters from GridSearchCv for our model\n",
    "print(grid_svc_2.best_params_)"
   ]
  },
  {
   "cell_type": "markdown",
   "metadata": {},
   "source": [
    "### <font color = 'pickle'>**Save Model**"
   ]
  },
  {
   "cell_type": "code",
   "execution_count": 36,
   "metadata": {
    "execution": {
     "iopub.execute_input": "2022-10-23T23:36:27.510726Z",
     "iopub.status.busy": "2022-10-23T23:36:27.510411Z",
     "iopub.status.idle": "2022-10-23T23:36:27.518527Z",
     "shell.execute_reply": "2022-10-23T23:36:27.518216Z",
     "shell.execute_reply.started": "2022-10-23T23:36:27.510714Z"
    },
    "id": "MUnbaixNXdW_",
    "tags": []
   },
   "outputs": [],
   "source": [
    "file_best_estimator_round2 = save_model_folder / 'svc_round2_best_estimator.pkl'\n",
    "file_complete_grid_round2  = save_model_folder / 'svc_round2_complete_grid.pkl'"
   ]
  },
  {
   "cell_type": "code",
   "execution_count": 37,
   "metadata": {
    "colab": {
     "base_uri": "https://localhost:8080/"
    },
    "execution": {
     "iopub.execute_input": "2022-10-23T23:36:27.519055Z",
     "iopub.status.busy": "2022-10-23T23:36:27.518980Z",
     "iopub.status.idle": "2022-10-23T23:36:27.534866Z",
     "shell.execute_reply": "2022-10-23T23:36:27.534529Z",
     "shell.execute_reply.started": "2022-10-23T23:36:27.519046Z"
    },
    "executionInfo": {
     "elapsed": 285,
     "status": "ok",
     "timestamp": 1627510910305,
     "user": {
      "displayName": "Shaannoor Mann",
      "photoUrl": "",
      "userId": "02520257695567980696"
     },
     "user_tz": 300
    },
    "id": "UvxwlJRNXdW_",
    "outputId": "83c21c26-ef5c-4cd4-8df7-8f1061dba444",
    "tags": []
   },
   "outputs": [
    {
     "data": {
      "text/plain": [
       "['/home/harpreet/Insync/google_drive_shaannoor/data/models/ml_fall_2022/svc_round2_complete_grid.pkl']"
      ]
     },
     "execution_count": 37,
     "metadata": {},
     "output_type": "execute_result"
    }
   ],
   "source": [
    "joblib.dump(grid_svc_2.best_estimator_, file_best_estimator_round2)\n",
    "joblib.dump(grid_svc_2, file_complete_grid_round2)"
   ]
  },
  {
   "cell_type": "markdown",
   "metadata": {},
   "source": [
    "### <font color = 'pickle'>**Load Saved Model**"
   ]
  },
  {
   "cell_type": "code",
   "execution_count": 38,
   "metadata": {
    "execution": {
     "iopub.execute_input": "2022-10-23T23:36:27.535412Z",
     "iopub.status.busy": "2022-10-23T23:36:27.535331Z",
     "iopub.status.idle": "2022-10-23T23:36:27.549540Z",
     "shell.execute_reply": "2022-10-23T23:36:27.549211Z",
     "shell.execute_reply.started": "2022-10-23T23:36:27.535401Z"
    },
    "id": "BepW2z1HXdXA",
    "tags": []
   },
   "outputs": [],
   "source": [
    "loaded_best_estimator_round2 = joblib.load(file_best_estimator_round2)\n",
    "loaded_complete_grid_round2 = joblib.load(file_complete_grid_round2)"
   ]
  },
  {
   "cell_type": "markdown",
   "metadata": {},
   "source": [
    "### <font color = 'pickle'>**Plot Learning Curve**"
   ]
  },
  {
   "cell_type": "markdown",
   "metadata": {
    "id": "icOPQDbIXdXC"
   },
   "source": [
    "**The Learning curve above clearly shows that there is overfiting. This means that the non-linear kernels has the capacity and we can fine tune non-linear kernels to get better cross-validation results.**"
   ]
  },
  {
   "cell_type": "code",
   "execution_count": 39,
   "metadata": {
    "colab": {
     "base_uri": "https://localhost:8080/",
     "height": 368
    },
    "execution": {
     "iopub.execute_input": "2022-10-23T23:36:27.550088Z",
     "iopub.status.busy": "2022-10-23T23:36:27.550007Z",
     "iopub.status.idle": "2022-10-23T23:36:28.530847Z",
     "shell.execute_reply": "2022-10-23T23:36:28.530156Z",
     "shell.execute_reply.started": "2022-10-23T23:36:27.550078Z"
    },
    "executionInfo": {
     "elapsed": 5246,
     "status": "ok",
     "timestamp": 1627495422078,
     "user": {
      "displayName": "Harpreet Singh",
      "photoUrl": "https://lh3.googleusercontent.com/a-/AOh14GgoHXww3A9iD3K6JH0yfUWV-xv9zq1wI6_3E9i8yw=s64",
      "userId": "10443507700807192111"
     },
     "user_tz": 300
    },
    "id": "JdZpJqMp53rH",
    "outputId": "124fcde9-94e6-4fa8-e8fb-8ad522727ca3",
    "tags": []
   },
   "outputs": [
    {
     "data": {
      "text/plain": [
       "<module 'matplotlib.pyplot' from '/home/harpreet/mambaforge/lib/python3.10/site-packages/matplotlib/pyplot.py'>"
      ]
     },
     "execution_count": 39,
     "metadata": {},
     "output_type": "execute_result"
    },
    {
     "data": {
      "image/png": "[encoded data removed]",
      "text/plain": [
       "<Figure size 2000x500 with 3 Axes>"
      ]
     },
     "metadata": {},
     "output_type": "display_data"
    }
   ],
   "source": [
    "plot_learning_curve(loaded_best_estimator_round2 , 'Learning Curves svc', X_train, y_train, n_jobs=-1)"
   ]
  },
  {
   "cell_type": "markdown",
   "metadata": {},
   "source": [
    "### <font color = 'pickle'>**Check Cross Validation Score and Train Score**"
   ]
  },
  {
   "cell_type": "code",
   "execution_count": 40,
   "metadata": {
    "colab": {
     "base_uri": "https://localhost:8080/"
    },
    "execution": {
     "iopub.execute_input": "2022-10-23T23:36:28.531813Z",
     "iopub.status.busy": "2022-10-23T23:36:28.531683Z",
     "iopub.status.idle": "2022-10-23T23:36:28.673826Z",
     "shell.execute_reply": "2022-10-23T23:36:28.673190Z",
     "shell.execute_reply.started": "2022-10-23T23:36:28.531795Z"
    },
    "executionInfo": {
     "elapsed": 336,
     "status": "ok",
     "timestamp": 1627495461442,
     "user": {
      "displayName": "Harpreet Singh",
      "photoUrl": "https://lh3.googleusercontent.com/a-/AOh14GgoHXww3A9iD3K6JH0yfUWV-xv9zq1wI6_3E9i8yw=s64",
      "userId": "10443507700807192111"
     },
     "user_tz": 300
    },
    "id": "uL_HIUOK5-Fq",
    "outputId": "3da488b2-a64c-477d-9483-e5cfd629ace7",
    "tags": []
   },
   "outputs": [
    {
     "name": "stdout",
     "output_type": "stream",
     "text": [
      "0.9545621106632466\n",
      "0.6870618677958127\n"
     ]
    }
   ],
   "source": [
    "#let's check the train scores\n",
    "print(loaded_best_estimator_round2.score(X_train,y_train))\n",
    "\n",
    "#let's check the cross validation score\n",
    "print(loaded_complete_grid_round2.best_score_)"
   ]
  },
  {
   "cell_type": "markdown",
   "metadata": {
    "id": "MK9Fgq8Kyv2e"
   },
   "source": [
    "## <font color = 'pickle'>**Hyperparameter Tuning - Round 3- Regularization for Overfitting**\n"
   ]
  },
  {
   "cell_type": "markdown",
   "metadata": {
    "id": "xhcQX9NmXdXC"
   },
   "source": [
    "Two importnat hyperparameters are:\n",
    "\n",
    "- C: If your SVM model is overfitting, you can try regularizing it by reducing C.\n",
    "- gamma: If your SVM model is overfitting, you can try regularizing it by reducing gamma.\n",
    "\n",
    "- We need to optimize both C and gamma parameters simultaneously. C has neglegible effect when gamma is large. However for small values of gamma , C affects the model just like how it affects a linear model.\n",
    "\n",
    "- Typical values for C and gamma are as follows :\n",
    "\n",
    "        0.0001 < gamma < 10\n",
    "        0.1 < C < 100\n",
    "\n",
    "\n",
    "- In addition, the polynomial kernel has another parameter - degree\n",
    "- If we evaluate all the kernels and corresponding hyperparameters, the combinations of parameters will become very large. Hence we will first use RandomizedSearchCV to explore the serach space more efficiently. We can further finetune the search space (if required) using GridSerachCV.\n",
    "\n",
    "- Since both gamma and C are continuous variables, and can take wide range of values, we will use loguniform distribution for C and gamma.\n",
    "\n",
    "- degree can take integer values, hence we wil use randomint distribution to specify the search space"
   ]
  },
  {
   "cell_type": "code",
   "execution_count": 41,
   "metadata": {
    "execution": {
     "iopub.execute_input": "2022-10-23T23:36:28.676486Z",
     "iopub.status.busy": "2022-10-23T23:36:28.676402Z",
     "iopub.status.idle": "2022-10-23T23:36:28.688753Z",
     "shell.execute_reply": "2022-10-23T23:36:28.688125Z",
     "shell.execute_reply.started": "2022-10-23T23:36:28.676475Z"
    },
    "id": "PnwbfPi3XdXD",
    "outputId": "8d81de37-3c90-4bfe-ef9a-4230b79bae7a",
    "tags": []
   },
   "outputs": [
    {
     "data": {
      "text/plain": [
       "array([-3. , -1.5,  0. ,  1.5,  3. ])"
      ]
     },
     "execution_count": 41,
     "metadata": {},
     "output_type": "execute_result"
    }
   ],
   "source": [
    "# For continuous variables, we can specify serach space using linspace or logspace\n",
    "# let us understand the difference\n",
    "np.linspace(-3,3, 5)"
   ]
  },
  {
   "cell_type": "code",
   "execution_count": 42,
   "metadata": {
    "execution": {
     "iopub.execute_input": "2022-10-23T23:36:28.689265Z",
     "iopub.status.busy": "2022-10-23T23:36:28.689189Z",
     "iopub.status.idle": "2022-10-23T23:36:28.699018Z",
     "shell.execute_reply": "2022-10-23T23:36:28.698564Z",
     "shell.execute_reply.started": "2022-10-23T23:36:28.689255Z"
    },
    "id": "MncX-DCgXdXD",
    "outputId": "e0f289e0-9efd-4cbd-de5e-04563ca7ab83",
    "tags": []
   },
   "outputs": [
    {
     "name": "stdout",
     "output_type": "stream",
     "text": [
      "0.0010\n",
      "0.0316\n",
      "1.0000\n",
      "31.6228\n",
      "1000.0000\n"
     ]
    }
   ],
   "source": [
    "# Let us first take 5 evenly spaced values using 10 as the base.\n",
    "for x in 10**(np.linspace(-3,3, 5)):\n",
    "    print(f'{x:.4f}')"
   ]
  },
  {
   "cell_type": "code",
   "execution_count": 43,
   "metadata": {
    "execution": {
     "iopub.execute_input": "2022-10-23T23:36:28.699881Z",
     "iopub.status.busy": "2022-10-23T23:36:28.699802Z",
     "iopub.status.idle": "2022-10-23T23:36:28.709118Z",
     "shell.execute_reply": "2022-10-23T23:36:28.708607Z",
     "shell.execute_reply.started": "2022-10-23T23:36:28.699871Z"
    },
    "id": "dhEY5ny5XdXD",
    "outputId": "7e0b3fcf-ae20-493f-c709-de9cfaea44c6",
    "tags": []
   },
   "outputs": [
    {
     "name": "stdout",
     "output_type": "stream",
     "text": [
      "0.0010\n",
      "0.0316\n",
      "1.0000\n",
      "31.6228\n",
      "1000.0000\n"
     ]
    }
   ],
   "source": [
    "# 5 evenly distributed values in logspace\n",
    "for x in np.logspace(-3,3, num=5):\n",
    "    print(f'{x:.4f}')"
   ]
  },
  {
   "cell_type": "code",
   "execution_count": 44,
   "metadata": {
    "execution": {
     "iopub.execute_input": "2022-10-23T23:36:28.709762Z",
     "iopub.status.busy": "2022-10-23T23:36:28.709668Z",
     "iopub.status.idle": "2022-10-23T23:36:28.724539Z",
     "shell.execute_reply": "2022-10-23T23:36:28.724187Z",
     "shell.execute_reply.started": "2022-10-23T23:36:28.709751Z"
    },
    "id": "q8pHJX4aXdXE",
    "outputId": "8175b76f-d9f3-406d-fbe8-0da6bf4a3a6c",
    "tags": []
   },
   "outputs": [
    {
     "data": {
      "text/plain": [
       "500.216433722518"
      ]
     },
     "execution_count": 44,
     "metadata": {},
     "output_type": "execute_result"
    }
   ],
   "source": [
    "# uniform distribution - pick a value randomly from numbers evenlty distributed in linear space\n",
    "# mean of 1000000 random values\n",
    "rand_num = np.random.uniform(0.01, 1000, size=1000000)\n",
    "np.mean(rand_num)"
   ]
  },
  {
   "cell_type": "code",
   "execution_count": 45,
   "metadata": {
    "execution": {
     "iopub.execute_input": "2022-10-23T23:36:28.725084Z",
     "iopub.status.busy": "2022-10-23T23:36:28.725003Z",
     "iopub.status.idle": "2022-10-23T23:36:28.736813Z",
     "shell.execute_reply": "2022-10-23T23:36:28.736385Z",
     "shell.execute_reply.started": "2022-10-23T23:36:28.725075Z"
    },
    "id": "a3Fy42NoXdXE",
    "outputId": "6e53fa87-2b2f-4fc8-e8aa-dbb010736b91",
    "tags": []
   },
   "outputs": [
    {
     "data": {
      "text/plain": [
       "500.00499999999994"
      ]
     },
     "execution_count": 45,
     "metadata": {},
     "output_type": "execute_result"
    }
   ],
   "source": [
    "# mean of 1000000 linearly spaced values between 0.01 and 1000\n",
    "lin_spaced_values =  np.linspace(0.01, 1000, num =1000000)\n",
    "np.mean(lin_spaced_values)"
   ]
  },
  {
   "cell_type": "code",
   "execution_count": 46,
   "metadata": {
    "execution": {
     "iopub.execute_input": "2022-10-23T23:36:28.737411Z",
     "iopub.status.busy": "2022-10-23T23:36:28.737329Z",
     "iopub.status.idle": "2022-10-23T23:36:28.767276Z",
     "shell.execute_reply": "2022-10-23T23:36:28.766883Z",
     "shell.execute_reply.started": "2022-10-23T23:36:28.737401Z"
    },
    "id": "Vr-TvmOAXdXE",
    "outputId": "5283ac62-a8e1-40a5-8b08-c81580188ded",
    "tags": []
   },
   "outputs": [
    {
     "data": {
      "text/plain": [
       "87.1539631556133"
      ]
     },
     "execution_count": 46,
     "metadata": {},
     "output_type": "execute_result"
    }
   ],
   "source": [
    "# log uniform distribution - pick a value randomly from numbers evenlty distributed in log spacespace\n",
    "# loguniform distribution\n",
    "rand_num = loguniform.rvs(0.01, 1000, size=1000000)\n",
    "np.mean(rand_num )"
   ]
  },
  {
   "cell_type": "code",
   "execution_count": 47,
   "metadata": {
    "execution": {
     "iopub.execute_input": "2022-10-23T23:36:28.767905Z",
     "iopub.status.busy": "2022-10-23T23:36:28.767817Z",
     "iopub.status.idle": "2022-10-23T23:36:28.793258Z",
     "shell.execute_reply": "2022-10-23T23:36:28.792885Z",
     "shell.execute_reply.started": "2022-10-23T23:36:28.767894Z"
    },
    "id": "2Ax2Z0ZLXdXF",
    "outputId": "e6fce504-1fa7-4e87-ae1c-f475674b9bb8",
    "tags": []
   },
   "outputs": [
    {
     "data": {
      "text/plain": [
       "86.85844093961815"
      ]
     },
     "execution_count": 47,
     "metadata": {},
     "output_type": "execute_result"
    }
   ],
   "source": [
    "# # mean of 1000000 log spaced values between 0.01 and 1000 \n",
    "log_spaced_values = np.logspace(-2, 3, num =1000000)\n",
    "np.mean(log_spaced_values)"
   ]
  },
  {
   "cell_type": "code",
   "execution_count": 48,
   "metadata": {
    "execution": {
     "iopub.execute_input": "2022-10-23T23:36:28.793883Z",
     "iopub.status.busy": "2022-10-23T23:36:28.793791Z",
     "iopub.status.idle": "2022-10-23T23:36:28.821601Z",
     "shell.execute_reply": "2022-10-23T23:36:28.821146Z",
     "shell.execute_reply.started": "2022-10-23T23:36:28.793871Z"
    },
    "id": "YSsalgIJXdXF",
    "outputId": "7970b3f5-e329-42e8-afa1-82c2247f44c9",
    "tags": []
   },
   "outputs": [
    {
     "data": {
      "text/plain": [
       "86.74700345376077"
      ]
     },
     "execution_count": 48,
     "metadata": {},
     "output_type": "execute_result"
    }
   ],
   "source": [
    "# Another way of understanding loguniform distribution\n",
    "# we can first pick random value from uniform distribution\n",
    "# and then calculate 10**random_value to get corresponding value from loguniform distribution\n",
    "\n",
    "rand_num = (10**(np.random.uniform(-2, 3, size=1000000)))\n",
    "np.mean(rand_num)"
   ]
  },
  {
   "cell_type": "markdown",
   "metadata": {},
   "source": [
    "### <font color = 'pickle'>**Specify Param Grid- Use RandomSerachCV and two difefrent estimators in same grid**"
   ]
  },
  {
   "cell_type": "code",
   "execution_count": 49,
   "metadata": {
    "execution": {
     "iopub.execute_input": "2022-10-23T23:36:28.822255Z",
     "iopub.status.busy": "2022-10-23T23:36:28.822171Z",
     "iopub.status.idle": "2022-10-23T23:36:28.835372Z",
     "shell.execute_reply": "2022-10-23T23:36:28.834982Z",
     "shell.execute_reply.started": "2022-10-23T23:36:28.822244Z"
    },
    "id": "4FFx34e0Imwf",
    "tags": []
   },
   "outputs": [],
   "source": [
    "param_grid_3 = [{\n",
    "    'discretizer_cs__transformer__n_bins': range(2, 12, 2),\n",
    "    'discretizer_bal__transformer__n_bins': range(2, 8, 2),\n",
    "    'svc__kernel' :['rbf', 'sigmoid'],\n",
    "    'svc__C' :loguniform(0.01, 1000),\n",
    "    'svc__gamma' :loguniform(0.0001, 10),\n",
    "     },\n",
    "     {\n",
    "    'discretizer_cs__transformer__n_bins': range(2, 12, 2),\n",
    "    'discretizer_bal__transformer__n_bins': range(2, 8, 2),\n",
    "    'svc__kernel' :['poly'],\n",
    "    'svc__C' :loguniform(0.01, 1000),\n",
    "    'svc__gamma' :loguniform(0.0001, 10),\n",
    "    'svc__degree' :[2, 3, 4],\n",
    "     }]\n",
    "\n",
    "# now we set up the grid search with cross-validation\n",
    "grid_svc_3 = RandomizedSearchCV(churn_pipeline_svm_non_linear, param_grid_3,\n",
    "                           cv=5, return_train_score= True, n_jobs=-1, random_state=123, n_iter= 100)"
   ]
  },
  {
   "cell_type": "markdown",
   "metadata": {},
   "source": [
    "### <font color = 'pickle'>**Fit Model**"
   ]
  },
  {
   "cell_type": "code",
   "execution_count": 50,
   "metadata": {
    "colab": {
     "base_uri": "https://localhost:8080/"
    },
    "execution": {
     "iopub.execute_input": "2022-10-23T23:36:28.835946Z",
     "iopub.status.busy": "2022-10-23T23:36:28.835865Z",
     "iopub.status.idle": "2022-10-23T23:44:30.120500Z",
     "shell.execute_reply": "2022-10-23T23:44:30.119893Z",
     "shell.execute_reply.started": "2022-10-23T23:36:28.835936Z"
    },
    "executionInfo": {
     "elapsed": 709933,
     "status": "ok",
     "timestamp": 1627497489547,
     "user": {
      "displayName": "Harpreet Singh",
      "photoUrl": "https://lh3.googleusercontent.com/a-/AOh14GgoHXww3A9iD3K6JH0yfUWV-xv9zq1wI6_3E9i8yw=s64",
      "userId": "10443507700807192111"
     },
     "user_tz": 300
    },
    "id": "iXaeb2qgLo8t",
    "outputId": "9254ead9-86b3-4878-d28a-a29a7cc0b5f1",
    "tags": []
   },
   "outputs": [
    {
     "data": {
      "text/html": [
       "<style>#sk-container-id-5 {color: black;background-color: white;}#sk-container-id-5 pre{padding: 0;}#sk-container-id-5 div.sk-toggleable {background-color: white;}#sk-container-id-5 label.sk-toggleable__label {cursor: pointer;display: block;width: 100%;margin-bottom: 0;padding: 0.3em;box-sizing: border-box;text-align: center;}#sk-container-id-5 label.sk-toggleable__label-arrow:before {content: \"▸\";float: left;margin-right: 0.25em;color: #696969;}#sk-container-id-5 label.sk-toggleable__label-arrow:hover:before {color: black;}#sk-container-id-5 div.sk-estimator:hover label.sk-toggleable__label-arrow:before {color: black;}#sk-container-id-5 div.sk-toggleable__content {max-height: 0;max-width: 0;overflow: hidden;text-align: left;background-color: #f0f8ff;}#sk-container-id-5 div.sk-toggleable__content pre {margin: 0.2em;color: black;border-radius: 0.25em;background-color: #f0f8ff;}#sk-container-id-5 input.sk-toggleable__control:checked~div.sk-toggleable__content {max-height: 200px;max-width: 100%;overflow: auto;}#sk-container-id-5 input.sk-toggleable__control:checked~label.sk-toggleable__label-arrow:before {content: \"▾\";}#sk-container-id-5 div.sk-estimator input.sk-toggleable__control:checked~label.sk-toggleable__label {background-color: #d4ebff;}#sk-container-id-5 div.sk-label input.sk-toggleable__control:checked~label.sk-toggleable__label {background-color: #d4ebff;}#sk-container-id-5 input.sk-hidden--visually {border: 0;clip: rect(1px 1px 1px 1px);clip: rect(1px, 1px, 1px, 1px);height: 1px;margin: -1px;overflow: hidden;padding: 0;position: absolute;width: 1px;}#sk-container-id-5 div.sk-estimator {font-family: monospace;background-color: #f0f8ff;border: 1px dotted black;border-radius: 0.25em;box-sizing: border-box;margin-bottom: 0.5em;}#sk-container-id-5 div.sk-estimator:hover {background-color: #d4ebff;}#sk-container-id-5 div.sk-parallel-item::after {content: \"\";width: 100%;border-bottom: 1px solid gray;flex-grow: 1;}#sk-container-id-5 div.sk-label:hover label.sk-toggleable__label {background-color: #d4ebff;}#sk-container-id-5 div.sk-serial::before {content: \"\";position: absolute;border-left: 1px solid gray;box-sizing: border-box;top: 0;bottom: 0;left: 50%;z-index: 0;}#sk-container-id-5 div.sk-serial {display: flex;flex-direction: column;align-items: center;background-color: white;padding-right: 0.2em;padding-left: 0.2em;position: relative;}#sk-container-id-5 div.sk-item {position: relative;z-index: 1;}#sk-container-id-5 div.sk-parallel {display: flex;align-items: stretch;justify-content: center;background-color: white;position: relative;}#sk-container-id-5 div.sk-item::before, #sk-container-id-5 div.sk-parallel-item::before {content: \"\";position: absolute;border-left: 1px solid gray;box-sizing: border-box;top: 0;bottom: 0;left: 50%;z-index: -1;}#sk-container-id-5 div.sk-parallel-item {display: flex;flex-direction: column;z-index: 1;position: relative;background-color: white;}#sk-container-id-5 div.sk-parallel-item:first-child::after {align-self: flex-end;width: 50%;}#sk-container-id-5 div.sk-parallel-item:last-child::after {align-self: flex-start;width: 50%;}#sk-container-id-5 div.sk-parallel-item:only-child::after {width: 0;}#sk-container-id-5 div.sk-dashed-wrapped {border: 1px dashed gray;margin: 0 0.4em 0.5em 0.4em;box-sizing: border-box;padding-bottom: 0.4em;background-color: white;}#sk-container-id-5 div.sk-label label {font-family: monospace;font-weight: bold;display: inline-block;line-height: 1.2em;}#sk-container-id-5 div.sk-label-container {text-align: center;}#sk-container-id-5 div.sk-container {/* jupyter's `normalize.less` sets `[hidden] { display: none; }` but bootstrap.min.css set `[hidden] { display: none !important; }` so we also need the `!important` here to be able to override the default hidden behavior on the sphinx rendered scikit-learn.org. See: https://github.com/scikit-learn/scikit-learn/issues/21755 */display: inline-block !important;position: relative;}#sk-container-id-5 div.sk-text-repr-fallback {display: none;}</style><div id=\"sk-container-id-5\" class=\"sk-top-container\"><div class=\"sk-text-repr-fallback\"><pre>RandomizedSearchCV(cv=5,\n",
       "                   estimator=Pipeline(steps=[(&#x27;drop_features&#x27;,\n",
       "                                              DropFeatures(features_to_drop=[&#x27;RowNumber&#x27;,\n",
       "                                                                             &#x27;CustomerId&#x27;,\n",
       "                                                                             &#x27;Surname&#x27;,\n",
       "                                                                             &#x27;Unnamed: &#x27;\n",
       "                                                                             &#x27;0&#x27;])),\n",
       "                                             (&#x27;imputer_median&#x27;,\n",
       "                                              MeanMedianImputer(variables=[&#x27;Age&#x27;,\n",
       "                                                                           &#x27;Balance&#x27;,\n",
       "                                                                           &#x27;NumOfProducts&#x27;])),\n",
       "                                             (&#x27;imputer_catgorical_frequent&#x27;,\n",
       "                                              CategoricalImputer(imputation_method=&#x27;frequent&#x27;,\n",
       "                                                                 variables=[&#x27;Gender&#x27;,\n",
       "                                                                            &#x27;Geography&#x27;])),\n",
       "                                             (&#x27;im...\n",
       "                                        {&#x27;discretizer_bal__transformer__n_bins&#x27;: range(2, 8, 2),\n",
       "                                         &#x27;discretizer_cs__transformer__n_bins&#x27;: range(2, 12, 2),\n",
       "                                         &#x27;svc__C&#x27;: &lt;scipy.stats._distn_infrastructure.rv_continuous_frozen object at 0x7f8a81114b50&gt;,\n",
       "                                         &#x27;svc__degree&#x27;: [2, 3, 4],\n",
       "                                         &#x27;svc__gamma&#x27;: &lt;scipy.stats._distn_infrastructure.rv_continuous_frozen object at 0x7f8a811157b0&gt;,\n",
       "                                         &#x27;svc__kernel&#x27;: [&#x27;poly&#x27;]}],\n",
       "                   random_state=123, return_train_score=True)</pre><b>In a Jupyter environment, please rerun this cell to show the HTML representation or trust the notebook. <br />On GitHub, the HTML representation is unable to render, please try loading this page with nbviewer.org.</b></div><div class=\"sk-container\" hidden><div class=\"sk-item sk-dashed-wrapped\"><div class=\"sk-label-container\"><div class=\"sk-label sk-toggleable\"><input class=\"sk-toggleable__control sk-hidden--visually\" id=\"sk-estimator-id-79\" type=\"checkbox\" ><label for=\"sk-estimator-id-79\" class=\"sk-toggleable__label sk-toggleable__label-arrow\">RandomizedSearchCV</label><div class=\"sk-toggleable__content\"><pre>RandomizedSearchCV(cv=5,\n",
       "                   estimator=Pipeline(steps=[(&#x27;drop_features&#x27;,\n",
       "                                              DropFeatures(features_to_drop=[&#x27;RowNumber&#x27;,\n",
       "                                                                             &#x27;CustomerId&#x27;,\n",
       "                                                                             &#x27;Surname&#x27;,\n",
       "                                                                             &#x27;Unnamed: &#x27;\n",
       "                                                                             &#x27;0&#x27;])),\n",
       "                                             (&#x27;imputer_median&#x27;,\n",
       "                                              MeanMedianImputer(variables=[&#x27;Age&#x27;,\n",
       "                                                                           &#x27;Balance&#x27;,\n",
       "                                                                           &#x27;NumOfProducts&#x27;])),\n",
       "                                             (&#x27;imputer_catgorical_frequent&#x27;,\n",
       "                                              CategoricalImputer(imputation_method=&#x27;frequent&#x27;,\n",
       "                                                                 variables=[&#x27;Gender&#x27;,\n",
       "                                                                            &#x27;Geography&#x27;])),\n",
       "                                             (&#x27;im...\n",
       "                                        {&#x27;discretizer_bal__transformer__n_bins&#x27;: range(2, 8, 2),\n",
       "                                         &#x27;discretizer_cs__transformer__n_bins&#x27;: range(2, 12, 2),\n",
       "                                         &#x27;svc__C&#x27;: &lt;scipy.stats._distn_infrastructure.rv_continuous_frozen object at 0x7f8a81114b50&gt;,\n",
       "                                         &#x27;svc__degree&#x27;: [2, 3, 4],\n",
       "                                         &#x27;svc__gamma&#x27;: &lt;scipy.stats._distn_infrastructure.rv_continuous_frozen object at 0x7f8a811157b0&gt;,\n",
       "                                         &#x27;svc__kernel&#x27;: [&#x27;poly&#x27;]}],\n",
       "                   random_state=123, return_train_score=True)</pre></div></div></div><div class=\"sk-parallel\"><div class=\"sk-parallel-item\"><div class=\"sk-item\"><div class=\"sk-label-container\"><div class=\"sk-label sk-toggleable\"><input class=\"sk-toggleable__control sk-hidden--visually\" id=\"sk-estimator-id-80\" type=\"checkbox\" ><label for=\"sk-estimator-id-80\" class=\"sk-toggleable__label sk-toggleable__label-arrow\">estimator: Pipeline</label><div class=\"sk-toggleable__content\"><pre>Pipeline(steps=[(&#x27;drop_features&#x27;,\n",
       "                 DropFeatures(features_to_drop=[&#x27;RowNumber&#x27;, &#x27;CustomerId&#x27;,\n",
       "                                                &#x27;Surname&#x27;, &#x27;Unnamed: 0&#x27;])),\n",
       "                (&#x27;imputer_median&#x27;,\n",
       "                 MeanMedianImputer(variables=[&#x27;Age&#x27;, &#x27;Balance&#x27;,\n",
       "                                              &#x27;NumOfProducts&#x27;])),\n",
       "                (&#x27;imputer_catgorical_frequent&#x27;,\n",
       "                 CategoricalImputer(imputation_method=&#x27;frequent&#x27;,\n",
       "                                    variables=[&#x27;Gender&#x27;, &#x27;Geography&#x27;])),\n",
       "                (&#x27;imputer_missing_indicator&#x27;,\n",
       "                 AddMissingI...\n",
       "                (&#x27;one_hot_encoder&#x27;,\n",
       "                 OneHotEncoder(drop_last=True, ignore_format=True,\n",
       "                               variables=[&#x27;Geography&#x27;, &#x27;Gender&#x27;, &#x27;HasCrCard&#x27;,\n",
       "                                          &#x27;IsActiveMember&#x27;, &#x27;CreditScore&#x27;,\n",
       "                                          &#x27;Balance&#x27;])),\n",
       "                (&#x27;outlier&#x27;, Winsorizer(tail=&#x27;both&#x27;, variables=[&#x27;Age&#x27;])),\n",
       "                (&#x27;scalar&#x27;,\n",
       "                 SklearnTransformerWrapper(transformer=MinMaxScaler(),\n",
       "                                           variables=[&#x27;Age&#x27;, &#x27;Tenure&#x27;,\n",
       "                                                      &#x27;EstimatedSalary&#x27;,\n",
       "                                                      &#x27;NumOfProducts&#x27;])),\n",
       "                (&#x27;svc&#x27;, SVC(random_state=123))])</pre></div></div></div><div class=\"sk-serial\"><div class=\"sk-item\"><div class=\"sk-serial\"><div class=\"sk-item\"><div class=\"sk-estimator sk-toggleable\"><input class=\"sk-toggleable__control sk-hidden--visually\" id=\"sk-estimator-id-81\" type=\"checkbox\" ><label for=\"sk-estimator-id-81\" class=\"sk-toggleable__label sk-toggleable__label-arrow\">DropFeatures</label><div class=\"sk-toggleable__content\"><pre>DropFeatures(features_to_drop=[&#x27;RowNumber&#x27;, &#x27;CustomerId&#x27;, &#x27;Surname&#x27;,\n",
       "                               &#x27;Unnamed: 0&#x27;])</pre></div></div></div><div class=\"sk-item\"><div class=\"sk-estimator sk-toggleable\"><input class=\"sk-toggleable__control sk-hidden--visually\" id=\"sk-estimator-id-82\" type=\"checkbox\" ><label for=\"sk-estimator-id-82\" class=\"sk-toggleable__label sk-toggleable__label-arrow\">MeanMedianImputer</label><div class=\"sk-toggleable__content\"><pre>MeanMedianImputer(variables=[&#x27;Age&#x27;, &#x27;Balance&#x27;, &#x27;NumOfProducts&#x27;])</pre></div></div></div><div class=\"sk-item\"><div class=\"sk-estimator sk-toggleable\"><input class=\"sk-toggleable__control sk-hidden--visually\" id=\"sk-estimator-id-83\" type=\"checkbox\" ><label for=\"sk-estimator-id-83\" class=\"sk-toggleable__label sk-toggleable__label-arrow\">CategoricalImputer</label><div class=\"sk-toggleable__content\"><pre>CategoricalImputer(imputation_method=&#x27;frequent&#x27;,\n",
       "                   variables=[&#x27;Gender&#x27;, &#x27;Geography&#x27;])</pre></div></div></div><div class=\"sk-item\"><div class=\"sk-estimator sk-toggleable\"><input class=\"sk-toggleable__control sk-hidden--visually\" id=\"sk-estimator-id-84\" type=\"checkbox\" ><label for=\"sk-estimator-id-84\" class=\"sk-toggleable__label sk-toggleable__label-arrow\">AddMissingIndicator</label><div class=\"sk-toggleable__content\"><pre>AddMissingIndicator(variables=[&#x27;Age&#x27;, &#x27;Geography&#x27;])</pre></div></div></div><div class=\"sk-item\"><div class=\"sk-estimator sk-toggleable\"><input class=\"sk-toggleable__control sk-hidden--visually\" id=\"sk-estimator-id-85\" type=\"checkbox\" ><label for=\"sk-estimator-id-85\" class=\"sk-toggleable__label sk-toggleable__label-arrow\">RandomSampleImputer</label><div class=\"sk-toggleable__content\"><pre>RandomSampleImputer(random_state=123, variables=[&#x27;Tenure&#x27;])</pre></div></div></div><div class=\"sk-item\"><div class=\"sk-estimator sk-toggleable\"><input class=\"sk-toggleable__control sk-hidden--visually\" id=\"sk-estimator-id-86\" type=\"checkbox\" ><label for=\"sk-estimator-id-86\" class=\"sk-toggleable__label sk-toggleable__label-arrow\">LogTransformer</label><div class=\"sk-toggleable__content\"><pre>LogTransformer(variables=[&#x27;Age&#x27;])</pre></div></div></div><div class=\"sk-item sk-dashed-wrapped\"><div class=\"sk-label-container\"><div class=\"sk-label sk-toggleable\"><input class=\"sk-toggleable__control sk-hidden--visually\" id=\"sk-estimator-id-87\" type=\"checkbox\" ><label for=\"sk-estimator-id-87\" class=\"sk-toggleable__label sk-toggleable__label-arrow\">discretizer_cs: SklearnTransformerWrapper</label><div class=\"sk-toggleable__content\"><pre>SklearnTransformerWrapper(transformer=KBinsDiscretizer(encode=&#x27;ordinal&#x27;,\n",
       "                                                       n_bins=10,\n",
       "                                                       strategy=&#x27;kmeans&#x27;),\n",
       "                          variables=[&#x27;CreditScore&#x27;])</pre></div></div></div><div class=\"sk-parallel\"><div class=\"sk-parallel-item\"><div class=\"sk-item\"><div class=\"sk-label-container\"><div class=\"sk-label sk-toggleable\"><input class=\"sk-toggleable__control sk-hidden--visually\" id=\"sk-estimator-id-88\" type=\"checkbox\" ><label for=\"sk-estimator-id-88\" class=\"sk-toggleable__label sk-toggleable__label-arrow\">transformer: KBinsDiscretizer</label><div class=\"sk-toggleable__content\"><pre>KBinsDiscretizer(encode=&#x27;ordinal&#x27;, n_bins=10, strategy=&#x27;kmeans&#x27;)</pre></div></div></div><div class=\"sk-serial\"><div class=\"sk-item\"><div class=\"sk-estimator sk-toggleable\"><input class=\"sk-toggleable__control sk-hidden--visually\" id=\"sk-estimator-id-89\" type=\"checkbox\" ><label for=\"sk-estimator-id-89\" class=\"sk-toggleable__label sk-toggleable__label-arrow\">KBinsDiscretizer</label><div class=\"sk-toggleable__content\"><pre>KBinsDiscretizer(encode=&#x27;ordinal&#x27;, n_bins=10, strategy=&#x27;kmeans&#x27;)</pre></div></div></div></div></div></div></div></div><div class=\"sk-item sk-dashed-wrapped\"><div class=\"sk-label-container\"><div class=\"sk-label sk-toggleable\"><input class=\"sk-toggleable__control sk-hidden--visually\" id=\"sk-estimator-id-90\" type=\"checkbox\" ><label for=\"sk-estimator-id-90\" class=\"sk-toggleable__label sk-toggleable__label-arrow\">discretizer_bal: SklearnTransformerWrapper</label><div class=\"sk-toggleable__content\"><pre>SklearnTransformerWrapper(transformer=KBinsDiscretizer(encode=&#x27;ordinal&#x27;,\n",
       "                                                       n_bins=10,\n",
       "                                                       strategy=&#x27;kmeans&#x27;),\n",
       "                          variables=[&#x27;Balance&#x27;])</pre></div></div></div><div class=\"sk-parallel\"><div class=\"sk-parallel-item\"><div class=\"sk-item\"><div class=\"sk-label-container\"><div class=\"sk-label sk-toggleable\"><input class=\"sk-toggleable__control sk-hidden--visually\" id=\"sk-estimator-id-91\" type=\"checkbox\" ><label for=\"sk-estimator-id-91\" class=\"sk-toggleable__label sk-toggleable__label-arrow\">transformer: KBinsDiscretizer</label><div class=\"sk-toggleable__content\"><pre>KBinsDiscretizer(encode=&#x27;ordinal&#x27;, n_bins=10, strategy=&#x27;kmeans&#x27;)</pre></div></div></div><div class=\"sk-serial\"><div class=\"sk-item\"><div class=\"sk-estimator sk-toggleable\"><input class=\"sk-toggleable__control sk-hidden--visually\" id=\"sk-estimator-id-92\" type=\"checkbox\" ><label for=\"sk-estimator-id-92\" class=\"sk-toggleable__label sk-toggleable__label-arrow\">KBinsDiscretizer</label><div class=\"sk-toggleable__content\"><pre>KBinsDiscretizer(encode=&#x27;ordinal&#x27;, n_bins=10, strategy=&#x27;kmeans&#x27;)</pre></div></div></div></div></div></div></div></div><div class=\"sk-item\"><div class=\"sk-estimator sk-toggleable\"><input class=\"sk-toggleable__control sk-hidden--visually\" id=\"sk-estimator-id-93\" type=\"checkbox\" ><label for=\"sk-estimator-id-93\" class=\"sk-toggleable__label sk-toggleable__label-arrow\">OneHotEncoder</label><div class=\"sk-toggleable__content\"><pre>OneHotEncoder(drop_last=True, ignore_format=True,\n",
       "              variables=[&#x27;Geography&#x27;, &#x27;Gender&#x27;, &#x27;HasCrCard&#x27;, &#x27;IsActiveMember&#x27;,\n",
       "                         &#x27;CreditScore&#x27;, &#x27;Balance&#x27;])</pre></div></div></div><div class=\"sk-item\"><div class=\"sk-estimator sk-toggleable\"><input class=\"sk-toggleable__control sk-hidden--visually\" id=\"sk-estimator-id-94\" type=\"checkbox\" ><label for=\"sk-estimator-id-94\" class=\"sk-toggleable__label sk-toggleable__label-arrow\">Winsorizer</label><div class=\"sk-toggleable__content\"><pre>Winsorizer(tail=&#x27;both&#x27;, variables=[&#x27;Age&#x27;])</pre></div></div></div><div class=\"sk-item sk-dashed-wrapped\"><div class=\"sk-label-container\"><div class=\"sk-label sk-toggleable\"><input class=\"sk-toggleable__control sk-hidden--visually\" id=\"sk-estimator-id-95\" type=\"checkbox\" ><label for=\"sk-estimator-id-95\" class=\"sk-toggleable__label sk-toggleable__label-arrow\">scalar: SklearnTransformerWrapper</label><div class=\"sk-toggleable__content\"><pre>SklearnTransformerWrapper(transformer=MinMaxScaler(),\n",
       "                          variables=[&#x27;Age&#x27;, &#x27;Tenure&#x27;, &#x27;EstimatedSalary&#x27;,\n",
       "                                     &#x27;NumOfProducts&#x27;])</pre></div></div></div><div class=\"sk-parallel\"><div class=\"sk-parallel-item\"><div class=\"sk-item\"><div class=\"sk-label-container\"><div class=\"sk-label sk-toggleable\"><input class=\"sk-toggleable__control sk-hidden--visually\" id=\"sk-estimator-id-96\" type=\"checkbox\" ><label for=\"sk-estimator-id-96\" class=\"sk-toggleable__label sk-toggleable__label-arrow\">transformer: MinMaxScaler</label><div class=\"sk-toggleable__content\"><pre>MinMaxScaler()</pre></div></div></div><div class=\"sk-serial\"><div class=\"sk-item\"><div class=\"sk-estimator sk-toggleable\"><input class=\"sk-toggleable__control sk-hidden--visually\" id=\"sk-estimator-id-97\" type=\"checkbox\" ><label for=\"sk-estimator-id-97\" class=\"sk-toggleable__label sk-toggleable__label-arrow\">MinMaxScaler</label><div class=\"sk-toggleable__content\"><pre>MinMaxScaler()</pre></div></div></div></div></div></div></div></div><div class=\"sk-item\"><div class=\"sk-estimator sk-toggleable\"><input class=\"sk-toggleable__control sk-hidden--visually\" id=\"sk-estimator-id-98\" type=\"checkbox\" ><label for=\"sk-estimator-id-98\" class=\"sk-toggleable__label sk-toggleable__label-arrow\">SVC</label><div class=\"sk-toggleable__content\"><pre>SVC(random_state=123)</pre></div></div></div></div></div></div></div></div></div></div></div></div>"
      ],
      "text/plain": [
       "RandomizedSearchCV(cv=5,\n",
       "                   estimator=Pipeline(steps=[('drop_features',\n",
       "                                              DropFeatures(features_to_drop=['RowNumber',\n",
       "                                                                             'CustomerId',\n",
       "                                                                             'Surname',\n",
       "                                                                             'Unnamed: '\n",
       "                                                                             '0'])),\n",
       "                                             ('imputer_median',\n",
       "                                              MeanMedianImputer(variables=['Age',\n",
       "                                                                           'Balance',\n",
       "                                                                           'NumOfProducts'])),\n",
       "                                             ('imputer_catgorical_frequent',\n",
       "                                              CategoricalImputer(imputation_method='frequent',\n",
       "                                                                 variables=['Gender',\n",
       "                                                                            'Geography'])),\n",
       "                                             ('im...\n",
       "                                        {'discretizer_bal__transformer__n_bins': range(2, 8, 2),\n",
       "                                         'discretizer_cs__transformer__n_bins': range(2, 12, 2),\n",
       "                                         'svc__C': <scipy.stats._distn_infrastructure.rv_continuous_frozen object at 0x7f8a81114b50>,\n",
       "                                         'svc__degree': [2, 3, 4],\n",
       "                                         'svc__gamma': <scipy.stats._distn_infrastructure.rv_continuous_frozen object at 0x7f8a811157b0>,\n",
       "                                         'svc__kernel': ['poly']}],\n",
       "                   random_state=123, return_train_score=True)"
      ]
     },
     "execution_count": 50,
     "metadata": {},
     "output_type": "execute_result"
    }
   ],
   "source": [
    "grid_svc_3.fit(X_train,y_train)"
   ]
  },
  {
   "cell_type": "markdown",
   "metadata": {},
   "source": [
    "### <font color = 'pickle'>**Get Best Params**"
   ]
  },
  {
   "cell_type": "code",
   "execution_count": 51,
   "metadata": {
    "colab": {
     "base_uri": "https://localhost:8080/"
    },
    "execution": {
     "iopub.execute_input": "2022-10-23T23:44:30.121328Z",
     "iopub.status.busy": "2022-10-23T23:44:30.121237Z",
     "iopub.status.idle": "2022-10-23T23:44:30.132920Z",
     "shell.execute_reply": "2022-10-23T23:44:30.132328Z",
     "shell.execute_reply.started": "2022-10-23T23:44:30.121318Z"
    },
    "executionInfo": {
     "elapsed": 709933,
     "status": "ok",
     "timestamp": 1627497489547,
     "user": {
      "displayName": "Harpreet Singh",
      "photoUrl": "https://lh3.googleusercontent.com/a-/AOh14GgoHXww3A9iD3K6JH0yfUWV-xv9zq1wI6_3E9i8yw=s64",
      "userId": "10443507700807192111"
     },
     "user_tz": 300
    },
    "id": "iXaeb2qgLo8t",
    "outputId": "9254ead9-86b3-4878-d28a-a29a7cc0b5f1",
    "tags": []
   },
   "outputs": [
    {
     "name": "stdout",
     "output_type": "stream",
     "text": [
      "{'discretizer_bal__transformer__n_bins': 4, 'discretizer_cs__transformer__n_bins': 2, 'svc__C': 836.334924315455, 'svc__degree': 2, 'svc__gamma': 0.3341125105953782, 'svc__kernel': 'poly'}\n"
     ]
    }
   ],
   "source": [
    "#Let's check the best_parameters from GridSearchCv for our model\n",
    "print(grid_svc_3.best_params_)"
   ]
  },
  {
   "cell_type": "markdown",
   "metadata": {},
   "source": [
    "### <font color = 'pickle'>**Save Model**"
   ]
  },
  {
   "cell_type": "code",
   "execution_count": 52,
   "metadata": {
    "execution": {
     "iopub.execute_input": "2022-10-23T23:44:30.133777Z",
     "iopub.status.busy": "2022-10-23T23:44:30.133435Z",
     "iopub.status.idle": "2022-10-23T23:44:30.143345Z",
     "shell.execute_reply": "2022-10-23T23:44:30.143026Z",
     "shell.execute_reply.started": "2022-10-23T23:44:30.133763Z"
    },
    "id": "jOcay5PTXdXH",
    "tags": []
   },
   "outputs": [],
   "source": [
    "file_best_estimator_round3 = save_model_folder / 'svc_round3_best_estimator.pkl'\n",
    "file_complete_grid_round3  = save_model_folder / 'svc_round3_complete_grid.pkl'"
   ]
  },
  {
   "cell_type": "code",
   "execution_count": 54,
   "metadata": {
    "colab": {
     "base_uri": "https://localhost:8080/"
    },
    "execution": {
     "iopub.execute_input": "2022-10-23T23:50:50.751770Z",
     "iopub.status.busy": "2022-10-23T23:50:50.751643Z",
     "iopub.status.idle": "2022-10-23T23:50:50.774653Z",
     "shell.execute_reply": "2022-10-23T23:50:50.774092Z",
     "shell.execute_reply.started": "2022-10-23T23:50:50.751759Z"
    },
    "executionInfo": {
     "elapsed": 285,
     "status": "ok",
     "timestamp": 1627510910305,
     "user": {
      "displayName": "Shaannoor Mann",
      "photoUrl": "",
      "userId": "02520257695567980696"
     },
     "user_tz": 300
    },
    "id": "GDndU4aHXdXH",
    "outputId": "83c21c26-ef5c-4cd4-8df7-8f1061dba444",
    "tags": []
   },
   "outputs": [
    {
     "data": {
      "text/plain": [
       "['/home/harpreet/Insync/google_drive_shaannoor/data/models/ml_fall_2022/svc_round3_complete_grid.pkl']"
      ]
     },
     "execution_count": 54,
     "metadata": {},
     "output_type": "execute_result"
    }
   ],
   "source": [
    "joblib.dump(grid_svc_3.best_estimator_, file_best_estimator_round3 )\n",
    "joblib.dump(grid_svc_3, file_complete_grid_round3)"
   ]
  },
  {
   "cell_type": "markdown",
   "metadata": {},
   "source": [
    "### <font color = 'pickle'>**Load Saved Model**"
   ]
  },
  {
   "cell_type": "code",
   "execution_count": 55,
   "metadata": {
    "execution": {
     "iopub.execute_input": "2022-10-23T23:50:53.086464Z",
     "iopub.status.busy": "2022-10-23T23:50:53.086339Z",
     "iopub.status.idle": "2022-10-23T23:50:53.104505Z",
     "shell.execute_reply": "2022-10-23T23:50:53.103982Z",
     "shell.execute_reply.started": "2022-10-23T23:50:53.086452Z"
    },
    "id": "4whWr-uHXdXH",
    "tags": []
   },
   "outputs": [],
   "source": [
    "loaded_best_estimator_round3 = joblib.load(file_best_estimator_round3)\n",
    "loaded_complete_grid_round3 = joblib.load(file_complete_grid_round3)"
   ]
  },
  {
   "cell_type": "markdown",
   "metadata": {
    "id": "E7vjRw1nXdXI"
   },
   "source": [
    "**It seems that model with poly kernel, degree =2, C= 836 and gamma = 0.33 gives us the best cross-validation results.**. Let us look at cross validation results more carefully to see if we can fine tune the model further."
   ]
  },
  {
   "cell_type": "code",
   "execution_count": 56,
   "metadata": {
    "colab": {
     "base_uri": "https://localhost:8080/",
     "height": 368
    },
    "execution": {
     "iopub.execute_input": "2022-10-23T23:50:56.615560Z",
     "iopub.status.busy": "2022-10-23T23:50:56.615386Z",
     "iopub.status.idle": "2022-10-23T23:51:02.358493Z",
     "shell.execute_reply": "2022-10-23T23:51:02.357869Z",
     "shell.execute_reply.started": "2022-10-23T23:50:56.615542Z"
    },
    "executionInfo": {
     "elapsed": 5246,
     "status": "ok",
     "timestamp": 1627495422078,
     "user": {
      "displayName": "Harpreet Singh",
      "photoUrl": "https://lh3.googleusercontent.com/a-/AOh14GgoHXww3A9iD3K6JH0yfUWV-xv9zq1wI6_3E9i8yw=s64",
      "userId": "10443507700807192111"
     },
     "user_tz": 300
    },
    "id": "rueYxutCXdXH",
    "outputId": "124fcde9-94e6-4fa8-e8fb-8ad522727ca3",
    "tags": []
   },
   "outputs": [
    {
     "data": {
      "text/plain": [
       "<module 'matplotlib.pyplot' from '/home/harpreet/mambaforge/lib/python3.10/site-packages/matplotlib/pyplot.py'>"
      ]
     },
     "execution_count": 56,
     "metadata": {},
     "output_type": "execute_result"
    },
    {
     "data": {
      "image/png": "[encoded data removed]",
      "text/plain": [
       "<Figure size 2000x500 with 3 Axes>"
      ]
     },
     "metadata": {},
     "output_type": "display_data"
    }
   ],
   "source": [
    "plot_learning_curve(loaded_best_estimator_round3, 'Learning Curves svc', X_train, y_train, n_jobs=-1)"
   ]
  },
  {
   "cell_type": "markdown",
   "metadata": {},
   "source": [
    "### <font color = 'pickle'>**Check Cross Validation Score and Train Score**"
   ]
  },
  {
   "cell_type": "code",
   "execution_count": 57,
   "metadata": {
    "colab": {
     "base_uri": "https://localhost:8080/"
    },
    "execution": {
     "iopub.execute_input": "2022-10-23T23:51:02.359510Z",
     "iopub.status.busy": "2022-10-23T23:51:02.359417Z",
     "iopub.status.idle": "2022-10-23T23:51:02.454035Z",
     "shell.execute_reply": "2022-10-23T23:51:02.453385Z",
     "shell.execute_reply.started": "2022-10-23T23:51:02.359496Z"
    },
    "executionInfo": {
     "elapsed": 420,
     "status": "ok",
     "timestamp": 1627497682470,
     "user": {
      "displayName": "Harpreet Singh",
      "photoUrl": "https://lh3.googleusercontent.com/a-/AOh14GgoHXww3A9iD3K6JH0yfUWV-xv9zq1wI6_3E9i8yw=s64",
      "userId": "10443507700807192111"
     },
     "user_tz": 300
    },
    "id": "fOhWOfB-Jh1U",
    "outputId": "b6791613-23ac-4a55-ddbe-d09f5a12b5df",
    "tags": []
   },
   "outputs": [
    {
     "name": "stdout",
     "output_type": "stream",
     "text": [
      "0.772810553316233\n",
      "0.756688510266492\n"
     ]
    }
   ],
   "source": [
    "#let's check the train scores\n",
    "print(loaded_best_estimator_round3.score(X_train,y_train))\n",
    "\n",
    "#let's check the cross validation score\n",
    "print(loaded_complete_grid_round3.best_score_)"
   ]
  },
  {
   "cell_type": "markdown",
   "metadata": {},
   "source": [
    "### <font color = 'pickle'>**Check RandomSerachCV Results**"
   ]
  },
  {
   "cell_type": "code",
   "execution_count": 58,
   "metadata": {
    "execution": {
     "iopub.execute_input": "2022-10-23T23:51:02.455032Z",
     "iopub.status.busy": "2022-10-23T23:51:02.454952Z",
     "iopub.status.idle": "2022-10-23T23:51:02.473617Z",
     "shell.execute_reply": "2022-10-23T23:51:02.473177Z",
     "shell.execute_reply.started": "2022-10-23T23:51:02.455022Z"
    },
    "id": "4f0SECs7XdXI",
    "outputId": "35f11c87-1284-4d34-f111-b6718cc62363",
    "tags": []
   },
   "outputs": [
    {
     "data": {
      "text/html": [
       "<div>\n",
       "<style scoped>\n",
       "    .dataframe tbody tr th:only-of-type {\n",
       "        vertical-align: middle;\n",
       "    }\n",
       "\n",
       "    .dataframe tbody tr th {\n",
       "        vertical-align: top;\n",
       "    }\n",
       "\n",
       "    .dataframe thead th {\n",
       "        text-align: right;\n",
       "    }\n",
       "</style>\n",
       "<table border=\"1\" class=\"dataframe\">\n",
       "  <thead>\n",
       "    <tr style=\"text-align: right;\">\n",
       "      <th></th>\n",
       "      <th>mean_fit_time</th>\n",
       "      <th>std_fit_time</th>\n",
       "      <th>mean_score_time</th>\n",
       "      <th>std_score_time</th>\n",
       "      <th>param_discretizer_bal__transformer__n_bins</th>\n",
       "      <th>param_discretizer_cs__transformer__n_bins</th>\n",
       "      <th>param_svc__C</th>\n",
       "      <th>param_svc__gamma</th>\n",
       "      <th>param_svc__kernel</th>\n",
       "      <th>param_svc__degree</th>\n",
       "      <th>...</th>\n",
       "      <th>mean_test_score</th>\n",
       "      <th>std_test_score</th>\n",
       "      <th>rank_test_score</th>\n",
       "      <th>split0_train_score</th>\n",
       "      <th>split1_train_score</th>\n",
       "      <th>split2_train_score</th>\n",
       "      <th>split3_train_score</th>\n",
       "      <th>split4_train_score</th>\n",
       "      <th>mean_train_score</th>\n",
       "      <th>std_train_score</th>\n",
       "    </tr>\n",
       "  </thead>\n",
       "  <tbody>\n",
       "    <tr>\n",
       "      <th>0</th>\n",
       "      <td>0.312276</td>\n",
       "      <td>0.003261</td>\n",
       "      <td>0.084965</td>\n",
       "      <td>0.002289</td>\n",
       "      <td>4</td>\n",
       "      <td>6</td>\n",
       "      <td>0.136225</td>\n",
       "      <td>0.057092</td>\n",
       "      <td>sigmoid</td>\n",
       "      <td>NaN</td>\n",
       "      <td>...</td>\n",
       "      <td>0.639797</td>\n",
       "      <td>0.027101</td>\n",
       "      <td>46</td>\n",
       "      <td>0.662391</td>\n",
       "      <td>0.652771</td>\n",
       "      <td>0.643152</td>\n",
       "      <td>0.654604</td>\n",
       "      <td>0.641941</td>\n",
       "      <td>0.650972</td>\n",
       "      <td>0.007610</td>\n",
       "    </tr>\n",
       "    <tr>\n",
       "      <th>1</th>\n",
       "      <td>0.283333</td>\n",
       "      <td>0.003867</td>\n",
       "      <td>0.072638</td>\n",
       "      <td>0.001774</td>\n",
       "      <td>4</td>\n",
       "      <td>4</td>\n",
       "      <td>26.555146</td>\n",
       "      <td>0.02539</td>\n",
       "      <td>sigmoid</td>\n",
       "      <td>NaN</td>\n",
       "      <td>...</td>\n",
       "      <td>0.700626</td>\n",
       "      <td>0.007449</td>\n",
       "      <td>13</td>\n",
       "      <td>0.706825</td>\n",
       "      <td>0.707284</td>\n",
       "      <td>0.707742</td>\n",
       "      <td>0.699954</td>\n",
       "      <td>0.702839</td>\n",
       "      <td>0.704929</td>\n",
       "      <td>0.003039</td>\n",
       "    </tr>\n",
       "    <tr>\n",
       "      <th>2</th>\n",
       "      <td>0.282769</td>\n",
       "      <td>0.002506</td>\n",
       "      <td>0.071144</td>\n",
       "      <td>0.001534</td>\n",
       "      <td>6</td>\n",
       "      <td>2</td>\n",
       "      <td>44.182322</td>\n",
       "      <td>0.015591</td>\n",
       "      <td>sigmoid</td>\n",
       "      <td>NaN</td>\n",
       "      <td>...</td>\n",
       "      <td>0.696960</td>\n",
       "      <td>0.010093</td>\n",
       "      <td>19</td>\n",
       "      <td>0.706367</td>\n",
       "      <td>0.697664</td>\n",
       "      <td>0.705451</td>\n",
       "      <td>0.709574</td>\n",
       "      <td>0.700549</td>\n",
       "      <td>0.703921</td>\n",
       "      <td>0.004262</td>\n",
       "    </tr>\n",
       "    <tr>\n",
       "      <th>3</th>\n",
       "      <td>0.223429</td>\n",
       "      <td>0.005313</td>\n",
       "      <td>0.075261</td>\n",
       "      <td>0.001712</td>\n",
       "      <td>2</td>\n",
       "      <td>2</td>\n",
       "      <td>48.975291</td>\n",
       "      <td>0.000817</td>\n",
       "      <td>rbf</td>\n",
       "      <td>NaN</td>\n",
       "      <td>...</td>\n",
       "      <td>0.693303</td>\n",
       "      <td>0.019924</td>\n",
       "      <td>22</td>\n",
       "      <td>0.694915</td>\n",
       "      <td>0.697206</td>\n",
       "      <td>0.702245</td>\n",
       "      <td>0.699038</td>\n",
       "      <td>0.691392</td>\n",
       "      <td>0.696959</td>\n",
       "      <td>0.003674</td>\n",
       "    </tr>\n",
       "    <tr>\n",
       "      <th>4</th>\n",
       "      <td>0.335063</td>\n",
       "      <td>0.004531</td>\n",
       "      <td>0.086361</td>\n",
       "      <td>0.000766</td>\n",
       "      <td>6</td>\n",
       "      <td>10</td>\n",
       "      <td>1.378217</td>\n",
       "      <td>0.003082</td>\n",
       "      <td>sigmoid</td>\n",
       "      <td>NaN</td>\n",
       "      <td>...</td>\n",
       "      <td>0.627337</td>\n",
       "      <td>0.016871</td>\n",
       "      <td>53</td>\n",
       "      <td>0.648649</td>\n",
       "      <td>0.633074</td>\n",
       "      <td>0.636738</td>\n",
       "      <td>0.644068</td>\n",
       "      <td>0.634615</td>\n",
       "      <td>0.639429</td>\n",
       "      <td>0.005955</td>\n",
       "    </tr>\n",
       "  </tbody>\n",
       "</table>\n",
       "<p>5 rows × 26 columns</p>\n",
       "</div>"
      ],
      "text/plain": [
       "   mean_fit_time  std_fit_time  mean_score_time  std_score_time  \\\n",
       "0       0.312276      0.003261         0.084965        0.002289   \n",
       "1       0.283333      0.003867         0.072638        0.001774   \n",
       "2       0.282769      0.002506         0.071144        0.001534   \n",
       "3       0.223429      0.005313         0.075261        0.001712   \n",
       "4       0.335063      0.004531         0.086361        0.000766   \n",
       "\n",
       "  param_discretizer_bal__transformer__n_bins  \\\n",
       "0                                          4   \n",
       "1                                          4   \n",
       "2                                          6   \n",
       "3                                          2   \n",
       "4                                          6   \n",
       "\n",
       "  param_discretizer_cs__transformer__n_bins param_svc__C param_svc__gamma  \\\n",
       "0                                         6     0.136225         0.057092   \n",
       "1                                         4    26.555146          0.02539   \n",
       "2                                         2    44.182322         0.015591   \n",
       "3                                         2    48.975291         0.000817   \n",
       "4                                        10     1.378217         0.003082   \n",
       "\n",
       "  param_svc__kernel param_svc__degree  ... mean_test_score  std_test_score  \\\n",
       "0           sigmoid               NaN  ...        0.639797        0.027101   \n",
       "1           sigmoid               NaN  ...        0.700626        0.007449   \n",
       "2           sigmoid               NaN  ...        0.696960        0.010093   \n",
       "3               rbf               NaN  ...        0.693303        0.019924   \n",
       "4           sigmoid               NaN  ...        0.627337        0.016871   \n",
       "\n",
       "   rank_test_score  split0_train_score  split1_train_score  \\\n",
       "0               46            0.662391            0.652771   \n",
       "1               13            0.706825            0.707284   \n",
       "2               19            0.706367            0.697664   \n",
       "3               22            0.694915            0.697206   \n",
       "4               53            0.648649            0.633074   \n",
       "\n",
       "   split2_train_score  split3_train_score  split4_train_score  \\\n",
       "0            0.643152            0.654604            0.641941   \n",
       "1            0.707742            0.699954            0.702839   \n",
       "2            0.705451            0.709574            0.700549   \n",
       "3            0.702245            0.699038            0.691392   \n",
       "4            0.636738            0.644068            0.634615   \n",
       "\n",
       "   mean_train_score  std_train_score  \n",
       "0          0.650972         0.007610  \n",
       "1          0.704929         0.003039  \n",
       "2          0.703921         0.004262  \n",
       "3          0.696959         0.003674  \n",
       "4          0.639429         0.005955  \n",
       "\n",
       "[5 rows x 26 columns]"
      ]
     },
     "execution_count": 58,
     "metadata": {},
     "output_type": "execute_result"
    }
   ],
   "source": [
    "# we also find the data for all models evaluated\n",
    "\n",
    "results = pd.DataFrame(loaded_complete_grid_round3.cv_results_)\n",
    "results.head()"
   ]
  },
  {
   "cell_type": "code",
   "execution_count": 59,
   "metadata": {
    "execution": {
     "iopub.execute_input": "2022-10-23T23:51:02.474524Z",
     "iopub.status.busy": "2022-10-23T23:51:02.474442Z",
     "iopub.status.idle": "2022-10-23T23:51:02.487436Z",
     "shell.execute_reply": "2022-10-23T23:51:02.487043Z",
     "shell.execute_reply.started": "2022-10-23T23:51:02.474514Z"
    },
    "id": "YfFRBOKIXdXJ",
    "outputId": "b9490c64-22aa-461d-9a90-67f40a1b87fd",
    "tags": []
   },
   "outputs": [
    {
     "data": {
      "text/html": [
       "<div>\n",
       "<style scoped>\n",
       "    .dataframe tbody tr th:only-of-type {\n",
       "        vertical-align: middle;\n",
       "    }\n",
       "\n",
       "    .dataframe tbody tr th {\n",
       "        vertical-align: top;\n",
       "    }\n",
       "\n",
       "    .dataframe thead th {\n",
       "        text-align: right;\n",
       "    }\n",
       "</style>\n",
       "<table border=\"1\" class=\"dataframe\">\n",
       "  <thead>\n",
       "    <tr style=\"text-align: right;\">\n",
       "      <th></th>\n",
       "      <th>param_svc__C</th>\n",
       "      <th>param_svc__kernel</th>\n",
       "      <th>param_svc__gamma</th>\n",
       "      <th>param_svc__degree</th>\n",
       "      <th>mean_test_score</th>\n",
       "      <th>std_test_score</th>\n",
       "      <th>mean_train_score</th>\n",
       "    </tr>\n",
       "  </thead>\n",
       "  <tbody>\n",
       "    <tr>\n",
       "      <th>0</th>\n",
       "      <td>836.334924</td>\n",
       "      <td>poly</td>\n",
       "      <td>0.334113</td>\n",
       "      <td>2</td>\n",
       "      <td>0.756689</td>\n",
       "      <td>0.006949</td>\n",
       "      <td>0.773635</td>\n",
       "    </tr>\n",
       "    <tr>\n",
       "      <th>1</th>\n",
       "      <td>26.255216</td>\n",
       "      <td>poly</td>\n",
       "      <td>1.280916</td>\n",
       "      <td>2</td>\n",
       "      <td>0.744599</td>\n",
       "      <td>0.007601</td>\n",
       "      <td>0.780506</td>\n",
       "    </tr>\n",
       "    <tr>\n",
       "      <th>2</th>\n",
       "      <td>864.481073</td>\n",
       "      <td>poly</td>\n",
       "      <td>0.238601</td>\n",
       "      <td>2</td>\n",
       "      <td>0.742030</td>\n",
       "      <td>0.008838</td>\n",
       "      <td>0.778674</td>\n",
       "    </tr>\n",
       "    <tr>\n",
       "      <th>3</th>\n",
       "      <td>153.201841</td>\n",
       "      <td>poly</td>\n",
       "      <td>0.0447</td>\n",
       "      <td>2</td>\n",
       "      <td>0.726647</td>\n",
       "      <td>0.012680</td>\n",
       "      <td>0.779956</td>\n",
       "    </tr>\n",
       "    <tr>\n",
       "      <th>4</th>\n",
       "      <td>0.022319</td>\n",
       "      <td>poly</td>\n",
       "      <td>1.457407</td>\n",
       "      <td>3</td>\n",
       "      <td>0.721520</td>\n",
       "      <td>0.016827</td>\n",
       "      <td>0.805057</td>\n",
       "    </tr>\n",
       "    <tr>\n",
       "      <th>5</th>\n",
       "      <td>326.630584</td>\n",
       "      <td>rbf</td>\n",
       "      <td>0.005687</td>\n",
       "      <td>NaN</td>\n",
       "      <td>0.712352</td>\n",
       "      <td>0.006199</td>\n",
       "      <td>0.727006</td>\n",
       "    </tr>\n",
       "    <tr>\n",
       "      <th>6</th>\n",
       "      <td>0.018216</td>\n",
       "      <td>poly</td>\n",
       "      <td>2.523965</td>\n",
       "      <td>4</td>\n",
       "      <td>0.708325</td>\n",
       "      <td>0.014852</td>\n",
       "      <td>0.828875</td>\n",
       "    </tr>\n",
       "    <tr>\n",
       "      <th>7</th>\n",
       "      <td>0.243206</td>\n",
       "      <td>poly</td>\n",
       "      <td>0.403573</td>\n",
       "      <td>3</td>\n",
       "      <td>0.703928</td>\n",
       "      <td>0.011508</td>\n",
       "      <td>0.777300</td>\n",
       "    </tr>\n",
       "    <tr>\n",
       "      <th>8</th>\n",
       "      <td>52.954549</td>\n",
       "      <td>poly</td>\n",
       "      <td>0.323983</td>\n",
       "      <td>3</td>\n",
       "      <td>0.703922</td>\n",
       "      <td>0.008039</td>\n",
       "      <td>0.862770</td>\n",
       "    </tr>\n",
       "    <tr>\n",
       "      <th>9</th>\n",
       "      <td>799.349788</td>\n",
       "      <td>rbf</td>\n",
       "      <td>0.000404</td>\n",
       "      <td>NaN</td>\n",
       "      <td>0.702461</td>\n",
       "      <td>0.011049</td>\n",
       "      <td>0.710609</td>\n",
       "    </tr>\n",
       "  </tbody>\n",
       "</table>\n",
       "</div>"
      ],
      "text/plain": [
       "  param_svc__C param_svc__kernel param_svc__gamma param_svc__degree  \\\n",
       "0   836.334924              poly         0.334113                 2   \n",
       "1    26.255216              poly         1.280916                 2   \n",
       "2   864.481073              poly         0.238601                 2   \n",
       "3   153.201841              poly           0.0447                 2   \n",
       "4     0.022319              poly         1.457407                 3   \n",
       "5   326.630584               rbf         0.005687               NaN   \n",
       "6     0.018216              poly         2.523965                 4   \n",
       "7     0.243206              poly         0.403573                 3   \n",
       "8    52.954549              poly         0.323983                 3   \n",
       "9   799.349788               rbf         0.000404               NaN   \n",
       "\n",
       "   mean_test_score  std_test_score  mean_train_score  \n",
       "0         0.756689        0.006949          0.773635  \n",
       "1         0.744599        0.007601          0.780506  \n",
       "2         0.742030        0.008838          0.778674  \n",
       "3         0.726647        0.012680          0.779956  \n",
       "4         0.721520        0.016827          0.805057  \n",
       "5         0.712352        0.006199          0.727006  \n",
       "6         0.708325        0.014852          0.828875  \n",
       "7         0.703928        0.011508          0.777300  \n",
       "8         0.703922        0.008039          0.862770  \n",
       "9         0.702461        0.011049          0.710609  "
      ]
     },
     "execution_count": 59,
     "metadata": {},
     "output_type": "execute_result"
    }
   ],
   "source": [
    "# sort the results by mean_test_score\n",
    "results.sort_values(by='mean_test_score', ascending=False, inplace=True)\n",
    "\n",
    "results.reset_index(drop=True, inplace=True)\n",
    "\n",
    "# lookk at top 10 combinations\n",
    "results[[\n",
    "    'param_svc__C', 'param_svc__kernel', 'param_svc__gamma','param_svc__degree', \n",
    "    'mean_test_score', 'std_test_score', 'mean_train_score'\n",
    "]].head(10)\n"
   ]
  },
  {
   "cell_type": "code",
   "execution_count": 60,
   "metadata": {
    "execution": {
     "iopub.execute_input": "2022-10-23T23:51:02.487952Z",
     "iopub.status.busy": "2022-10-23T23:51:02.487879Z",
     "iopub.status.idle": "2022-10-23T23:51:02.500259Z",
     "shell.execute_reply": "2022-10-23T23:51:02.499866Z",
     "shell.execute_reply.started": "2022-10-23T23:51:02.487942Z"
    },
    "id": "hJiatE2cXdXK",
    "outputId": "ca64d9c3-a9ea-4b86-ccf9-c43cce4f0476",
    "tags": []
   },
   "outputs": [
    {
     "data": {
      "text/html": [
       "<div>\n",
       "<style scoped>\n",
       "    .dataframe tbody tr th:only-of-type {\n",
       "        vertical-align: middle;\n",
       "    }\n",
       "\n",
       "    .dataframe tbody tr th {\n",
       "        vertical-align: top;\n",
       "    }\n",
       "\n",
       "    .dataframe thead th {\n",
       "        text-align: right;\n",
       "    }\n",
       "</style>\n",
       "<table border=\"1\" class=\"dataframe\">\n",
       "  <thead>\n",
       "    <tr style=\"text-align: right;\">\n",
       "      <th></th>\n",
       "      <th>param_svc__C</th>\n",
       "      <th>param_svc__kernel</th>\n",
       "      <th>param_svc__gamma</th>\n",
       "      <th>param_svc__degree</th>\n",
       "      <th>mean_test_score</th>\n",
       "      <th>std_test_score</th>\n",
       "      <th>mean_train_score</th>\n",
       "    </tr>\n",
       "  </thead>\n",
       "  <tbody>\n",
       "    <tr>\n",
       "      <th>90</th>\n",
       "      <td>0.019191</td>\n",
       "      <td>poly</td>\n",
       "      <td>0.074186</td>\n",
       "      <td>4</td>\n",
       "      <td>0.510459</td>\n",
       "      <td>0.020917</td>\n",
       "      <td>0.512912</td>\n",
       "    </tr>\n",
       "    <tr>\n",
       "      <th>91</th>\n",
       "      <td>114.753664</td>\n",
       "      <td>poly</td>\n",
       "      <td>0.005673</td>\n",
       "      <td>4</td>\n",
       "      <td>0.510459</td>\n",
       "      <td>0.020917</td>\n",
       "      <td>0.512912</td>\n",
       "    </tr>\n",
       "    <tr>\n",
       "      <th>92</th>\n",
       "      <td>89.930119</td>\n",
       "      <td>poly</td>\n",
       "      <td>0.006988</td>\n",
       "      <td>4</td>\n",
       "      <td>0.509358</td>\n",
       "      <td>0.018716</td>\n",
       "      <td>0.510989</td>\n",
       "    </tr>\n",
       "    <tr>\n",
       "      <th>93</th>\n",
       "      <td>3.43575</td>\n",
       "      <td>poly</td>\n",
       "      <td>0.000583</td>\n",
       "      <td>4</td>\n",
       "      <td>0.509358</td>\n",
       "      <td>0.018716</td>\n",
       "      <td>0.511905</td>\n",
       "    </tr>\n",
       "    <tr>\n",
       "      <th>94</th>\n",
       "      <td>0.049213</td>\n",
       "      <td>poly</td>\n",
       "      <td>0.013229</td>\n",
       "      <td>4</td>\n",
       "      <td>0.509358</td>\n",
       "      <td>0.018716</td>\n",
       "      <td>0.511905</td>\n",
       "    </tr>\n",
       "    <tr>\n",
       "      <th>95</th>\n",
       "      <td>0.558566</td>\n",
       "      <td>poly</td>\n",
       "      <td>0.000106</td>\n",
       "      <td>4</td>\n",
       "      <td>0.509358</td>\n",
       "      <td>0.018716</td>\n",
       "      <td>0.510989</td>\n",
       "    </tr>\n",
       "    <tr>\n",
       "      <th>96</th>\n",
       "      <td>0.101624</td>\n",
       "      <td>sigmoid</td>\n",
       "      <td>1.143462</td>\n",
       "      <td>NaN</td>\n",
       "      <td>0.502024</td>\n",
       "      <td>0.021119</td>\n",
       "      <td>0.503847</td>\n",
       "    </tr>\n",
       "    <tr>\n",
       "      <th>97</th>\n",
       "      <td>0.335404</td>\n",
       "      <td>sigmoid</td>\n",
       "      <td>3.065665</td>\n",
       "      <td>NaN</td>\n",
       "      <td>0.492123</td>\n",
       "      <td>0.018656</td>\n",
       "      <td>0.499634</td>\n",
       "    </tr>\n",
       "    <tr>\n",
       "      <th>98</th>\n",
       "      <td>26.080419</td>\n",
       "      <td>sigmoid</td>\n",
       "      <td>3.832599</td>\n",
       "      <td>NaN</td>\n",
       "      <td>0.472705</td>\n",
       "      <td>0.012204</td>\n",
       "      <td>0.477739</td>\n",
       "    </tr>\n",
       "    <tr>\n",
       "      <th>99</th>\n",
       "      <td>67.200982</td>\n",
       "      <td>sigmoid</td>\n",
       "      <td>8.168761</td>\n",
       "      <td>NaN</td>\n",
       "      <td>0.465378</td>\n",
       "      <td>0.021056</td>\n",
       "      <td>0.473524</td>\n",
       "    </tr>\n",
       "  </tbody>\n",
       "</table>\n",
       "</div>"
      ],
      "text/plain": [
       "   param_svc__C param_svc__kernel param_svc__gamma param_svc__degree  \\\n",
       "90     0.019191              poly         0.074186                 4   \n",
       "91   114.753664              poly         0.005673                 4   \n",
       "92    89.930119              poly         0.006988                 4   \n",
       "93      3.43575              poly         0.000583                 4   \n",
       "94     0.049213              poly         0.013229                 4   \n",
       "95     0.558566              poly         0.000106                 4   \n",
       "96     0.101624           sigmoid         1.143462               NaN   \n",
       "97     0.335404           sigmoid         3.065665               NaN   \n",
       "98    26.080419           sigmoid         3.832599               NaN   \n",
       "99    67.200982           sigmoid         8.168761               NaN   \n",
       "\n",
       "    mean_test_score  std_test_score  mean_train_score  \n",
       "90         0.510459        0.020917          0.512912  \n",
       "91         0.510459        0.020917          0.512912  \n",
       "92         0.509358        0.018716          0.510989  \n",
       "93         0.509358        0.018716          0.511905  \n",
       "94         0.509358        0.018716          0.511905  \n",
       "95         0.509358        0.018716          0.510989  \n",
       "96         0.502024        0.021119          0.503847  \n",
       "97         0.492123        0.018656          0.499634  \n",
       "98         0.472705        0.012204          0.477739  \n",
       "99         0.465378        0.021056          0.473524  "
      ]
     },
     "execution_count": 60,
     "metadata": {},
     "output_type": "execute_result"
    }
   ],
   "source": [
    "# lookk at bottom 10 combinations\n",
    "results[[\n",
    "    'param_svc__C', 'param_svc__kernel', 'param_svc__gamma','param_svc__degree', \n",
    "    'mean_test_score', 'std_test_score', 'mean_train_score'\n",
    "]].tail(10)\n"
   ]
  },
  {
   "cell_type": "markdown",
   "metadata": {
    "id": "6YZm0oT_XdXK"
   },
   "source": [
    "From the above results, we can see that RandomizedSearchCV has taken random combinations of parameters. For top 10 results, 9 used poly kernel. For top 4 results, degree is 2. We can also see that either C is very large or gamma is large. This shows that a poly kernel with degree 2 will give us the best results. Higher values of C means that, model with no regularization will give us the best results. Thus we do not need to further fine tune the model. This was also evident from the learning curve."
   ]
  },
  {
   "cell_type": "markdown",
   "metadata": {
    "id": "_xi_quT6Pdq5"
   },
   "source": [
    "# <font color = 'pickle'>**Perfromnace on Test Data**"
   ]
  },
  {
   "cell_type": "markdown",
   "metadata": {
    "id": "o9zBGWscQaNz"
   },
   "source": [
    "## <font color = 'pickle'> **Test Accuracy** using best model"
   ]
  },
  {
   "cell_type": "markdown",
   "metadata": {
    "id": "vPmQmOW5I8_s"
   },
   "source": [
    "### <font color = 'pickle'>**Load saved Model**"
   ]
  },
  {
   "cell_type": "code",
   "execution_count": 64,
   "metadata": {
    "execution": {
     "iopub.execute_input": "2022-10-23T23:54:46.420413Z",
     "iopub.status.busy": "2022-10-23T23:54:46.420162Z",
     "iopub.status.idle": "2022-10-23T23:54:46.447172Z",
     "shell.execute_reply": "2022-10-23T23:54:46.446560Z",
     "shell.execute_reply.started": "2022-10-23T23:54:46.420387Z"
    },
    "id": "3wHr63qiI0zK",
    "tags": []
   },
   "outputs": [],
   "source": [
    "file_best_estimator_svc = save_model_folder / 'svc_round3_best_estimator.pkl'\n",
    "best_estimator_svc = joblib.load(file_best_estimator_svc )"
   ]
  },
  {
   "cell_type": "markdown",
   "metadata": {
    "id": "vK68KLfJQTNu"
   },
   "source": [
    "### <font color = 'pickle'>**Test Accuracy**"
   ]
  },
  {
   "cell_type": "code",
   "execution_count": 65,
   "metadata": {
    "colab": {
     "base_uri": "https://localhost:8080/"
    },
    "execution": {
     "iopub.execute_input": "2022-10-23T23:54:50.466484Z",
     "iopub.status.busy": "2022-10-23T23:54:50.466250Z",
     "iopub.status.idle": "2022-10-23T23:54:50.551050Z",
     "shell.execute_reply": "2022-10-23T23:54:50.550387Z",
     "shell.execute_reply.started": "2022-10-23T23:54:50.466458Z"
    },
    "executionInfo": {
     "elapsed": 121,
     "status": "ok",
     "timestamp": 1665262627604,
     "user": {
      "displayName": "Shaannoor Mann",
      "userId": "02520257695567980696"
     },
     "user_tz": 300
    },
    "id": "NgNqL38XPdq5",
    "outputId": "208966f3-fd04-480d-8327-d94587da07a8",
    "tags": []
   },
   "outputs": [
    {
     "name": "stdout",
     "output_type": "stream",
     "text": [
      "Test data accauracy for round 4: 0.758364312267658\n"
     ]
    }
   ],
   "source": [
    "#let's check the test scores for final model\n",
    "print(f'Test data accauracy for round 4: {best_estimator_svc.score(X_test,y_test)}')"
   ]
  },
  {
   "cell_type": "markdown",
   "metadata": {
    "id": "IeC8uwVZN3Ni"
   },
   "source": [
    "### <font color = 'pickle'> **Confusion Matrix- Round3**"
   ]
  },
  {
   "cell_type": "code",
   "execution_count": 66,
   "metadata": {
    "colab": {
     "base_uri": "https://localhost:8080/",
     "height": 279
    },
    "execution": {
     "iopub.execute_input": "2022-10-23T23:54:52.768174Z",
     "iopub.status.busy": "2022-10-23T23:54:52.767452Z",
     "iopub.status.idle": "2022-10-23T23:54:52.921485Z",
     "shell.execute_reply": "2022-10-23T23:54:52.920898Z",
     "shell.execute_reply.started": "2022-10-23T23:54:52.768145Z"
    },
    "executionInfo": {
     "elapsed": 460,
     "status": "ok",
     "timestamp": 1665262632108,
     "user": {
      "displayName": "Shaannoor Mann",
      "userId": "02520257695567980696"
     },
     "user_tz": 300
    },
    "id": "Xqq3_TtzJ-GU",
    "outputId": "61e5bd94-1322-4ddf-b5e3-1d75ab0ab66b",
    "tags": []
   },
   "outputs": [
    {
     "data": {
      "image/png": "[encoded data removed]",
      "text/plain": [
       "<Figure size 640x480 with 2 Axes>"
      ]
     },
     "metadata": {},
     "output_type": "display_data"
    }
   ],
   "source": [
    "ConfusionMatrixDisplay.from_estimator(best_estimator_svc, X_test, y_test,\n",
    "                                 display_labels=['Not Exited', 'Exited'],\n",
    "                                 cmap=plt.cm.Blues,\n",
    "                                 normalize = 'true')\n",
    "plt.grid(False)\n",
    "plt.show()"
   ]
  },
  {
   "cell_type": "markdown",
   "metadata": {
    "id": "_jzCKR2OPdq6"
   },
   "source": [
    "# <font color = 'pickle'>**Final Conclusion**"
   ]
  },
  {
   "cell_type": "markdown",
   "metadata": {
    "id": "DXsehpPAQjOV"
   },
   "source": [
    "The round 3 pipeline seems to have the best performance. The best model till now was logistic regression. The SVM has similar performance. However, the fit times are considerably smaller for logistic regression. Also from learning curves, it seems that logistic regression scales better. **Hence we comclude that we should use Logistic regression.**"
   ]
  }
 ],
 "metadata": {
  "colab": {
   "collapsed_sections": [],
   "machine_shape": "hm",
   "name": "Complete_example_SVM.ipynb",
   "provenance": [],
   "toc_visible": true
  },
  "kernelspec": {
   "display_name": "Python 3 (ipykernel)",
   "language": "python",
   "name": "python3"
  },
  "language_info": {
   "codemirror_mode": {
    "name": "ipython",
    "version": 3
   },
   "file_extension": ".py",
   "mimetype": "text/x-python",
   "name": "python",
   "nbconvert_exporter": "python",
   "pygments_lexer": "ipython3",
   "version": "3.10.6"
  },
  "toc-autonumbering": true
 },
 "nbformat": 4,
 "nbformat_minor": 4
}
