{
 "cells": [
  {
   "cell_type": "code",
   "execution_count": 1,
   "metadata": {
    "colab": {
     "base_uri": "https://localhost:8080/"
    },
    "execution": {
     "iopub.execute_input": "2022-11-06T21:20:32.634905Z",
     "iopub.status.busy": "2022-11-06T21:20:32.634558Z",
     "iopub.status.idle": "2022-11-06T21:20:32.639863Z",
     "shell.execute_reply": "2022-11-06T21:20:32.639174Z",
     "shell.execute_reply.started": "2022-11-06T21:20:32.634832Z"
    },
    "executionInfo": {
     "elapsed": 15202,
     "status": "ok",
     "timestamp": 1667213233478,
     "user": {
      "displayName": "Shaannoor Mann",
      "userId": "02520257695567980696"
     },
     "user_tz": 300
    },
    "id": "24TMo7Zu2NAQ",
    "outputId": "52fe2342-31e6-49b2-bb5e-468c633e0a26"
   },
   "outputs": [],
   "source": [
    "if 'google.colab' in str(get_ipython()):\n",
    "    from google.colab import drive\n",
    "    drive.mount('/content/drive')"
   ]
  },
  {
   "cell_type": "code",
   "execution_count": 26,
   "metadata": {
    "execution": {
     "iopub.execute_input": "2022-11-06T21:29:02.352428Z",
     "iopub.status.busy": "2022-11-06T21:29:02.352139Z",
     "iopub.status.idle": "2022-11-06T21:29:02.359320Z",
     "shell.execute_reply": "2022-11-06T21:29:02.358815Z",
     "shell.execute_reply.started": "2022-11-06T21:29:02.352411Z"
    },
    "executionInfo": {
     "elapsed": 2319,
     "status": "ok",
     "timestamp": 1667213235795,
     "user": {
      "displayName": "Shaannoor Mann",
      "userId": "02520257695567980696"
     },
     "user_tz": 300
    },
    "id": "tUX8_9qQ2fAf",
    "tags": []
   },
   "outputs": [],
   "source": [
    "%matplotlib notebook\n",
    "from sklearn.tree import DecisionTreeClassifier\n",
    "from sklearn.tree import DecisionTreeRegressor\n",
    "from sklearn.linear_model import LinearRegression\n",
    "from sklearn.tree import  export_graphviz\n",
    "import graphviz\n",
    "\n",
    "\n",
    "from sklearn.datasets import load_breast_cancer\n",
    "from sklearn.model_selection import train_test_split\n",
    "\n",
    "import matplotlib.pyplot as plt\n",
    "%matplotlib inline\n",
    "import numpy as np\n",
    "import pandas as pd\n",
    "\n",
    "from pathlib import Path"
   ]
  },
  {
   "cell_type": "code",
   "execution_count": 27,
   "metadata": {
    "execution": {
     "iopub.execute_input": "2022-11-07T01:55:15.973347Z",
     "iopub.status.busy": "2022-11-07T01:55:15.973140Z",
     "iopub.status.idle": "2022-11-07T01:55:15.976211Z",
     "shell.execute_reply": "2022-11-07T01:55:15.975788Z",
     "shell.execute_reply.started": "2022-11-07T01:55:15.973333Z"
    }
   },
   "outputs": [],
   "source": [
    "if 'google.colab' in str(get_ipython()):\n",
    "    folder = Path('/content/drive/MyDrive/data/datasets')\n",
    "else:\n",
    "    folder = Path('/home/harpreet/Insync/google_drive_shaannoor/data/datasets')\n",
    "    "
   ]
  },
  {
   "cell_type": "markdown",
   "metadata": {
    "id": "lWvhN3KF1z86"
   },
   "source": [
    "# Decision Trees"
   ]
  },
  {
   "cell_type": "markdown",
   "metadata": {
    "id": "iFBNZ2Dk1z86"
   },
   "source": [
    "## Decision Trees Classifier"
   ]
  },
  {
   "cell_type": "code",
   "execution_count": 3,
   "metadata": {
    "ExecuteTime": {
     "end_time": "2020-03-08T20:12:02.447646Z",
     "start_time": "2020-03-08T20:12:02.410518Z"
    },
    "colab": {
     "base_uri": "https://localhost:8080/"
    },
    "execution": {
     "iopub.execute_input": "2022-11-06T21:21:16.886185Z",
     "iopub.status.busy": "2022-11-06T21:21:16.885449Z",
     "iopub.status.idle": "2022-11-06T21:21:16.897924Z",
     "shell.execute_reply": "2022-11-06T21:21:16.897353Z",
     "shell.execute_reply.started": "2022-11-06T21:21:16.886169Z"
    },
    "executionInfo": {
     "elapsed": 173,
     "status": "ok",
     "timestamp": 1667213235964,
     "user": {
      "displayName": "Shaannoor Mann",
      "userId": "02520257695567980696"
     },
     "user_tz": 300
    },
    "id": "Kpl6NwkV1z87",
    "outputId": "053c341e-9f96-4204-d447-0e4d4dfee096"
   },
   "outputs": [
    {
     "name": "stdout",
     "output_type": "stream",
     "text": [
      "Accuracy on training set: 1.000\n",
      "Accuracy on test set: 0.902\n"
     ]
    }
   ],
   "source": [
    "cancer = load_breast_cancer()\n",
    "X_train, X_test, y_train, y_test = train_test_split(cancer.data, cancer.target, stratify=cancer.target, random_state=0)\n",
    "\n",
    "dtree = DecisionTreeClassifier(random_state=0)\n",
    "\n",
    "dtree.fit(X_train, y_train)\n",
    "print(\"Accuracy on training set: {:.3f}\".format(dtree.score(X_train, y_train)))\n",
    "print(\"Accuracy on test set: {:.3f}\".format(dtree.score(X_test, y_test)))"
   ]
  },
  {
   "cell_type": "code",
   "execution_count": 5,
   "metadata": {
    "ExecuteTime": {
     "end_time": "2020-03-08T20:12:02.462189Z",
     "start_time": "2020-03-08T20:12:02.449621Z"
    },
    "colab": {
     "base_uri": "https://localhost:8080/"
    },
    "execution": {
     "iopub.execute_input": "2022-11-06T21:22:05.147539Z",
     "iopub.status.busy": "2022-11-06T21:22:05.147327Z",
     "iopub.status.idle": "2022-11-06T21:22:05.154791Z",
     "shell.execute_reply": "2022-11-06T21:22:05.154450Z",
     "shell.execute_reply.started": "2022-11-06T21:22:05.147525Z"
    },
    "executionInfo": {
     "elapsed": 6,
     "status": "ok",
     "timestamp": 1667213235965,
     "user": {
      "displayName": "Shaannoor Mann",
      "userId": "02520257695567980696"
     },
     "user_tz": 300
    },
    "id": "QK1fQKA-1z88",
    "outputId": "45c1a50f-f941-407a-c50b-bf2544c87d08",
    "tags": []
   },
   "outputs": [
    {
     "name": "stdout",
     "output_type": "stream",
     "text": [
      "Accuracy on training set: 0.986\n",
      "Accuracy on test set: 0.909\n"
     ]
    }
   ],
   "source": [
    "dtree = DecisionTreeClassifier(max_depth=4, random_state=0)\n",
    "dtree.fit(X_train, y_train)\n",
    "\n",
    "print(\"Accuracy on training set: {:.3f}\".format(dtree.score(X_train, y_train)))\n",
    "print(\"Accuracy on test set: {:.3f}\".format(dtree.score(X_test, y_test)))"
   ]
  },
  {
   "cell_type": "code",
   "execution_count": 16,
   "metadata": {
    "execution": {
     "iopub.execute_input": "2022-11-06T21:25:51.280594Z",
     "iopub.status.busy": "2022-11-06T21:25:51.280377Z",
     "iopub.status.idle": "2022-11-06T21:25:51.283584Z",
     "shell.execute_reply": "2022-11-06T21:25:51.283142Z",
     "shell.execute_reply.started": "2022-11-06T21:25:51.280581Z"
    },
    "tags": []
   },
   "outputs": [],
   "source": [
    "data = dtree.feature_importances_.reshape(-1,30)"
   ]
  },
  {
   "cell_type": "code",
   "execution_count": 17,
   "metadata": {
    "execution": {
     "iopub.execute_input": "2022-11-06T21:25:54.960589Z",
     "iopub.status.busy": "2022-11-06T21:25:54.960385Z",
     "iopub.status.idle": "2022-11-06T21:25:54.963922Z",
     "shell.execute_reply": "2022-11-06T21:25:54.963580Z",
     "shell.execute_reply.started": "2022-11-06T21:25:54.960576Z"
    }
   },
   "outputs": [
    {
     "data": {
      "text/plain": [
       "(1, 30)"
      ]
     },
     "execution_count": 17,
     "metadata": {},
     "output_type": "execute_result"
    }
   ],
   "source": [
    "data.shape"
   ]
  },
  {
   "cell_type": "code",
   "execution_count": 9,
   "metadata": {
    "execution": {
     "iopub.execute_input": "2022-11-06T21:23:51.994992Z",
     "iopub.status.busy": "2022-11-06T21:23:51.994729Z",
     "iopub.status.idle": "2022-11-06T21:23:51.998803Z",
     "shell.execute_reply": "2022-11-06T21:23:51.998391Z",
     "shell.execute_reply.started": "2022-11-06T21:23:51.994979Z"
    }
   },
   "outputs": [
    {
     "data": {
      "text/plain": [
       "array(['mean radius', 'mean texture', 'mean perimeter', 'mean area',\n",
       "       'mean smoothness', 'mean compactness', 'mean concavity',\n",
       "       'mean concave points', 'mean symmetry', 'mean fractal dimension',\n",
       "       'radius error', 'texture error', 'perimeter error', 'area error',\n",
       "       'smoothness error', 'compactness error', 'concavity error',\n",
       "       'concave points error', 'symmetry error',\n",
       "       'fractal dimension error', 'worst radius', 'worst texture',\n",
       "       'worst perimeter', 'worst area', 'worst smoothness',\n",
       "       'worst compactness', 'worst concavity', 'worst concave points',\n",
       "       'worst symmetry', 'worst fractal dimension'], dtype='<U23')"
      ]
     },
     "execution_count": 9,
     "metadata": {},
     "output_type": "execute_result"
    }
   ],
   "source": [
    "cancer.feature_names"
   ]
  },
  {
   "cell_type": "code",
   "execution_count": 18,
   "metadata": {
    "execution": {
     "iopub.execute_input": "2022-11-06T21:26:07.856832Z",
     "iopub.status.busy": "2022-11-06T21:26:07.856573Z",
     "iopub.status.idle": "2022-11-06T21:26:07.860476Z",
     "shell.execute_reply": "2022-11-06T21:26:07.859746Z",
     "shell.execute_reply.started": "2022-11-06T21:26:07.856812Z"
    },
    "tags": []
   },
   "outputs": [],
   "source": [
    "df = pd.DataFrame(data = data, columns=cancer.feature_names )"
   ]
  },
  {
   "cell_type": "code",
   "execution_count": 24,
   "metadata": {
    "execution": {
     "iopub.execute_input": "2022-11-06T21:27:51.738433Z",
     "iopub.status.busy": "2022-11-06T21:27:51.738243Z",
     "iopub.status.idle": "2022-11-06T21:27:51.744469Z",
     "shell.execute_reply": "2022-11-06T21:27:51.744006Z",
     "shell.execute_reply.started": "2022-11-06T21:27:51.738421Z"
    },
    "tags": []
   },
   "outputs": [
    {
     "data": {
      "text/html": [
       "<div>\n",
       "<style scoped>\n",
       "    .dataframe tbody tr th:only-of-type {\n",
       "        vertical-align: middle;\n",
       "    }\n",
       "\n",
       "    .dataframe tbody tr th {\n",
       "        vertical-align: top;\n",
       "    }\n",
       "\n",
       "    .dataframe thead th {\n",
       "        text-align: right;\n",
       "    }\n",
       "</style>\n",
       "<table border=\"1\" class=\"dataframe\">\n",
       "  <thead>\n",
       "    <tr style=\"text-align: right;\">\n",
       "      <th></th>\n",
       "      <th>0</th>\n",
       "    </tr>\n",
       "  </thead>\n",
       "  <tbody>\n",
       "    <tr>\n",
       "      <th>worst perimeter</th>\n",
       "      <td>0.757086</td>\n",
       "    </tr>\n",
       "    <tr>\n",
       "      <th>worst concave points</th>\n",
       "      <td>0.109766</td>\n",
       "    </tr>\n",
       "    <tr>\n",
       "      <th>worst radius</th>\n",
       "      <td>0.038486</td>\n",
       "    </tr>\n",
       "    <tr>\n",
       "      <th>worst texture</th>\n",
       "      <td>0.030876</td>\n",
       "    </tr>\n",
       "    <tr>\n",
       "      <th>mean texture</th>\n",
       "      <td>0.015586</td>\n",
       "    </tr>\n",
       "    <tr>\n",
       "      <th>mean symmetry</th>\n",
       "      <td>0.011501</td>\n",
       "    </tr>\n",
       "    <tr>\n",
       "      <th>area error</th>\n",
       "      <td>0.010430</td>\n",
       "    </tr>\n",
       "    <tr>\n",
       "      <th>perimeter error</th>\n",
       "      <td>0.010233</td>\n",
       "    </tr>\n",
       "    <tr>\n",
       "      <th>worst fractal dimension</th>\n",
       "      <td>0.009310</td>\n",
       "    </tr>\n",
       "    <tr>\n",
       "      <th>worst concavity</th>\n",
       "      <td>0.004190</td>\n",
       "    </tr>\n",
       "    <tr>\n",
       "      <th>radius error</th>\n",
       "      <td>0.002537</td>\n",
       "    </tr>\n",
       "    <tr>\n",
       "      <th>symmetry error</th>\n",
       "      <td>0.000000</td>\n",
       "    </tr>\n",
       "    <tr>\n",
       "      <th>worst area</th>\n",
       "      <td>0.000000</td>\n",
       "    </tr>\n",
       "    <tr>\n",
       "      <th>worst smoothness</th>\n",
       "      <td>0.000000</td>\n",
       "    </tr>\n",
       "    <tr>\n",
       "      <th>worst compactness</th>\n",
       "      <td>0.000000</td>\n",
       "    </tr>\n",
       "    <tr>\n",
       "      <th>worst symmetry</th>\n",
       "      <td>0.000000</td>\n",
       "    </tr>\n",
       "    <tr>\n",
       "      <th>fractal dimension error</th>\n",
       "      <td>0.000000</td>\n",
       "    </tr>\n",
       "    <tr>\n",
       "      <th>mean radius</th>\n",
       "      <td>0.000000</td>\n",
       "    </tr>\n",
       "    <tr>\n",
       "      <th>concave points error</th>\n",
       "      <td>0.000000</td>\n",
       "    </tr>\n",
       "    <tr>\n",
       "      <th>concavity error</th>\n",
       "      <td>0.000000</td>\n",
       "    </tr>\n",
       "    <tr>\n",
       "      <th>smoothness error</th>\n",
       "      <td>0.000000</td>\n",
       "    </tr>\n",
       "    <tr>\n",
       "      <th>texture error</th>\n",
       "      <td>0.000000</td>\n",
       "    </tr>\n",
       "    <tr>\n",
       "      <th>mean fractal dimension</th>\n",
       "      <td>0.000000</td>\n",
       "    </tr>\n",
       "    <tr>\n",
       "      <th>mean concave points</th>\n",
       "      <td>0.000000</td>\n",
       "    </tr>\n",
       "    <tr>\n",
       "      <th>mean concavity</th>\n",
       "      <td>0.000000</td>\n",
       "    </tr>\n",
       "    <tr>\n",
       "      <th>mean compactness</th>\n",
       "      <td>0.000000</td>\n",
       "    </tr>\n",
       "    <tr>\n",
       "      <th>mean smoothness</th>\n",
       "      <td>0.000000</td>\n",
       "    </tr>\n",
       "    <tr>\n",
       "      <th>mean area</th>\n",
       "      <td>0.000000</td>\n",
       "    </tr>\n",
       "    <tr>\n",
       "      <th>mean perimeter</th>\n",
       "      <td>0.000000</td>\n",
       "    </tr>\n",
       "    <tr>\n",
       "      <th>compactness error</th>\n",
       "      <td>0.000000</td>\n",
       "    </tr>\n",
       "  </tbody>\n",
       "</table>\n",
       "</div>"
      ],
      "text/plain": [
       "                                0\n",
       "worst perimeter          0.757086\n",
       "worst concave points     0.109766\n",
       "worst radius             0.038486\n",
       "worst texture            0.030876\n",
       "mean texture             0.015586\n",
       "mean symmetry            0.011501\n",
       "area error               0.010430\n",
       "perimeter error          0.010233\n",
       "worst fractal dimension  0.009310\n",
       "worst concavity          0.004190\n",
       "radius error             0.002537\n",
       "symmetry error           0.000000\n",
       "worst area               0.000000\n",
       "worst smoothness         0.000000\n",
       "worst compactness        0.000000\n",
       "worst symmetry           0.000000\n",
       "fractal dimension error  0.000000\n",
       "mean radius              0.000000\n",
       "concave points error     0.000000\n",
       "concavity error          0.000000\n",
       "smoothness error         0.000000\n",
       "texture error            0.000000\n",
       "mean fractal dimension   0.000000\n",
       "mean concave points      0.000000\n",
       "mean concavity           0.000000\n",
       "mean compactness         0.000000\n",
       "mean smoothness          0.000000\n",
       "mean area                0.000000\n",
       "mean perimeter           0.000000\n",
       "compactness error        0.000000"
      ]
     },
     "execution_count": 24,
     "metadata": {},
     "output_type": "execute_result"
    }
   ],
   "source": [
    "df.T.sort_values(by = 0, ascending=False)"
   ]
  },
  {
   "cell_type": "code",
   "execution_count": 25,
   "metadata": {
    "ExecuteTime": {
     "end_time": "2020-03-08T20:12:03.050202Z",
     "start_time": "2020-03-08T20:12:02.476595Z"
    },
    "colab": {
     "base_uri": "https://localhost:8080/",
     "height": 279
    },
    "execution": {
     "iopub.execute_input": "2022-11-06T21:28:37.860660Z",
     "iopub.status.busy": "2022-11-06T21:28:37.860439Z",
     "iopub.status.idle": "2022-11-06T21:28:38.062162Z",
     "shell.execute_reply": "2022-11-06T21:28:38.061687Z",
     "shell.execute_reply.started": "2022-11-06T21:28:37.860647Z"
    },
    "executionInfo": {
     "elapsed": 769,
     "status": "ok",
     "timestamp": 1667213674099,
     "user": {
      "displayName": "Shaannoor Mann",
      "userId": "02520257695567980696"
     },
     "user_tz": 300
    },
    "id": "aeuJJdJ21z9A",
    "outputId": "e2d4f34c-b73d-435c-e50b-3d7cbbfc2e62"
   },
   "outputs": [
    {
     "data": {
      "image/png": "[encoded data removed]",
      "text/plain": [
       "<Figure size 432x288 with 1 Axes>"
      ]
     },
     "metadata": {
      "needs_background": "light"
     },
     "output_type": "display_data"
    }
   ],
   "source": [
    "%matplotlib inline\n",
    "def plot_feature_importances_cancer(model):\n",
    "    n_features = cancer.data.shape[1]\n",
    "    plt.barh(range(n_features), model.feature_importances_, align='center')\n",
    "    plt.yticks(np.arange(n_features), cancer.feature_names)\n",
    "    plt.xlabel(\"Feature importance\")\n",
    "    plt.ylabel(\"Feature\")\n",
    "    plt.ylim(-1, n_features)\n",
    "\n",
    "plot_feature_importances_cancer(dtree)"
   ]
  },
  {
   "cell_type": "markdown",
   "metadata": {
    "ExecuteTime": {
     "end_time": "2020-02-24T11:35:12.161879Z",
     "start_time": "2020-02-24T11:35:12.158872Z"
    },
    "id": "9LOS2frr1z9C"
   },
   "source": [
    "## Decision Trees Regressor"
   ]
  },
  {
   "cell_type": "code",
   "execution_count": 28,
   "metadata": {
    "ExecuteTime": {
     "end_time": "2020-03-08T20:12:03.080093Z",
     "start_time": "2020-03-08T20:12:03.054215Z"
    },
    "execution": {
     "iopub.execute_input": "2022-11-07T01:55:28.470913Z",
     "iopub.status.busy": "2022-11-07T01:55:28.470644Z",
     "iopub.status.idle": "2022-11-07T01:55:28.475073Z",
     "shell.execute_reply": "2022-11-07T01:55:28.474709Z",
     "shell.execute_reply.started": "2022-11-07T01:55:28.470900Z"
    },
    "executionInfo": {
     "elapsed": 124,
     "status": "ok",
     "timestamp": 1667213718742,
     "user": {
      "displayName": "Shaannoor Mann",
      "userId": "02520257695567980696"
     },
     "user_tz": 300
    },
    "id": "xcU5AWGg1z9C"
   },
   "outputs": [],
   "source": [
    "ram_prices = pd.read_csv( folder / 'ram_price.csv') "
   ]
  },
  {
   "cell_type": "code",
   "execution_count": 29,
   "metadata": {
    "ExecuteTime": {
     "end_time": "2020-03-08T20:12:03.105154Z",
     "start_time": "2020-03-08T20:12:03.083094Z"
    },
    "colab": {
     "base_uri": "https://localhost:8080/",
     "height": 206
    },
    "execution": {
     "iopub.execute_input": "2022-11-07T01:55:29.873796Z",
     "iopub.status.busy": "2022-11-07T01:55:29.873597Z",
     "iopub.status.idle": "2022-11-07T01:55:29.878986Z",
     "shell.execute_reply": "2022-11-07T01:55:29.878621Z",
     "shell.execute_reply.started": "2022-11-07T01:55:29.873782Z"
    },
    "executionInfo": {
     "elapsed": 149,
     "status": "ok",
     "timestamp": 1667213720549,
     "user": {
      "displayName": "Shaannoor Mann",
      "userId": "02520257695567980696"
     },
     "user_tz": 300
    },
    "id": "B7qWRNTJ1z9E",
    "outputId": "055a1434-166d-47a3-9afb-a0823b53380e"
   },
   "outputs": [
    {
     "data": {
      "text/html": [
       "<div>\n",
       "<style scoped>\n",
       "    .dataframe tbody tr th:only-of-type {\n",
       "        vertical-align: middle;\n",
       "    }\n",
       "\n",
       "    .dataframe tbody tr th {\n",
       "        vertical-align: top;\n",
       "    }\n",
       "\n",
       "    .dataframe thead th {\n",
       "        text-align: right;\n",
       "    }\n",
       "</style>\n",
       "<table border=\"1\" class=\"dataframe\">\n",
       "  <thead>\n",
       "    <tr style=\"text-align: right;\">\n",
       "      <th></th>\n",
       "      <th>Unnamed: 0</th>\n",
       "      <th>date</th>\n",
       "      <th>price</th>\n",
       "    </tr>\n",
       "  </thead>\n",
       "  <tbody>\n",
       "    <tr>\n",
       "      <th>0</th>\n",
       "      <td>0</td>\n",
       "      <td>1957.0</td>\n",
       "      <td>411041792.0</td>\n",
       "    </tr>\n",
       "    <tr>\n",
       "      <th>1</th>\n",
       "      <td>1</td>\n",
       "      <td>1959.0</td>\n",
       "      <td>67947725.0</td>\n",
       "    </tr>\n",
       "    <tr>\n",
       "      <th>2</th>\n",
       "      <td>2</td>\n",
       "      <td>1960.0</td>\n",
       "      <td>5242880.0</td>\n",
       "    </tr>\n",
       "    <tr>\n",
       "      <th>3</th>\n",
       "      <td>3</td>\n",
       "      <td>1965.0</td>\n",
       "      <td>2642412.0</td>\n",
       "    </tr>\n",
       "    <tr>\n",
       "      <th>4</th>\n",
       "      <td>4</td>\n",
       "      <td>1970.0</td>\n",
       "      <td>734003.0</td>\n",
       "    </tr>\n",
       "  </tbody>\n",
       "</table>\n",
       "</div>"
      ],
      "text/plain": [
       "   Unnamed: 0    date        price\n",
       "0           0  1957.0  411041792.0\n",
       "1           1  1959.0   67947725.0\n",
       "2           2  1960.0    5242880.0\n",
       "3           3  1965.0    2642412.0\n",
       "4           4  1970.0     734003.0"
      ]
     },
     "execution_count": 29,
     "metadata": {},
     "output_type": "execute_result"
    }
   ],
   "source": [
    "ram_prices.head()"
   ]
  },
  {
   "cell_type": "code",
   "execution_count": 30,
   "metadata": {
    "ExecuteTime": {
     "end_time": "2020-03-08T20:12:03.523302Z",
     "start_time": "2020-03-08T20:12:03.107158Z"
    },
    "colab": {
     "base_uri": "https://localhost:8080/",
     "height": 299
    },
    "execution": {
     "iopub.execute_input": "2022-11-07T01:55:33.715447Z",
     "iopub.status.busy": "2022-11-07T01:55:33.715239Z",
     "iopub.status.idle": "2022-11-07T01:55:33.917836Z",
     "shell.execute_reply": "2022-11-07T01:55:33.917257Z",
     "shell.execute_reply.started": "2022-11-07T01:55:33.715434Z"
    },
    "executionInfo": {
     "elapsed": 415,
     "status": "ok",
     "timestamp": 1667213724297,
     "user": {
      "displayName": "Shaannoor Mann",
      "userId": "02520257695567980696"
     },
     "user_tz": 300
    },
    "id": "-4lst9MU1z9F",
    "outputId": "452658e9-f611-4394-b1c6-7ff69ecd738c"
   },
   "outputs": [
    {
     "data": {
      "text/plain": [
       "Text(0, 0.5, 'Price in $/Mbyte')"
      ]
     },
     "execution_count": 30,
     "metadata": {},
     "output_type": "execute_result"
    },
    {
     "data": {
      "image/png": "[encoded data removed]",
      "text/plain": [
       "<Figure size 432x288 with 1 Axes>"
      ]
     },
     "metadata": {
      "needs_background": "light"
     },
     "output_type": "display_data"
    }
   ],
   "source": [
    "%matplotlib inline\n",
    "plt.semilogy(ram_prices.date, ram_prices.price)\n",
    "plt.xlabel(\"Year\")\n",
    "plt.ylabel(\"Price in $/Mbyte\")"
   ]
  },
  {
   "cell_type": "code",
   "execution_count": 32,
   "metadata": {
    "ExecuteTime": {
     "end_time": "2020-03-08T20:12:03.544361Z",
     "start_time": "2020-03-08T20:12:03.525308Z"
    },
    "colab": {
     "base_uri": "https://localhost:8080/"
    },
    "execution": {
     "iopub.execute_input": "2022-11-07T01:57:34.136199Z",
     "iopub.status.busy": "2022-11-07T01:57:34.135991Z",
     "iopub.status.idle": "2022-11-07T01:57:34.139815Z",
     "shell.execute_reply": "2022-11-07T01:57:34.139365Z",
     "shell.execute_reply.started": "2022-11-07T01:57:34.136185Z"
    },
    "executionInfo": {
     "elapsed": 125,
     "status": "ok",
     "timestamp": 1667213740875,
     "user": {
      "displayName": "Shaannoor Mann",
      "userId": "02520257695567980696"
     },
     "user_tz": 300
    },
    "id": "o_hgwes01z9G",
    "outputId": "72675868-edd9-4949-c6fe-3673e1f40d07",
    "tags": []
   },
   "outputs": [],
   "source": [
    "from sklearn.tree import DecisionTreeRegressor\n",
    "from sklearn.linear_model import LinearRegression\n",
    "# use historical data to forecast prices after the year 2000\n",
    "data_train = ram_prices[ram_prices.date < 2000]\n",
    "data_test = ram_prices[ram_prices.date >= 2000]"
   ]
  },
  {
   "cell_type": "code",
   "execution_count": 36,
   "metadata": {
    "ExecuteTime": {
     "end_time": "2020-03-08T20:12:03.544361Z",
     "start_time": "2020-03-08T20:12:03.525308Z"
    },
    "colab": {
     "base_uri": "https://localhost:8080/"
    },
    "execution": {
     "iopub.execute_input": "2022-11-07T01:59:11.476339Z",
     "iopub.status.busy": "2022-11-07T01:59:11.476130Z",
     "iopub.status.idle": "2022-11-07T01:59:11.481216Z",
     "shell.execute_reply": "2022-11-07T01:59:11.480864Z",
     "shell.execute_reply.started": "2022-11-07T01:59:11.476325Z"
    },
    "executionInfo": {
     "elapsed": 125,
     "status": "ok",
     "timestamp": 1667213740875,
     "user": {
      "displayName": "Shaannoor Mann",
      "userId": "02520257695567980696"
     },
     "user_tz": 300
    },
    "id": "o_hgwes01z9G",
    "outputId": "72675868-edd9-4949-c6fe-3673e1f40d07",
    "tags": []
   },
   "outputs": [],
   "source": [
    "# predict prices based on date\n",
    "X_train = data_train.date.values.reshape(-1,1)\n",
    "# we use a log-transform to get a simpler relationship of data to target\n",
    "y_train = np.log(data_train.price)\n",
    "\n",
    "tree = DecisionTreeRegressor().fit(X_train, y_train)\n",
    "linear_reg = LinearRegression().fit(X_train, y_train)\n",
    "\n",
    "# predict on all data\n",
    "X_all = ram_prices.date.values.reshape(-1, 1)\n",
    "\n",
    "pred_tree = tree.predict(X_all)\n",
    "pred_lr = linear_reg.predict(X_all)\n",
    "\n",
    "# undo log-transform\n",
    "price_tree = np.exp(pred_tree)\n",
    "price_lr = np.exp(pred_lr)"
   ]
  },
  {
   "cell_type": "code",
   "execution_count": 37,
   "metadata": {
    "ExecuteTime": {
     "end_time": "2020-03-08T20:12:04.069849Z",
     "start_time": "2020-03-08T20:12:03.550374Z"
    },
    "colab": {
     "base_uri": "https://localhost:8080/",
     "height": 282
    },
    "execution": {
     "iopub.execute_input": "2022-11-07T01:59:12.258552Z",
     "iopub.status.busy": "2022-11-07T01:59:12.258355Z",
     "iopub.status.idle": "2022-11-07T01:59:12.398197Z",
     "shell.execute_reply": "2022-11-07T01:59:12.397795Z",
     "shell.execute_reply.started": "2022-11-07T01:59:12.258538Z"
    },
    "executionInfo": {
     "elapsed": 179,
     "status": "ok",
     "timestamp": 1667213753111,
     "user": {
      "displayName": "Shaannoor Mann",
      "userId": "02520257695567980696"
     },
     "user_tz": 300
    },
    "id": "5s9wV7WL1z9H",
    "outputId": "ee77713a-4164-403a-c5a6-d4b0a246678a"
   },
   "outputs": [
    {
     "data": {
      "text/plain": [
       "<matplotlib.legend.Legend at 0x7fa13052a2b0>"
      ]
     },
     "execution_count": 37,
     "metadata": {},
     "output_type": "execute_result"
    },
    {
     "data": {
      "image/png": "[encoded data removed]",
      "text/plain": [
       "<Figure size 432x288 with 1 Axes>"
      ]
     },
     "metadata": {
      "needs_background": "light"
     },
     "output_type": "display_data"
    }
   ],
   "source": [
    "%matplotlib inline\n",
    "plt.semilogy(data_train.date, data_train.price, label=\"Training data\")\n",
    "plt.semilogy(data_test.date, data_test.price, label=\"Test data\")\n",
    "plt.semilogy(ram_prices.date, price_tree, label=\"Tree prediction\")\n",
    "plt.semilogy(ram_prices.date, price_lr, label=\"Linear prediction\")\n",
    "plt.legend()"
   ]
  },
  {
   "cell_type": "markdown",
   "metadata": {
    "id": "NdV40Bul1z9J"
   },
   "source": [
    "## Decision Trees with GridSearch\n",
    "- Important hyperparameters\n",
    "  - criterion: the function to measure the quality of a split. Default: \"gini\". change to \"entropy\"\n",
    "  - max_depth: The maximum depth of the tree. If None, then nodes are expanded until all leaves are pure or until all leaves contain less than min_samples_split samples.\n",
    "  - min_samples_split: The minimum number of samples required to split an internal node.\n",
    "  - min_samples_leaf: The minimum number of samples required to be at a leaf node\n",
    "  - max_leaf_nodes"
   ]
  },
  {
   "cell_type": "code",
   "execution_count": 38,
   "metadata": {
    "execution": {
     "iopub.execute_input": "2022-11-07T01:59:30.686587Z",
     "iopub.status.busy": "2022-11-07T01:59:30.686388Z",
     "iopub.status.idle": "2022-11-07T01:59:30.694302Z",
     "shell.execute_reply": "2022-11-07T01:59:30.693956Z",
     "shell.execute_reply.started": "2022-11-07T01:59:30.686573Z"
    },
    "executionInfo": {
     "elapsed": 130,
     "status": "ok",
     "timestamp": 1667213758908,
     "user": {
      "displayName": "Shaannoor Mann",
      "userId": "02520257695567980696"
     },
     "user_tz": 300
    },
    "id": "Cs3QuZFG5bCw"
   },
   "outputs": [],
   "source": [
    "cancer = load_breast_cancer()\n",
    "X_train, X_test, y_train, y_test = train_test_split(cancer.data, cancer.target, \n",
    "                                                    stratify=cancer.target, \n",
    "                                                    random_state=0)"
   ]
  },
  {
   "cell_type": "markdown",
   "metadata": {
    "id": "m7bvOAy876ti"
   },
   "source": [
    "### max_leaf_nodes"
   ]
  },
  {
   "cell_type": "code",
   "execution_count": 39,
   "metadata": {
    "ExecuteTime": {
     "end_time": "2020-03-08T20:13:55.201765Z",
     "start_time": "2020-03-08T20:13:51.764935Z"
    },
    "colab": {
     "base_uri": "https://localhost:8080/"
    },
    "execution": {
     "iopub.execute_input": "2022-11-07T01:59:39.328256Z",
     "iopub.status.busy": "2022-11-07T01:59:39.328044Z",
     "iopub.status.idle": "2022-11-07T01:59:39.590987Z",
     "shell.execute_reply": "2022-11-07T01:59:39.590613Z",
     "shell.execute_reply.started": "2022-11-07T01:59:39.328242Z"
    },
    "executionInfo": {
     "elapsed": 734,
     "status": "ok",
     "timestamp": 1667213766666,
     "user": {
      "displayName": "Shaannoor Mann",
      "userId": "02520257695567980696"
     },
     "user_tz": 300
    },
    "id": "gOlaj1DM1z9M",
    "outputId": "a135dfe0-26a5-4244-e451-80b68f6864bc"
   },
   "outputs": [
    {
     "name": "stdout",
     "output_type": "stream",
     "text": [
      "{'max_leaf_nodes': 5}\n",
      "Best Mean Cross Validation Score is 0.9366073871409029\n",
      "Accuracy on training set: 0.955\n",
      "Accuracy on test set: 0.902\n"
     ]
    }
   ],
   "source": [
    "from sklearn.model_selection import GridSearchCV\n",
    "opt_tree = DecisionTreeClassifier(random_state = 123)\n",
    "param_DT = {\"max_leaf_nodes\": range(2,20)}\n",
    "\n",
    "grid_tree = GridSearchCV(opt_tree,param_DT,cv=5, return_train_score=True)\n",
    "grid_tree.fit(X_train,y_train)\n",
    "print(grid_tree.best_params_)\n",
    "print(f'Best Mean Cross Validation Score is {grid_tree.best_score_}')\n",
    "print(\"Accuracy on training set: {:.3f}\".format(grid_tree.score(X_train, y_train)))\n",
    "print(\"Accuracy on test set: {:.3f}\".format(grid_tree.score(X_test, y_test)))"
   ]
  },
  {
   "cell_type": "code",
   "execution_count": 41,
   "metadata": {
    "colab": {
     "base_uri": "https://localhost:8080/",
     "height": 297
    },
    "execution": {
     "iopub.execute_input": "2022-11-07T02:01:14.484175Z",
     "iopub.status.busy": "2022-11-07T02:01:14.483951Z",
     "iopub.status.idle": "2022-11-07T02:01:14.487608Z",
     "shell.execute_reply": "2022-11-07T02:01:14.487188Z",
     "shell.execute_reply.started": "2022-11-07T02:01:14.484162Z"
    },
    "executionInfo": {
     "elapsed": 419,
     "status": "ok",
     "timestamp": 1667213786422,
     "user": {
      "displayName": "Shaannoor Mann",
      "userId": "02520257695567980696"
     },
     "user_tz": 300
    },
    "id": "C7l-b7gQVmJQ",
    "outputId": "df8368c4-fe86-4bb0-bb10-aa65125c0a47",
    "tags": []
   },
   "outputs": [],
   "source": [
    "scores = pd.DataFrame(grid_tree.cv_results_)"
   ]
  },
  {
   "cell_type": "code",
   "execution_count": 42,
   "metadata": {
    "execution": {
     "iopub.execute_input": "2022-11-07T02:01:20.211236Z",
     "iopub.status.busy": "2022-11-07T02:01:20.211021Z",
     "iopub.status.idle": "2022-11-07T02:01:20.230041Z",
     "shell.execute_reply": "2022-11-07T02:01:20.229688Z",
     "shell.execute_reply.started": "2022-11-07T02:01:20.211222Z"
    }
   },
   "outputs": [
    {
     "data": {
      "text/html": [
       "<div>\n",
       "<style scoped>\n",
       "    .dataframe tbody tr th:only-of-type {\n",
       "        vertical-align: middle;\n",
       "    }\n",
       "\n",
       "    .dataframe tbody tr th {\n",
       "        vertical-align: top;\n",
       "    }\n",
       "\n",
       "    .dataframe thead th {\n",
       "        text-align: right;\n",
       "    }\n",
       "</style>\n",
       "<table border=\"1\" class=\"dataframe\">\n",
       "  <thead>\n",
       "    <tr style=\"text-align: right;\">\n",
       "      <th></th>\n",
       "      <th>mean_fit_time</th>\n",
       "      <th>std_fit_time</th>\n",
       "      <th>mean_score_time</th>\n",
       "      <th>std_score_time</th>\n",
       "      <th>param_max_leaf_nodes</th>\n",
       "      <th>params</th>\n",
       "      <th>split0_test_score</th>\n",
       "      <th>split1_test_score</th>\n",
       "      <th>split2_test_score</th>\n",
       "      <th>split3_test_score</th>\n",
       "      <th>...</th>\n",
       "      <th>mean_test_score</th>\n",
       "      <th>std_test_score</th>\n",
       "      <th>rank_test_score</th>\n",
       "      <th>split0_train_score</th>\n",
       "      <th>split1_train_score</th>\n",
       "      <th>split2_train_score</th>\n",
       "      <th>split3_train_score</th>\n",
       "      <th>split4_train_score</th>\n",
       "      <th>mean_train_score</th>\n",
       "      <th>std_train_score</th>\n",
       "    </tr>\n",
       "  </thead>\n",
       "  <tbody>\n",
       "    <tr>\n",
       "      <th>0</th>\n",
       "      <td>0.001596</td>\n",
       "      <td>0.000212</td>\n",
       "      <td>0.000189</td>\n",
       "      <td>2.215759e-05</td>\n",
       "      <td>2</td>\n",
       "      <td>{'max_leaf_nodes': 2}</td>\n",
       "      <td>0.860465</td>\n",
       "      <td>0.929412</td>\n",
       "      <td>0.882353</td>\n",
       "      <td>0.894118</td>\n",
       "      <td>...</td>\n",
       "      <td>0.896799</td>\n",
       "      <td>0.024634</td>\n",
       "      <td>18</td>\n",
       "      <td>0.941176</td>\n",
       "      <td>0.929619</td>\n",
       "      <td>0.938416</td>\n",
       "      <td>0.929619</td>\n",
       "      <td>0.929619</td>\n",
       "      <td>0.933690</td>\n",
       "      <td>0.005062</td>\n",
       "    </tr>\n",
       "    <tr>\n",
       "      <th>1</th>\n",
       "      <td>0.001711</td>\n",
       "      <td>0.000092</td>\n",
       "      <td>0.000193</td>\n",
       "      <td>1.605363e-05</td>\n",
       "      <td>3</td>\n",
       "      <td>{'max_leaf_nodes': 3}</td>\n",
       "      <td>0.918605</td>\n",
       "      <td>0.929412</td>\n",
       "      <td>0.870588</td>\n",
       "      <td>0.917647</td>\n",
       "      <td>...</td>\n",
       "      <td>0.917839</td>\n",
       "      <td>0.026830</td>\n",
       "      <td>17</td>\n",
       "      <td>0.961765</td>\n",
       "      <td>0.929619</td>\n",
       "      <td>0.950147</td>\n",
       "      <td>0.944282</td>\n",
       "      <td>0.956012</td>\n",
       "      <td>0.948365</td>\n",
       "      <td>0.011039</td>\n",
       "    </tr>\n",
       "    <tr>\n",
       "      <th>2</th>\n",
       "      <td>0.001975</td>\n",
       "      <td>0.000196</td>\n",
       "      <td>0.000191</td>\n",
       "      <td>1.163561e-05</td>\n",
       "      <td>4</td>\n",
       "      <td>{'max_leaf_nodes': 4}</td>\n",
       "      <td>0.930233</td>\n",
       "      <td>0.952941</td>\n",
       "      <td>0.882353</td>\n",
       "      <td>0.929412</td>\n",
       "      <td>...</td>\n",
       "      <td>0.927223</td>\n",
       "      <td>0.024014</td>\n",
       "      <td>13</td>\n",
       "      <td>0.976471</td>\n",
       "      <td>0.958944</td>\n",
       "      <td>0.970674</td>\n",
       "      <td>0.958944</td>\n",
       "      <td>0.961877</td>\n",
       "      <td>0.965382</td>\n",
       "      <td>0.007016</td>\n",
       "    </tr>\n",
       "    <tr>\n",
       "      <th>3</th>\n",
       "      <td>0.002081</td>\n",
       "      <td>0.000075</td>\n",
       "      <td>0.000183</td>\n",
       "      <td>5.807634e-06</td>\n",
       "      <td>5</td>\n",
       "      <td>{'max_leaf_nodes': 5}</td>\n",
       "      <td>0.941860</td>\n",
       "      <td>0.964706</td>\n",
       "      <td>0.905882</td>\n",
       "      <td>0.929412</td>\n",
       "      <td>...</td>\n",
       "      <td>0.936607</td>\n",
       "      <td>0.019151</td>\n",
       "      <td>1</td>\n",
       "      <td>0.982353</td>\n",
       "      <td>0.970674</td>\n",
       "      <td>0.976540</td>\n",
       "      <td>0.970674</td>\n",
       "      <td>0.970674</td>\n",
       "      <td>0.974183</td>\n",
       "      <td>0.004674</td>\n",
       "    </tr>\n",
       "    <tr>\n",
       "      <th>4</th>\n",
       "      <td>0.002220</td>\n",
       "      <td>0.000168</td>\n",
       "      <td>0.000210</td>\n",
       "      <td>3.480238e-05</td>\n",
       "      <td>6</td>\n",
       "      <td>{'max_leaf_nodes': 6}</td>\n",
       "      <td>0.941860</td>\n",
       "      <td>0.964706</td>\n",
       "      <td>0.905882</td>\n",
       "      <td>0.894118</td>\n",
       "      <td>...</td>\n",
       "      <td>0.929549</td>\n",
       "      <td>0.025839</td>\n",
       "      <td>4</td>\n",
       "      <td>0.985294</td>\n",
       "      <td>0.976540</td>\n",
       "      <td>0.982405</td>\n",
       "      <td>0.973607</td>\n",
       "      <td>0.976540</td>\n",
       "      <td>0.978877</td>\n",
       "      <td>0.004297</td>\n",
       "    </tr>\n",
       "    <tr>\n",
       "      <th>5</th>\n",
       "      <td>0.002396</td>\n",
       "      <td>0.000449</td>\n",
       "      <td>0.000214</td>\n",
       "      <td>6.550507e-05</td>\n",
       "      <td>7</td>\n",
       "      <td>{'max_leaf_nodes': 7}</td>\n",
       "      <td>0.941860</td>\n",
       "      <td>0.964706</td>\n",
       "      <td>0.894118</td>\n",
       "      <td>0.917647</td>\n",
       "      <td>...</td>\n",
       "      <td>0.936607</td>\n",
       "      <td>0.027465</td>\n",
       "      <td>1</td>\n",
       "      <td>0.985294</td>\n",
       "      <td>0.982405</td>\n",
       "      <td>0.985337</td>\n",
       "      <td>0.982405</td>\n",
       "      <td>0.982405</td>\n",
       "      <td>0.983569</td>\n",
       "      <td>0.001426</td>\n",
       "    </tr>\n",
       "    <tr>\n",
       "      <th>6</th>\n",
       "      <td>0.002276</td>\n",
       "      <td>0.000250</td>\n",
       "      <td>0.000180</td>\n",
       "      <td>1.434400e-05</td>\n",
       "      <td>8</td>\n",
       "      <td>{'max_leaf_nodes': 8}</td>\n",
       "      <td>0.941860</td>\n",
       "      <td>0.964706</td>\n",
       "      <td>0.882353</td>\n",
       "      <td>0.917647</td>\n",
       "      <td>...</td>\n",
       "      <td>0.934254</td>\n",
       "      <td>0.031247</td>\n",
       "      <td>3</td>\n",
       "      <td>0.991176</td>\n",
       "      <td>0.985337</td>\n",
       "      <td>0.988270</td>\n",
       "      <td>0.988270</td>\n",
       "      <td>0.985337</td>\n",
       "      <td>0.987678</td>\n",
       "      <td>0.002186</td>\n",
       "    </tr>\n",
       "    <tr>\n",
       "      <th>7</th>\n",
       "      <td>0.002389</td>\n",
       "      <td>0.000086</td>\n",
       "      <td>0.000173</td>\n",
       "      <td>2.233513e-06</td>\n",
       "      <td>9</td>\n",
       "      <td>{'max_leaf_nodes': 9}</td>\n",
       "      <td>0.941860</td>\n",
       "      <td>0.964706</td>\n",
       "      <td>0.882353</td>\n",
       "      <td>0.905882</td>\n",
       "      <td>...</td>\n",
       "      <td>0.929549</td>\n",
       "      <td>0.030732</td>\n",
       "      <td>4</td>\n",
       "      <td>0.994118</td>\n",
       "      <td>0.988270</td>\n",
       "      <td>0.991202</td>\n",
       "      <td>0.991202</td>\n",
       "      <td>0.988270</td>\n",
       "      <td>0.990612</td>\n",
       "      <td>0.002189</td>\n",
       "    </tr>\n",
       "    <tr>\n",
       "      <th>8</th>\n",
       "      <td>0.002521</td>\n",
       "      <td>0.000180</td>\n",
       "      <td>0.000178</td>\n",
       "      <td>3.053248e-06</td>\n",
       "      <td>10</td>\n",
       "      <td>{'max_leaf_nodes': 10}</td>\n",
       "      <td>0.930233</td>\n",
       "      <td>0.952941</td>\n",
       "      <td>0.882353</td>\n",
       "      <td>0.905882</td>\n",
       "      <td>...</td>\n",
       "      <td>0.924870</td>\n",
       "      <td>0.027470</td>\n",
       "      <td>15</td>\n",
       "      <td>0.994118</td>\n",
       "      <td>0.988270</td>\n",
       "      <td>0.991202</td>\n",
       "      <td>0.994135</td>\n",
       "      <td>0.988270</td>\n",
       "      <td>0.991199</td>\n",
       "      <td>0.002619</td>\n",
       "    </tr>\n",
       "    <tr>\n",
       "      <th>9</th>\n",
       "      <td>0.002445</td>\n",
       "      <td>0.000141</td>\n",
       "      <td>0.000178</td>\n",
       "      <td>1.326602e-06</td>\n",
       "      <td>11</td>\n",
       "      <td>{'max_leaf_nodes': 11}</td>\n",
       "      <td>0.941860</td>\n",
       "      <td>0.952941</td>\n",
       "      <td>0.870588</td>\n",
       "      <td>0.905882</td>\n",
       "      <td>...</td>\n",
       "      <td>0.924843</td>\n",
       "      <td>0.032161</td>\n",
       "      <td>16</td>\n",
       "      <td>0.997059</td>\n",
       "      <td>0.994135</td>\n",
       "      <td>0.997067</td>\n",
       "      <td>0.994135</td>\n",
       "      <td>0.994135</td>\n",
       "      <td>0.995306</td>\n",
       "      <td>0.001435</td>\n",
       "    </tr>\n",
       "    <tr>\n",
       "      <th>10</th>\n",
       "      <td>0.002420</td>\n",
       "      <td>0.000122</td>\n",
       "      <td>0.000177</td>\n",
       "      <td>1.154301e-06</td>\n",
       "      <td>12</td>\n",
       "      <td>{'max_leaf_nodes': 12}</td>\n",
       "      <td>0.941860</td>\n",
       "      <td>0.952941</td>\n",
       "      <td>0.870588</td>\n",
       "      <td>0.917647</td>\n",
       "      <td>...</td>\n",
       "      <td>0.927196</td>\n",
       "      <td>0.031101</td>\n",
       "      <td>14</td>\n",
       "      <td>0.997059</td>\n",
       "      <td>0.997067</td>\n",
       "      <td>0.997067</td>\n",
       "      <td>1.000000</td>\n",
       "      <td>0.997067</td>\n",
       "      <td>0.997652</td>\n",
       "      <td>0.001174</td>\n",
       "    </tr>\n",
       "    <tr>\n",
       "      <th>11</th>\n",
       "      <td>0.002413</td>\n",
       "      <td>0.000132</td>\n",
       "      <td>0.000177</td>\n",
       "      <td>6.289914e-07</td>\n",
       "      <td>13</td>\n",
       "      <td>{'max_leaf_nodes': 13}</td>\n",
       "      <td>0.953488</td>\n",
       "      <td>0.952941</td>\n",
       "      <td>0.870588</td>\n",
       "      <td>0.917647</td>\n",
       "      <td>...</td>\n",
       "      <td>0.929521</td>\n",
       "      <td>0.032513</td>\n",
       "      <td>6</td>\n",
       "      <td>1.000000</td>\n",
       "      <td>0.997067</td>\n",
       "      <td>1.000000</td>\n",
       "      <td>1.000000</td>\n",
       "      <td>0.997067</td>\n",
       "      <td>0.998827</td>\n",
       "      <td>0.001437</td>\n",
       "    </tr>\n",
       "    <tr>\n",
       "      <th>12</th>\n",
       "      <td>0.002413</td>\n",
       "      <td>0.000135</td>\n",
       "      <td>0.000177</td>\n",
       "      <td>7.776979e-07</td>\n",
       "      <td>14</td>\n",
       "      <td>{'max_leaf_nodes': 14}</td>\n",
       "      <td>0.953488</td>\n",
       "      <td>0.941176</td>\n",
       "      <td>0.870588</td>\n",
       "      <td>0.917647</td>\n",
       "      <td>...</td>\n",
       "      <td>0.929521</td>\n",
       "      <td>0.033354</td>\n",
       "      <td>6</td>\n",
       "      <td>1.000000</td>\n",
       "      <td>1.000000</td>\n",
       "      <td>1.000000</td>\n",
       "      <td>1.000000</td>\n",
       "      <td>1.000000</td>\n",
       "      <td>1.000000</td>\n",
       "      <td>0.000000</td>\n",
       "    </tr>\n",
       "    <tr>\n",
       "      <th>13</th>\n",
       "      <td>0.002439</td>\n",
       "      <td>0.000138</td>\n",
       "      <td>0.000178</td>\n",
       "      <td>1.142421e-06</td>\n",
       "      <td>15</td>\n",
       "      <td>{'max_leaf_nodes': 15}</td>\n",
       "      <td>0.953488</td>\n",
       "      <td>0.941176</td>\n",
       "      <td>0.870588</td>\n",
       "      <td>0.917647</td>\n",
       "      <td>...</td>\n",
       "      <td>0.929521</td>\n",
       "      <td>0.033354</td>\n",
       "      <td>6</td>\n",
       "      <td>1.000000</td>\n",
       "      <td>1.000000</td>\n",
       "      <td>1.000000</td>\n",
       "      <td>1.000000</td>\n",
       "      <td>1.000000</td>\n",
       "      <td>1.000000</td>\n",
       "      <td>0.000000</td>\n",
       "    </tr>\n",
       "    <tr>\n",
       "      <th>14</th>\n",
       "      <td>0.002390</td>\n",
       "      <td>0.000126</td>\n",
       "      <td>0.000176</td>\n",
       "      <td>3.556834e-06</td>\n",
       "      <td>16</td>\n",
       "      <td>{'max_leaf_nodes': 16}</td>\n",
       "      <td>0.953488</td>\n",
       "      <td>0.941176</td>\n",
       "      <td>0.870588</td>\n",
       "      <td>0.917647</td>\n",
       "      <td>...</td>\n",
       "      <td>0.929521</td>\n",
       "      <td>0.033354</td>\n",
       "      <td>6</td>\n",
       "      <td>1.000000</td>\n",
       "      <td>1.000000</td>\n",
       "      <td>1.000000</td>\n",
       "      <td>1.000000</td>\n",
       "      <td>1.000000</td>\n",
       "      <td>1.000000</td>\n",
       "      <td>0.000000</td>\n",
       "    </tr>\n",
       "    <tr>\n",
       "      <th>15</th>\n",
       "      <td>0.002313</td>\n",
       "      <td>0.000141</td>\n",
       "      <td>0.000170</td>\n",
       "      <td>9.122432e-07</td>\n",
       "      <td>17</td>\n",
       "      <td>{'max_leaf_nodes': 17}</td>\n",
       "      <td>0.953488</td>\n",
       "      <td>0.941176</td>\n",
       "      <td>0.870588</td>\n",
       "      <td>0.917647</td>\n",
       "      <td>...</td>\n",
       "      <td>0.929521</td>\n",
       "      <td>0.033354</td>\n",
       "      <td>6</td>\n",
       "      <td>1.000000</td>\n",
       "      <td>1.000000</td>\n",
       "      <td>1.000000</td>\n",
       "      <td>1.000000</td>\n",
       "      <td>1.000000</td>\n",
       "      <td>1.000000</td>\n",
       "      <td>0.000000</td>\n",
       "    </tr>\n",
       "    <tr>\n",
       "      <th>16</th>\n",
       "      <td>0.002349</td>\n",
       "      <td>0.000104</td>\n",
       "      <td>0.000176</td>\n",
       "      <td>1.359228e-05</td>\n",
       "      <td>18</td>\n",
       "      <td>{'max_leaf_nodes': 18}</td>\n",
       "      <td>0.953488</td>\n",
       "      <td>0.941176</td>\n",
       "      <td>0.870588</td>\n",
       "      <td>0.917647</td>\n",
       "      <td>...</td>\n",
       "      <td>0.929521</td>\n",
       "      <td>0.033354</td>\n",
       "      <td>6</td>\n",
       "      <td>1.000000</td>\n",
       "      <td>1.000000</td>\n",
       "      <td>1.000000</td>\n",
       "      <td>1.000000</td>\n",
       "      <td>1.000000</td>\n",
       "      <td>1.000000</td>\n",
       "      <td>0.000000</td>\n",
       "    </tr>\n",
       "    <tr>\n",
       "      <th>17</th>\n",
       "      <td>0.002301</td>\n",
       "      <td>0.000136</td>\n",
       "      <td>0.000176</td>\n",
       "      <td>1.324973e-05</td>\n",
       "      <td>19</td>\n",
       "      <td>{'max_leaf_nodes': 19}</td>\n",
       "      <td>0.953488</td>\n",
       "      <td>0.941176</td>\n",
       "      <td>0.870588</td>\n",
       "      <td>0.917647</td>\n",
       "      <td>...</td>\n",
       "      <td>0.929521</td>\n",
       "      <td>0.033354</td>\n",
       "      <td>6</td>\n",
       "      <td>1.000000</td>\n",
       "      <td>1.000000</td>\n",
       "      <td>1.000000</td>\n",
       "      <td>1.000000</td>\n",
       "      <td>1.000000</td>\n",
       "      <td>1.000000</td>\n",
       "      <td>0.000000</td>\n",
       "    </tr>\n",
       "  </tbody>\n",
       "</table>\n",
       "<p>18 rows × 21 columns</p>\n",
       "</div>"
      ],
      "text/plain": [
       "    mean_fit_time  std_fit_time  mean_score_time  std_score_time  \\\n",
       "0        0.001596      0.000212         0.000189    2.215759e-05   \n",
       "1        0.001711      0.000092         0.000193    1.605363e-05   \n",
       "2        0.001975      0.000196         0.000191    1.163561e-05   \n",
       "3        0.002081      0.000075         0.000183    5.807634e-06   \n",
       "4        0.002220      0.000168         0.000210    3.480238e-05   \n",
       "5        0.002396      0.000449         0.000214    6.550507e-05   \n",
       "6        0.002276      0.000250         0.000180    1.434400e-05   \n",
       "7        0.002389      0.000086         0.000173    2.233513e-06   \n",
       "8        0.002521      0.000180         0.000178    3.053248e-06   \n",
       "9        0.002445      0.000141         0.000178    1.326602e-06   \n",
       "10       0.002420      0.000122         0.000177    1.154301e-06   \n",
       "11       0.002413      0.000132         0.000177    6.289914e-07   \n",
       "12       0.002413      0.000135         0.000177    7.776979e-07   \n",
       "13       0.002439      0.000138         0.000178    1.142421e-06   \n",
       "14       0.002390      0.000126         0.000176    3.556834e-06   \n",
       "15       0.002313      0.000141         0.000170    9.122432e-07   \n",
       "16       0.002349      0.000104         0.000176    1.359228e-05   \n",
       "17       0.002301      0.000136         0.000176    1.324973e-05   \n",
       "\n",
       "   param_max_leaf_nodes                  params  split0_test_score  \\\n",
       "0                     2   {'max_leaf_nodes': 2}           0.860465   \n",
       "1                     3   {'max_leaf_nodes': 3}           0.918605   \n",
       "2                     4   {'max_leaf_nodes': 4}           0.930233   \n",
       "3                     5   {'max_leaf_nodes': 5}           0.941860   \n",
       "4                     6   {'max_leaf_nodes': 6}           0.941860   \n",
       "5                     7   {'max_leaf_nodes': 7}           0.941860   \n",
       "6                     8   {'max_leaf_nodes': 8}           0.941860   \n",
       "7                     9   {'max_leaf_nodes': 9}           0.941860   \n",
       "8                    10  {'max_leaf_nodes': 10}           0.930233   \n",
       "9                    11  {'max_leaf_nodes': 11}           0.941860   \n",
       "10                   12  {'max_leaf_nodes': 12}           0.941860   \n",
       "11                   13  {'max_leaf_nodes': 13}           0.953488   \n",
       "12                   14  {'max_leaf_nodes': 14}           0.953488   \n",
       "13                   15  {'max_leaf_nodes': 15}           0.953488   \n",
       "14                   16  {'max_leaf_nodes': 16}           0.953488   \n",
       "15                   17  {'max_leaf_nodes': 17}           0.953488   \n",
       "16                   18  {'max_leaf_nodes': 18}           0.953488   \n",
       "17                   19  {'max_leaf_nodes': 19}           0.953488   \n",
       "\n",
       "    split1_test_score  split2_test_score  split3_test_score  ...  \\\n",
       "0            0.929412           0.882353           0.894118  ...   \n",
       "1            0.929412           0.870588           0.917647  ...   \n",
       "2            0.952941           0.882353           0.929412  ...   \n",
       "3            0.964706           0.905882           0.929412  ...   \n",
       "4            0.964706           0.905882           0.894118  ...   \n",
       "5            0.964706           0.894118           0.917647  ...   \n",
       "6            0.964706           0.882353           0.917647  ...   \n",
       "7            0.964706           0.882353           0.905882  ...   \n",
       "8            0.952941           0.882353           0.905882  ...   \n",
       "9            0.952941           0.870588           0.905882  ...   \n",
       "10           0.952941           0.870588           0.917647  ...   \n",
       "11           0.952941           0.870588           0.917647  ...   \n",
       "12           0.941176           0.870588           0.917647  ...   \n",
       "13           0.941176           0.870588           0.917647  ...   \n",
       "14           0.941176           0.870588           0.917647  ...   \n",
       "15           0.941176           0.870588           0.917647  ...   \n",
       "16           0.941176           0.870588           0.917647  ...   \n",
       "17           0.941176           0.870588           0.917647  ...   \n",
       "\n",
       "    mean_test_score  std_test_score  rank_test_score  split0_train_score  \\\n",
       "0          0.896799        0.024634               18            0.941176   \n",
       "1          0.917839        0.026830               17            0.961765   \n",
       "2          0.927223        0.024014               13            0.976471   \n",
       "3          0.936607        0.019151                1            0.982353   \n",
       "4          0.929549        0.025839                4            0.985294   \n",
       "5          0.936607        0.027465                1            0.985294   \n",
       "6          0.934254        0.031247                3            0.991176   \n",
       "7          0.929549        0.030732                4            0.994118   \n",
       "8          0.924870        0.027470               15            0.994118   \n",
       "9          0.924843        0.032161               16            0.997059   \n",
       "10         0.927196        0.031101               14            0.997059   \n",
       "11         0.929521        0.032513                6            1.000000   \n",
       "12         0.929521        0.033354                6            1.000000   \n",
       "13         0.929521        0.033354                6            1.000000   \n",
       "14         0.929521        0.033354                6            1.000000   \n",
       "15         0.929521        0.033354                6            1.000000   \n",
       "16         0.929521        0.033354                6            1.000000   \n",
       "17         0.929521        0.033354                6            1.000000   \n",
       "\n",
       "    split1_train_score  split2_train_score  split3_train_score  \\\n",
       "0             0.929619            0.938416            0.929619   \n",
       "1             0.929619            0.950147            0.944282   \n",
       "2             0.958944            0.970674            0.958944   \n",
       "3             0.970674            0.976540            0.970674   \n",
       "4             0.976540            0.982405            0.973607   \n",
       "5             0.982405            0.985337            0.982405   \n",
       "6             0.985337            0.988270            0.988270   \n",
       "7             0.988270            0.991202            0.991202   \n",
       "8             0.988270            0.991202            0.994135   \n",
       "9             0.994135            0.997067            0.994135   \n",
       "10            0.997067            0.997067            1.000000   \n",
       "11            0.997067            1.000000            1.000000   \n",
       "12            1.000000            1.000000            1.000000   \n",
       "13            1.000000            1.000000            1.000000   \n",
       "14            1.000000            1.000000            1.000000   \n",
       "15            1.000000            1.000000            1.000000   \n",
       "16            1.000000            1.000000            1.000000   \n",
       "17            1.000000            1.000000            1.000000   \n",
       "\n",
       "    split4_train_score  mean_train_score  std_train_score  \n",
       "0             0.929619          0.933690         0.005062  \n",
       "1             0.956012          0.948365         0.011039  \n",
       "2             0.961877          0.965382         0.007016  \n",
       "3             0.970674          0.974183         0.004674  \n",
       "4             0.976540          0.978877         0.004297  \n",
       "5             0.982405          0.983569         0.001426  \n",
       "6             0.985337          0.987678         0.002186  \n",
       "7             0.988270          0.990612         0.002189  \n",
       "8             0.988270          0.991199         0.002619  \n",
       "9             0.994135          0.995306         0.001435  \n",
       "10            0.997067          0.997652         0.001174  \n",
       "11            0.997067          0.998827         0.001437  \n",
       "12            1.000000          1.000000         0.000000  \n",
       "13            1.000000          1.000000         0.000000  \n",
       "14            1.000000          1.000000         0.000000  \n",
       "15            1.000000          1.000000         0.000000  \n",
       "16            1.000000          1.000000         0.000000  \n",
       "17            1.000000          1.000000         0.000000  \n",
       "\n",
       "[18 rows x 21 columns]"
      ]
     },
     "execution_count": 42,
     "metadata": {},
     "output_type": "execute_result"
    }
   ],
   "source": [
    "scores"
   ]
  },
  {
   "cell_type": "code",
   "execution_count": 45,
   "metadata": {
    "colab": {
     "base_uri": "https://localhost:8080/",
     "height": 297
    },
    "execution": {
     "iopub.execute_input": "2022-11-07T02:05:52.915260Z",
     "iopub.status.busy": "2022-11-07T02:05:52.915011Z",
     "iopub.status.idle": "2022-11-07T02:05:53.007242Z",
     "shell.execute_reply": "2022-11-07T02:05:53.006775Z",
     "shell.execute_reply.started": "2022-11-07T02:05:52.915245Z"
    },
    "executionInfo": {
     "elapsed": 419,
     "status": "ok",
     "timestamp": 1667213786422,
     "user": {
      "displayName": "Shaannoor Mann",
      "userId": "02520257695567980696"
     },
     "user_tz": 300
    },
    "id": "C7l-b7gQVmJQ",
    "outputId": "df8368c4-fe86-4bb0-bb10-aa65125c0a47",
    "tags": []
   },
   "outputs": [
    {
     "data": {
      "text/plain": [
       "<AxesSubplot:xlabel='param_max_leaf_nodes'>"
      ]
     },
     "execution_count": 45,
     "metadata": {},
     "output_type": "execute_result"
    },
    {
     "data": {
      "image/png": "[encoded data removed]",
      "text/plain": [
       "<Figure size 432x288 with 1 Axes>"
      ]
     },
     "metadata": {
      "needs_background": "light"
     },
     "output_type": "display_data"
    }
   ],
   "source": [
    "scores.plot(x='param_max_leaf_nodes', y='mean_train_score', yerr='std_train_score' , ax=plt.gca())\n",
    "scores.plot(x='param_max_leaf_nodes', y='mean_test_score', yerr='std_test_score' , ax=plt.gca())"
   ]
  },
  {
   "cell_type": "markdown",
   "metadata": {
    "id": "cI7W7-icU1h5"
   },
   "source": [
    "#### Tree visulaization"
   ]
  },
  {
   "cell_type": "code",
   "execution_count": 46,
   "metadata": {
    "colab": {
     "base_uri": "https://localhost:8080/",
     "height": 519
    },
    "execution": {
     "iopub.execute_input": "2022-11-07T02:06:33.577544Z",
     "iopub.status.busy": "2022-11-07T02:06:33.577062Z",
     "iopub.status.idle": "2022-11-07T02:06:33.605046Z",
     "shell.execute_reply": "2022-11-07T02:06:33.604642Z",
     "shell.execute_reply.started": "2022-11-07T02:06:33.577529Z"
    },
    "executionInfo": {
     "elapsed": 150,
     "status": "ok",
     "timestamp": 1667213788875,
     "user": {
      "displayName": "Shaannoor Mann",
      "userId": "02520257695567980696"
     },
     "user_tz": 300
    },
    "id": "-41zyIkKUBLf",
    "outputId": "827b056f-0647-45ea-a6ef-d39aed21243c"
   },
   "outputs": [
    {
     "data": {
      "image/svg+xml": [
       "<?xml version=\"1.0\" encoding=\"UTF-8\" standalone=\"no\"?>\n",
       "<!DOCTYPE svg PUBLIC \"-//W3C//DTD SVG 1.1//EN\"\n",
       " \"http://www.w3.org/Graphics/SVG/1.1/DTD/svg11.dtd\">\n",
       "<!-- Generated by graphviz version 3.0.0 (20220315.2325)\n",
       " -->\n",
       "<!-- Title: Tree Pages: 1 -->\n",
       "<svg width=\"673pt\" height=\"373pt\"\n",
       " viewBox=\"0.00 0.00 673.00 373.00\" xmlns=\"http://www.w3.org/2000/svg\" xmlns:xlink=\"http://www.w3.org/1999/xlink\">\n",
       "<g id=\"graph0\" class=\"graph\" transform=\"scale(1 1) rotate(0) translate(4 369)\">\n",
       "<title>Tree</title>\n",
       "<polygon fill=\"white\" stroke=\"transparent\" points=\"-4,4 -4,-369 669,-369 669,4 -4,4\"/>\n",
       "<!-- 0 -->\n",
       "<g id=\"node1\" class=\"node\">\n",
       "<title>0</title>\n",
       "<polygon fill=\"#afd7f4\" stroke=\"black\" points=\"417,-365 216,-365 216,-297 417,-297 417,-365\"/>\n",
       "<text text-anchor=\"middle\" x=\"316.5\" y=\"-349.8\" font-family=\"Helvetica,sans-Serif\" font-size=\"14.00\">worst perimeter &lt;= 106.1</text>\n",
       "<text text-anchor=\"middle\" x=\"316.5\" y=\"-334.8\" font-family=\"Helvetica,sans-Serif\" font-size=\"14.00\">gini = 0.468</text>\n",
       "<text text-anchor=\"middle\" x=\"316.5\" y=\"-319.8\" font-family=\"Helvetica,sans-Serif\" font-size=\"14.00\">samples = 426</text>\n",
       "<text text-anchor=\"middle\" x=\"316.5\" y=\"-304.8\" font-family=\"Helvetica,sans-Serif\" font-size=\"14.00\">value = [159, 267]</text>\n",
       "</g>\n",
       "<!-- 1 -->\n",
       "<g id=\"node2\" class=\"node\">\n",
       "<title>1</title>\n",
       "<polygon fill=\"#42a1e6\" stroke=\"black\" points=\"308,-261 71,-261 71,-193 308,-193 308,-261\"/>\n",
       "<text text-anchor=\"middle\" x=\"189.5\" y=\"-245.8\" font-family=\"Helvetica,sans-Serif\" font-size=\"14.00\">worst concave points &lt;= 0.134</text>\n",
       "<text text-anchor=\"middle\" x=\"189.5\" y=\"-230.8\" font-family=\"Helvetica,sans-Serif\" font-size=\"14.00\">gini = 0.081</text>\n",
       "<text text-anchor=\"middle\" x=\"189.5\" y=\"-215.8\" font-family=\"Helvetica,sans-Serif\" font-size=\"14.00\">samples = 259</text>\n",
       "<text text-anchor=\"middle\" x=\"189.5\" y=\"-200.8\" font-family=\"Helvetica,sans-Serif\" font-size=\"14.00\">value = [11, 248]</text>\n",
       "</g>\n",
       "<!-- 0&#45;&gt;1 -->\n",
       "<g id=\"edge1\" class=\"edge\">\n",
       "<title>0&#45;&gt;1</title>\n",
       "<path fill=\"none\" stroke=\"black\" d=\"M275.27,-296.88C263.62,-287.53 250.83,-277.26 238.77,-267.57\"/>\n",
       "<polygon fill=\"black\" stroke=\"black\" points=\"240.95,-264.83 230.96,-261.3 236.57,-270.29 240.95,-264.83\"/>\n",
       "<text text-anchor=\"middle\" x=\"233.67\" y=\"-282.45\" font-family=\"Helvetica,sans-Serif\" font-size=\"14.00\">True</text>\n",
       "</g>\n",
       "<!-- 2 -->\n",
       "<g id=\"node5\" class=\"node\">\n",
       "<title>2</title>\n",
       "<polygon fill=\"#e89152\" stroke=\"black\" points=\"563,-261 326,-261 326,-193 563,-193 563,-261\"/>\n",
       "<text text-anchor=\"middle\" x=\"444.5\" y=\"-245.8\" font-family=\"Helvetica,sans-Serif\" font-size=\"14.00\">worst concave points &lt;= 0.142</text>\n",
       "<text text-anchor=\"middle\" x=\"444.5\" y=\"-230.8\" font-family=\"Helvetica,sans-Serif\" font-size=\"14.00\">gini = 0.202</text>\n",
       "<text text-anchor=\"middle\" x=\"444.5\" y=\"-215.8\" font-family=\"Helvetica,sans-Serif\" font-size=\"14.00\">samples = 167</text>\n",
       "<text text-anchor=\"middle\" x=\"444.5\" y=\"-200.8\" font-family=\"Helvetica,sans-Serif\" font-size=\"14.00\">value = [148, 19]</text>\n",
       "</g>\n",
       "<!-- 0&#45;&gt;2 -->\n",
       "<g id=\"edge4\" class=\"edge\">\n",
       "<title>0&#45;&gt;2</title>\n",
       "<path fill=\"none\" stroke=\"black\" d=\"M358.06,-296.88C369.79,-287.53 382.68,-277.26 394.85,-267.57\"/>\n",
       "<polygon fill=\"black\" stroke=\"black\" points=\"397.07,-270.27 402.71,-261.3 392.71,-264.79 397.07,-270.27\"/>\n",
       "<text text-anchor=\"middle\" x=\"399.9\" y=\"-282.44\" font-family=\"Helvetica,sans-Serif\" font-size=\"14.00\">False</text>\n",
       "</g>\n",
       "<!-- 5 -->\n",
       "<g id=\"node3\" class=\"node\">\n",
       "<title>5</title>\n",
       "<polygon fill=\"#3a9de5\" stroke=\"black\" points=\"131,-149.5 0,-149.5 0,-96.5 131,-96.5 131,-149.5\"/>\n",
       "<text text-anchor=\"middle\" x=\"65.5\" y=\"-134.3\" font-family=\"Helvetica,sans-Serif\" font-size=\"14.00\">gini = 0.008</text>\n",
       "<text text-anchor=\"middle\" x=\"65.5\" y=\"-119.3\" font-family=\"Helvetica,sans-Serif\" font-size=\"14.00\">samples = 240</text>\n",
       "<text text-anchor=\"middle\" x=\"65.5\" y=\"-104.3\" font-family=\"Helvetica,sans-Serif\" font-size=\"14.00\">value = [1, 239]</text>\n",
       "</g>\n",
       "<!-- 1&#45;&gt;5 -->\n",
       "<g id=\"edge2\" class=\"edge\">\n",
       "<title>1&#45;&gt;5</title>\n",
       "<path fill=\"none\" stroke=\"black\" d=\"M149.24,-192.88C134.8,-181.01 118.56,-167.65 104.25,-155.88\"/>\n",
       "<polygon fill=\"black\" stroke=\"black\" points=\"106.47,-153.17 96.52,-149.52 102.02,-158.58 106.47,-153.17\"/>\n",
       "</g>\n",
       "<!-- 6 -->\n",
       "<g id=\"node4\" class=\"node\">\n",
       "<title>6</title>\n",
       "<polygon fill=\"#fcf2eb\" stroke=\"black\" points=\"271.5,-149.5 149.5,-149.5 149.5,-96.5 271.5,-96.5 271.5,-149.5\"/>\n",
       "<text text-anchor=\"middle\" x=\"210.5\" y=\"-134.3\" font-family=\"Helvetica,sans-Serif\" font-size=\"14.00\">gini = 0.499</text>\n",
       "<text text-anchor=\"middle\" x=\"210.5\" y=\"-119.3\" font-family=\"Helvetica,sans-Serif\" font-size=\"14.00\">samples = 19</text>\n",
       "<text text-anchor=\"middle\" x=\"210.5\" y=\"-104.3\" font-family=\"Helvetica,sans-Serif\" font-size=\"14.00\">value = [10, 9]</text>\n",
       "</g>\n",
       "<!-- 1&#45;&gt;6 -->\n",
       "<g id=\"edge3\" class=\"edge\">\n",
       "<title>1&#45;&gt;6</title>\n",
       "<path fill=\"none\" stroke=\"black\" d=\"M196.32,-192.88C198.51,-182.22 200.96,-170.35 203.19,-159.52\"/>\n",
       "<polygon fill=\"black\" stroke=\"black\" points=\"206.66,-160.02 205.25,-149.52 199.8,-158.61 206.66,-160.02\"/>\n",
       "</g>\n",
       "<!-- 3 -->\n",
       "<g id=\"node6\" class=\"node\">\n",
       "<title>3</title>\n",
       "<polygon fill=\"#fbece1\" stroke=\"black\" points=\"516,-157 331,-157 331,-89 516,-89 516,-157\"/>\n",
       "<text text-anchor=\"middle\" x=\"423.5\" y=\"-141.8\" font-family=\"Helvetica,sans-Serif\" font-size=\"14.00\">worst radius &lt;= 17.615</text>\n",
       "<text text-anchor=\"middle\" x=\"423.5\" y=\"-126.8\" font-family=\"Helvetica,sans-Serif\" font-size=\"14.00\">gini = 0.497</text>\n",
       "<text text-anchor=\"middle\" x=\"423.5\" y=\"-111.8\" font-family=\"Helvetica,sans-Serif\" font-size=\"14.00\">samples = 37</text>\n",
       "<text text-anchor=\"middle\" x=\"423.5\" y=\"-96.8\" font-family=\"Helvetica,sans-Serif\" font-size=\"14.00\">value = [20, 17]</text>\n",
       "</g>\n",
       "<!-- 2&#45;&gt;3 -->\n",
       "<g id=\"edge5\" class=\"edge\">\n",
       "<title>2&#45;&gt;3</title>\n",
       "<path fill=\"none\" stroke=\"black\" d=\"M437.68,-192.88C435.99,-184.69 434.16,-175.79 432.39,-167.19\"/>\n",
       "<polygon fill=\"black\" stroke=\"black\" points=\"435.8,-166.39 430.36,-157.3 428.94,-167.8 435.8,-166.39\"/>\n",
       "</g>\n",
       "<!-- 4 -->\n",
       "<g id=\"node9\" class=\"node\">\n",
       "<title>4</title>\n",
       "<polygon fill=\"#e5833c\" stroke=\"black\" points=\"665,-149.5 534,-149.5 534,-96.5 665,-96.5 665,-149.5\"/>\n",
       "<text text-anchor=\"middle\" x=\"599.5\" y=\"-134.3\" font-family=\"Helvetica,sans-Serif\" font-size=\"14.00\">gini = 0.03</text>\n",
       "<text text-anchor=\"middle\" x=\"599.5\" y=\"-119.3\" font-family=\"Helvetica,sans-Serif\" font-size=\"14.00\">samples = 130</text>\n",
       "<text text-anchor=\"middle\" x=\"599.5\" y=\"-104.3\" font-family=\"Helvetica,sans-Serif\" font-size=\"14.00\">value = [128, 2]</text>\n",
       "</g>\n",
       "<!-- 2&#45;&gt;4 -->\n",
       "<g id=\"edge8\" class=\"edge\">\n",
       "<title>2&#45;&gt;4</title>\n",
       "<path fill=\"none\" stroke=\"black\" d=\"M494.82,-192.88C513.21,-180.79 533.93,-167.15 552.05,-155.22\"/>\n",
       "<polygon fill=\"black\" stroke=\"black\" points=\"554.29,-157.94 560.72,-149.52 550.44,-152.09 554.29,-157.94\"/>\n",
       "</g>\n",
       "<!-- 7 -->\n",
       "<g id=\"node7\" class=\"node\">\n",
       "<title>7</title>\n",
       "<polygon fill=\"#7bbeee\" stroke=\"black\" points=\"414.5,-53 292.5,-53 292.5,0 414.5,0 414.5,-53\"/>\n",
       "<text text-anchor=\"middle\" x=\"353.5\" y=\"-37.8\" font-family=\"Helvetica,sans-Serif\" font-size=\"14.00\">gini = 0.375</text>\n",
       "<text text-anchor=\"middle\" x=\"353.5\" y=\"-22.8\" font-family=\"Helvetica,sans-Serif\" font-size=\"14.00\">samples = 20</text>\n",
       "<text text-anchor=\"middle\" x=\"353.5\" y=\"-7.8\" font-family=\"Helvetica,sans-Serif\" font-size=\"14.00\">value = [5, 15]</text>\n",
       "</g>\n",
       "<!-- 3&#45;&gt;7 -->\n",
       "<g id=\"edge6\" class=\"edge\">\n",
       "<title>3&#45;&gt;7</title>\n",
       "<path fill=\"none\" stroke=\"black\" d=\"M399.02,-88.95C392.44,-80.07 385.33,-70.46 378.71,-61.54\"/>\n",
       "<polygon fill=\"black\" stroke=\"black\" points=\"381.33,-59.19 372.56,-53.24 375.7,-63.36 381.33,-59.19\"/>\n",
       "</g>\n",
       "<!-- 8 -->\n",
       "<g id=\"node8\" class=\"node\">\n",
       "<title>8</title>\n",
       "<polygon fill=\"#e89253\" stroke=\"black\" points=\"554.5,-53 432.5,-53 432.5,0 554.5,0 554.5,-53\"/>\n",
       "<text text-anchor=\"middle\" x=\"493.5\" y=\"-37.8\" font-family=\"Helvetica,sans-Serif\" font-size=\"14.00\">gini = 0.208</text>\n",
       "<text text-anchor=\"middle\" x=\"493.5\" y=\"-22.8\" font-family=\"Helvetica,sans-Serif\" font-size=\"14.00\">samples = 17</text>\n",
       "<text text-anchor=\"middle\" x=\"493.5\" y=\"-7.8\" font-family=\"Helvetica,sans-Serif\" font-size=\"14.00\">value = [15, 2]</text>\n",
       "</g>\n",
       "<!-- 3&#45;&gt;8 -->\n",
       "<g id=\"edge7\" class=\"edge\">\n",
       "<title>3&#45;&gt;8</title>\n",
       "<path fill=\"none\" stroke=\"black\" d=\"M447.98,-88.95C454.56,-80.07 461.67,-70.46 468.29,-61.54\"/>\n",
       "<polygon fill=\"black\" stroke=\"black\" points=\"471.3,-63.36 474.44,-53.24 465.67,-59.19 471.3,-63.36\"/>\n",
       "</g>\n",
       "</g>\n",
       "</svg>\n"
      ],
      "text/plain": [
       "<graphviz.sources.Source at 0x7fa12fee08b0>"
      ]
     },
     "execution_count": 46,
     "metadata": {},
     "output_type": "execute_result"
    }
   ],
   "source": [
    "# we will now plot the best estimator\n",
    "tree_dot = export_graphviz(grid_tree.best_estimator_, out_file=None, feature_names=cancer.feature_names, filled=True)\n",
    "graph = graphviz.Source(tree_dot, format=\"png\")\n",
    "graph"
   ]
  },
  {
   "cell_type": "markdown",
   "metadata": {
    "id": "Xp4SB3-_8gyO"
   },
   "source": [
    "### max_depth"
   ]
  },
  {
   "cell_type": "code",
   "execution_count": 47,
   "metadata": {
    "ExecuteTime": {
     "end_time": "2020-03-08T20:13:55.201765Z",
     "start_time": "2020-03-08T20:13:51.764935Z"
    },
    "colab": {
     "base_uri": "https://localhost:8080/"
    },
    "execution": {
     "iopub.execute_input": "2022-11-07T02:06:41.018690Z",
     "iopub.status.busy": "2022-11-07T02:06:41.018451Z",
     "iopub.status.idle": "2022-11-07T02:06:41.303452Z",
     "shell.execute_reply": "2022-11-07T02:06:41.302991Z",
     "shell.execute_reply.started": "2022-11-07T02:06:41.018674Z"
    },
    "executionInfo": {
     "elapsed": 786,
     "status": "ok",
     "timestamp": 1667213794386,
     "user": {
      "displayName": "Shaannoor Mann",
      "userId": "02520257695567980696"
     },
     "user_tz": 300
    },
    "id": "wODj7zde8gyP",
    "outputId": "e69fd216-3978-44ba-c538-0ce027826eba"
   },
   "outputs": [
    {
     "name": "stdout",
     "output_type": "stream",
     "text": [
      "{'max_depth': 5}\n",
      "Best Mean Cross Validation Score is 0.927250341997264\n",
      "Accuracy on training set: 1.000\n",
      "Accuracy on test set: 0.930\n"
     ]
    }
   ],
   "source": [
    "from sklearn.model_selection import GridSearchCV\n",
    "opt_tree = DecisionTreeClassifier(random_state = 123)\n",
    "param_DT = {\"max_depth\": range(1,20)}\n",
    "\n",
    "grid_tree = GridSearchCV(opt_tree,param_DT,cv=5, return_train_score=True)\n",
    "grid_tree.fit(X_train,y_train)\n",
    "print(grid_tree.best_params_)\n",
    "print(f'Best Mean Cross Validation Score is {grid_tree.best_score_}')\n",
    "print(\"Accuracy on training set: {:.3f}\".format(grid_tree.score(X_train, y_train)))\n",
    "print(\"Accuracy on test set: {:.3f}\".format(grid_tree.score(X_test, y_test)))"
   ]
  },
  {
   "cell_type": "code",
   "execution_count": 49,
   "metadata": {
    "colab": {
     "base_uri": "https://localhost:8080/",
     "height": 297
    },
    "execution": {
     "iopub.execute_input": "2022-11-07T02:06:45.597381Z",
     "iopub.status.busy": "2022-11-07T02:06:45.597117Z",
     "iopub.status.idle": "2022-11-07T02:06:45.689675Z",
     "shell.execute_reply": "2022-11-07T02:06:45.689290Z",
     "shell.execute_reply.started": "2022-11-07T02:06:45.597366Z"
    },
    "executionInfo": {
     "elapsed": 387,
     "status": "ok",
     "timestamp": 1667213796151,
     "user": {
      "displayName": "Shaannoor Mann",
      "userId": "02520257695567980696"
     },
     "user_tz": 300
    },
    "id": "Wt5MGDo58gyQ",
    "outputId": "0973d6d7-bf6e-43ee-d9eb-d79a70d2fa35",
    "tags": []
   },
   "outputs": [
    {
     "data": {
      "text/plain": [
       "<AxesSubplot:xlabel='param_max_depth'>"
      ]
     },
     "execution_count": 49,
     "metadata": {},
     "output_type": "execute_result"
    },
    {
     "data": {
      "image/png": "[encoded data removed]",
      "text/plain": [
       "<Figure size 432x288 with 1 Axes>"
      ]
     },
     "metadata": {
      "needs_background": "light"
     },
     "output_type": "display_data"
    }
   ],
   "source": [
    "scores = pd.DataFrame(grid_tree.cv_results_)\n",
    "scores.plot(x='param_max_depth', y='mean_train_score', yerr='std_train_score' , ax=plt.gca())\n",
    "scores.plot(x='param_max_depth', y='mean_test_score', yerr='std_test_score' , ax=plt.gca())\n"
   ]
  },
  {
   "cell_type": "markdown",
   "metadata": {
    "id": "zDNoNEen8gyQ"
   },
   "source": [
    "#### Tree visulaization"
   ]
  },
  {
   "cell_type": "code",
   "execution_count": 50,
   "metadata": {
    "colab": {
     "base_uri": "https://localhost:8080/",
     "height": 816
    },
    "execution": {
     "iopub.execute_input": "2022-11-07T02:06:50.126466Z",
     "iopub.status.busy": "2022-11-07T02:06:50.126244Z",
     "iopub.status.idle": "2022-11-07T02:06:50.157689Z",
     "shell.execute_reply": "2022-11-07T02:06:50.157133Z",
     "shell.execute_reply.started": "2022-11-07T02:06:50.126451Z"
    },
    "executionInfo": {
     "elapsed": 212,
     "status": "ok",
     "timestamp": 1667213802442,
     "user": {
      "displayName": "Shaannoor Mann",
      "userId": "02520257695567980696"
     },
     "user_tz": 300
    },
    "id": "jm3GJnVJ8gyQ",
    "outputId": "f34df74c-6926-44f7-e793-9aa857690160"
   },
   "outputs": [
    {
     "data": {
      "image/svg+xml": [
       "<?xml version=\"1.0\" encoding=\"UTF-8\" standalone=\"no\"?>\n",
       "<!DOCTYPE svg PUBLIC \"-//W3C//DTD SVG 1.1//EN\"\n",
       " \"http://www.w3.org/Graphics/SVG/1.1/DTD/svg11.dtd\">\n",
       "<!-- Generated by graphviz version 3.0.0 (20220315.2325)\n",
       " -->\n",
       "<!-- Title: Tree Pages: 1 -->\n",
       "<svg width=\"2082pt\" height=\"581pt\"\n",
       " viewBox=\"0.00 0.00 2082.00 581.00\" xmlns=\"http://www.w3.org/2000/svg\" xmlns:xlink=\"http://www.w3.org/1999/xlink\">\n",
       "<g id=\"graph0\" class=\"graph\" transform=\"scale(1 1) rotate(0) translate(4 577)\">\n",
       "<title>Tree</title>\n",
       "<polygon fill=\"white\" stroke=\"transparent\" points=\"-4,4 -4,-577 2078,-577 2078,4 -4,4\"/>\n",
       "<!-- 0 -->\n",
       "<g id=\"node1\" class=\"node\">\n",
       "<title>0</title>\n",
       "<polygon fill=\"#afd7f4\" stroke=\"black\" points=\"1007,-573 806,-573 806,-505 1007,-505 1007,-573\"/>\n",
       "<text text-anchor=\"middle\" x=\"906.5\" y=\"-557.8\" font-family=\"Helvetica,sans-Serif\" font-size=\"14.00\">worst perimeter &lt;= 106.1</text>\n",
       "<text text-anchor=\"middle\" x=\"906.5\" y=\"-542.8\" font-family=\"Helvetica,sans-Serif\" font-size=\"14.00\">gini = 0.468</text>\n",
       "<text text-anchor=\"middle\" x=\"906.5\" y=\"-527.8\" font-family=\"Helvetica,sans-Serif\" font-size=\"14.00\">samples = 426</text>\n",
       "<text text-anchor=\"middle\" x=\"906.5\" y=\"-512.8\" font-family=\"Helvetica,sans-Serif\" font-size=\"14.00\">value = [159, 267]</text>\n",
       "</g>\n",
       "<!-- 1 -->\n",
       "<g id=\"node2\" class=\"node\">\n",
       "<title>1</title>\n",
       "<polygon fill=\"#42a1e6\" stroke=\"black\" points=\"622,-469 385,-469 385,-401 622,-401 622,-469\"/>\n",
       "<text text-anchor=\"middle\" x=\"503.5\" y=\"-453.8\" font-family=\"Helvetica,sans-Serif\" font-size=\"14.00\">worst concave points &lt;= 0.134</text>\n",
       "<text text-anchor=\"middle\" x=\"503.5\" y=\"-438.8\" font-family=\"Helvetica,sans-Serif\" font-size=\"14.00\">gini = 0.081</text>\n",
       "<text text-anchor=\"middle\" x=\"503.5\" y=\"-423.8\" font-family=\"Helvetica,sans-Serif\" font-size=\"14.00\">samples = 259</text>\n",
       "<text text-anchor=\"middle\" x=\"503.5\" y=\"-408.8\" font-family=\"Helvetica,sans-Serif\" font-size=\"14.00\">value = [11, 248]</text>\n",
       "</g>\n",
       "<!-- 0&#45;&gt;1 -->\n",
       "<g id=\"edge1\" class=\"edge\">\n",
       "<title>0&#45;&gt;1</title>\n",
       "<path fill=\"none\" stroke=\"black\" d=\"M805.85,-512.52C753.28,-499.22 688.38,-482.79 632.2,-468.58\"/>\n",
       "<polygon fill=\"black\" stroke=\"black\" points=\"632.74,-465.1 622.18,-466.04 631.02,-471.89 632.74,-465.1\"/>\n",
       "<text text-anchor=\"middle\" x=\"634.98\" y=\"-483.81\" font-family=\"Helvetica,sans-Serif\" font-size=\"14.00\">True</text>\n",
       "</g>\n",
       "<!-- 14 -->\n",
       "<g id=\"node15\" class=\"node\">\n",
       "<title>14</title>\n",
       "<polygon fill=\"#e89152\" stroke=\"black\" points=\"1438,-469 1201,-469 1201,-401 1438,-401 1438,-469\"/>\n",
       "<text text-anchor=\"middle\" x=\"1319.5\" y=\"-453.8\" font-family=\"Helvetica,sans-Serif\" font-size=\"14.00\">worst concave points &lt;= 0.142</text>\n",
       "<text text-anchor=\"middle\" x=\"1319.5\" y=\"-438.8\" font-family=\"Helvetica,sans-Serif\" font-size=\"14.00\">gini = 0.202</text>\n",
       "<text text-anchor=\"middle\" x=\"1319.5\" y=\"-423.8\" font-family=\"Helvetica,sans-Serif\" font-size=\"14.00\">samples = 167</text>\n",
       "<text text-anchor=\"middle\" x=\"1319.5\" y=\"-408.8\" font-family=\"Helvetica,sans-Serif\" font-size=\"14.00\">value = [148, 19]</text>\n",
       "</g>\n",
       "<!-- 0&#45;&gt;14 -->\n",
       "<g id=\"edge14\" class=\"edge\">\n",
       "<title>0&#45;&gt;14</title>\n",
       "<path fill=\"none\" stroke=\"black\" d=\"M1007,-513.18C1062.42,-499.49 1131.8,-482.36 1191.11,-467.71\"/>\n",
       "<polygon fill=\"black\" stroke=\"black\" points=\"1192.04,-471.08 1200.91,-465.29 1190.36,-464.29 1192.04,-471.08\"/>\n",
       "<text text-anchor=\"middle\" x=\"1187.99\" y=\"-482.99\" font-family=\"Helvetica,sans-Serif\" font-size=\"14.00\">False</text>\n",
       "</g>\n",
       "<!-- 2 -->\n",
       "<g id=\"node3\" class=\"node\">\n",
       "<title>2</title>\n",
       "<polygon fill=\"#3a9de5\" stroke=\"black\" points=\"289,-365 122,-365 122,-297 289,-297 289,-365\"/>\n",
       "<text text-anchor=\"middle\" x=\"205.5\" y=\"-349.8\" font-family=\"Helvetica,sans-Serif\" font-size=\"14.00\">area error &lt;= 48.975</text>\n",
       "<text text-anchor=\"middle\" x=\"205.5\" y=\"-334.8\" font-family=\"Helvetica,sans-Serif\" font-size=\"14.00\">gini = 0.008</text>\n",
       "<text text-anchor=\"middle\" x=\"205.5\" y=\"-319.8\" font-family=\"Helvetica,sans-Serif\" font-size=\"14.00\">samples = 240</text>\n",
       "<text text-anchor=\"middle\" x=\"205.5\" y=\"-304.8\" font-family=\"Helvetica,sans-Serif\" font-size=\"14.00\">value = [1, 239]</text>\n",
       "</g>\n",
       "<!-- 1&#45;&gt;2 -->\n",
       "<g id=\"edge2\" class=\"edge\">\n",
       "<title>1&#45;&gt;2</title>\n",
       "<path fill=\"none\" stroke=\"black\" d=\"M406.75,-400.88C372.11,-389.03 333.15,-375.69 298.81,-363.94\"/>\n",
       "<polygon fill=\"black\" stroke=\"black\" points=\"299.84,-360.59 289.25,-360.67 297.58,-367.22 299.84,-360.59\"/>\n",
       "</g>\n",
       "<!-- 5 -->\n",
       "<g id=\"node6\" class=\"node\">\n",
       "<title>5</title>\n",
       "<polygon fill=\"#fcf2eb\" stroke=\"black\" points=\"590,-365 417,-365 417,-297 590,-297 590,-365\"/>\n",
       "<text text-anchor=\"middle\" x=\"503.5\" y=\"-349.8\" font-family=\"Helvetica,sans-Serif\" font-size=\"14.00\">worst texture &lt;= 26.0</text>\n",
       "<text text-anchor=\"middle\" x=\"503.5\" y=\"-334.8\" font-family=\"Helvetica,sans-Serif\" font-size=\"14.00\">gini = 0.499</text>\n",
       "<text text-anchor=\"middle\" x=\"503.5\" y=\"-319.8\" font-family=\"Helvetica,sans-Serif\" font-size=\"14.00\">samples = 19</text>\n",
       "<text text-anchor=\"middle\" x=\"503.5\" y=\"-304.8\" font-family=\"Helvetica,sans-Serif\" font-size=\"14.00\">value = [10, 9]</text>\n",
       "</g>\n",
       "<!-- 1&#45;&gt;5 -->\n",
       "<g id=\"edge5\" class=\"edge\">\n",
       "<title>1&#45;&gt;5</title>\n",
       "<path fill=\"none\" stroke=\"black\" d=\"M503.5,-400.88C503.5,-392.78 503.5,-383.98 503.5,-375.47\"/>\n",
       "<polygon fill=\"black\" stroke=\"black\" points=\"507,-375.3 503.5,-365.3 500,-375.3 507,-375.3\"/>\n",
       "</g>\n",
       "<!-- 3 -->\n",
       "<g id=\"node4\" class=\"node\">\n",
       "<title>3</title>\n",
       "<polygon fill=\"#399de5\" stroke=\"black\" points=\"131,-253.5 0,-253.5 0,-200.5 131,-200.5 131,-253.5\"/>\n",
       "<text text-anchor=\"middle\" x=\"65.5\" y=\"-238.3\" font-family=\"Helvetica,sans-Serif\" font-size=\"14.00\">gini = 0.0</text>\n",
       "<text text-anchor=\"middle\" x=\"65.5\" y=\"-223.3\" font-family=\"Helvetica,sans-Serif\" font-size=\"14.00\">samples = 239</text>\n",
       "<text text-anchor=\"middle\" x=\"65.5\" y=\"-208.3\" font-family=\"Helvetica,sans-Serif\" font-size=\"14.00\">value = [0, 239]</text>\n",
       "</g>\n",
       "<!-- 2&#45;&gt;3 -->\n",
       "<g id=\"edge3\" class=\"edge\">\n",
       "<title>2&#45;&gt;3</title>\n",
       "<path fill=\"none\" stroke=\"black\" d=\"M160.05,-296.88C143.59,-284.9 125.07,-271.4 108.8,-259.55\"/>\n",
       "<polygon fill=\"black\" stroke=\"black\" points=\"110.67,-256.58 100.53,-253.52 106.55,-262.24 110.67,-256.58\"/>\n",
       "</g>\n",
       "<!-- 4 -->\n",
       "<g id=\"node5\" class=\"node\">\n",
       "<title>4</title>\n",
       "<polygon fill=\"#e58139\" stroke=\"black\" points=\"262,-253.5 149,-253.5 149,-200.5 262,-200.5 262,-253.5\"/>\n",
       "<text text-anchor=\"middle\" x=\"205.5\" y=\"-238.3\" font-family=\"Helvetica,sans-Serif\" font-size=\"14.00\">gini = 0.0</text>\n",
       "<text text-anchor=\"middle\" x=\"205.5\" y=\"-223.3\" font-family=\"Helvetica,sans-Serif\" font-size=\"14.00\">samples = 1</text>\n",
       "<text text-anchor=\"middle\" x=\"205.5\" y=\"-208.3\" font-family=\"Helvetica,sans-Serif\" font-size=\"14.00\">value = [1, 0]</text>\n",
       "</g>\n",
       "<!-- 2&#45;&gt;4 -->\n",
       "<g id=\"edge4\" class=\"edge\">\n",
       "<title>2&#45;&gt;4</title>\n",
       "<path fill=\"none\" stroke=\"black\" d=\"M205.5,-296.88C205.5,-286.33 205.5,-274.6 205.5,-263.85\"/>\n",
       "<polygon fill=\"black\" stroke=\"black\" points=\"209,-263.52 205.5,-253.52 202,-263.52 209,-263.52\"/>\n",
       "</g>\n",
       "<!-- 6 -->\n",
       "<g id=\"node7\" class=\"node\">\n",
       "<title>6</title>\n",
       "<polygon fill=\"#52a9e8\" stroke=\"black\" points=\"498.5,-261 280.5,-261 280.5,-193 498.5,-193 498.5,-261\"/>\n",
       "<text text-anchor=\"middle\" x=\"389.5\" y=\"-245.8\" font-family=\"Helvetica,sans-Serif\" font-size=\"14.00\">mean smoothness &lt;= 0.123</text>\n",
       "<text text-anchor=\"middle\" x=\"389.5\" y=\"-230.8\" font-family=\"Helvetica,sans-Serif\" font-size=\"14.00\">gini = 0.198</text>\n",
       "<text text-anchor=\"middle\" x=\"389.5\" y=\"-215.8\" font-family=\"Helvetica,sans-Serif\" font-size=\"14.00\">samples = 9</text>\n",
       "<text text-anchor=\"middle\" x=\"389.5\" y=\"-200.8\" font-family=\"Helvetica,sans-Serif\" font-size=\"14.00\">value = [1, 8]</text>\n",
       "</g>\n",
       "<!-- 5&#45;&gt;6 -->\n",
       "<g id=\"edge6\" class=\"edge\">\n",
       "<title>5&#45;&gt;6</title>\n",
       "<path fill=\"none\" stroke=\"black\" d=\"M466.49,-296.88C456.23,-287.71 444.99,-277.65 434.34,-268.12\"/>\n",
       "<polygon fill=\"black\" stroke=\"black\" points=\"436.5,-265.36 426.72,-261.3 431.84,-270.58 436.5,-265.36\"/>\n",
       "</g>\n",
       "<!-- 9 -->\n",
       "<g id=\"node10\" class=\"node\">\n",
       "<title>9</title>\n",
       "<polygon fill=\"#e88f4f\" stroke=\"black\" points=\"712.5,-261 516.5,-261 516.5,-193 712.5,-193 712.5,-261\"/>\n",
       "<text text-anchor=\"middle\" x=\"614.5\" y=\"-245.8\" font-family=\"Helvetica,sans-Serif\" font-size=\"14.00\">perimeter error &lt;= 1.616</text>\n",
       "<text text-anchor=\"middle\" x=\"614.5\" y=\"-230.8\" font-family=\"Helvetica,sans-Serif\" font-size=\"14.00\">gini = 0.18</text>\n",
       "<text text-anchor=\"middle\" x=\"614.5\" y=\"-215.8\" font-family=\"Helvetica,sans-Serif\" font-size=\"14.00\">samples = 10</text>\n",
       "<text text-anchor=\"middle\" x=\"614.5\" y=\"-200.8\" font-family=\"Helvetica,sans-Serif\" font-size=\"14.00\">value = [9, 1]</text>\n",
       "</g>\n",
       "<!-- 5&#45;&gt;9 -->\n",
       "<g id=\"edge9\" class=\"edge\">\n",
       "<title>5&#45;&gt;9</title>\n",
       "<path fill=\"none\" stroke=\"black\" d=\"M539.54,-296.88C549.52,-287.71 560.47,-277.65 570.84,-268.12\"/>\n",
       "<polygon fill=\"black\" stroke=\"black\" points=\"573.27,-270.64 578.26,-261.3 568.53,-265.49 573.27,-270.64\"/>\n",
       "</g>\n",
       "<!-- 7 -->\n",
       "<g id=\"node8\" class=\"node\">\n",
       "<title>7</title>\n",
       "<polygon fill=\"#399de5\" stroke=\"black\" points=\"315,-149.5 202,-149.5 202,-96.5 315,-96.5 315,-149.5\"/>\n",
       "<text text-anchor=\"middle\" x=\"258.5\" y=\"-134.3\" font-family=\"Helvetica,sans-Serif\" font-size=\"14.00\">gini = 0.0</text>\n",
       "<text text-anchor=\"middle\" x=\"258.5\" y=\"-119.3\" font-family=\"Helvetica,sans-Serif\" font-size=\"14.00\">samples = 8</text>\n",
       "<text text-anchor=\"middle\" x=\"258.5\" y=\"-104.3\" font-family=\"Helvetica,sans-Serif\" font-size=\"14.00\">value = [0, 8]</text>\n",
       "</g>\n",
       "<!-- 6&#45;&gt;7 -->\n",
       "<g id=\"edge7\" class=\"edge\">\n",
       "<title>6&#45;&gt;7</title>\n",
       "<path fill=\"none\" stroke=\"black\" d=\"M346.97,-192.88C331.71,-181.01 314.56,-167.65 299.44,-155.88\"/>\n",
       "<polygon fill=\"black\" stroke=\"black\" points=\"301.32,-152.9 291.28,-149.52 297.02,-158.43 301.32,-152.9\"/>\n",
       "</g>\n",
       "<!-- 8 -->\n",
       "<g id=\"node9\" class=\"node\">\n",
       "<title>8</title>\n",
       "<polygon fill=\"#e58139\" stroke=\"black\" points=\"446,-149.5 333,-149.5 333,-96.5 446,-96.5 446,-149.5\"/>\n",
       "<text text-anchor=\"middle\" x=\"389.5\" y=\"-134.3\" font-family=\"Helvetica,sans-Serif\" font-size=\"14.00\">gini = 0.0</text>\n",
       "<text text-anchor=\"middle\" x=\"389.5\" y=\"-119.3\" font-family=\"Helvetica,sans-Serif\" font-size=\"14.00\">samples = 1</text>\n",
       "<text text-anchor=\"middle\" x=\"389.5\" y=\"-104.3\" font-family=\"Helvetica,sans-Serif\" font-size=\"14.00\">value = [1, 0]</text>\n",
       "</g>\n",
       "<!-- 6&#45;&gt;8 -->\n",
       "<g id=\"edge8\" class=\"edge\">\n",
       "<title>6&#45;&gt;8</title>\n",
       "<path fill=\"none\" stroke=\"black\" d=\"M389.5,-192.88C389.5,-182.33 389.5,-170.6 389.5,-159.85\"/>\n",
       "<polygon fill=\"black\" stroke=\"black\" points=\"393,-159.52 389.5,-149.52 386,-159.52 393,-159.52\"/>\n",
       "</g>\n",
       "<!-- 10 -->\n",
       "<g id=\"node11\" class=\"node\">\n",
       "<title>10</title>\n",
       "<polygon fill=\"#ffffff\" stroke=\"black\" points=\"718.5,-157 464.5,-157 464.5,-89 718.5,-89 718.5,-157\"/>\n",
       "<text text-anchor=\"middle\" x=\"591.5\" y=\"-141.8\" font-family=\"Helvetica,sans-Serif\" font-size=\"14.00\">worst fractal dimension &lt;= 0.087</text>\n",
       "<text text-anchor=\"middle\" x=\"591.5\" y=\"-126.8\" font-family=\"Helvetica,sans-Serif\" font-size=\"14.00\">gini = 0.5</text>\n",
       "<text text-anchor=\"middle\" x=\"591.5\" y=\"-111.8\" font-family=\"Helvetica,sans-Serif\" font-size=\"14.00\">samples = 2</text>\n",
       "<text text-anchor=\"middle\" x=\"591.5\" y=\"-96.8\" font-family=\"Helvetica,sans-Serif\" font-size=\"14.00\">value = [1, 1]</text>\n",
       "</g>\n",
       "<!-- 9&#45;&gt;10 -->\n",
       "<g id=\"edge10\" class=\"edge\">\n",
       "<title>9&#45;&gt;10</title>\n",
       "<path fill=\"none\" stroke=\"black\" d=\"M607.03,-192.88C605.18,-184.69 603.18,-175.79 601.24,-167.19\"/>\n",
       "<polygon fill=\"black\" stroke=\"black\" points=\"604.62,-166.28 599.01,-157.3 597.79,-167.82 604.62,-166.28\"/>\n",
       "</g>\n",
       "<!-- 13 -->\n",
       "<g id=\"node14\" class=\"node\">\n",
       "<title>13</title>\n",
       "<polygon fill=\"#e58139\" stroke=\"black\" points=\"850,-149.5 737,-149.5 737,-96.5 850,-96.5 850,-149.5\"/>\n",
       "<text text-anchor=\"middle\" x=\"793.5\" y=\"-134.3\" font-family=\"Helvetica,sans-Serif\" font-size=\"14.00\">gini = 0.0</text>\n",
       "<text text-anchor=\"middle\" x=\"793.5\" y=\"-119.3\" font-family=\"Helvetica,sans-Serif\" font-size=\"14.00\">samples = 8</text>\n",
       "<text text-anchor=\"middle\" x=\"793.5\" y=\"-104.3\" font-family=\"Helvetica,sans-Serif\" font-size=\"14.00\">value = [8, 0]</text>\n",
       "</g>\n",
       "<!-- 9&#45;&gt;13 -->\n",
       "<g id=\"edge13\" class=\"edge\">\n",
       "<title>9&#45;&gt;13</title>\n",
       "<path fill=\"none\" stroke=\"black\" d=\"M672.62,-192.88C694.23,-180.57 718.65,-166.65 739.84,-154.57\"/>\n",
       "<polygon fill=\"black\" stroke=\"black\" points=\"741.76,-157.51 748.72,-149.52 738.29,-151.43 741.76,-157.51\"/>\n",
       "</g>\n",
       "<!-- 11 -->\n",
       "<g id=\"node12\" class=\"node\">\n",
       "<title>11</title>\n",
       "<polygon fill=\"#399de5\" stroke=\"black\" points=\"573,-53 460,-53 460,0 573,0 573,-53\"/>\n",
       "<text text-anchor=\"middle\" x=\"516.5\" y=\"-37.8\" font-family=\"Helvetica,sans-Serif\" font-size=\"14.00\">gini = 0.0</text>\n",
       "<text text-anchor=\"middle\" x=\"516.5\" y=\"-22.8\" font-family=\"Helvetica,sans-Serif\" font-size=\"14.00\">samples = 1</text>\n",
       "<text text-anchor=\"middle\" x=\"516.5\" y=\"-7.8\" font-family=\"Helvetica,sans-Serif\" font-size=\"14.00\">value = [0, 1]</text>\n",
       "</g>\n",
       "<!-- 10&#45;&gt;11 -->\n",
       "<g id=\"edge11\" class=\"edge\">\n",
       "<title>10&#45;&gt;11</title>\n",
       "<path fill=\"none\" stroke=\"black\" d=\"M565.27,-88.95C558.15,-79.98 550.44,-70.27 543.3,-61.26\"/>\n",
       "<polygon fill=\"black\" stroke=\"black\" points=\"545.88,-58.89 536.93,-53.24 540.4,-63.25 545.88,-58.89\"/>\n",
       "</g>\n",
       "<!-- 12 -->\n",
       "<g id=\"node13\" class=\"node\">\n",
       "<title>12</title>\n",
       "<polygon fill=\"#e58139\" stroke=\"black\" points=\"704,-53 591,-53 591,0 704,0 704,-53\"/>\n",
       "<text text-anchor=\"middle\" x=\"647.5\" y=\"-37.8\" font-family=\"Helvetica,sans-Serif\" font-size=\"14.00\">gini = 0.0</text>\n",
       "<text text-anchor=\"middle\" x=\"647.5\" y=\"-22.8\" font-family=\"Helvetica,sans-Serif\" font-size=\"14.00\">samples = 1</text>\n",
       "<text text-anchor=\"middle\" x=\"647.5\" y=\"-7.8\" font-family=\"Helvetica,sans-Serif\" font-size=\"14.00\">value = [1, 0]</text>\n",
       "</g>\n",
       "<!-- 10&#45;&gt;12 -->\n",
       "<g id=\"edge12\" class=\"edge\">\n",
       "<title>10&#45;&gt;12</title>\n",
       "<path fill=\"none\" stroke=\"black\" d=\"M611.09,-88.95C616.24,-80.26 621.8,-70.86 627,-62.09\"/>\n",
       "<polygon fill=\"black\" stroke=\"black\" points=\"630.16,-63.62 632.25,-53.24 624.14,-60.06 630.16,-63.62\"/>\n",
       "</g>\n",
       "<!-- 15 -->\n",
       "<g id=\"node16\" class=\"node\">\n",
       "<title>15</title>\n",
       "<polygon fill=\"#fbece1\" stroke=\"black\" points=\"1401,-365 1238,-365 1238,-297 1401,-297 1401,-365\"/>\n",
       "<text text-anchor=\"middle\" x=\"1319.5\" y=\"-349.8\" font-family=\"Helvetica,sans-Serif\" font-size=\"14.00\">worst area &lt;= 952.9</text>\n",
       "<text text-anchor=\"middle\" x=\"1319.5\" y=\"-334.8\" font-family=\"Helvetica,sans-Serif\" font-size=\"14.00\">gini = 0.497</text>\n",
       "<text text-anchor=\"middle\" x=\"1319.5\" y=\"-319.8\" font-family=\"Helvetica,sans-Serif\" font-size=\"14.00\">samples = 37</text>\n",
       "<text text-anchor=\"middle\" x=\"1319.5\" y=\"-304.8\" font-family=\"Helvetica,sans-Serif\" font-size=\"14.00\">value = [20, 17]</text>\n",
       "</g>\n",
       "<!-- 14&#45;&gt;15 -->\n",
       "<g id=\"edge15\" class=\"edge\">\n",
       "<title>14&#45;&gt;15</title>\n",
       "<path fill=\"none\" stroke=\"black\" d=\"M1319.5,-400.88C1319.5,-392.78 1319.5,-383.98 1319.5,-375.47\"/>\n",
       "<polygon fill=\"black\" stroke=\"black\" points=\"1323,-375.3 1319.5,-365.3 1316,-375.3 1323,-375.3\"/>\n",
       "</g>\n",
       "<!-- 28 -->\n",
       "<g id=\"node29\" class=\"node\">\n",
       "<title>28</title>\n",
       "<polygon fill=\"#e5833c\" stroke=\"black\" points=\"1730,-365 1553,-365 1553,-297 1730,-297 1730,-365\"/>\n",
       "<text text-anchor=\"middle\" x=\"1641.5\" y=\"-349.8\" font-family=\"Helvetica,sans-Serif\" font-size=\"14.00\">texture error &lt;= 0.431</text>\n",
       "<text text-anchor=\"middle\" x=\"1641.5\" y=\"-334.8\" font-family=\"Helvetica,sans-Serif\" font-size=\"14.00\">gini = 0.03</text>\n",
       "<text text-anchor=\"middle\" x=\"1641.5\" y=\"-319.8\" font-family=\"Helvetica,sans-Serif\" font-size=\"14.00\">samples = 130</text>\n",
       "<text text-anchor=\"middle\" x=\"1641.5\" y=\"-304.8\" font-family=\"Helvetica,sans-Serif\" font-size=\"14.00\">value = [128, 2]</text>\n",
       "</g>\n",
       "<!-- 14&#45;&gt;28 -->\n",
       "<g id=\"edge28\" class=\"edge\">\n",
       "<title>14&#45;&gt;28</title>\n",
       "<path fill=\"none\" stroke=\"black\" d=\"M1424.04,-400.88C1462.23,-388.79 1505.26,-375.16 1542.9,-363.23\"/>\n",
       "<polygon fill=\"black\" stroke=\"black\" points=\"1544.38,-366.43 1552.86,-360.08 1542.27,-359.76 1544.38,-366.43\"/>\n",
       "</g>\n",
       "<!-- 16 -->\n",
       "<g id=\"node17\" class=\"node\">\n",
       "<title>16</title>\n",
       "<polygon fill=\"#7bbeee\" stroke=\"black\" points=\"1295.5,-261 1103.5,-261 1103.5,-193 1295.5,-193 1295.5,-261\"/>\n",
       "<text text-anchor=\"middle\" x=\"1199.5\" y=\"-245.8\" font-family=\"Helvetica,sans-Serif\" font-size=\"14.00\">mean texture &lt;= 20.795</text>\n",
       "<text text-anchor=\"middle\" x=\"1199.5\" y=\"-230.8\" font-family=\"Helvetica,sans-Serif\" font-size=\"14.00\">gini = 0.375</text>\n",
       "<text text-anchor=\"middle\" x=\"1199.5\" y=\"-215.8\" font-family=\"Helvetica,sans-Serif\" font-size=\"14.00\">samples = 20</text>\n",
       "<text text-anchor=\"middle\" x=\"1199.5\" y=\"-200.8\" font-family=\"Helvetica,sans-Serif\" font-size=\"14.00\">value = [5, 15]</text>\n",
       "</g>\n",
       "<!-- 15&#45;&gt;16 -->\n",
       "<g id=\"edge16\" class=\"edge\">\n",
       "<title>15&#45;&gt;16</title>\n",
       "<path fill=\"none\" stroke=\"black\" d=\"M1280.54,-296.88C1269.64,-287.62 1257.68,-277.45 1246.38,-267.85\"/>\n",
       "<polygon fill=\"black\" stroke=\"black\" points=\"1248.56,-265.11 1238.68,-261.3 1244.03,-270.44 1248.56,-265.11\"/>\n",
       "</g>\n",
       "<!-- 23 -->\n",
       "<g id=\"node24\" class=\"node\">\n",
       "<title>23</title>\n",
       "<polygon fill=\"#e89253\" stroke=\"black\" points=\"1542.5,-261 1338.5,-261 1338.5,-193 1542.5,-193 1542.5,-261\"/>\n",
       "<text text-anchor=\"middle\" x=\"1440.5\" y=\"-245.8\" font-family=\"Helvetica,sans-Serif\" font-size=\"14.00\">mean symmetry &lt;= 0.151</text>\n",
       "<text text-anchor=\"middle\" x=\"1440.5\" y=\"-230.8\" font-family=\"Helvetica,sans-Serif\" font-size=\"14.00\">gini = 0.208</text>\n",
       "<text text-anchor=\"middle\" x=\"1440.5\" y=\"-215.8\" font-family=\"Helvetica,sans-Serif\" font-size=\"14.00\">samples = 17</text>\n",
       "<text text-anchor=\"middle\" x=\"1440.5\" y=\"-200.8\" font-family=\"Helvetica,sans-Serif\" font-size=\"14.00\">value = [15, 2]</text>\n",
       "</g>\n",
       "<!-- 15&#45;&gt;23 -->\n",
       "<g id=\"edge23\" class=\"edge\">\n",
       "<title>15&#45;&gt;23</title>\n",
       "<path fill=\"none\" stroke=\"black\" d=\"M1358.79,-296.88C1369.77,-287.62 1381.83,-277.45 1393.23,-267.85\"/>\n",
       "<polygon fill=\"black\" stroke=\"black\" points=\"1395.61,-270.42 1401,-261.3 1391.1,-265.07 1395.61,-270.42\"/>\n",
       "</g>\n",
       "<!-- 17 -->\n",
       "<g id=\"node18\" class=\"node\">\n",
       "<title>17</title>\n",
       "<polygon fill=\"#48a5e7\" stroke=\"black\" points=\"1085,-157 868,-157 868,-89 1085,-89 1085,-157\"/>\n",
       "<text text-anchor=\"middle\" x=\"976.5\" y=\"-141.8\" font-family=\"Helvetica,sans-Serif\" font-size=\"14.00\">worst smoothness &lt;= 0.138</text>\n",
       "<text text-anchor=\"middle\" x=\"976.5\" y=\"-126.8\" font-family=\"Helvetica,sans-Serif\" font-size=\"14.00\">gini = 0.133</text>\n",
       "<text text-anchor=\"middle\" x=\"976.5\" y=\"-111.8\" font-family=\"Helvetica,sans-Serif\" font-size=\"14.00\">samples = 14</text>\n",
       "<text text-anchor=\"middle\" x=\"976.5\" y=\"-96.8\" font-family=\"Helvetica,sans-Serif\" font-size=\"14.00\">value = [1, 13]</text>\n",
       "</g>\n",
       "<!-- 16&#45;&gt;17 -->\n",
       "<g id=\"edge17\" class=\"edge\">\n",
       "<title>16&#45;&gt;17</title>\n",
       "<path fill=\"none\" stroke=\"black\" d=\"M1127.1,-192.88C1105.08,-182.81 1080.73,-171.67 1058.14,-161.34\"/>\n",
       "<polygon fill=\"black\" stroke=\"black\" points=\"1059.47,-158.1 1048.92,-157.12 1056.56,-164.47 1059.47,-158.1\"/>\n",
       "</g>\n",
       "<!-- 20 -->\n",
       "<g id=\"node21\" class=\"node\">\n",
       "<title>20</title>\n",
       "<polygon fill=\"#f2c09c\" stroke=\"black\" points=\"1295.5,-157 1103.5,-157 1103.5,-89 1295.5,-89 1295.5,-157\"/>\n",
       "<text text-anchor=\"middle\" x=\"1199.5\" y=\"-141.8\" font-family=\"Helvetica,sans-Serif\" font-size=\"14.00\">mean texture &lt;= 24.985</text>\n",
       "<text text-anchor=\"middle\" x=\"1199.5\" y=\"-126.8\" font-family=\"Helvetica,sans-Serif\" font-size=\"14.00\">gini = 0.444</text>\n",
       "<text text-anchor=\"middle\" x=\"1199.5\" y=\"-111.8\" font-family=\"Helvetica,sans-Serif\" font-size=\"14.00\">samples = 6</text>\n",
       "<text text-anchor=\"middle\" x=\"1199.5\" y=\"-96.8\" font-family=\"Helvetica,sans-Serif\" font-size=\"14.00\">value = [4, 2]</text>\n",
       "</g>\n",
       "<!-- 16&#45;&gt;20 -->\n",
       "<g id=\"edge20\" class=\"edge\">\n",
       "<title>16&#45;&gt;20</title>\n",
       "<path fill=\"none\" stroke=\"black\" d=\"M1199.5,-192.88C1199.5,-184.78 1199.5,-175.98 1199.5,-167.47\"/>\n",
       "<polygon fill=\"black\" stroke=\"black\" points=\"1203,-167.3 1199.5,-157.3 1196,-167.3 1203,-167.3\"/>\n",
       "</g>\n",
       "<!-- 18 -->\n",
       "<g id=\"node19\" class=\"node\">\n",
       "<title>18</title>\n",
       "<polygon fill=\"#399de5\" stroke=\"black\" points=\"915.5,-53 793.5,-53 793.5,0 915.5,0 915.5,-53\"/>\n",
       "<text text-anchor=\"middle\" x=\"854.5\" y=\"-37.8\" font-family=\"Helvetica,sans-Serif\" font-size=\"14.00\">gini = 0.0</text>\n",
       "<text text-anchor=\"middle\" x=\"854.5\" y=\"-22.8\" font-family=\"Helvetica,sans-Serif\" font-size=\"14.00\">samples = 13</text>\n",
       "<text text-anchor=\"middle\" x=\"854.5\" y=\"-7.8\" font-family=\"Helvetica,sans-Serif\" font-size=\"14.00\">value = [0, 13]</text>\n",
       "</g>\n",
       "<!-- 17&#45;&gt;18 -->\n",
       "<g id=\"edge18\" class=\"edge\">\n",
       "<title>17&#45;&gt;18</title>\n",
       "<path fill=\"none\" stroke=\"black\" d=\"M933.83,-88.95C921.55,-79.43 908.17,-69.07 895.96,-59.62\"/>\n",
       "<polygon fill=\"black\" stroke=\"black\" points=\"897.78,-56.59 887.73,-53.24 893.49,-62.13 897.78,-56.59\"/>\n",
       "</g>\n",
       "<!-- 19 -->\n",
       "<g id=\"node20\" class=\"node\">\n",
       "<title>19</title>\n",
       "<polygon fill=\"#e58139\" stroke=\"black\" points=\"1047,-53 934,-53 934,0 1047,0 1047,-53\"/>\n",
       "<text text-anchor=\"middle\" x=\"990.5\" y=\"-37.8\" font-family=\"Helvetica,sans-Serif\" font-size=\"14.00\">gini = 0.0</text>\n",
       "<text text-anchor=\"middle\" x=\"990.5\" y=\"-22.8\" font-family=\"Helvetica,sans-Serif\" font-size=\"14.00\">samples = 1</text>\n",
       "<text text-anchor=\"middle\" x=\"990.5\" y=\"-7.8\" font-family=\"Helvetica,sans-Serif\" font-size=\"14.00\">value = [1, 0]</text>\n",
       "</g>\n",
       "<!-- 17&#45;&gt;19 -->\n",
       "<g id=\"edge19\" class=\"edge\">\n",
       "<title>17&#45;&gt;19</title>\n",
       "<path fill=\"none\" stroke=\"black\" d=\"M981.4,-88.95C982.63,-80.62 983.96,-71.65 985.21,-63.2\"/>\n",
       "<polygon fill=\"black\" stroke=\"black\" points=\"988.68,-63.64 986.69,-53.24 981.76,-62.62 988.68,-63.64\"/>\n",
       "</g>\n",
       "<!-- 21 -->\n",
       "<g id=\"node22\" class=\"node\">\n",
       "<title>21</title>\n",
       "<polygon fill=\"#e58139\" stroke=\"black\" points=\"1192,-53 1079,-53 1079,0 1192,0 1192,-53\"/>\n",
       "<text text-anchor=\"middle\" x=\"1135.5\" y=\"-37.8\" font-family=\"Helvetica,sans-Serif\" font-size=\"14.00\">gini = 0.0</text>\n",
       "<text text-anchor=\"middle\" x=\"1135.5\" y=\"-22.8\" font-family=\"Helvetica,sans-Serif\" font-size=\"14.00\">samples = 4</text>\n",
       "<text text-anchor=\"middle\" x=\"1135.5\" y=\"-7.8\" font-family=\"Helvetica,sans-Serif\" font-size=\"14.00\">value = [4, 0]</text>\n",
       "</g>\n",
       "<!-- 20&#45;&gt;21 -->\n",
       "<g id=\"edge21\" class=\"edge\">\n",
       "<title>20&#45;&gt;21</title>\n",
       "<path fill=\"none\" stroke=\"black\" d=\"M1177.12,-88.95C1171.11,-80.07 1164.6,-70.46 1158.55,-61.54\"/>\n",
       "<polygon fill=\"black\" stroke=\"black\" points=\"1161.44,-59.55 1152.93,-53.24 1155.64,-63.48 1161.44,-59.55\"/>\n",
       "</g>\n",
       "<!-- 22 -->\n",
       "<g id=\"node23\" class=\"node\">\n",
       "<title>22</title>\n",
       "<polygon fill=\"#399de5\" stroke=\"black\" points=\"1323,-53 1210,-53 1210,0 1323,0 1323,-53\"/>\n",
       "<text text-anchor=\"middle\" x=\"1266.5\" y=\"-37.8\" font-family=\"Helvetica,sans-Serif\" font-size=\"14.00\">gini = 0.0</text>\n",
       "<text text-anchor=\"middle\" x=\"1266.5\" y=\"-22.8\" font-family=\"Helvetica,sans-Serif\" font-size=\"14.00\">samples = 2</text>\n",
       "<text text-anchor=\"middle\" x=\"1266.5\" y=\"-7.8\" font-family=\"Helvetica,sans-Serif\" font-size=\"14.00\">value = [0, 2]</text>\n",
       "</g>\n",
       "<!-- 20&#45;&gt;22 -->\n",
       "<g id=\"edge22\" class=\"edge\">\n",
       "<title>20&#45;&gt;22</title>\n",
       "<path fill=\"none\" stroke=\"black\" d=\"M1222.93,-88.95C1229.22,-80.07 1236.04,-70.46 1242.37,-61.54\"/>\n",
       "<polygon fill=\"black\" stroke=\"black\" points=\"1245.32,-63.42 1248.25,-53.24 1239.61,-59.37 1245.32,-63.42\"/>\n",
       "</g>\n",
       "<!-- 24 -->\n",
       "<g id=\"node25\" class=\"node\">\n",
       "<title>24</title>\n",
       "<polygon fill=\"#9ccef2\" stroke=\"black\" points=\"1567.5,-157 1313.5,-157 1313.5,-89 1567.5,-89 1567.5,-157\"/>\n",
       "<text text-anchor=\"middle\" x=\"1440.5\" y=\"-141.8\" font-family=\"Helvetica,sans-Serif\" font-size=\"14.00\">mean fractal dimension &lt;= 0.057</text>\n",
       "<text text-anchor=\"middle\" x=\"1440.5\" y=\"-126.8\" font-family=\"Helvetica,sans-Serif\" font-size=\"14.00\">gini = 0.444</text>\n",
       "<text text-anchor=\"middle\" x=\"1440.5\" y=\"-111.8\" font-family=\"Helvetica,sans-Serif\" font-size=\"14.00\">samples = 3</text>\n",
       "<text text-anchor=\"middle\" x=\"1440.5\" y=\"-96.8\" font-family=\"Helvetica,sans-Serif\" font-size=\"14.00\">value = [1, 2]</text>\n",
       "</g>\n",
       "<!-- 23&#45;&gt;24 -->\n",
       "<g id=\"edge24\" class=\"edge\">\n",
       "<title>23&#45;&gt;24</title>\n",
       "<path fill=\"none\" stroke=\"black\" d=\"M1440.5,-192.88C1440.5,-184.78 1440.5,-175.98 1440.5,-167.47\"/>\n",
       "<polygon fill=\"black\" stroke=\"black\" points=\"1444,-167.3 1440.5,-157.3 1437,-167.3 1444,-167.3\"/>\n",
       "</g>\n",
       "<!-- 27 -->\n",
       "<g id=\"node28\" class=\"node\">\n",
       "<title>27</title>\n",
       "<polygon fill=\"#e58139\" stroke=\"black\" points=\"1707.5,-149.5 1585.5,-149.5 1585.5,-96.5 1707.5,-96.5 1707.5,-149.5\"/>\n",
       "<text text-anchor=\"middle\" x=\"1646.5\" y=\"-134.3\" font-family=\"Helvetica,sans-Serif\" font-size=\"14.00\">gini = 0.0</text>\n",
       "<text text-anchor=\"middle\" x=\"1646.5\" y=\"-119.3\" font-family=\"Helvetica,sans-Serif\" font-size=\"14.00\">samples = 14</text>\n",
       "<text text-anchor=\"middle\" x=\"1646.5\" y=\"-104.3\" font-family=\"Helvetica,sans-Serif\" font-size=\"14.00\">value = [14, 0]</text>\n",
       "</g>\n",
       "<!-- 23&#45;&gt;27 -->\n",
       "<g id=\"edge27\" class=\"edge\">\n",
       "<title>23&#45;&gt;27</title>\n",
       "<path fill=\"none\" stroke=\"black\" d=\"M1507.38,-192.88C1532.59,-180.4 1561.11,-166.28 1585.73,-154.09\"/>\n",
       "<polygon fill=\"black\" stroke=\"black\" points=\"1587.55,-157.09 1594.96,-149.52 1584.45,-150.82 1587.55,-157.09\"/>\n",
       "</g>\n",
       "<!-- 25 -->\n",
       "<g id=\"node26\" class=\"node\">\n",
       "<title>25</title>\n",
       "<polygon fill=\"#399de5\" stroke=\"black\" points=\"1485,-53 1372,-53 1372,0 1485,0 1485,-53\"/>\n",
       "<text text-anchor=\"middle\" x=\"1428.5\" y=\"-37.8\" font-family=\"Helvetica,sans-Serif\" font-size=\"14.00\">gini = 0.0</text>\n",
       "<text text-anchor=\"middle\" x=\"1428.5\" y=\"-22.8\" font-family=\"Helvetica,sans-Serif\" font-size=\"14.00\">samples = 2</text>\n",
       "<text text-anchor=\"middle\" x=\"1428.5\" y=\"-7.8\" font-family=\"Helvetica,sans-Serif\" font-size=\"14.00\">value = [0, 2]</text>\n",
       "</g>\n",
       "<!-- 24&#45;&gt;25 -->\n",
       "<g id=\"edge25\" class=\"edge\">\n",
       "<title>24&#45;&gt;25</title>\n",
       "<path fill=\"none\" stroke=\"black\" d=\"M1436.3,-88.95C1435.25,-80.62 1434.11,-71.65 1433.03,-63.2\"/>\n",
       "<polygon fill=\"black\" stroke=\"black\" points=\"1436.5,-62.72 1431.77,-53.24 1429.56,-63.6 1436.5,-62.72\"/>\n",
       "</g>\n",
       "<!-- 26 -->\n",
       "<g id=\"node27\" class=\"node\">\n",
       "<title>26</title>\n",
       "<polygon fill=\"#e58139\" stroke=\"black\" points=\"1616,-53 1503,-53 1503,0 1616,0 1616,-53\"/>\n",
       "<text text-anchor=\"middle\" x=\"1559.5\" y=\"-37.8\" font-family=\"Helvetica,sans-Serif\" font-size=\"14.00\">gini = 0.0</text>\n",
       "<text text-anchor=\"middle\" x=\"1559.5\" y=\"-22.8\" font-family=\"Helvetica,sans-Serif\" font-size=\"14.00\">samples = 1</text>\n",
       "<text text-anchor=\"middle\" x=\"1559.5\" y=\"-7.8\" font-family=\"Helvetica,sans-Serif\" font-size=\"14.00\">value = [1, 0]</text>\n",
       "</g>\n",
       "<!-- 24&#45;&gt;26 -->\n",
       "<g id=\"edge26\" class=\"edge\">\n",
       "<title>24&#45;&gt;26</title>\n",
       "<path fill=\"none\" stroke=\"black\" d=\"M1482.12,-88.95C1494.1,-79.43 1507.15,-69.07 1519.06,-59.62\"/>\n",
       "<polygon fill=\"black\" stroke=\"black\" points=\"1521.44,-62.2 1527.09,-53.24 1517.08,-56.71 1521.44,-62.2\"/>\n",
       "</g>\n",
       "<!-- 29 -->\n",
       "<g id=\"node30\" class=\"node\">\n",
       "<title>29</title>\n",
       "<polygon fill=\"#399de5\" stroke=\"black\" points=\"1698,-253.5 1585,-253.5 1585,-200.5 1698,-200.5 1698,-253.5\"/>\n",
       "<text text-anchor=\"middle\" x=\"1641.5\" y=\"-238.3\" font-family=\"Helvetica,sans-Serif\" font-size=\"14.00\">gini = 0.0</text>\n",
       "<text text-anchor=\"middle\" x=\"1641.5\" y=\"-223.3\" font-family=\"Helvetica,sans-Serif\" font-size=\"14.00\">samples = 1</text>\n",
       "<text text-anchor=\"middle\" x=\"1641.5\" y=\"-208.3\" font-family=\"Helvetica,sans-Serif\" font-size=\"14.00\">value = [0, 1]</text>\n",
       "</g>\n",
       "<!-- 28&#45;&gt;29 -->\n",
       "<g id=\"edge29\" class=\"edge\">\n",
       "<title>28&#45;&gt;29</title>\n",
       "<path fill=\"none\" stroke=\"black\" d=\"M1641.5,-296.88C1641.5,-286.33 1641.5,-274.6 1641.5,-263.85\"/>\n",
       "<polygon fill=\"black\" stroke=\"black\" points=\"1645,-263.52 1641.5,-253.52 1638,-263.52 1645,-263.52\"/>\n",
       "</g>\n",
       "<!-- 30 -->\n",
       "<g id=\"node31\" class=\"node\">\n",
       "<title>30</title>\n",
       "<polygon fill=\"#e5823b\" stroke=\"black\" points=\"1911,-261 1740,-261 1740,-193 1911,-193 1911,-261\"/>\n",
       "<text text-anchor=\"middle\" x=\"1825.5\" y=\"-245.8\" font-family=\"Helvetica,sans-Serif\" font-size=\"14.00\">radius error &lt;= 0.241</text>\n",
       "<text text-anchor=\"middle\" x=\"1825.5\" y=\"-230.8\" font-family=\"Helvetica,sans-Serif\" font-size=\"14.00\">gini = 0.015</text>\n",
       "<text text-anchor=\"middle\" x=\"1825.5\" y=\"-215.8\" font-family=\"Helvetica,sans-Serif\" font-size=\"14.00\">samples = 129</text>\n",
       "<text text-anchor=\"middle\" x=\"1825.5\" y=\"-200.8\" font-family=\"Helvetica,sans-Serif\" font-size=\"14.00\">value = [128, 1]</text>\n",
       "</g>\n",
       "<!-- 28&#45;&gt;30 -->\n",
       "<g id=\"edge30\" class=\"edge\">\n",
       "<title>28&#45;&gt;30</title>\n",
       "<path fill=\"none\" stroke=\"black\" d=\"M1701.24,-296.88C1719,-287.04 1738.61,-276.17 1756.89,-266.03\"/>\n",
       "<polygon fill=\"black\" stroke=\"black\" points=\"1758.7,-269.03 1765.75,-261.12 1755.3,-262.91 1758.7,-269.03\"/>\n",
       "</g>\n",
       "<!-- 31 -->\n",
       "<g id=\"node32\" class=\"node\">\n",
       "<title>31</title>\n",
       "<polygon fill=\"#eeab7b\" stroke=\"black\" points=\"1925,-157 1726,-157 1726,-89 1925,-89 1925,-157\"/>\n",
       "<text text-anchor=\"middle\" x=\"1825.5\" y=\"-141.8\" font-family=\"Helvetica,sans-Serif\" font-size=\"14.00\">worst concavity &lt;= 0.359</text>\n",
       "<text text-anchor=\"middle\" x=\"1825.5\" y=\"-126.8\" font-family=\"Helvetica,sans-Serif\" font-size=\"14.00\">gini = 0.375</text>\n",
       "<text text-anchor=\"middle\" x=\"1825.5\" y=\"-111.8\" font-family=\"Helvetica,sans-Serif\" font-size=\"14.00\">samples = 4</text>\n",
       "<text text-anchor=\"middle\" x=\"1825.5\" y=\"-96.8\" font-family=\"Helvetica,sans-Serif\" font-size=\"14.00\">value = [3, 1]</text>\n",
       "</g>\n",
       "<!-- 30&#45;&gt;31 -->\n",
       "<g id=\"edge31\" class=\"edge\">\n",
       "<title>30&#45;&gt;31</title>\n",
       "<path fill=\"none\" stroke=\"black\" d=\"M1825.5,-192.88C1825.5,-184.78 1825.5,-175.98 1825.5,-167.47\"/>\n",
       "<polygon fill=\"black\" stroke=\"black\" points=\"1829,-167.3 1825.5,-157.3 1822,-167.3 1829,-167.3\"/>\n",
       "</g>\n",
       "<!-- 34 -->\n",
       "<g id=\"node35\" class=\"node\">\n",
       "<title>34</title>\n",
       "<polygon fill=\"#e58139\" stroke=\"black\" points=\"2074,-149.5 1943,-149.5 1943,-96.5 2074,-96.5 2074,-149.5\"/>\n",
       "<text text-anchor=\"middle\" x=\"2008.5\" y=\"-134.3\" font-family=\"Helvetica,sans-Serif\" font-size=\"14.00\">gini = 0.0</text>\n",
       "<text text-anchor=\"middle\" x=\"2008.5\" y=\"-119.3\" font-family=\"Helvetica,sans-Serif\" font-size=\"14.00\">samples = 125</text>\n",
       "<text text-anchor=\"middle\" x=\"2008.5\" y=\"-104.3\" font-family=\"Helvetica,sans-Serif\" font-size=\"14.00\">value = [125, 0]</text>\n",
       "</g>\n",
       "<!-- 30&#45;&gt;34 -->\n",
       "<g id=\"edge34\" class=\"edge\">\n",
       "<title>30&#45;&gt;34</title>\n",
       "<path fill=\"none\" stroke=\"black\" d=\"M1884.91,-192.88C1907.11,-180.51 1932.2,-166.53 1953.94,-154.41\"/>\n",
       "<polygon fill=\"black\" stroke=\"black\" points=\"1955.68,-157.45 1962.71,-149.52 1952.28,-151.33 1955.68,-157.45\"/>\n",
       "</g>\n",
       "<!-- 32 -->\n",
       "<g id=\"node33\" class=\"node\">\n",
       "<title>32</title>\n",
       "<polygon fill=\"#399de5\" stroke=\"black\" points=\"1763,-53 1650,-53 1650,0 1763,0 1763,-53\"/>\n",
       "<text text-anchor=\"middle\" x=\"1706.5\" y=\"-37.8\" font-family=\"Helvetica,sans-Serif\" font-size=\"14.00\">gini = 0.0</text>\n",
       "<text text-anchor=\"middle\" x=\"1706.5\" y=\"-22.8\" font-family=\"Helvetica,sans-Serif\" font-size=\"14.00\">samples = 1</text>\n",
       "<text text-anchor=\"middle\" x=\"1706.5\" y=\"-7.8\" font-family=\"Helvetica,sans-Serif\" font-size=\"14.00\">value = [0, 1]</text>\n",
       "</g>\n",
       "<!-- 31&#45;&gt;32 -->\n",
       "<g id=\"edge32\" class=\"edge\">\n",
       "<title>31&#45;&gt;32</title>\n",
       "<path fill=\"none\" stroke=\"black\" d=\"M1783.88,-88.95C1771.9,-79.43 1758.85,-69.07 1746.94,-59.62\"/>\n",
       "<polygon fill=\"black\" stroke=\"black\" points=\"1748.92,-56.71 1738.91,-53.24 1744.56,-62.2 1748.92,-56.71\"/>\n",
       "</g>\n",
       "<!-- 33 -->\n",
       "<g id=\"node34\" class=\"node\">\n",
       "<title>33</title>\n",
       "<polygon fill=\"#e58139\" stroke=\"black\" points=\"1894,-53 1781,-53 1781,0 1894,0 1894,-53\"/>\n",
       "<text text-anchor=\"middle\" x=\"1837.5\" y=\"-37.8\" font-family=\"Helvetica,sans-Serif\" font-size=\"14.00\">gini = 0.0</text>\n",
       "<text text-anchor=\"middle\" x=\"1837.5\" y=\"-22.8\" font-family=\"Helvetica,sans-Serif\" font-size=\"14.00\">samples = 3</text>\n",
       "<text text-anchor=\"middle\" x=\"1837.5\" y=\"-7.8\" font-family=\"Helvetica,sans-Serif\" font-size=\"14.00\">value = [3, 0]</text>\n",
       "</g>\n",
       "<!-- 31&#45;&gt;33 -->\n",
       "<g id=\"edge33\" class=\"edge\">\n",
       "<title>31&#45;&gt;33</title>\n",
       "<path fill=\"none\" stroke=\"black\" d=\"M1829.7,-88.95C1830.75,-80.62 1831.89,-71.65 1832.97,-63.2\"/>\n",
       "<polygon fill=\"black\" stroke=\"black\" points=\"1836.44,-63.6 1834.23,-53.24 1829.5,-62.72 1836.44,-63.6\"/>\n",
       "</g>\n",
       "</g>\n",
       "</svg>\n"
      ],
      "text/plain": [
       "<graphviz.sources.Source at 0x7fa12ff13ca0>"
      ]
     },
     "execution_count": 50,
     "metadata": {},
     "output_type": "execute_result"
    }
   ],
   "source": [
    "# we will now plot the best estimator\n",
    "tree_dot = export_graphviz(grid_tree.best_estimator_, out_file=None, feature_names=cancer.feature_names, filled=True)\n",
    "graph = graphviz.Source(tree_dot, format=\"png\")\n",
    "graph"
   ]
  },
  {
   "cell_type": "markdown",
   "metadata": {
    "id": "Hsqg0cOisDVq"
   },
   "source": [
    "### Cost-complexity pruning"
   ]
  },
  {
   "cell_type": "code",
   "execution_count": 51,
   "metadata": {
    "execution": {
     "iopub.execute_input": "2022-11-07T02:07:01.457525Z",
     "iopub.status.busy": "2022-11-07T02:07:01.457267Z",
     "iopub.status.idle": "2022-11-07T02:07:01.464167Z",
     "shell.execute_reply": "2022-11-07T02:07:01.463825Z",
     "shell.execute_reply.started": "2022-11-07T02:07:01.457509Z"
    },
    "executionInfo": {
     "elapsed": 215,
     "status": "ok",
     "timestamp": 1667213814279,
     "user": {
      "displayName": "Shaannoor Mann",
      "userId": "02520257695567980696"
     },
     "user_tz": 300
    },
    "id": "DpggMeOasDVr"
   },
   "outputs": [],
   "source": [
    "# cheating a bit to get a good grid:\n",
    "clf = DecisionTreeClassifier(random_state=0)\n",
    "path = clf.cost_complexity_pruning_path(X_train, y_train)\n",
    "ccp_alphas, impurities = path.ccp_alphas, path.impurities"
   ]
  },
  {
   "cell_type": "code",
   "execution_count": 52,
   "metadata": {
    "colab": {
     "base_uri": "https://localhost:8080/",
     "height": 295
    },
    "execution": {
     "iopub.execute_input": "2022-11-07T02:07:01.986318Z",
     "iopub.status.busy": "2022-11-07T02:07:01.986073Z",
     "iopub.status.idle": "2022-11-07T02:07:02.091728Z",
     "shell.execute_reply": "2022-11-07T02:07:02.091330Z",
     "shell.execute_reply.started": "2022-11-07T02:07:01.986303Z"
    },
    "executionInfo": {
     "elapsed": 469,
     "status": "ok",
     "timestamp": 1667213815934,
     "user": {
      "displayName": "Shaannoor Mann",
      "userId": "02520257695567980696"
     },
     "user_tz": 300
    },
    "id": "jGOXKWwxsDV0",
    "outputId": "bab88d2e-b3e4-4bb0-d15c-5da82d857d45"
   },
   "outputs": [
    {
     "data": {
      "image/png": "[encoded data removed]",
      "text/plain": [
       "<Figure size 432x288 with 1 Axes>"
      ]
     },
     "metadata": {
      "needs_background": "light"
     },
     "output_type": "display_data"
    }
   ],
   "source": [
    "fig, ax = plt.subplots()\n",
    "ax.plot(ccp_alphas[:-1], impurities[:-1], marker='o', drawstyle=\"steps-post\")\n",
    "ax.set_xlabel(\"alpha\")\n",
    "ax.set_ylabel(\"total impurity of leaves\")\n",
    "ax.set_title(\"Total impurity vs relevant alpha for training set\")\n",
    "plt.savefig(folder / \"images/pruning_alpha.png\")"
   ]
  },
  {
   "cell_type": "code",
   "execution_count": 53,
   "metadata": {
    "colab": {
     "base_uri": "https://localhost:8080/"
    },
    "execution": {
     "iopub.execute_input": "2022-11-07T02:07:12.703965Z",
     "iopub.status.busy": "2022-11-07T02:07:12.703718Z",
     "iopub.status.idle": "2022-11-07T02:07:13.027592Z",
     "shell.execute_reply": "2022-11-07T02:07:13.027094Z",
     "shell.execute_reply.started": "2022-11-07T02:07:12.703951Z"
    },
    "executionInfo": {
     "elapsed": 918,
     "status": "ok",
     "timestamp": 1667213820645,
     "user": {
      "displayName": "Shaannoor Mann",
      "userId": "02520257695567980696"
     },
     "user_tz": 300
    },
    "id": "0OTTO34RsDVt",
    "outputId": "f682aba1-b256-46ca-d573-d916ead3b839"
   },
   "outputs": [
    {
     "name": "stdout",
     "output_type": "stream",
     "text": [
      "{'ccp_alpha': 0.01263157894736842}\n",
      "Best Mean Cross Validation Score is 0.9389876880984952\n",
      "Accuracy on training set: 0.972\n",
      "Accuracy on test set: 0.923\n"
     ]
    }
   ],
   "source": [
    "from sklearn.model_selection import GridSearchCV\n",
    "\n",
    "param_grid = {'ccp_alpha': np.linspace(0., 0.03, 20)}\n",
    "grid = GridSearchCV(DecisionTreeClassifier(random_state=0), \n",
    "                    param_grid=param_grid,\n",
    "                    cv=5, \n",
    "                    return_train_score=True)\n",
    "grid.fit(X_train, y_train)\n",
    "\n",
    "print(grid.best_params_)\n",
    "print(f'Best Mean Cross Validation Score is {grid.best_score_}')\n",
    "print(\"Accuracy on training set: {:.3f}\".format(grid.score(X_train, y_train)))\n",
    "print(\"Accuracy on test set: {:.3f}\".format(grid.score(X_test, y_test)))"
   ]
  },
  {
   "cell_type": "code",
   "execution_count": 55,
   "metadata": {
    "colab": {
     "base_uri": "https://localhost:8080/",
     "height": 280
    },
    "execution": {
     "iopub.execute_input": "2022-11-07T02:07:16.858357Z",
     "iopub.status.busy": "2022-11-07T02:07:16.858108Z",
     "iopub.status.idle": "2022-11-07T02:07:16.992043Z",
     "shell.execute_reply": "2022-11-07T02:07:16.991536Z",
     "shell.execute_reply.started": "2022-11-07T02:07:16.858342Z"
    },
    "executionInfo": {
     "elapsed": 502,
     "status": "ok",
     "timestamp": 1667213826168,
     "user": {
      "displayName": "Shaannoor Mann",
      "userId": "02520257695567980696"
     },
     "user_tz": 300
    },
    "id": "jdwnUbw67hQV",
    "outputId": "008ba638-decd-4bac-e29c-67be11f756fe",
    "tags": []
   },
   "outputs": [
    {
     "data": {
      "image/png": "[encoded data removed]",
      "text/plain": [
       "<Figure size 432x288 with 1 Axes>"
      ]
     },
     "metadata": {
      "needs_background": "light"
     },
     "output_type": "display_data"
    }
   ],
   "source": [
    "scores = pd.DataFrame(grid.cv_results_)\n",
    "scores.plot(x='param_ccp_alpha', y='mean_train_score', \n",
    "            yerr='std_train_score', ax=plt.gca())\n",
    "scores.plot(x='param_ccp_alpha', y='mean_test_score', \n",
    "            yerr='std_test_score', ax=plt.gca())\n",
    "plt.legend(loc=(1, 0))\n",
    "plt.savefig(folder / \"images/grid_ccp_alpha.png\")"
   ]
  },
  {
   "cell_type": "markdown",
   "metadata": {
    "id": "EVRsnLoa-M9L"
   },
   "source": [
    "#### Tree visualization"
   ]
  },
  {
   "cell_type": "code",
   "execution_count": 56,
   "metadata": {
    "colab": {
     "base_uri": "https://localhost:8080/",
     "height": 519
    },
    "execution": {
     "iopub.execute_input": "2022-11-07T02:07:22.339999Z",
     "iopub.status.busy": "2022-11-07T02:07:22.339730Z",
     "iopub.status.idle": "2022-11-07T02:07:22.413620Z",
     "shell.execute_reply": "2022-11-07T02:07:22.413077Z",
     "shell.execute_reply.started": "2022-11-07T02:07:22.339980Z"
    },
    "executionInfo": {
     "elapsed": 155,
     "status": "ok",
     "timestamp": 1667213828991,
     "user": {
      "displayName": "Shaannoor Mann",
      "userId": "02520257695567980696"
     },
     "user_tz": 300
    },
    "id": "o057H_OwsDVw",
    "outputId": "c0f78222-1fd3-4f3f-f266-4e217ac5cb51"
   },
   "outputs": [
    {
     "data": {
      "image/svg+xml": [
       "<?xml version=\"1.0\" encoding=\"UTF-8\" standalone=\"no\"?>\n",
       "<!DOCTYPE svg PUBLIC \"-//W3C//DTD SVG 1.1//EN\"\n",
       " \"http://www.w3.org/Graphics/SVG/1.1/DTD/svg11.dtd\">\n",
       "<!-- Generated by graphviz version 3.0.0 (20220315.2325)\n",
       " -->\n",
       "<!-- Title: Tree Pages: 1 -->\n",
       "<svg width=\"703pt\" height=\"373pt\"\n",
       " viewBox=\"0.00 0.00 703.00 373.00\" xmlns=\"http://www.w3.org/2000/svg\" xmlns:xlink=\"http://www.w3.org/1999/xlink\">\n",
       "<g id=\"graph0\" class=\"graph\" transform=\"scale(1 1) rotate(0) translate(4 369)\">\n",
       "<title>Tree</title>\n",
       "<polygon fill=\"white\" stroke=\"transparent\" points=\"-4,4 -4,-369 699,-369 699,4 -4,4\"/>\n",
       "<!-- 0 -->\n",
       "<g id=\"node1\" class=\"node\">\n",
       "<title>0</title>\n",
       "<polygon fill=\"#afd7f4\" stroke=\"black\" points=\"434,-365 233,-365 233,-297 434,-297 434,-365\"/>\n",
       "<text text-anchor=\"middle\" x=\"333.5\" y=\"-349.8\" font-family=\"Helvetica,sans-Serif\" font-size=\"14.00\">worst perimeter &lt;= 106.1</text>\n",
       "<text text-anchor=\"middle\" x=\"333.5\" y=\"-334.8\" font-family=\"Helvetica,sans-Serif\" font-size=\"14.00\">gini = 0.468</text>\n",
       "<text text-anchor=\"middle\" x=\"333.5\" y=\"-319.8\" font-family=\"Helvetica,sans-Serif\" font-size=\"14.00\">samples = 426</text>\n",
       "<text text-anchor=\"middle\" x=\"333.5\" y=\"-304.8\" font-family=\"Helvetica,sans-Serif\" font-size=\"14.00\">value = [159, 267]</text>\n",
       "</g>\n",
       "<!-- 1 -->\n",
       "<g id=\"node2\" class=\"node\">\n",
       "<title>1</title>\n",
       "<polygon fill=\"#42a1e6\" stroke=\"black\" points=\"325,-261 88,-261 88,-193 325,-193 325,-261\"/>\n",
       "<text text-anchor=\"middle\" x=\"206.5\" y=\"-245.8\" font-family=\"Helvetica,sans-Serif\" font-size=\"14.00\">worst concave points &lt;= 0.134</text>\n",
       "<text text-anchor=\"middle\" x=\"206.5\" y=\"-230.8\" font-family=\"Helvetica,sans-Serif\" font-size=\"14.00\">gini = 0.081</text>\n",
       "<text text-anchor=\"middle\" x=\"206.5\" y=\"-215.8\" font-family=\"Helvetica,sans-Serif\" font-size=\"14.00\">samples = 259</text>\n",
       "<text text-anchor=\"middle\" x=\"206.5\" y=\"-200.8\" font-family=\"Helvetica,sans-Serif\" font-size=\"14.00\">value = [11, 248]</text>\n",
       "</g>\n",
       "<!-- 0&#45;&gt;1 -->\n",
       "<g id=\"edge1\" class=\"edge\">\n",
       "<title>0&#45;&gt;1</title>\n",
       "<path fill=\"none\" stroke=\"black\" d=\"M292.27,-296.88C280.62,-287.53 267.83,-277.26 255.77,-267.57\"/>\n",
       "<polygon fill=\"black\" stroke=\"black\" points=\"257.95,-264.83 247.96,-261.3 253.57,-270.29 257.95,-264.83\"/>\n",
       "<text text-anchor=\"middle\" x=\"250.67\" y=\"-282.45\" font-family=\"Helvetica,sans-Serif\" font-size=\"14.00\">True</text>\n",
       "</g>\n",
       "<!-- 6 -->\n",
       "<g id=\"node7\" class=\"node\">\n",
       "<title>6</title>\n",
       "<polygon fill=\"#e89152\" stroke=\"black\" points=\"580,-261 343,-261 343,-193 580,-193 580,-261\"/>\n",
       "<text text-anchor=\"middle\" x=\"461.5\" y=\"-245.8\" font-family=\"Helvetica,sans-Serif\" font-size=\"14.00\">worst concave points &lt;= 0.142</text>\n",
       "<text text-anchor=\"middle\" x=\"461.5\" y=\"-230.8\" font-family=\"Helvetica,sans-Serif\" font-size=\"14.00\">gini = 0.202</text>\n",
       "<text text-anchor=\"middle\" x=\"461.5\" y=\"-215.8\" font-family=\"Helvetica,sans-Serif\" font-size=\"14.00\">samples = 167</text>\n",
       "<text text-anchor=\"middle\" x=\"461.5\" y=\"-200.8\" font-family=\"Helvetica,sans-Serif\" font-size=\"14.00\">value = [148, 19]</text>\n",
       "</g>\n",
       "<!-- 0&#45;&gt;6 -->\n",
       "<g id=\"edge6\" class=\"edge\">\n",
       "<title>0&#45;&gt;6</title>\n",
       "<path fill=\"none\" stroke=\"black\" d=\"M375.06,-296.88C386.79,-287.53 399.68,-277.26 411.85,-267.57\"/>\n",
       "<polygon fill=\"black\" stroke=\"black\" points=\"414.07,-270.27 419.71,-261.3 409.71,-264.79 414.07,-270.27\"/>\n",
       "<text text-anchor=\"middle\" x=\"416.9\" y=\"-282.44\" font-family=\"Helvetica,sans-Serif\" font-size=\"14.00\">False</text>\n",
       "</g>\n",
       "<!-- 2 -->\n",
       "<g id=\"node3\" class=\"node\">\n",
       "<title>2</title>\n",
       "<polygon fill=\"#3a9de5\" stroke=\"black\" points=\"131,-149.5 0,-149.5 0,-96.5 131,-96.5 131,-149.5\"/>\n",
       "<text text-anchor=\"middle\" x=\"65.5\" y=\"-134.3\" font-family=\"Helvetica,sans-Serif\" font-size=\"14.00\">gini = 0.008</text>\n",
       "<text text-anchor=\"middle\" x=\"65.5\" y=\"-119.3\" font-family=\"Helvetica,sans-Serif\" font-size=\"14.00\">samples = 240</text>\n",
       "<text text-anchor=\"middle\" x=\"65.5\" y=\"-104.3\" font-family=\"Helvetica,sans-Serif\" font-size=\"14.00\">value = [1, 239]</text>\n",
       "</g>\n",
       "<!-- 1&#45;&gt;2 -->\n",
       "<g id=\"edge2\" class=\"edge\">\n",
       "<title>1&#45;&gt;2</title>\n",
       "<path fill=\"none\" stroke=\"black\" d=\"M160.72,-192.88C144.15,-180.9 125.49,-167.4 109.11,-155.55\"/>\n",
       "<polygon fill=\"black\" stroke=\"black\" points=\"110.93,-152.55 100.78,-149.52 106.83,-158.22 110.93,-152.55\"/>\n",
       "</g>\n",
       "<!-- 3 -->\n",
       "<g id=\"node4\" class=\"node\">\n",
       "<title>3</title>\n",
       "<polygon fill=\"#fcf2eb\" stroke=\"black\" points=\"322,-157 149,-157 149,-89 322,-89 322,-157\"/>\n",
       "<text text-anchor=\"middle\" x=\"235.5\" y=\"-141.8\" font-family=\"Helvetica,sans-Serif\" font-size=\"14.00\">worst texture &lt;= 26.0</text>\n",
       "<text text-anchor=\"middle\" x=\"235.5\" y=\"-126.8\" font-family=\"Helvetica,sans-Serif\" font-size=\"14.00\">gini = 0.499</text>\n",
       "<text text-anchor=\"middle\" x=\"235.5\" y=\"-111.8\" font-family=\"Helvetica,sans-Serif\" font-size=\"14.00\">samples = 19</text>\n",
       "<text text-anchor=\"middle\" x=\"235.5\" y=\"-96.8\" font-family=\"Helvetica,sans-Serif\" font-size=\"14.00\">value = [10, 9]</text>\n",
       "</g>\n",
       "<!-- 1&#45;&gt;3 -->\n",
       "<g id=\"edge3\" class=\"edge\">\n",
       "<title>1&#45;&gt;3</title>\n",
       "<path fill=\"none\" stroke=\"black\" d=\"M215.92,-192.88C218.25,-184.69 220.78,-175.79 223.22,-167.19\"/>\n",
       "<polygon fill=\"black\" stroke=\"black\" points=\"226.66,-167.88 226.03,-157.3 219.93,-165.96 226.66,-167.88\"/>\n",
       "</g>\n",
       "<!-- 4 -->\n",
       "<g id=\"node5\" class=\"node\">\n",
       "<title>4</title>\n",
       "<polygon fill=\"#52a9e8\" stroke=\"black\" points=\"176,-53 63,-53 63,0 176,0 176,-53\"/>\n",
       "<text text-anchor=\"middle\" x=\"119.5\" y=\"-37.8\" font-family=\"Helvetica,sans-Serif\" font-size=\"14.00\">gini = 0.198</text>\n",
       "<text text-anchor=\"middle\" x=\"119.5\" y=\"-22.8\" font-family=\"Helvetica,sans-Serif\" font-size=\"14.00\">samples = 9</text>\n",
       "<text text-anchor=\"middle\" x=\"119.5\" y=\"-7.8\" font-family=\"Helvetica,sans-Serif\" font-size=\"14.00\">value = [1, 8]</text>\n",
       "</g>\n",
       "<!-- 3&#45;&gt;4 -->\n",
       "<g id=\"edge4\" class=\"edge\">\n",
       "<title>3&#45;&gt;4</title>\n",
       "<path fill=\"none\" stroke=\"black\" d=\"M194.93,-88.95C183.25,-79.43 170.53,-69.07 158.92,-59.62\"/>\n",
       "<polygon fill=\"black\" stroke=\"black\" points=\"161.06,-56.84 151.09,-53.24 156.63,-62.27 161.06,-56.84\"/>\n",
       "</g>\n",
       "<!-- 5 -->\n",
       "<g id=\"node6\" class=\"node\">\n",
       "<title>5</title>\n",
       "<polygon fill=\"#e88f4f\" stroke=\"black\" points=\"307,-53 194,-53 194,0 307,0 307,-53\"/>\n",
       "<text text-anchor=\"middle\" x=\"250.5\" y=\"-37.8\" font-family=\"Helvetica,sans-Serif\" font-size=\"14.00\">gini = 0.18</text>\n",
       "<text text-anchor=\"middle\" x=\"250.5\" y=\"-22.8\" font-family=\"Helvetica,sans-Serif\" font-size=\"14.00\">samples = 10</text>\n",
       "<text text-anchor=\"middle\" x=\"250.5\" y=\"-7.8\" font-family=\"Helvetica,sans-Serif\" font-size=\"14.00\">value = [9, 1]</text>\n",
       "</g>\n",
       "<!-- 3&#45;&gt;5 -->\n",
       "<g id=\"edge5\" class=\"edge\">\n",
       "<title>3&#45;&gt;5</title>\n",
       "<path fill=\"none\" stroke=\"black\" d=\"M240.75,-88.95C242.07,-80.62 243.49,-71.65 244.83,-63.2\"/>\n",
       "<polygon fill=\"black\" stroke=\"black\" points=\"248.3,-63.66 246.41,-53.24 241.39,-62.56 248.3,-63.66\"/>\n",
       "</g>\n",
       "<!-- 7 -->\n",
       "<g id=\"node8\" class=\"node\">\n",
       "<title>7</title>\n",
       "<polygon fill=\"#fbece1\" stroke=\"black\" points=\"546,-157 361,-157 361,-89 546,-89 546,-157\"/>\n",
       "<text text-anchor=\"middle\" x=\"453.5\" y=\"-141.8\" font-family=\"Helvetica,sans-Serif\" font-size=\"14.00\">worst radius &lt;= 17.615</text>\n",
       "<text text-anchor=\"middle\" x=\"453.5\" y=\"-126.8\" font-family=\"Helvetica,sans-Serif\" font-size=\"14.00\">gini = 0.497</text>\n",
       "<text text-anchor=\"middle\" x=\"453.5\" y=\"-111.8\" font-family=\"Helvetica,sans-Serif\" font-size=\"14.00\">samples = 37</text>\n",
       "<text text-anchor=\"middle\" x=\"453.5\" y=\"-96.8\" font-family=\"Helvetica,sans-Serif\" font-size=\"14.00\">value = [20, 17]</text>\n",
       "</g>\n",
       "<!-- 6&#45;&gt;7 -->\n",
       "<g id=\"edge7\" class=\"edge\">\n",
       "<title>6&#45;&gt;7</title>\n",
       "<path fill=\"none\" stroke=\"black\" d=\"M458.9,-192.88C458.27,-184.78 457.58,-175.98 456.91,-167.47\"/>\n",
       "<polygon fill=\"black\" stroke=\"black\" points=\"460.38,-167 456.11,-157.3 453.4,-167.54 460.38,-167\"/>\n",
       "</g>\n",
       "<!-- 10 -->\n",
       "<g id=\"node11\" class=\"node\">\n",
       "<title>10</title>\n",
       "<polygon fill=\"#e5833c\" stroke=\"black\" points=\"695,-149.5 564,-149.5 564,-96.5 695,-96.5 695,-149.5\"/>\n",
       "<text text-anchor=\"middle\" x=\"629.5\" y=\"-134.3\" font-family=\"Helvetica,sans-Serif\" font-size=\"14.00\">gini = 0.03</text>\n",
       "<text text-anchor=\"middle\" x=\"629.5\" y=\"-119.3\" font-family=\"Helvetica,sans-Serif\" font-size=\"14.00\">samples = 130</text>\n",
       "<text text-anchor=\"middle\" x=\"629.5\" y=\"-104.3\" font-family=\"Helvetica,sans-Serif\" font-size=\"14.00\">value = [128, 2]</text>\n",
       "</g>\n",
       "<!-- 6&#45;&gt;10 -->\n",
       "<g id=\"edge10\" class=\"edge\">\n",
       "<title>6&#45;&gt;10</title>\n",
       "<path fill=\"none\" stroke=\"black\" d=\"M516.04,-192.88C536.24,-180.62 559.04,-166.78 578.87,-154.74\"/>\n",
       "<polygon fill=\"black\" stroke=\"black\" points=\"580.74,-157.7 587.47,-149.52 577.1,-151.72 580.74,-157.7\"/>\n",
       "</g>\n",
       "<!-- 8 -->\n",
       "<g id=\"node9\" class=\"node\">\n",
       "<title>8</title>\n",
       "<polygon fill=\"#7bbeee\" stroke=\"black\" points=\"506.5,-53 384.5,-53 384.5,0 506.5,0 506.5,-53\"/>\n",
       "<text text-anchor=\"middle\" x=\"445.5\" y=\"-37.8\" font-family=\"Helvetica,sans-Serif\" font-size=\"14.00\">gini = 0.375</text>\n",
       "<text text-anchor=\"middle\" x=\"445.5\" y=\"-22.8\" font-family=\"Helvetica,sans-Serif\" font-size=\"14.00\">samples = 20</text>\n",
       "<text text-anchor=\"middle\" x=\"445.5\" y=\"-7.8\" font-family=\"Helvetica,sans-Serif\" font-size=\"14.00\">value = [5, 15]</text>\n",
       "</g>\n",
       "<!-- 7&#45;&gt;8 -->\n",
       "<g id=\"edge8\" class=\"edge\">\n",
       "<title>7&#45;&gt;8</title>\n",
       "<path fill=\"none\" stroke=\"black\" d=\"M450.7,-88.95C450,-80.62 449.24,-71.65 448.52,-63.2\"/>\n",
       "<polygon fill=\"black\" stroke=\"black\" points=\"452.01,-62.91 447.68,-53.24 445.03,-63.5 452.01,-62.91\"/>\n",
       "</g>\n",
       "<!-- 9 -->\n",
       "<g id=\"node10\" class=\"node\">\n",
       "<title>9</title>\n",
       "<polygon fill=\"#e89253\" stroke=\"black\" points=\"646.5,-53 524.5,-53 524.5,0 646.5,0 646.5,-53\"/>\n",
       "<text text-anchor=\"middle\" x=\"585.5\" y=\"-37.8\" font-family=\"Helvetica,sans-Serif\" font-size=\"14.00\">gini = 0.208</text>\n",
       "<text text-anchor=\"middle\" x=\"585.5\" y=\"-22.8\" font-family=\"Helvetica,sans-Serif\" font-size=\"14.00\">samples = 17</text>\n",
       "<text text-anchor=\"middle\" x=\"585.5\" y=\"-7.8\" font-family=\"Helvetica,sans-Serif\" font-size=\"14.00\">value = [15, 2]</text>\n",
       "</g>\n",
       "<!-- 7&#45;&gt;9 -->\n",
       "<g id=\"edge9\" class=\"edge\">\n",
       "<title>7&#45;&gt;9</title>\n",
       "<path fill=\"none\" stroke=\"black\" d=\"M499.67,-88.95C513.21,-79.25 527.99,-68.68 541.4,-59.07\"/>\n",
       "<polygon fill=\"black\" stroke=\"black\" points=\"543.46,-61.9 549.55,-53.24 539.38,-56.21 543.46,-61.9\"/>\n",
       "</g>\n",
       "</g>\n",
       "</svg>\n"
      ],
      "text/plain": [
       "<graphviz.sources.Source at 0x7fa12fad5cd0>"
      ]
     },
     "execution_count": 56,
     "metadata": {},
     "output_type": "execute_result"
    }
   ],
   "source": [
    "tree_dot = export_graphviz(grid.best_estimator_, out_file=None, feature_names=cancer.feature_names, filled=True)\n",
    "graph = graphviz.Source(tree_dot, format=\"png\")\n",
    "graph.render(filename=folder / \"images/tree_pruned\", cleanup=True)\n",
    "graph"
   ]
  },
  {
   "cell_type": "code",
   "execution_count": 23,
   "metadata": {
    "executionInfo": {
     "elapsed": 126,
     "status": "ok",
     "timestamp": 1667213396547,
     "user": {
      "displayName": "Shaannoor Mann",
      "userId": "02520257695567980696"
     },
     "user_tz": 300
    },
    "id": "0cp7l2skqXs2"
   },
   "outputs": [],
   "source": []
  }
 ],
 "metadata": {
  "colab": {
   "collapsed_sections": [],
   "provenance": []
  },
  "kernelspec": {
   "display_name": "Python 3 (ipykernel)",
   "language": "python",
   "name": "python3"
  },
  "language_info": {
   "codemirror_mode": {
    "name": "ipython",
    "version": 3
   },
   "file_extension": ".py",
   "mimetype": "text/x-python",
   "name": "python",
   "nbconvert_exporter": "python",
   "pygments_lexer": "ipython3",
   "version": "3.9.13"
  },
  "toc": {
   "base_numbering": 1,
   "nav_menu": {},
   "number_sections": true,
   "sideBar": true,
   "skip_h1_title": false,
   "title_cell": "Table of Contents",
   "title_sidebar": "Contents",
   "toc_cell": false,
   "toc_position": {},
   "toc_section_display": true,
   "toc_window_display": false
  },
  "varInspector": {
   "cols": {
    "lenName": 16,
    "lenType": 16,
    "lenVar": 40
   },
   "kernels_config": {
    "python": {
     "delete_cmd_postfix": "",
     "delete_cmd_prefix": "del ",
     "library": "var_list.py",
     "varRefreshCmd": "print(var_dic_list())"
    },
    "r": {
     "delete_cmd_postfix": ") ",
     "delete_cmd_prefix": "rm(",
     "library": "var_list.r",
     "varRefreshCmd": "cat(var_dic_list()) "
    }
   },
   "types_to_exclude": [
    "module",
    "function",
    "builtin_function_or_method",
    "instance",
    "_Feature"
   ],
   "window_display": false
  }
 },
 "nbformat": 4,
 "nbformat_minor": 4
}
